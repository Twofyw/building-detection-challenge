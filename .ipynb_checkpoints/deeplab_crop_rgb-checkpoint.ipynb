{
 "cells": [
  {
   "cell_type": "code",
   "execution_count": 5,
   "metadata": {},
   "outputs": [],
   "source": [
    "%matplotlib inline"
   ]
  },
  {
   "cell_type": "code",
   "execution_count": 6,
   "metadata": {},
   "outputs": [],
   "source": [
    "from fastai.conv_learner import *\n",
    "from fastai.dataset import *\n",
    "\n",
    "from pathlib import Path\n",
    "from glob import glob\n",
    "import tables as tb"
   ]
  },
  {
   "cell_type": "code",
   "execution_count": 7,
   "metadata": {},
   "outputs": [],
   "source": [
    "MODEL_NAME = 'v13'\n",
    "ORIGINAL_SIZE = 650\n",
    "sz = 256\n",
    "bs = 1\n",
    "STRIDE_SZ = 197\n",
    "PATH = 'data/'\n",
    "\n",
    "BASE_DIR = \"data/train\"\n",
    "BASE_TEST_DIR = \"data/test\"\n",
    "WORKING_DIR = \"data/working\"\n",
    "IMAGE_DIR = \"data/working/images/{}\".format('v12')\n",
    "V5_IMAGE_DIR = \"data/working/images/{}\".format('v5')\n",
    "\n",
    "# ---------------------------------------------------------\n",
    "# Parameters\n",
    "MIN_POLYGON_AREA = 30  # 30\n",
    "\n",
    "# ---------------------------------------------------------\n",
    "# Input files\n",
    "FMT_TRAIN_SUMMARY_PATH = str(\n",
    "    Path(BASE_DIR) /\n",
    "    Path(\"{prefix:s}_Train/\") /\n",
    "    Path(\"summaryData/{prefix:s}_Train_Building_Solutions.csv\"))\n",
    "FMT_TRAIN_RGB_IMAGE_PATH = str(\n",
    "    Path(BASE_DIR) /\n",
    "    Path(\"{prefix:s}_Train/\") /\n",
    "    Path(\"RGB-PanSharpen/RGB-PanSharpen_{image_id:s}.tif\"))\n",
    "FMT_TEST_RGB_IMAGE_PATH = str(\n",
    "    Path(BASE_TEST_DIR) /\n",
    "    Path(\"{prefix:s}_Test/\") /\n",
    "    Path(\"RGB-PanSharpen/RGB-PanSharpen_{image_id:s}.tif\"))\n",
    "FMT_TRAIN_MSPEC_IMAGE_PATH = str(\n",
    "    Path(BASE_DIR) /\n",
    "    Path(\"{prefix:s}_Train/\") /\n",
    "    Path(\"MUL-PanSharpen/MUL-PanSharpen_{image_id:s}.tif\"))\n",
    "FMT_TEST_MSPEC_IMAGE_PATH = str(\n",
    "    Path(BASE_TEST_DIR) /\n",
    "    Path(\"{prefix:s}_Test/\") /\n",
    "    Path(\"MUL-PanSharpen/MUL-PanSharpen_{image_id:s}.tif\"))\n",
    "\n",
    "# ---------------------------------------------------------\n",
    "# Preprocessing result\n",
    "FMT_RGB_BANDCUT_TH_PATH = IMAGE_DIR + \"/rgb_bandcut.csv\"\n",
    "FMT_MUL_BANDCUT_TH_PATH = IMAGE_DIR + \"/mul_bandcut.csv\"\n",
    "\n",
    "# ---------------------------------------------------------\n",
    "# Image list, Image container and mask container\n",
    "FMT_VALTRAIN_IMAGELIST_PATH = V5_IMAGE_DIR + \"/{prefix:s}_valtrain_ImageId.csv\"\n",
    "FMT_VALTEST_IMAGELIST_PATH = V5_IMAGE_DIR + \"/{prefix:s}_valtest_ImageId.csv\"\n",
    "FMT_VALTRAIN_IM_STORE = IMAGE_DIR + \"/valtrain_{}_im.h5\"\n",
    "FMT_VALTEST_IM_STORE = IMAGE_DIR + \"/valtest_{}_im.h5\"\n",
    "FMT_VALTRAIN_MASK_STORE = IMAGE_DIR + \"/valtrain_{}_mask.h5\"\n",
    "FMT_VALTEST_MASK_STORE = IMAGE_DIR + \"/valtest_{}_mask.h5\"\n",
    "FMT_VALTRAIN_MUL_STORE = IMAGE_DIR + \"/valtrain_{}_mul.h5\"\n",
    "FMT_VALTEST_MUL_STORE = IMAGE_DIR + \"/valtest_{}_mul.h5\"\n",
    "\n",
    "FMT_TRAIN_IMAGELIST_PATH = V5_IMAGE_DIR + \"/{prefix:s}_train_ImageId.csv\"\n",
    "FMT_TEST_IMAGELIST_PATH = V5_IMAGE_DIR + \"/{prefix:s}_test_ImageId.csv\"\n",
    "FMT_TRAIN_IM_STORE = IMAGE_DIR + \"/train_{}_im.h5\"\n",
    "FMT_TEST_IM_STORE = IMAGE_DIR + \"/test_{}_im.h5\"\n",
    "FMT_TRAIN_MASK_STORE = IMAGE_DIR + \"/train_{}_mask.h5\"\n",
    "FMT_TRAIN_MUL_STORE = IMAGE_DIR + \"/train_{}_mul.h5\"\n",
    "FMT_TEST_MUL_STORE = IMAGE_DIR + \"/test_{}_mul.h5\"\n",
    "FMT_MULMEAN = IMAGE_DIR + \"/{}_mulmean.h5\"\n",
    "\n",
    "# ---------------------------------------------------------\n",
    "# Model files\n",
    "MODEL_DIR = \"data/working/models/{}\".format(MODEL_NAME)\n",
    "FMT_VALMODEL_PATH = MODEL_DIR + \"/{}_val_weights.h5\"\n",
    "FMT_FULLMODEL_PATH = MODEL_DIR + \"/{}_full_weights.h5\"\n",
    "FMT_VALMODEL_HIST = MODEL_DIR + \"/{}_val_hist.csv\"\n",
    "FMT_VALMODEL_EVALHIST = MODEL_DIR + \"/{}_val_evalhist.csv\"\n",
    "FMT_VALMODEL_EVALTHHIST = MODEL_DIR + \"/{}_val_evalhist_th.csv\"\n",
    "\n",
    "# ---------------------------------------------------------\n",
    "# Prediction & polygon result\n",
    "FMT_TESTPRED_PATH = MODEL_DIR + \"/{}_pred.h5\"\n",
    "FMT_VALTESTPRED_PATH = MODEL_DIR + \"/{}_eval_pred.h5\"\n",
    "FMT_VALTESTPOLY_PATH = MODEL_DIR + \"/{}_eval_poly.csv\"\n",
    "FMT_VALTESTTRUTH_PATH = MODEL_DIR + \"/{}_eval_poly_truth.csv\"\n",
    "FMT_VALTESTPOLY_OVALL_PATH = MODEL_DIR + \"/eval_poly.csv\"\n",
    "FMT_VALTESTTRUTH_OVALL_PATH = MODEL_DIR + \"/eval_poly_truth.csv\"\n",
    "FMT_TESTPOLY_PATH = MODEL_DIR + \"/{}_poly.csv\"\n",
    "FN_SOLUTION_CSV = \"data/output/{}.csv\".format(MODEL_NAME)\n",
    "\n",
    "# ---------------------------------------------------------\n",
    "# Model related files (others)\n",
    "FMT_VALMODEL_LAST_PATH = MODEL_DIR + \"/{}_val_weights_last.h5\"\n",
    "FMT_FULLMODEL_LAST_PATH = MODEL_DIR + \"/{}_full_weights_last.h5\""
   ]
  },
  {
   "cell_type": "markdown",
   "metadata": {},
   "source": [
    "## Preprocessing"
   ]
  },
  {
   "cell_type": "code",
   "execution_count": 8,
   "metadata": {},
   "outputs": [],
   "source": [
    "# for train_path in ['data/train/AOI_2_Vegas_Train', 'data/train/AOI_3_Paris_Train', 'data/train/AOI_4_Shanghai_Train', 'data/train/AOI_5_Khartoum_Train']:\n",
    "#     !python code/v5_im.py preproc_train {train_path}"
   ]
  },
  {
   "cell_type": "code",
   "execution_count": 9,
   "metadata": {},
   "outputs": [],
   "source": [
    "# for train_path in ['data/train/AOI_2_Vegas_Train', 'data/train/AOI_3_Paris_Train', 'data/train/AOI_4_Shanghai_Train', 'data/train/AOI_5_Khartoum_Train']:\n",
    "#     !python code/v12_im_deeplab.py preproc_train {train_path}"
   ]
  },
  {
   "cell_type": "markdown",
   "metadata": {},
   "source": [
    "### Overload"
   ]
  },
  {
   "cell_type": "code",
   "execution_count": 10,
   "metadata": {},
   "outputs": [],
   "source": [
    "import sys\n",
    "sys.path.insert(0, 'code')"
   ]
  },
  {
   "cell_type": "code",
   "execution_count": 36,
   "metadata": {},
   "outputs": [],
   "source": [
    "from v9s_deeplab import *"
   ]
  },
  {
   "cell_type": "code",
   "execution_count": 37,
   "metadata": {},
   "outputs": [],
   "source": [
    "# aug_tfms = [RandomRotateZoom(9, 0.18, 0.1, tfm_y=TfmType.CLASS), RandomLighting(0.05, 0.1, tfm_y=TfmType.CLASS), RandomDihedral(tfm_y=TfmType.CLASS)]\n",
    "\n",
    "aug_tfms=transforms_top_down"
   ]
  },
  {
   "cell_type": "code",
   "execution_count": 38,
   "metadata": {},
   "outputs": [],
   "source": [
    "import torch\n",
    "import torch.nn as nn\n",
    "import torch.nn.functional as F\n",
    "from torch.autograd import Variable"
   ]
  },
  {
   "cell_type": "code",
   "execution_count": 39,
   "metadata": {},
   "outputs": [],
   "source": [
    "# memory dataset\n",
    "def get_dataset(datapath):\n",
    "    area_id = directory_name_to_area_id(datapath)\n",
    "    prefix = area_id_to_prefix(area_id)\n",
    "    trn_x, trn_y = get_valtrain_data(area_id)\n",
    "    val_x, val_y = get_valtest_data(area_id)\n",
    "    return (trn_x,trn_y), (val_x,val_y)\n"
   ]
  },
  {
   "cell_type": "code",
   "execution_count": 40,
   "metadata": {},
   "outputs": [],
   "source": [
    "datapath = 'data/train/AOI_3_Paris_Train'"
   ]
  },
  {
   "cell_type": "code",
   "execution_count": 41,
   "metadata": {},
   "outputs": [],
   "source": [
    "(trn_x,trn_y), (val_x,val_y) = get_dataset(datapath)"
   ]
  },
  {
   "cell_type": "code",
   "execution_count": 42,
   "metadata": {},
   "outputs": [],
   "source": [
    "class ArraysSingleDataset(ArraysDataset):\n",
    "    def get_c(self): return 1"
   ]
  },
  {
   "cell_type": "code",
   "execution_count": 43,
   "metadata": {},
   "outputs": [],
   "source": [
    "sys.path.insert(0, 'deeplab/pytorch-deeplab-resnet')\n",
    "import deeplab_resnet"
   ]
  },
  {
   "cell_type": "code",
   "execution_count": 44,
   "metadata": {},
   "outputs": [],
   "source": [
    "class Deeplab():\n",
    "    def __init__(self,model,name='deeplab'):\n",
    "        self.model,self.name = model,name\n",
    "\n",
    "    def get_layer_groups(self, precompute):\n",
    "        c = list(children(self.model))\n",
    "        return [c]"
   ]
  },
  {
   "cell_type": "code",
   "execution_count": 45,
   "metadata": {},
   "outputs": [],
   "source": [
    "def get_deeplab(NoLabels=1):\n",
    "    model = deeplab_resnet.Res_Deeplab(NoLabels)\n",
    "\n",
    "    saved_state_dict = torch.load('deeplab/pytorch-deeplab-resnet/data/MS_DeepLab_resnet_trained_VOC.pth')\n",
    "    if NoLabels != 21:\n",
    "        for i in saved_state_dict:\n",
    "            #Scale.layer5.conv2d_list.3.weight\n",
    "            i_parts = i.split('.')\n",
    "            if i_parts[1]=='layer5':\n",
    "                saved_state_dict[i] = model.state_dict()[i]\n",
    "\n",
    "    model.load_state_dict(saved_state_dict)\n",
    "    model.float()\n",
    "    model.eval() # use_global_stats = True\n",
    "    return Deeplab(model)\n",
    "#     return model"
   ]
  },
  {
   "cell_type": "code",
   "execution_count": 46,
   "metadata": {},
   "outputs": [],
   "source": [
    "def get_md_model(datapath):\n",
    "    area_id = directory_name_to_area_id(datapath)\n",
    "    prefix = area_id_to_prefix(area_id)\n",
    "    tfms = tfms_from_model(resnet101, sz, crop_type=CropType.NO, tfm_y=TfmType.CLASS, aug_tfms=aug_tfms)\n",
    "    datasets = ImageData.get_ds(ArraysSingleDataset, (trn_x,trn_y), (val_x,val_y), tfms)\n",
    "    md = ImageData('data', datasets, bs, num_workers=8, classes=None)\n",
    "#     denorm = md.trn_ds.denorm\n",
    "\n",
    "    if not Path(MODEL_DIR).exists():\n",
    "        Path(MODEL_DIR).mkdir(parents=True)\n",
    "\n",
    "    logger.info(\"Instantiate deeplab model\")\n",
    "    model = get_deeplab()\n",
    "    return md, model"
   ]
  },
  {
   "cell_type": "code",
   "execution_count": 47,
   "metadata": {},
   "outputs": [],
   "source": [
    "# def jaccard_coef(y_true, y_pred):\n",
    "#     smooth = 1e-12\n",
    "#     intersection = K.sum(y_true * y_pred, axis=[0, -1, -2])\n",
    "#     sum_ = K.sum(y_true + y_pred, axis=[0, -1, -2])\n",
    "#     jac = (intersection + smooth) / (sum_ - intersection + smooth)\n",
    "#     return K.mean(jac)\n",
    "\n",
    "\n",
    "# def jaccard_coef_int(y_true, y_pred):\n",
    "#     smooth = 1e-12\n",
    "#     y_pred_pos = K.round(K.clip(y_pred, 0, 1))\n",
    "#     intersection = K.sum(y_true * y_pred_pos, axis=[0, -1, -2])\n",
    "#     sum_ = K.sum(y_true + y_pred_pos, axis=[0, -1, -2])\n",
    "#     jac = (intersection + smooth) / (sum_ - intersection + smooth)\n",
    "#     return K.mean(jac)"
   ]
  },
  {
   "cell_type": "code",
   "execution_count": 48,
   "metadata": {},
   "outputs": [],
   "source": [
    "from torch import Tensor\n",
    "def jaccard_coef(y_true, y_pred):\n",
    "    smooth = 1e-12\n",
    "    intersection = Tensor.sum(y_true * y_pred, axis=[0, -1, -2])\n",
    "    sum_ = Tensor.sum(y_true + y_pred, axis=[0, -1, -2])\n",
    "    jac = (intersection + smooth) / (sum_ - intersection + smooth)\n",
    "    return Tensor.mean(jac)\n",
    "\n",
    "\n",
    "def jaccard_coef_int(y_true, y_pred):\n",
    "    smooth = 1e-12\n",
    "    y_pred_pos = Tensor.round(K.clip(y_pred, 0, 1))\n",
    "    intersection = Tensor.sum(y_true * y_pred_pos, axis=[0, -1, -2])\n",
    "    sum_ = Tensor.sum(y_true + y_pred_pos, axis=[0, -1, -2])\n",
    "    jac = (intersection + smooth) / (sum_ - intersection + smooth)\n",
    "    return Tensor.mean(jac)"
   ]
  },
  {
   "cell_type": "code",
   "execution_count": 49,
   "metadata": {
    "scrolled": true
   },
   "outputs": [],
   "source": [
    "md, model = get_md_model(datapath)"
   ]
  },
  {
   "cell_type": "code",
   "execution_count": 50,
   "metadata": {},
   "outputs": [],
   "source": [
    "learn = ConvLearner(md, model)\n",
    "learn.opt_fn=optim.Adam\n",
    "learn.crit=F.binary_cross_entropy\n",
    "learn.metrics=[jaccard_coef, jaccard_coef_int]"
   ]
  },
  {
   "cell_type": "code",
   "execution_count": 53,
   "metadata": {},
   "outputs": [
    {
     "data": {
      "text/plain": [
       "(8, 256, 256)"
      ]
     },
     "execution_count": 53,
     "metadata": {},
     "output_type": "execute_result"
    }
   ],
   "source": [
    "t = md.trn_ds.get_x(0); t.shape"
   ]
  },
  {
   "cell_type": "code",
   "execution_count": 52,
   "metadata": {},
   "outputs": [
    {
     "ename": "RuntimeError",
     "evalue": "Given groups=1, weight[64, 3, 7, 7], so expected input[1, 8, 256, 256] to have 3 channels, but got 8 channels instead",
     "output_type": "error",
     "traceback": [
      "\u001b[0;31m--------------------------------------------------------------------------\u001b[0m",
      "\u001b[0;31mRuntimeError\u001b[0m                             Traceback (most recent call last)",
      "\u001b[0;32m<ipython-input-52-2a30ab111c9a>\u001b[0m in \u001b[0;36m<module>\u001b[0;34m()\u001b[0m\n\u001b[0;32m----> 1\u001b[0;31m \u001b[0mmodel\u001b[0m\u001b[0;34m.\u001b[0m\u001b[0mmodel\u001b[0m\u001b[0;34m(\u001b[0m\u001b[0mVariable\u001b[0m\u001b[0;34m(\u001b[0m\u001b[0mtorch\u001b[0m\u001b[0;34m.\u001b[0m\u001b[0mFloatTensor\u001b[0m\u001b[0;34m(\u001b[0m\u001b[0mt\u001b[0m\u001b[0;34m[\u001b[0m\u001b[0;32mNone\u001b[0m\u001b[0;34m]\u001b[0m\u001b[0;34m)\u001b[0m\u001b[0;34m)\u001b[0m\u001b[0;34m)\u001b[0m\u001b[0;34m\u001b[0m\u001b[0m\n\u001b[0m",
      "\u001b[0;32m~/miniconda3/envs/fastai/lib/python3.6/site-packages/torch/nn/modules/module.py\u001b[0m in \u001b[0;36m__call__\u001b[0;34m(self, *input, **kwargs)\u001b[0m\n\u001b[1;32m    355\u001b[0m             \u001b[0mresult\u001b[0m \u001b[0;34m=\u001b[0m \u001b[0mself\u001b[0m\u001b[0;34m.\u001b[0m\u001b[0m_slow_forward\u001b[0m\u001b[0;34m(\u001b[0m\u001b[0;34m*\u001b[0m\u001b[0minput\u001b[0m\u001b[0;34m,\u001b[0m \u001b[0;34m**\u001b[0m\u001b[0mkwargs\u001b[0m\u001b[0;34m)\u001b[0m\u001b[0;34m\u001b[0m\u001b[0m\n\u001b[1;32m    356\u001b[0m         \u001b[0;32melse\u001b[0m\u001b[0;34m:\u001b[0m\u001b[0;34m\u001b[0m\u001b[0m\n\u001b[0;32m--> 357\u001b[0;31m             \u001b[0mresult\u001b[0m \u001b[0;34m=\u001b[0m \u001b[0mself\u001b[0m\u001b[0;34m.\u001b[0m\u001b[0mforward\u001b[0m\u001b[0;34m(\u001b[0m\u001b[0;34m*\u001b[0m\u001b[0minput\u001b[0m\u001b[0;34m,\u001b[0m \u001b[0;34m**\u001b[0m\u001b[0mkwargs\u001b[0m\u001b[0;34m)\u001b[0m\u001b[0;34m\u001b[0m\u001b[0m\n\u001b[0m\u001b[1;32m    358\u001b[0m         \u001b[0;32mfor\u001b[0m \u001b[0mhook\u001b[0m \u001b[0;32min\u001b[0m \u001b[0mself\u001b[0m\u001b[0;34m.\u001b[0m\u001b[0m_forward_hooks\u001b[0m\u001b[0;34m.\u001b[0m\u001b[0mvalues\u001b[0m\u001b[0;34m(\u001b[0m\u001b[0;34m)\u001b[0m\u001b[0;34m:\u001b[0m\u001b[0;34m\u001b[0m\u001b[0m\n\u001b[1;32m    359\u001b[0m             \u001b[0mhook_result\u001b[0m \u001b[0;34m=\u001b[0m \u001b[0mhook\u001b[0m\u001b[0;34m(\u001b[0m\u001b[0mself\u001b[0m\u001b[0;34m,\u001b[0m \u001b[0minput\u001b[0m\u001b[0;34m,\u001b[0m \u001b[0mresult\u001b[0m\u001b[0;34m)\u001b[0m\u001b[0;34m\u001b[0m\u001b[0m\n",
      "\u001b[0;32m~/building-detection-challenge/deeplab/pytorch-deeplab-resnet/deeplab_resnet.py\u001b[0m in \u001b[0;36mforward\u001b[0;34m(self, x)\u001b[0m\n\u001b[1;32m    195\u001b[0m         \u001b[0mx2\u001b[0m \u001b[0;34m=\u001b[0m \u001b[0mself\u001b[0m\u001b[0;34m.\u001b[0m\u001b[0minterp1\u001b[0m\u001b[0;34m(\u001b[0m\u001b[0mx\u001b[0m\u001b[0;34m)\u001b[0m\u001b[0;34m\u001b[0m\u001b[0m\n\u001b[1;32m    196\u001b[0m         \u001b[0mx3\u001b[0m \u001b[0;34m=\u001b[0m \u001b[0mself\u001b[0m\u001b[0;34m.\u001b[0m\u001b[0minterp2\u001b[0m\u001b[0;34m(\u001b[0m\u001b[0mx\u001b[0m\u001b[0;34m)\u001b[0m\u001b[0;34m\u001b[0m\u001b[0m\n\u001b[0;32m--> 197\u001b[0;31m         \u001b[0mout\u001b[0m\u001b[0;34m.\u001b[0m\u001b[0mappend\u001b[0m\u001b[0;34m(\u001b[0m\u001b[0mself\u001b[0m\u001b[0;34m.\u001b[0m\u001b[0mScale\u001b[0m\u001b[0;34m(\u001b[0m\u001b[0mx\u001b[0m\u001b[0;34m)\u001b[0m\u001b[0;34m)\u001b[0m       \u001b[0;31m# for original scale\u001b[0m\u001b[0;34m\u001b[0m\u001b[0m\n\u001b[0m\u001b[1;32m    198\u001b[0m         \u001b[0mout\u001b[0m\u001b[0;34m.\u001b[0m\u001b[0mappend\u001b[0m\u001b[0;34m(\u001b[0m\u001b[0mself\u001b[0m\u001b[0;34m.\u001b[0m\u001b[0minterp3\u001b[0m\u001b[0;34m(\u001b[0m\u001b[0mself\u001b[0m\u001b[0;34m.\u001b[0m\u001b[0mScale\u001b[0m\u001b[0;34m(\u001b[0m\u001b[0mx2\u001b[0m\u001b[0;34m)\u001b[0m\u001b[0;34m)\u001b[0m\u001b[0;34m)\u001b[0m        \u001b[0;31m# for 0.75x scale\u001b[0m\u001b[0;34m\u001b[0m\u001b[0m\n\u001b[1;32m    199\u001b[0m         \u001b[0mout\u001b[0m\u001b[0;34m.\u001b[0m\u001b[0mappend\u001b[0m\u001b[0;34m(\u001b[0m\u001b[0mself\u001b[0m\u001b[0;34m.\u001b[0m\u001b[0mScale\u001b[0m\u001b[0;34m(\u001b[0m\u001b[0mx3\u001b[0m\u001b[0;34m)\u001b[0m\u001b[0;34m)\u001b[0m      \u001b[0;31m# for 0.5x scale\u001b[0m\u001b[0;34m\u001b[0m\u001b[0m\n",
      "\u001b[0;32m~/miniconda3/envs/fastai/lib/python3.6/site-packages/torch/nn/modules/module.py\u001b[0m in \u001b[0;36m__call__\u001b[0;34m(self, *input, **kwargs)\u001b[0m\n\u001b[1;32m    355\u001b[0m             \u001b[0mresult\u001b[0m \u001b[0;34m=\u001b[0m \u001b[0mself\u001b[0m\u001b[0;34m.\u001b[0m\u001b[0m_slow_forward\u001b[0m\u001b[0;34m(\u001b[0m\u001b[0;34m*\u001b[0m\u001b[0minput\u001b[0m\u001b[0;34m,\u001b[0m \u001b[0;34m**\u001b[0m\u001b[0mkwargs\u001b[0m\u001b[0;34m)\u001b[0m\u001b[0;34m\u001b[0m\u001b[0m\n\u001b[1;32m    356\u001b[0m         \u001b[0;32melse\u001b[0m\u001b[0;34m:\u001b[0m\u001b[0;34m\u001b[0m\u001b[0m\n\u001b[0;32m--> 357\u001b[0;31m             \u001b[0mresult\u001b[0m \u001b[0;34m=\u001b[0m \u001b[0mself\u001b[0m\u001b[0;34m.\u001b[0m\u001b[0mforward\u001b[0m\u001b[0;34m(\u001b[0m\u001b[0;34m*\u001b[0m\u001b[0minput\u001b[0m\u001b[0;34m,\u001b[0m \u001b[0;34m**\u001b[0m\u001b[0mkwargs\u001b[0m\u001b[0;34m)\u001b[0m\u001b[0;34m\u001b[0m\u001b[0m\n\u001b[0m\u001b[1;32m    358\u001b[0m         \u001b[0;32mfor\u001b[0m \u001b[0mhook\u001b[0m \u001b[0;32min\u001b[0m \u001b[0mself\u001b[0m\u001b[0;34m.\u001b[0m\u001b[0m_forward_hooks\u001b[0m\u001b[0;34m.\u001b[0m\u001b[0mvalues\u001b[0m\u001b[0;34m(\u001b[0m\u001b[0;34m)\u001b[0m\u001b[0;34m:\u001b[0m\u001b[0;34m\u001b[0m\u001b[0m\n\u001b[1;32m    359\u001b[0m             \u001b[0mhook_result\u001b[0m \u001b[0;34m=\u001b[0m \u001b[0mhook\u001b[0m\u001b[0;34m(\u001b[0m\u001b[0mself\u001b[0m\u001b[0;34m,\u001b[0m \u001b[0minput\u001b[0m\u001b[0;34m,\u001b[0m \u001b[0mresult\u001b[0m\u001b[0;34m)\u001b[0m\u001b[0;34m\u001b[0m\u001b[0m\n",
      "\u001b[0;32m~/building-detection-challenge/deeplab/pytorch-deeplab-resnet/deeplab_resnet.py\u001b[0m in \u001b[0;36mforward\u001b[0;34m(self, x)\u001b[0m\n\u001b[1;32m    170\u001b[0m \u001b[0;34m\u001b[0m\u001b[0m\n\u001b[1;32m    171\u001b[0m     \u001b[0;32mdef\u001b[0m \u001b[0mforward\u001b[0m\u001b[0;34m(\u001b[0m\u001b[0mself\u001b[0m\u001b[0;34m,\u001b[0m \u001b[0mx\u001b[0m\u001b[0;34m)\u001b[0m\u001b[0;34m:\u001b[0m\u001b[0;34m\u001b[0m\u001b[0m\n\u001b[0;32m--> 172\u001b[0;31m         \u001b[0mx\u001b[0m \u001b[0;34m=\u001b[0m \u001b[0mself\u001b[0m\u001b[0;34m.\u001b[0m\u001b[0mconv1\u001b[0m\u001b[0;34m(\u001b[0m\u001b[0mx\u001b[0m\u001b[0;34m)\u001b[0m\u001b[0;34m\u001b[0m\u001b[0m\n\u001b[0m\u001b[1;32m    173\u001b[0m         \u001b[0mx\u001b[0m \u001b[0;34m=\u001b[0m \u001b[0mself\u001b[0m\u001b[0;34m.\u001b[0m\u001b[0mbn1\u001b[0m\u001b[0;34m(\u001b[0m\u001b[0mx\u001b[0m\u001b[0;34m)\u001b[0m\u001b[0;34m\u001b[0m\u001b[0m\n\u001b[1;32m    174\u001b[0m         \u001b[0mx\u001b[0m \u001b[0;34m=\u001b[0m \u001b[0mself\u001b[0m\u001b[0;34m.\u001b[0m\u001b[0mrelu\u001b[0m\u001b[0;34m(\u001b[0m\u001b[0mx\u001b[0m\u001b[0;34m)\u001b[0m\u001b[0;34m\u001b[0m\u001b[0m\n",
      "\u001b[0;32m~/miniconda3/envs/fastai/lib/python3.6/site-packages/torch/nn/modules/module.py\u001b[0m in \u001b[0;36m__call__\u001b[0;34m(self, *input, **kwargs)\u001b[0m\n\u001b[1;32m    355\u001b[0m             \u001b[0mresult\u001b[0m \u001b[0;34m=\u001b[0m \u001b[0mself\u001b[0m\u001b[0;34m.\u001b[0m\u001b[0m_slow_forward\u001b[0m\u001b[0;34m(\u001b[0m\u001b[0;34m*\u001b[0m\u001b[0minput\u001b[0m\u001b[0;34m,\u001b[0m \u001b[0;34m**\u001b[0m\u001b[0mkwargs\u001b[0m\u001b[0;34m)\u001b[0m\u001b[0;34m\u001b[0m\u001b[0m\n\u001b[1;32m    356\u001b[0m         \u001b[0;32melse\u001b[0m\u001b[0;34m:\u001b[0m\u001b[0;34m\u001b[0m\u001b[0m\n\u001b[0;32m--> 357\u001b[0;31m             \u001b[0mresult\u001b[0m \u001b[0;34m=\u001b[0m \u001b[0mself\u001b[0m\u001b[0;34m.\u001b[0m\u001b[0mforward\u001b[0m\u001b[0;34m(\u001b[0m\u001b[0;34m*\u001b[0m\u001b[0minput\u001b[0m\u001b[0;34m,\u001b[0m \u001b[0;34m**\u001b[0m\u001b[0mkwargs\u001b[0m\u001b[0;34m)\u001b[0m\u001b[0;34m\u001b[0m\u001b[0m\n\u001b[0m\u001b[1;32m    358\u001b[0m         \u001b[0;32mfor\u001b[0m \u001b[0mhook\u001b[0m \u001b[0;32min\u001b[0m \u001b[0mself\u001b[0m\u001b[0;34m.\u001b[0m\u001b[0m_forward_hooks\u001b[0m\u001b[0;34m.\u001b[0m\u001b[0mvalues\u001b[0m\u001b[0;34m(\u001b[0m\u001b[0;34m)\u001b[0m\u001b[0;34m:\u001b[0m\u001b[0;34m\u001b[0m\u001b[0m\n\u001b[1;32m    359\u001b[0m             \u001b[0mhook_result\u001b[0m \u001b[0;34m=\u001b[0m \u001b[0mhook\u001b[0m\u001b[0;34m(\u001b[0m\u001b[0mself\u001b[0m\u001b[0;34m,\u001b[0m \u001b[0minput\u001b[0m\u001b[0;34m,\u001b[0m \u001b[0mresult\u001b[0m\u001b[0;34m)\u001b[0m\u001b[0;34m\u001b[0m\u001b[0m\n",
      "\u001b[0;32m~/miniconda3/envs/fastai/lib/python3.6/site-packages/torch/nn/modules/conv.py\u001b[0m in \u001b[0;36mforward\u001b[0;34m(self, input)\u001b[0m\n\u001b[1;32m    280\u001b[0m     \u001b[0;32mdef\u001b[0m \u001b[0mforward\u001b[0m\u001b[0;34m(\u001b[0m\u001b[0mself\u001b[0m\u001b[0;34m,\u001b[0m \u001b[0minput\u001b[0m\u001b[0;34m)\u001b[0m\u001b[0;34m:\u001b[0m\u001b[0;34m\u001b[0m\u001b[0m\n\u001b[1;32m    281\u001b[0m         return F.conv2d(input, self.weight, self.bias, self.stride,\n\u001b[0;32m--> 282\u001b[0;31m                         self.padding, self.dilation, self.groups)\n\u001b[0m\u001b[1;32m    283\u001b[0m \u001b[0;34m\u001b[0m\u001b[0m\n\u001b[1;32m    284\u001b[0m \u001b[0;34m\u001b[0m\u001b[0m\n",
      "\u001b[0;32m~/miniconda3/envs/fastai/lib/python3.6/site-packages/torch/nn/functional.py\u001b[0m in \u001b[0;36mconv2d\u001b[0;34m(input, weight, bias, stride, padding, dilation, groups)\u001b[0m\n\u001b[1;32m     88\u001b[0m                 \u001b[0m_pair\u001b[0m\u001b[0;34m(\u001b[0m\u001b[0;36m0\u001b[0m\u001b[0;34m)\u001b[0m\u001b[0;34m,\u001b[0m \u001b[0mgroups\u001b[0m\u001b[0;34m,\u001b[0m \u001b[0mtorch\u001b[0m\u001b[0;34m.\u001b[0m\u001b[0mbackends\u001b[0m\u001b[0;34m.\u001b[0m\u001b[0mcudnn\u001b[0m\u001b[0;34m.\u001b[0m\u001b[0mbenchmark\u001b[0m\u001b[0;34m,\u001b[0m\u001b[0;34m\u001b[0m\u001b[0m\n\u001b[1;32m     89\u001b[0m                 torch.backends.cudnn.deterministic, torch.backends.cudnn.enabled)\n\u001b[0;32m---> 90\u001b[0;31m     \u001b[0;32mreturn\u001b[0m \u001b[0mf\u001b[0m\u001b[0;34m(\u001b[0m\u001b[0minput\u001b[0m\u001b[0;34m,\u001b[0m \u001b[0mweight\u001b[0m\u001b[0;34m,\u001b[0m \u001b[0mbias\u001b[0m\u001b[0;34m)\u001b[0m\u001b[0;34m\u001b[0m\u001b[0m\n\u001b[0m\u001b[1;32m     91\u001b[0m \u001b[0;34m\u001b[0m\u001b[0m\n\u001b[1;32m     92\u001b[0m \u001b[0;34m\u001b[0m\u001b[0m\n",
      "\u001b[0;31mRuntimeError\u001b[0m: Given groups=1, weight[64, 3, 7, 7], so expected input[1, 8, 256, 256] to have 3 channels, but got 8 channels instead"
     ]
    }
   ],
   "source": [
    "model.model(Variable(torch.FloatTensor(t[None])))"
   ]
  },
  {
   "cell_type": "code",
   "execution_count": null,
   "metadata": {},
   "outputs": [],
   "source": [
    "t = next(iter(md.trn_dl))"
   ]
  },
  {
   "cell_type": "code",
   "execution_count": null,
   "metadata": {},
   "outputs": [],
   "source": [
    "t"
   ]
  },
  {
   "cell_type": "code",
   "execution_count": null,
   "metadata": {},
   "outputs": [],
   "source": []
  },
  {
   "cell_type": "code",
   "execution_count": null,
   "metadata": {},
   "outputs": [],
   "source": [
    "learn.lr_find()\n",
    "learn.sched.plot()"
   ]
  },
  {
   "cell_type": "code",
   "execution_count": null,
   "metadata": {},
   "outputs": [],
   "source": []
  },
  {
   "cell_type": "code",
   "execution_count": null,
   "metadata": {},
   "outputs": [],
   "source": []
  }
 ],
 "metadata": {
  "kernelspec": {
   "display_name": "Python 3",
   "language": "python",
   "name": "python3"
  },
  "language_info": {
   "codemirror_mode": {
    "name": "ipython",
    "version": 3
   },
   "file_extension": ".py",
   "mimetype": "text/x-python",
   "name": "python",
   "nbconvert_exporter": "python",
   "pygments_lexer": "ipython3",
   "version": "3.6.5"
  }
 },
 "nbformat": 4,
 "nbformat_minor": 2
}
