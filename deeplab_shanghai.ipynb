{
 "cells": [
  {
   "cell_type": "markdown",
   "metadata": {},
   "source": [
    "# Deeplab"
   ]
  },
  {
   "cell_type": "code",
   "execution_count": 1,
   "metadata": {},
   "outputs": [],
   "source": [
    "%matplotlib inline\n",
    "# %load_ext autoreload\n",
    "# %autoreload 2\n",
    "from learn import *"
   ]
  },
  {
   "cell_type": "code",
   "execution_count": 2,
   "metadata": {},
   "outputs": [],
   "source": [
    "num_gpus = 2\n",
    "gpu_start = 0\n",
    "num_workers = 8\n",
    "# device_ids = range(gpu_start, gpu_start + num_gpus)\n",
    "device_ids = [0,1,6,7]\n",
    "torch.cuda.set_device(gpu_start)\n",
    "bs = 9 * num_gpus * 2"
   ]
  },
  {
   "cell_type": "code",
   "execution_count": 3,
   "metadata": {},
   "outputs": [],
   "source": [
    "data = None"
   ]
  },
  {
   "cell_type": "code",
   "execution_count": 4,
   "metadata": {},
   "outputs": [
    {
     "data": {
      "application/vnd.jupyter.widget-view+json": {
       "model_id": "71059a9a9a9b4b58ac7ceb3a40b0be84",
       "version_major": 2,
       "version_minor": 0
      },
      "text/plain": [
       "HBox(children=(IntProgress(value=0, description='ims', max=1375), HTML(value='')))"
      ]
     },
     "metadata": {},
     "output_type": "display_data"
    },
    {
     "name": "stdout",
     "output_type": "stream",
     "text": [
      "\n"
     ]
    },
    {
     "data": {
      "application/vnd.jupyter.widget-view+json": {
       "model_id": "f428c134d95a49a4ba7f7c07358bd5b5",
       "version_major": 2,
       "version_minor": 0
      },
      "text/plain": [
       "HBox(children=(IntProgress(value=0, description='ims', max=3207), HTML(value='')))"
      ]
     },
     "metadata": {},
     "output_type": "display_data"
    },
    {
     "name": "stdout",
     "output_type": "stream",
     "text": [
      "\n",
      "Data finished loading: data/train/AOI_4_Shanghai_Train\n"
     ]
    }
   ],
   "source": [
    "learn, denorm, data = learner_on_dataset(datapaths[2], bs, device_ids, num_workers, model_name='deeplab',\n",
    "                                         debug=False, global_dataset=True, data=data, num_slice=9, sz=256)\n",
    "(trn_x,trn_y), (val_x,val_y) = data"
   ]
  },
  {
   "cell_type": "code",
   "execution_count": 5,
   "metadata": {},
   "outputs": [],
   "source": [
    "learn.load('deeplab-shanghai')\n",
    "learn.unfreeze()"
   ]
  },
  {
   "cell_type": "code",
   "execution_count": 6,
   "metadata": {
    "scrolled": false
   },
   "outputs": [
    {
     "data": {
      "application/vnd.jupyter.widget-view+json": {
       "model_id": "d3785834a3e9421c9177cbb80675d07b",
       "version_major": 2,
       "version_minor": 0
      },
      "text/plain": [
       "HBox(children=(IntProgress(value=0, description='Epoch', max=30), HTML(value='')))"
      ]
     },
     "metadata": {},
     "output_type": "display_data"
    },
    {
     "name": "stdout",
     "output_type": "stream",
     "text": [
      "epoch      trn_loss   val_loss   mask_acc                     \n",
      "    0      0.144049   0.21212    0.119919  \n",
      "    1      0.13901    0.331843   0.119898                    \n",
      " 51%|█████     | 406/802 [13:38<13:18,  2.02s/it, loss=0.139]"
     ]
    },
    {
     "name": "stderr",
     "output_type": "stream",
     "text": [
      "IOPub message rate exceeded.\n",
      "The notebook server will temporarily stop sending output\n",
      "to the client in order to avoid crashing it.\n",
      "To change this limit, set the config variable\n",
      "`--NotebookApp.iopub_msg_rate_limit`.\n",
      "\n",
      "Current values:\n",
      "NotebookApp.iopub_msg_rate_limit=1000.0 (msgs/sec)\n",
      "NotebookApp.rate_limit_window=3.0 (secs)\n",
      "\n"
     ]
    },
    {
     "name": "stdout",
     "output_type": "stream",
     "text": [
      "    3      0.138539   0.22878    0.119919                    \n",
      "    4      0.139929   0.240302   0.119912                    \n",
      " 68%|██████▊   | 543/802 [18:53<09:00,  2.09s/it, loss=0.138]"
     ]
    },
    {
     "name": "stderr",
     "output_type": "stream",
     "text": [
      "IOPub message rate exceeded.\n",
      "The notebook server will temporarily stop sending output\n",
      "to the client in order to avoid crashing it.\n",
      "To change this limit, set the config variable\n",
      "`--NotebookApp.iopub_msg_rate_limit`.\n",
      "\n",
      "Current values:\n",
      "NotebookApp.iopub_msg_rate_limit=1000.0 (msgs/sec)\n",
      "NotebookApp.rate_limit_window=3.0 (secs)\n",
      "\n"
     ]
    },
    {
     "name": "stdout",
     "output_type": "stream",
     "text": [
      " 99%|█████████▉| 794/802 [28:36<00:17,  2.16s/it, loss=0.142]    7      0.142075   0.28342    0.119919  \n",
      "    8      0.140025   0.316211   0.119919                    \n",
      " 87%|████████▋ | 694/802 [23:34<03:40,  2.04s/it, loss=0.14] "
     ]
    },
    {
     "name": "stderr",
     "output_type": "stream",
     "text": [
      "IOPub message rate exceeded.\n",
      "The notebook server will temporarily stop sending output\n",
      "to the client in order to avoid crashing it.\n",
      "To change this limit, set the config variable\n",
      "`--NotebookApp.iopub_msg_rate_limit`.\n",
      "\n",
      "Current values:\n",
      "NotebookApp.iopub_msg_rate_limit=1000.0 (msgs/sec)\n",
      "NotebookApp.rate_limit_window=3.0 (secs)\n",
      "\n"
     ]
    },
    {
     "name": "stdout",
     "output_type": "stream",
     "text": [
      "    11     0.143972   0.216925   0.119918                    \n",
      "    12     0.138783   0.224663   0.119919                    \n",
      " 79%|███████▉  | 635/802 [23:12<06:06,  2.19s/it, loss=0.139]"
     ]
    },
    {
     "name": "stderr",
     "output_type": "stream",
     "text": [
      "IOPub message rate exceeded.\n",
      "The notebook server will temporarily stop sending output\n",
      "to the client in order to avoid crashing it.\n",
      "To change this limit, set the config variable\n",
      "`--NotebookApp.iopub_msg_rate_limit`.\n",
      "\n",
      "Current values:\n",
      "NotebookApp.iopub_msg_rate_limit=1000.0 (msgs/sec)\n",
      "NotebookApp.rate_limit_window=3.0 (secs)\n",
      "\n"
     ]
    },
    {
     "name": "stdout",
     "output_type": "stream",
     "text": [
      "    15     0.139673   0.236329   0.119919                    \n",
      "    16     0.143449   0.231894   0.119919                    \n",
      " 66%|██████▋   | 533/802 [18:30<09:20,  2.08s/it, loss=0.141]"
     ]
    },
    {
     "name": "stderr",
     "output_type": "stream",
     "text": [
      "IOPub message rate exceeded.\n",
      "The notebook server will temporarily stop sending output\n",
      "to the client in order to avoid crashing it.\n",
      "To change this limit, set the config variable\n",
      "`--NotebookApp.iopub_msg_rate_limit`.\n",
      "\n",
      "Current values:\n",
      "NotebookApp.iopub_msg_rate_limit=1000.0 (msgs/sec)\n",
      "NotebookApp.rate_limit_window=3.0 (secs)\n",
      "\n"
     ]
    },
    {
     "name": "stdout",
     "output_type": "stream",
     "text": [
      "    17     0.140862   0.334988   0.119896                    \n",
      "    18     0.140923   0.231095   0.119915                    \n",
      "    19     0.136733   0.231541   0.119919                    \n",
      "    20     0.144158   0.250307   0.119919                    \n",
      " 94%|█████████▍| 756/802 [25:46<01:34,  2.05s/it, loss=0.14]     21     0.139443   0.259224   0.119919  \n",
      "    22     0.141356   0.268033   0.119919                    \n",
      "    23     0.137235   0.275971   0.119916                    \n",
      "    24     0.142414   0.251183   0.119919                    \n",
      "    25     0.139547   0.235495   0.119919                    \n",
      "    26     0.138412   0.266472   0.119919                    \n",
      "    27     0.138829   0.255708   0.119919                    \n",
      "    28     0.135045   0.249623   0.119919                    \n",
      "    29     0.137631   0.254889   0.119919                    \n",
      "\n",
      "CPU times: user 2d 21h 40min 30s, sys: 2d 3h 44min 37s, total: 5d 1h 25min 7s\n",
      "Wall time: 15h 44min 49s\n"
     ]
    },
    {
     "data": {
      "image/png": "[encoded data removed]",
      "text/plain": [
       "<Figure size 576x288 with 2 Axes>"
      ]
     },
     "metadata": {},
     "output_type": "display_data"
    }
   ],
   "source": [
    "%%time\n",
    "lr = 1e-5 / 10\n",
    "lrs = np.array([lr/9, lr])\n",
    "wd = 0.01\n",
    "wds = [wd/9, wd]\n",
    "learn.unfreeze()\n",
    "train_and_plot(learn, 0, 'deeplab-shanghai', lrs=lrs, n_cycles=4, wds=wds, use_wd_sched=True,\n",
    "               cycle_len=2, cycle_mult=2, best_save_name='deeplab-shanghai')"
   ]
  },
  {
   "cell_type": "code",
   "execution_count": null,
   "metadata": {},
   "outputs": [],
   "source": [
    "#learn.save('deeplab-shanghai-wds2')"
   ]
  },
  {
   "cell_type": "code",
   "execution_count": null,
   "metadata": {},
   "outputs": [],
   "source": []
  },
  {
   "cell_type": "code",
   "execution_count": null,
   "metadata": {},
   "outputs": [],
   "source": [
    "# learn.lr_find()\n",
    "# learn.sched.plot()"
   ]
  },
  {
   "cell_type": "code",
   "execution_count": null,
   "metadata": {},
   "outputs": [],
   "source": []
  },
  {
   "cell_type": "code",
   "execution_count": null,
   "metadata": {},
   "outputs": [],
   "source": []
  },
  {
   "cell_type": "code",
   "execution_count": null,
   "metadata": {},
   "outputs": [],
   "source": []
  }
 ],
 "metadata": {
  "kernelspec": {
   "display_name": "Python 3",
   "language": "python",
   "name": "python3"
  },
  "language_info": {
   "codemirror_mode": {
    "name": "ipython",
    "version": 3
   },
   "file_extension": ".py",
   "mimetype": "text/x-python",
   "name": "python",
   "nbconvert_exporter": "python",
   "pygments_lexer": "ipython3",
   "version": "3.6.5"
  }
 },
 "nbformat": 4,
 "nbformat_minor": 2
}
