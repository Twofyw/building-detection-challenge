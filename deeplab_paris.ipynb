{
 "cells": [
  {
   "cell_type": "markdown",
   "metadata": {},
   "source": [
    "# Deeplab"
   ]
  },
  {
   "cell_type": "code",
   "execution_count": 1,
   "metadata": {},
   "outputs": [],
   "source": [
    "%matplotlib inline\n",
    "# %load_ext autoreload\n",
    "# %autoreload 2\n",
    "from learn import *"
   ]
  },
  {
   "cell_type": "code",
   "execution_count": 2,
   "metadata": {},
   "outputs": [],
   "source": [
    "sz = 256\n",
    "num_slice = 25\n",
    "\n",
    "num_gpus = 2\n",
    "gpu_start = 8\n",
    "num_workers = 8\n",
    "device_ids = range(gpu_start, gpu_start + num_gpus)\n",
    "# device_ids = [0,1,4,5]\n",
    "torch.cuda.set_device(gpu_start)\n",
    "bs = 10 * num_gpus\n",
    "\n",
    "model_name = 'deeplab'\n",
    "datapaths = ['data/train/AOI_2_Vegas_Train', 'data/train/AOI_3_Paris_Train', 'data/train/AOI_4_Shanghai_Train', 'data/train/AOI_5_Khartoum_Train']\n",
    "datapath = datapaths[1]"
   ]
  },
  {
   "cell_type": "code",
   "execution_count": 3,
   "metadata": {},
   "outputs": [],
   "source": [
    "data = None\n",
    "is_eval, is_pred = False, False"
   ]
  },
  {
   "cell_type": "code",
   "execution_count": 4,
   "metadata": {},
   "outputs": [
    {
     "data": {
      "application/vnd.jupyter.widget-view+json": {
       "model_id": "d79f6ccfe6e7431a90de5dd2080d2ab0",
       "version_major": 2,
       "version_minor": 0
      },
      "text/plain": [
       "HBox(children=(IntProgress(value=0, description='gt', max=345), HTML(value='')))"
      ]
     },
     "metadata": {},
     "output_type": "display_data"
    },
    {
     "name": "stdout",
     "output_type": "stream",
     "text": [
      "\n"
     ]
    },
    {
     "data": {
      "application/vnd.jupyter.widget-view+json": {
       "model_id": "5c119748c5524630908e8d9248fb82e5",
       "version_major": 2,
       "version_minor": 0
      },
      "text/plain": [
       "HBox(children=(IntProgress(value=0, description='gt', max=803), HTML(value='')))"
      ]
     },
     "metadata": {},
     "output_type": "display_data"
    },
    {
     "name": "stdout",
     "output_type": "stream",
     "text": [
      "\n",
      "Data finished loading: data/train/AOI_3_Paris_Train\n"
     ]
    }
   ],
   "source": [
    "learn, denorm, data = learner_on_dataset(datapath, bs, device_ids, num_workers, model_name='deeplab',\n",
    "                                         debug=False, data=data, num_slice=num_slice, sz=sz,\n",
    "                                        is_eval=is_eval, is_pred=is_pred)\n",
    "(trn_x,trn_y), (val_x,val_y) = data\n",
    "learn.load('deeplab-paris')"
   ]
  },
  {
   "cell_type": "code",
   "execution_count": 5,
   "metadata": {
    "scrolled": false
   },
   "outputs": [
    {
     "data": {
      "application/vnd.jupyter.widget-view+json": {
       "model_id": "46325f92ec7749de834575ad1c6b1716",
       "version_major": 2,
       "version_minor": 0
      },
      "text/plain": [
       "HBox(children=(IntProgress(value=0, description='Epoch', max=14), HTML(value='')))"
      ]
     },
     "metadata": {},
     "output_type": "display_data"
    },
    {
     "name": "stdout",
     "output_type": "stream",
     "text": [
      "epoch      trn_loss   val_loss   mask_acc                    \n",
      "    0      0.125178   0.152176   0.067723  \n",
      "    1      0.131781   0.085302   0.067723                    \n",
      "    2      0.127561   0.086995   0.067723                    \n",
      "    3      0.125424   0.083776   0.067723                    \n",
      "    4      0.12739    0.087964   0.067723                    \n",
      "    5      0.126598   0.085381   0.067723                    \n",
      "    7      0.129456   0.176854   0.067723                    \n",
      "    8      0.12848    0.207351   0.067723                    \n",
      "    9      0.131298   0.086785   0.067723                    \n",
      " 46%|████▌     | 198/432 [04:46<05:38,  1.45s/it, loss=0.128]"
     ]
    },
    {
     "name": "stderr",
     "output_type": "stream",
     "text": [
      "IOPub message rate exceeded.\n",
      "The notebook server will temporarily stop sending output\n",
      "to the client in order to avoid crashing it.\n",
      "To change this limit, set the config variable\n",
      "`--NotebookApp.iopub_msg_rate_limit`.\n",
      "\n",
      "Current values:\n",
      "NotebookApp.iopub_msg_rate_limit=1000.0 (msgs/sec)\n",
      "NotebookApp.rate_limit_window=3.0 (secs)\n",
      "\n"
     ]
    }
   ],
   "source": [
    "%%time\n",
    "lr = 1e-5 / 10\n",
    "lrs = np.array([lr/9, lr])\n",
    "wd = 0.01\n",
    "wds = [wd/9, wd]\n",
    "learn.unfreeze()\n",
    "train_and_plot(learn, 1, 'deeplab-paris', lrs=lrs, n_cycles=3, wds=wds, use_wd_sched=True,\n",
    "               cycle_len=2, cycle_mult=2, best_save_name='deeplab-paris')"
   ]
  },
  {
   "cell_type": "code",
   "execution_count": 8,
   "metadata": {
    "collapsed": true
   },
   "outputs": [
    {
     "data": {
      "application/vnd.jupyter.widget-view+json": {
       "model_id": "077af36457e14b5d86f8e7f0f9b31dd8",
       "version_major": 2,
       "version_minor": 0
      },
      "text/plain": [
       "HBox(children=(IntProgress(value=0, description='Epoch', max=1), HTML(value='')))"
      ]
     },
     "metadata": {},
     "output_type": "display_data"
    },
    {
     "name": "stdout",
     "output_type": "stream",
     "text": [
      "  2%|▏         | 2/121 [00:06<06:06,  3.08s/it, loss=0.123]  \n"
     ]
    },
    {
     "name": "stderr",
     "output_type": "stream",
     "text": [
      "Exception in thread Thread-6:\n",
      "Traceback (most recent call last):\n",
      "  File \"/home/twofyw/miniconda3/envs/fastai/lib/python3.6/threading.py\", line 916, in _bootstrap_inner\n",
      "    self.run()\n",
      "  File \"/home/twofyw/miniconda3/envs/fastai/lib/python3.6/site-packages/tqdm/_monitor.py\", line 62, in run\n",
      "    for instance in self.tqdm_cls._instances:\n",
      "  File \"/home/twofyw/miniconda3/envs/fastai/lib/python3.6/_weakrefset.py\", line 60, in __iter__\n",
      "    for itemref in self.data:\n",
      "RuntimeError: Set changed size during iteration\n",
      "\n"
     ]
    },
    {
     "name": "stdout",
     "output_type": "stream",
     "text": [
      "epoch      trn_loss   val_loss   mask_acc                    \n",
      "    0      0.259184   1.64266    0.802396  \n",
      "\n"
     ]
    },
    {
     "data": {
      "image/png": "[encoded data removed]",
      "text/plain": [
       "<Figure size 432x288 with 1 Axes>"
      ]
     },
     "metadata": {},
     "output_type": "display_data"
    }
   ],
   "source": [
    "learn.lr_find(1e-7, 1e-2)\n",
    "learn.sched.plot()"
   ]
  },
  {
   "cell_type": "code",
   "execution_count": null,
   "metadata": {},
   "outputs": [],
   "source": []
  }
 ],
 "metadata": {
  "kernelspec": {
   "display_name": "Python 3",
   "language": "python",
   "name": "python3"
  },
  "language_info": {
   "codemirror_mode": {
    "name": "ipython",
    "version": 3
   },
   "file_extension": ".py",
   "mimetype": "text/x-python",
   "name": "python",
   "nbconvert_exporter": "python",
   "pygments_lexer": "ipython3",
   "version": "3.6.5"
  }
 },
 "nbformat": 4,
 "nbformat_minor": 2
}
