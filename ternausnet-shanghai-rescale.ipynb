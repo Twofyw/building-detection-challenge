{
 "cells": [
  {
   "cell_type": "code",
   "execution_count": 12,
   "metadata": {},
   "outputs": [],
   "source": [
    "%matplotlib inline\n",
    "%load_ext autoreload\n",
    "%autoreload 2"
   ]
  },
  {
   "cell_type": "code",
   "execution_count": 2,
   "metadata": {},
   "outputs": [],
   "source": [
    "from learn import *"
   ]
  },
  {
   "cell_type": "markdown",
   "metadata": {},
   "source": [
    "Train on full dataset for several epochs"
   ]
  },
  {
   "cell_type": "code",
   "execution_count": null,
   "metadata": {
    "scrolled": false
   },
   "outputs": [
    {
     "data": {
      "application/vnd.jupyter.widget-view+json": {
       "model_id": "1cf9e0e27a33492e94362258797edb4a",
       "version_major": 2,
       "version_minor": 0
      },
      "text/plain": [
       "HBox(children=(IntProgress(value=0, description='gt', max=1375), HTML(value='')))"
      ]
     },
     "metadata": {},
     "output_type": "display_data"
    },
    {
     "name": "stdout",
     "output_type": "stream",
     "text": [
      "\n"
     ]
    },
    {
     "data": {
      "application/vnd.jupyter.widget-view+json": {
       "model_id": "8713facc88864390a17470726a61f572",
       "version_major": 2,
       "version_minor": 0
      },
      "text/plain": [
       "HBox(children=(IntProgress(value=0, description='gt', max=3207), HTML(value='')))"
      ]
     },
     "metadata": {},
     "output_type": "display_data"
    },
    {
     "name": "stdout",
     "output_type": "stream",
     "text": [
      "\n",
      "Data finished loading: data/train/AOI_4_Shanghai_Train\n"
     ]
    },
    {
     "data": {
      "application/vnd.jupyter.widget-view+json": {
       "model_id": "0d892fac8d044a959a05ba5c6865979d",
       "version_major": 2,
       "version_minor": 0
      },
      "text/plain": [
       "HBox(children=(IntProgress(value=0, description='Epoch', max=62), HTML(value='')))"
      ]
     },
     "metadata": {},
     "output_type": "display_data"
    },
    {
     "name": "stdout",
     "output_type": "stream",
     "text": [
      "epoch      trn_loss   val_loss   mask_acc   jaccard_coef_par \n",
      "    0      1.216809   0.9643     0.871079   0.411917  \n",
      "    1      1.070619   0.892054   0.888736   0.432186      \n",
      "    2      1.067027   0.808701   0.902569   0.467659      \n",
      "    3      0.971915   0.898958   0.849177   0.454371       \n",
      "    4      0.898065   0.714507   0.922067   0.504154       \n",
      "    5      0.839627   0.678615   0.912398   0.528261       \n",
      "    6      0.888184   0.724823   0.921059   0.49992        \n",
      "    7      0.884348   0.727851   0.894518   0.510247       \n",
      "    8      0.844775   0.711926   0.896699   0.519468       \n",
      "    9      0.807392   0.657025   0.92569    0.530236       \n",
      "    10     0.766383   0.628768   0.91893    0.549233       \n",
      "    11     0.749251   0.640369   0.911345   0.551137       \n",
      "    12     0.732855   0.600333   0.923389   0.56352        \n",
      "    13     0.717124   0.601864   0.92266    0.563096       \n",
      "    14     0.811495   0.717332   0.923848   0.498717       \n",
      "    15     0.800403   0.647944   0.921863   0.535398       \n",
      "    16     0.800862   0.771311   0.925222   0.469214       \n",
      "    17     0.813311   0.635999   0.922573   0.545956       \n",
      "    18     0.800848   0.716887   0.893665   0.518574       \n",
      "    19     0.765841   0.643948   0.926933   0.540869       \n",
      "    20     0.753073   0.621309   0.915006   0.558515       \n",
      "    21     0.736882   0.626126   0.925328   0.54478        \n",
      "    22     0.734182   0.606009   0.920923   0.563172       \n",
      "    23     0.719164   0.597663   0.917725   0.570602       \n",
      "    24     0.69677    0.581538   0.927809   0.572823       \n",
      "    25     0.6759     0.55742    0.931069   0.581684       \n",
      "    26     0.668102   0.553634   0.929833   0.58532        \n",
      "    27     0.664476   0.558558   0.925874   0.586668       \n",
      "    28     0.664765   0.554308   0.926863   0.587809       \n",
      "    29     0.663579   0.552982   0.927565   0.587864       \n",
      "    30     0.750005   0.648041   0.925822   0.541546       \n",
      "                                                           \r"
     ]
    }
   ],
   "source": [
    "%%time\n",
    "%run script 2 --gpu_start=2 --num_gpus=1 --bs=32 --lr 1e-3 --num_slice=9 --rescale\\\n",
    "    --use_wd_sched --wd 0.025 --n_cycles 5 --model_name unet --learn --start --load_starter unet-shanghai"
   ]
  },
  {
   "cell_type": "code",
   "execution_count": null,
   "metadata": {},
   "outputs": [],
   "source": []
  }
 ],
 "metadata": {
  "kernelspec": {
   "display_name": "Python 3",
   "language": "python",
   "name": "python3"
  },
  "language_info": {
   "codemirror_mode": {
    "name": "ipython",
    "version": 3
   },
   "file_extension": ".py",
   "mimetype": "text/x-python",
   "name": "python",
   "nbconvert_exporter": "python",
   "pygments_lexer": "ipython3",
   "version": "3.6.5"
  }
 },
 "nbformat": 4,
 "nbformat_minor": 2
}
