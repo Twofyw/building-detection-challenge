{
 "cells": [
  {
   "cell_type": "code",
   "execution_count": 12,
   "metadata": {},
   "outputs": [],
   "source": [
    "%matplotlib inline\n",
    "%load_ext autoreload\n",
    "%autoreload 2"
   ]
  },
  {
   "cell_type": "code",
   "execution_count": 2,
   "metadata": {},
   "outputs": [],
   "source": [
    "from learn import *"
   ]
  },
  {
   "cell_type": "code",
   "execution_count": 3,
   "metadata": {
    "collapsed": true
   },
   "outputs": [
    {
     "data": {
      "application/vnd.jupyter.widget-view+json": {
       "model_id": "0b2c7c42120a42639345c86adff737f4",
       "version_major": 2,
       "version_minor": 0
      },
      "text/html": [
       "<p>Failed to display Jupyter Widget of type <code>HBox</code>.</p>\n",
       "<p>\n",
       "  If you're reading this message in the Jupyter Notebook or JupyterLab Notebook, it may mean\n",
       "  that the widgets JavaScript is still loading. If this message persists, it\n",
       "  likely means that the widgets JavaScript library is either not installed or\n",
       "  not enabled. See the <a href=\"https://ipywidgets.readthedocs.io/en/stable/user_install.html\">Jupyter\n",
       "  Widgets Documentation</a> for setup instructions.\n",
       "</p>\n",
       "<p>\n",
       "  If you're reading this message in another frontend (for example, a static\n",
       "  rendering on GitHub or <a href=\"https://nbviewer.jupyter.org/\">NBViewer</a>),\n",
       "  it may mean that your frontend doesn't currently support widgets.\n",
       "</p>\n"
      ],
      "text/plain": [
       "HBox(children=(IntProgress(value=0, description='gt', max=304), HTML(value='')))"
      ]
     },
     "metadata": {},
     "output_type": "display_data"
    },
    {
     "name": "stdout",
     "output_type": "stream",
     "text": [
      "\n"
     ]
    },
    {
     "data": {
      "application/vnd.jupyter.widget-view+json": {
       "model_id": "ad6e606049b8448dacb619bda1ed9ca8",
       "version_major": 2,
       "version_minor": 0
      },
      "text/html": [
       "<p>Failed to display Jupyter Widget of type <code>HBox</code>.</p>\n",
       "<p>\n",
       "  If you're reading this message in the Jupyter Notebook or JupyterLab Notebook, it may mean\n",
       "  that the widgets JavaScript is still loading. If this message persists, it\n",
       "  likely means that the widgets JavaScript library is either not installed or\n",
       "  not enabled. See the <a href=\"https://ipywidgets.readthedocs.io/en/stable/user_install.html\">Jupyter\n",
       "  Widgets Documentation</a> for setup instructions.\n",
       "</p>\n",
       "<p>\n",
       "  If you're reading this message in another frontend (for example, a static\n",
       "  rendering on GitHub or <a href=\"https://nbviewer.jupyter.org/\">NBViewer</a>),\n",
       "  it may mean that your frontend doesn't currently support widgets.\n",
       "</p>\n"
      ],
      "text/plain": [
       "HBox(children=(IntProgress(value=0, description='gt', max=708), HTML(value='')))"
      ]
     },
     "metadata": {},
     "output_type": "display_data"
    },
    {
     "name": "stdout",
     "output_type": "stream",
     "text": [
      "\n",
      "Data finished loading: data/train/AOI_5_Khartoum_Train\n"
     ]
    },
    {
     "data": {
      "application/vnd.jupyter.widget-view+json": {
       "model_id": "6cf2a6d4433042f3a6198f087c41d368",
       "version_major": 2,
       "version_minor": 0
      },
      "text/html": [
       "<p>Failed to display Jupyter Widget of type <code>HBox</code>.</p>\n",
       "<p>\n",
       "  If you're reading this message in the Jupyter Notebook or JupyterLab Notebook, it may mean\n",
       "  that the widgets JavaScript is still loading. If this message persists, it\n",
       "  likely means that the widgets JavaScript library is either not installed or\n",
       "  not enabled. See the <a href=\"https://ipywidgets.readthedocs.io/en/stable/user_install.html\">Jupyter\n",
       "  Widgets Documentation</a> for setup instructions.\n",
       "</p>\n",
       "<p>\n",
       "  If you're reading this message in another frontend (for example, a static\n",
       "  rendering on GitHub or <a href=\"https://nbviewer.jupyter.org/\">NBViewer</a>),\n",
       "  it may mean that your frontend doesn't currently support widgets.\n",
       "</p>\n"
      ],
      "text/plain": [
       "HBox(children=(IntProgress(value=0, description='Epoch', max=30), HTML(value='')))"
      ]
     },
     "metadata": {},
     "output_type": "display_data"
    },
    {
     "name": "stdout",
     "output_type": "stream",
     "text": [
      "epoch      trn_loss   val_loss   mask_acc   jaccard_coef_par \n",
      "    0      0.613805   0.547787   0.91814    0.610833  \n",
      "    1      0.611017   0.548395   0.918855   0.60974        \n",
      "    2      0.613833   0.545485   0.91802    0.612526       \n",
      "    3      0.610311   0.545572   0.91913    0.611603       \n",
      "    4      0.610853   0.544303   0.918448   0.612633       \n",
      "    5      0.611453   0.544601   0.91882    0.61209        \n",
      "    6      0.606839   0.547128   0.919423   0.6104         \n",
      "    7      0.612114   0.543017   0.918119   0.613473       \n",
      "    8      0.611708   0.541707   0.917222   0.614802       \n",
      "    9      0.612417   0.540311   0.918989   0.614276       \n",
      "    11     0.604139   0.54138    0.920007   0.613107       \n",
      "    12     0.605165   0.540541   0.919568   0.613934       \n",
      "    13     0.602963   0.540361   0.919538   0.614059       \n",
      "    14     0.600539   0.540889   0.91565    0.617175       \n",
      "    15     0.60121    0.539701   0.920803   0.613779       \n",
      "    16     0.602897   0.540063   0.921115   0.613005       \n",
      "    17     0.601146   0.539077   0.920743   0.613839       \n",
      "    18     0.59754    0.538125   0.920373   0.614504       \n",
      "    19     0.593747   0.533383   0.919512   0.618811       \n",
      "    20     0.595561   0.532708   0.919457   0.618908       \n",
      "    21     0.595022   0.535483   0.921301   0.615544       \n",
      "    22     0.597363   0.533649   0.919521   0.618127       \n",
      "    23     0.593556   0.532379   0.920769   0.617639       \n",
      "    24     0.591243   0.531335   0.920088   0.618748       \n",
      "    25     0.592428   0.530653   0.920515   0.618796       \n",
      "    26     0.589625   0.530226   0.92046    0.619133       \n",
      "    27     0.592986   0.530327   0.920506   0.619091       \n",
      "    28     0.593986   0.530554   0.920607   0.618892       \n",
      "    29     0.596071   0.530583   0.920613   0.618866       \n",
      "\n",
      "CPU times: user 7h 49min 49s, sys: 49min 1s, total: 8h 38min 51s\n",
      "Wall time: 58min 18s\n"
     ]
    },
    {
     "data": {
      "image/png": "[encoded data removed]",
      "text/plain": [
       "<Figure size 576x288 with 2 Axes>"
      ]
     },
     "metadata": {},
     "output_type": "display_data"
    }
   ],
   "source": [
    "%%time\n",
    "%run script 3 --gpu_start=0 --num_gpus=2 --bs=48 --lr 1e-5 --num_slice=9 \\\n",
    "    --use_wd_sched --wd 0.025 --n_cycles 4 --model_name unet --learn --start"
   ]
  },
  {
   "cell_type": "code",
   "execution_count": 2,
   "metadata": {
    "scrolled": false
   },
   "outputs": [
    {
     "data": {
      "application/vnd.jupyter.widget-view+json": {
       "model_id": "4446f7c041314d0ca192f30afcc61d1c",
       "version_major": 2,
       "version_minor": 0
      },
      "text/html": [
       "<p>Failed to display Jupyter Widget of type <code>HBox</code>.</p>\n",
       "<p>\n",
       "  If you're reading this message in the Jupyter Notebook or JupyterLab Notebook, it may mean\n",
       "  that the widgets JavaScript is still loading. If this message persists, it\n",
       "  likely means that the widgets JavaScript library is either not installed or\n",
       "  not enabled. See the <a href=\"https://ipywidgets.readthedocs.io/en/stable/user_install.html\">Jupyter\n",
       "  Widgets Documentation</a> for setup instructions.\n",
       "</p>\n",
       "<p>\n",
       "  If you're reading this message in another frontend (for example, a static\n",
       "  rendering on GitHub or <a href=\"https://nbviewer.jupyter.org/\">NBViewer</a>),\n",
       "  it may mean that your frontend doesn't currently support widgets.\n",
       "</p>\n"
      ],
      "text/plain": [
       "HBox(children=(IntProgress(value=0, description='gt', max=304), HTML(value='')))"
      ]
     },
     "metadata": {},
     "output_type": "display_data"
    },
    {
     "data": {
      "application/vnd.jupyter.widget-view+json": {
       "model_id": "9e079aae0f884fb4aa6cfcfa456ccc54",
       "version_major": 2,
       "version_minor": 0
      },
      "text/html": [
       "<p>Failed to display Jupyter Widget of type <code>HBox</code>.</p>\n",
       "<p>\n",
       "  If you're reading this message in the Jupyter Notebook or JupyterLab Notebook, it may mean\n",
       "  that the widgets JavaScript is still loading. If this message persists, it\n",
       "  likely means that the widgets JavaScript library is either not installed or\n",
       "  not enabled. See the <a href=\"https://ipywidgets.readthedocs.io/en/stable/user_install.html\">Jupyter\n",
       "  Widgets Documentation</a> for setup instructions.\n",
       "</p>\n",
       "<p>\n",
       "  If you're reading this message in another frontend (for example, a static\n",
       "  rendering on GitHub or <a href=\"https://nbviewer.jupyter.org/\">NBViewer</a>),\n",
       "  it may mean that your frontend doesn't currently support widgets.\n",
       "</p>\n"
      ],
      "text/plain": [
       "HBox(children=(IntProgress(value=0, description='gt', max=708), HTML(value='')))"
      ]
     },
     "metadata": {},
     "output_type": "display_data"
    },
    {
     "name": "stdout",
     "output_type": "stream",
     "text": [
      "\n"
     ]
    },
    {
     "name": "stderr",
     "output_type": "stream",
     "text": [
      "Exception in thread Thread-6:\n",
      "Traceback (most recent call last):\n",
      "  File \"/home/twofyw/miniconda3/envs/fastai/lib/python3.6/threading.py\", line 916, in _bootstrap_inner\n",
      "    self.run()\n",
      "  File \"/home/twofyw/miniconda3/envs/fastai/lib/python3.6/site-packages/tqdm/_monitor.py\", line 63, in run\n",
      "    for instance in self.tqdm_cls._instances:\n",
      "  File \"/home/twofyw/miniconda3/envs/fastai/lib/python3.6/_weakrefset.py\", line 60, in __iter__\n",
      "    for itemref in self.data:\n",
      "RuntimeError: Set changed size during iteration\n",
      "\n"
     ]
    },
    {
     "name": "stdout",
     "output_type": "stream",
     "text": [
      "\n",
      "Data finished loading: data/train/AOI_5_Khartoum_Train\n"
     ]
    },
    {
     "data": {
      "application/vnd.jupyter.widget-view+json": {
       "model_id": "44739dea4cfa4a2fa9670b5ce27b6bd2",
       "version_major": 2,
       "version_minor": 0
      },
      "text/html": [
       "<p>Failed to display Jupyter Widget of type <code>HBox</code>.</p>\n",
       "<p>\n",
       "  If you're reading this message in the Jupyter Notebook or JupyterLab Notebook, it may mean\n",
       "  that the widgets JavaScript is still loading. If this message persists, it\n",
       "  likely means that the widgets JavaScript library is either not installed or\n",
       "  not enabled. See the <a href=\"https://ipywidgets.readthedocs.io/en/stable/user_install.html\">Jupyter\n",
       "  Widgets Documentation</a> for setup instructions.\n",
       "</p>\n",
       "<p>\n",
       "  If you're reading this message in another frontend (for example, a static\n",
       "  rendering on GitHub or <a href=\"https://nbviewer.jupyter.org/\">NBViewer</a>),\n",
       "  it may mean that your frontend doesn't currently support widgets.\n",
       "</p>\n"
      ],
      "text/plain": [
       "HBox(children=(IntProgress(value=0, description='Epoch', max=30), HTML(value='')))"
      ]
     },
     "metadata": {},
     "output_type": "display_data"
    },
    {
     "name": "stdout",
     "output_type": "stream",
     "text": [
      "epoch      trn_loss   val_loss   mask_acc   jaccard_coef_par \n",
      "    0      0.595166   0.534954   0.92116    0.615973  \n",
      "    1      0.594612   0.534743   0.921096   0.616148       \n",
      "    2      0.592474   0.534307   0.920962   0.616527       \n",
      "    3      0.589445   0.533985   0.920848   0.616815       \n",
      "    5      0.593085   0.533874   0.920813   0.616907       \n",
      "    6      0.595769   0.533698   0.920728   0.617071       \n",
      "    7      0.59469    0.533423   0.920639   0.617288       \n",
      "    8      0.596249   0.533379   0.920639   0.617315       \n",
      "    9      0.594037   0.533281   0.920593   0.6174         \n",
      "    10     0.594583   0.533245   0.920582   0.61743        \n",
      "    11     0.595391   0.533267   0.920596   0.617403       \n",
      "    12     0.594083   0.533269   0.920597   0.617399       \n",
      "    13     0.596295   0.533267   0.920596   0.617402       \n",
      "    14     0.594429   0.533242   0.920571   0.617438       \n",
      "    15     0.59536    0.533117   0.920505   0.617555       \n",
      "    16     0.596897   0.533076   0.920503   0.617554       \n",
      "    17     0.593348   0.533084   0.920522   0.61753        \n",
      "    18     0.593503   0.533067   0.920533   0.617524       \n",
      "    19     0.590156   0.53303    0.920524   0.617542       \n",
      "    20     0.593795   0.533036   0.920529   0.617537       \n",
      "    21     0.597017   0.532953   0.920499   0.617605       \n",
      "    22     0.599013   0.532923   0.920493   0.617625       \n",
      "    23     0.598122   0.532939   0.920501   0.61761        \n",
      "    24     0.598883   0.53298    0.920522   0.617569       \n",
      "    25     0.596939   0.532985   0.920527   0.617562       \n",
      "    26     0.598192   0.532982   0.920526   0.617565       \n",
      "    27     0.596974   0.532979   0.920524   0.617567       \n",
      "    28     0.597518   0.532977   0.920524   0.617568       \n",
      "    29     0.595442   0.532977   0.920524   0.617568       \n",
      "\n",
      "CPU times: user 8h 43min 5s, sys: 1h 9min 47s, total: 9h 52min 52s\n",
      "Wall time: 1h 6min 21s\n"
     ]
    },
    {
     "data": {
      "image/png": "[encoded data removed]",
      "text/plain": [
       "<Figure size 576x288 with 2 Axes>"
      ]
     },
     "metadata": {},
     "output_type": "display_data"
    }
   ],
   "source": [
    "%%time\n",
    "%run script 3 --gpu_start=0 --num_gpus=2 --bs=48 --lr 1e-7 --num_slice=9 \\\n",
    "    --use_wd_sched --wd 0.025 --n_cycles 4 --model_name unet --learn --start"
   ]
  },
  {
   "cell_type": "code",
   "execution_count": 9,
   "metadata": {},
   "outputs": [
    {
     "data": {
      "application/vnd.jupyter.widget-view+json": {
       "model_id": "8e13b803908b4fa487cbb5957d2d5333",
       "version_major": 2,
       "version_minor": 0
      },
      "text/html": [
       "<p>Failed to display Jupyter Widget of type <code>HBox</code>.</p>\n",
       "<p>\n",
       "  If you're reading this message in the Jupyter Notebook or JupyterLab Notebook, it may mean\n",
       "  that the widgets JavaScript is still loading. If this message persists, it\n",
       "  likely means that the widgets JavaScript library is either not installed or\n",
       "  not enabled. See the <a href=\"https://ipywidgets.readthedocs.io/en/stable/user_install.html\">Jupyter\n",
       "  Widgets Documentation</a> for setup instructions.\n",
       "</p>\n",
       "<p>\n",
       "  If you're reading this message in another frontend (for example, a static\n",
       "  rendering on GitHub or <a href=\"https://nbviewer.jupyter.org/\">NBViewer</a>),\n",
       "  it may mean that your frontend doesn't currently support widgets.\n",
       "</p>\n"
      ],
      "text/plain": [
       "HBox(children=(IntProgress(value=0, description='gt', max=304), HTML(value='')))"
      ]
     },
     "metadata": {},
     "output_type": "display_data"
    },
    {
     "name": "stdout",
     "output_type": "stream",
     "text": [
      "\n"
     ]
    },
    {
     "data": {
      "application/vnd.jupyter.widget-view+json": {
       "model_id": "3f07929f3e794bf7a324bf7535c5ef76",
       "version_major": 2,
       "version_minor": 0
      },
      "text/html": [
       "<p>Failed to display Jupyter Widget of type <code>HBox</code>.</p>\n",
       "<p>\n",
       "  If you're reading this message in the Jupyter Notebook or JupyterLab Notebook, it may mean\n",
       "  that the widgets JavaScript is still loading. If this message persists, it\n",
       "  likely means that the widgets JavaScript library is either not installed or\n",
       "  not enabled. See the <a href=\"https://ipywidgets.readthedocs.io/en/stable/user_install.html\">Jupyter\n",
       "  Widgets Documentation</a> for setup instructions.\n",
       "</p>\n",
       "<p>\n",
       "  If you're reading this message in another frontend (for example, a static\n",
       "  rendering on GitHub or <a href=\"https://nbviewer.jupyter.org/\">NBViewer</a>),\n",
       "  it may mean that your frontend doesn't currently support widgets.\n",
       "</p>\n"
      ],
      "text/plain": [
       "HBox(children=(IntProgress(value=0, description='gt', max=708), HTML(value='')))"
      ]
     },
     "metadata": {},
     "output_type": "display_data"
    },
    {
     "name": "stdout",
     "output_type": "stream",
     "text": [
      "\n",
      "Data finished loading: data/train/AOI_5_Khartoum_Train\n"
     ]
    },
    {
     "data": {
      "application/vnd.jupyter.widget-view+json": {
       "model_id": "21d0905114064a77b923164c3c0591bc",
       "version_major": 2,
       "version_minor": 0
      },
      "text/html": [
       "<p>Failed to display Jupyter Widget of type <code>HBox</code>.</p>\n",
       "<p>\n",
       "  If you're reading this message in the Jupyter Notebook or JupyterLab Notebook, it may mean\n",
       "  that the widgets JavaScript is still loading. If this message persists, it\n",
       "  likely means that the widgets JavaScript library is either not installed or\n",
       "  not enabled. See the <a href=\"https://ipywidgets.readthedocs.io/en/stable/user_install.html\">Jupyter\n",
       "  Widgets Documentation</a> for setup instructions.\n",
       "</p>\n",
       "<p>\n",
       "  If you're reading this message in another frontend (for example, a static\n",
       "  rendering on GitHub or <a href=\"https://nbviewer.jupyter.org/\">NBViewer</a>),\n",
       "  it may mean that your frontend doesn't currently support widgets.\n",
       "</p>\n"
      ],
      "text/plain": [
       "HBox(children=(IntProgress(value=0, description='Epoch', max=30), HTML(value='')))"
      ]
     },
     "metadata": {},
     "output_type": "display_data"
    },
    {
     "name": "stdout",
     "output_type": "stream",
     "text": [
      "epoch      trn_loss   val_loss   mask_acc   jaccard_coef_par \n",
      "    0      0.599779   0.545505   0.919828   0.611853  \n",
      "    1      0.586481   0.546382   0.92019    0.611143         \n",
      "    2      0.58817    0.542589   0.920021   0.614285         \n",
      "    3      0.585628   0.543264   0.921963   0.611843         \n",
      "    4      0.586397   0.540549   0.920815   0.614163         \n",
      "    5      0.589429   0.539816   0.920748   0.614594         \n",
      "    6      0.585538   0.538884   0.919003   0.616899         \n",
      "    7      0.582639   0.535781   0.920176   0.617122         \n",
      "    8      0.58216    0.534143   0.922286   0.616108         \n",
      "    9      0.581995   0.533311   0.922332   0.616334         \n",
      "    10     0.576182   0.532311   0.92085    0.618926         \n",
      "    11     0.577399   0.530119   0.92163    0.619363         \n",
      "    12     0.574065   0.530692   0.921704   0.619033         \n",
      "    13     0.575365   0.530625   0.92176    0.619087         \n",
      "    14     0.573774   0.529709   0.920504   0.621472         \n",
      "    15     0.566218   0.530565   0.923119   0.618127         \n",
      "    16     0.567998   0.524249   0.922104   0.622296         \n",
      "    17     0.566238   0.522841   0.92208    0.623012         \n",
      "    18     0.56617    0.523203   0.921171   0.624449         \n",
      "    19     0.573635   0.520533   0.922721   0.62376          \n",
      "    20     0.565899   0.519026   0.922623   0.624662         \n",
      "    21     0.565637   0.519556   0.923903   0.624087         \n",
      "    22     0.562198   0.517104   0.923202   0.625975         \n",
      "    23     0.566073   0.517533   0.923425   0.624882         \n",
      "    24     0.553901   0.51555    0.9233     0.626504         \n",
      "    25     0.556643   0.515105   0.9229     0.627308         \n",
      "    26     0.558107   0.516009   0.922938   0.626783         \n",
      "    27     0.560547   0.515746   0.923205   0.626559         \n",
      "    28     0.554626   0.515519   0.923246   0.626641         \n",
      "    29     0.569197   0.515526   0.923232   0.626658         \n",
      "\n",
      "CPU times: user 22h 34min 26s, sys: 2h 30min 47s, total: 1d 1h 5min 14s\n",
      "Wall time: 2h 41min 44s\n"
     ]
    },
    {
     "data": {
      "image/png": "[encoded data removed]",
      "text/plain": [
       "<Figure size 576x288 with 2 Axes>"
      ]
     },
     "metadata": {},
     "output_type": "display_data"
    }
   ],
   "source": [
    "%%time\n",
    "%run script 3 --gpu_start=0 --num_gpus=2 --bs=48 --lr 1e-5 --num_slice=25 \\\n",
    "    --use_wd_sched --wd 0.025 --n_cycles 4 --model_name unet --learn --start"
   ]
  },
  {
   "cell_type": "code",
   "execution_count": 12,
   "metadata": {},
   "outputs": [],
   "source": [
    "lrs = np.array(lrs)\n",
    "lrs /= 2"
   ]
  },
  {
   "cell_type": "code",
   "execution_count": 16,
   "metadata": {},
   "outputs": [
    {
     "data": {
      "application/vnd.jupyter.widget-view+json": {
       "model_id": "933c9e822c1f436eb198423d2c7a7eb6",
       "version_major": 2,
       "version_minor": 0
      },
      "text/html": [
       "<p>Failed to display Jupyter Widget of type <code>HBox</code>.</p>\n",
       "<p>\n",
       "  If you're reading this message in the Jupyter Notebook or JupyterLab Notebook, it may mean\n",
       "  that the widgets JavaScript is still loading. If this message persists, it\n",
       "  likely means that the widgets JavaScript library is either not installed or\n",
       "  not enabled. See the <a href=\"https://ipywidgets.readthedocs.io/en/stable/user_install.html\">Jupyter\n",
       "  Widgets Documentation</a> for setup instructions.\n",
       "</p>\n",
       "<p>\n",
       "  If you're reading this message in another frontend (for example, a static\n",
       "  rendering on GitHub or <a href=\"https://nbviewer.jupyter.org/\">NBViewer</a>),\n",
       "  it may mean that your frontend doesn't currently support widgets.\n",
       "</p>\n"
      ],
      "text/plain": [
       "HBox(children=(IntProgress(value=0, description='Epoch', max=15), HTML(value='')))"
      ]
     },
     "metadata": {},
     "output_type": "display_data"
    },
    {
     "name": "stdout",
     "output_type": "stream",
     "text": [
      "  1%|▏         | 2/159 [00:04<05:56,  2.27s/it, loss=0.546] \n"
     ]
    },
    {
     "name": "stderr",
     "output_type": "stream",
     "text": [
      "Exception in thread Thread-36293:\n",
      "Traceback (most recent call last):\n",
      "  File \"/home/twofyw/miniconda3/envs/fastai/lib/python3.6/threading.py\", line 916, in _bootstrap_inner\n",
      "    self.run()\n",
      "  File \"/home/twofyw/miniconda3/envs/fastai/lib/python3.6/site-packages/tqdm/_monitor.py\", line 63, in run\n",
      "    for instance in self.tqdm_cls._instances:\n",
      "  File \"/home/twofyw/miniconda3/envs/fastai/lib/python3.6/_weakrefset.py\", line 60, in __iter__\n",
      "    for itemref in self.data:\n",
      "RuntimeError: Set changed size during iteration\n",
      "\n"
     ]
    },
    {
     "name": "stdout",
     "output_type": "stream",
     "text": [
      "epoch      trn_loss   val_loss   mask_acc   jaccard_coef_par \n",
      "    0      0.555544   0.514119   0.923257   0.627446  \n",
      "    1      0.560055   0.513919   0.922955   0.62822          \n",
      "    2      0.557101   0.514081   0.923478   0.627282         \n",
      "    3      0.557287   0.513586   0.923687   0.627639         \n",
      "    4      0.554966   0.512857   0.923436   0.628063         \n",
      "    5      0.55832    0.512217   0.923612   0.628438         \n",
      "    6      0.55881    0.51238    0.923532   0.628329         \n",
      "    7      0.554147   0.512896   0.922403   0.629041         \n",
      "    8      0.549542   0.513203   0.924827   0.626728         \n",
      "    9      0.553712   0.511414   0.922933   0.629665         \n",
      "    10     0.553528   0.509432   0.924351   0.629407         \n",
      "    11     0.554969   0.509918   0.922793   0.630544         \n",
      "    12     0.548861   0.509088   0.923684   0.63022          \n",
      "    13     0.552005   0.509258   0.92404    0.629755         \n",
      "    14     0.550454   0.509156   0.92386    0.629964         \n",
      "\n"
     ]
    },
    {
     "data": {
      "image/png": "[encoded data removed]",
      "text/plain": [
       "<Figure size 576x288 with 2 Axes>"
      ]
     },
     "metadata": {},
     "output_type": "display_data"
    }
   ],
   "source": [
    "train_and_plot(learn, 0, 'unet-5', lrs = lrs, n_cycles=4, wds=wds, use_wd_sched=use_wd_sched,\n",
    "    cycle_len=1, cycle_mult=2, best_save_name='unet-5')"
   ]
  },
  {
   "cell_type": "code",
   "execution_count": 19,
   "metadata": {},
   "outputs": [],
   "source": [
    "lrs /= 5"
   ]
  },
  {
   "cell_type": "code",
   "execution_count": 20,
   "metadata": {},
   "outputs": [
    {
     "data": {
      "application/vnd.jupyter.widget-view+json": {
       "model_id": "bc419f65d60f44faa14453b7c552d70e",
       "version_major": 2,
       "version_minor": 0
      },
      "text/html": [
       "<p>Failed to display Jupyter Widget of type <code>HBox</code>.</p>\n",
       "<p>\n",
       "  If you're reading this message in the Jupyter Notebook or JupyterLab Notebook, it may mean\n",
       "  that the widgets JavaScript is still loading. If this message persists, it\n",
       "  likely means that the widgets JavaScript library is either not installed or\n",
       "  not enabled. See the <a href=\"https://ipywidgets.readthedocs.io/en/stable/user_install.html\">Jupyter\n",
       "  Widgets Documentation</a> for setup instructions.\n",
       "</p>\n",
       "<p>\n",
       "  If you're reading this message in another frontend (for example, a static\n",
       "  rendering on GitHub or <a href=\"https://nbviewer.jupyter.org/\">NBViewer</a>),\n",
       "  it may mean that your frontend doesn't currently support widgets.\n",
       "</p>\n"
      ],
      "text/plain": [
       "HBox(children=(IntProgress(value=0, description='Epoch', max=31), HTML(value='')))"
      ]
     },
     "metadata": {},
     "output_type": "display_data"
    },
    {
     "name": "stdout",
     "output_type": "stream",
     "text": [
      "epoch      trn_loss   val_loss   mask_acc   jaccard_coef_par \n",
      "    0      0.545098   0.508696   0.92376    0.630348  \n",
      "    1      0.546401   0.508989   0.924397   0.629637         \n",
      "    2      0.55141    0.508843   0.923942   0.630138         \n",
      "    3      0.54145    0.509163   0.924404   0.629761         \n",
      "    4      0.548624   0.509278   0.92419    0.629778         \n",
      "    5      0.550802   0.508999   0.923959   0.630064         \n",
      "    6      0.55241    0.509018   0.924105   0.629908         \n",
      "    7      0.547501   0.508469   0.923688   0.630682         \n",
      "    8      0.54842    0.5093     0.924231   0.629669         \n",
      "    9      0.55537    0.509304   0.924202   0.629525         \n",
      "    10     0.547995   0.508749   0.923951   0.630224         \n",
      "    11     0.545741   0.508168   0.924241   0.630308         \n",
      "    12     0.544287   0.508108   0.924144   0.630462         \n",
      "    13     0.551593   0.508111   0.924068   0.630511         \n",
      "    14     0.551421   0.50809    0.924056   0.63053          \n",
      "    15     0.548591   0.508367   0.923665   0.630734         \n",
      " 67%|██████▋   | 106/159 [02:01<01:00,  1.14s/it, loss=0.545]    16     0.54887    0.508597   0.924012   0.63026   \n",
      "    17     0.544913   0.507141   0.924209   0.63094          \n",
      "    18     0.54616    0.507535   0.923272   0.631549         \n",
      "    19     0.54215    0.507872   0.924254   0.630393         \n",
      "    20     0.548236   0.507779   0.924759   0.630082         \n",
      "    21     0.545592   0.507782   0.924415   0.630306         \n",
      "    22     0.546742   0.507202   0.923893   0.631123         \n",
      "    23     0.547316   0.507031   0.923895   0.631334         \n",
      "    24     0.551312   0.50748    0.924328   0.630564         \n",
      "    25     0.546897   0.507512   0.924217   0.630659         \n",
      " 28%|██▊       | 45/159 [00:54<02:16,  1.20s/it, loss=0.55] "
     ]
    },
    {
     "name": "stderr",
     "output_type": "stream",
     "text": [
      "IOPub message rate exceeded.\n",
      "The notebook server will temporarily stop sending output\n",
      "to the client in order to avoid crashing it.\n",
      "To change this limit, set the config variable\n",
      "`--NotebookApp.iopub_msg_rate_limit`.\n",
      "\n",
      "Current values:\n",
      "NotebookApp.iopub_msg_rate_limit=1000.0 (msgs/sec)\n",
      "NotebookApp.rate_limit_window=3.0 (secs)\n",
      "\n"
     ]
    }
   ],
   "source": [
    "train_and_plot(learn, 0, 'unet-5', lrs = lrs, n_cycles=5, wds=wds, use_wd_sched=use_wd_sched,\n",
    "    cycle_len=1, cycle_mult=2, best_save_name='unet-5')"
   ]
  },
  {
   "cell_type": "code",
   "execution_count": 19,
   "metadata": {},
   "outputs": [],
   "source": [
    "lrs /= 5"
   ]
  },
  {
   "cell_type": "code",
   "execution_count": 21,
   "metadata": {},
   "outputs": [
    {
     "data": {
      "application/vnd.jupyter.widget-view+json": {
       "model_id": "516363ef5e964a6e8fc12328a0799ab5",
       "version_major": 2,
       "version_minor": 0
      },
      "text/html": [
       "<p>Failed to display Jupyter Widget of type <code>HBox</code>.</p>\n",
       "<p>\n",
       "  If you're reading this message in the Jupyter Notebook or JupyterLab Notebook, it may mean\n",
       "  that the widgets JavaScript is still loading. If this message persists, it\n",
       "  likely means that the widgets JavaScript library is either not installed or\n",
       "  not enabled. See the <a href=\"https://ipywidgets.readthedocs.io/en/stable/user_install.html\">Jupyter\n",
       "  Widgets Documentation</a> for setup instructions.\n",
       "</p>\n",
       "<p>\n",
       "  If you're reading this message in another frontend (for example, a static\n",
       "  rendering on GitHub or <a href=\"https://nbviewer.jupyter.org/\">NBViewer</a>),\n",
       "  it may mean that your frontend doesn't currently support widgets.\n",
       "</p>\n"
      ],
      "text/plain": [
       "HBox(children=(IntProgress(value=0, description='Epoch', max=63), HTML(value='')))"
      ]
     },
     "metadata": {},
     "output_type": "display_data"
    },
    {
     "name": "stdout",
     "output_type": "stream",
     "text": [
      "epoch      trn_loss   val_loss   mask_acc   jaccard_coef_par \n",
      "    0      0.552187   0.506714   0.924431   0.630958  \n",
      "    1      0.55237    0.506226   0.924031   0.631715         \n",
      "    2      0.53629    0.506763   0.92433    0.631046         \n",
      "    3      0.542715   0.507196   0.924377   0.630691         \n",
      "    4      0.547112   0.506785   0.923768   0.6315           \n",
      "    5      0.543686   0.507246   0.924424   0.630613         \n",
      "    6      0.549285   0.507159   0.924351   0.63073          \n",
      "    7      0.546143   0.506649   0.924128   0.631308         \n",
      "    8      0.54798    0.505942   0.924789   0.631034         \n",
      " 28%|██▊       | 44/159 [00:55<02:24,  1.25s/it, loss=0.553]"
     ]
    },
    {
     "name": "stderr",
     "output_type": "stream",
     "text": [
      "IOPub message rate exceeded.\n",
      "The notebook server will temporarily stop sending output\n",
      "to the client in order to avoid crashing it.\n",
      "To change this limit, set the config variable\n",
      "`--NotebookApp.iopub_msg_rate_limit`.\n",
      "\n",
      "Current values:\n",
      "NotebookApp.iopub_msg_rate_limit=1000.0 (msgs/sec)\n",
      "NotebookApp.rate_limit_window=3.0 (secs)\n",
      "\n"
     ]
    },
    {
     "name": "stdout",
     "output_type": "stream",
     "text": [
      "    22     0.54564    0.505213   0.924887   0.631427         \n",
      "    23     0.53947    0.504789   0.924463   0.632094         \n",
      "    24     0.54635    0.504962   0.924382   0.632066         \n",
      "    25     0.546765   0.505251   0.92464    0.631636         \n",
      "    26     0.547275   0.505049   0.924418   0.631961         \n",
      "    27     0.545387   0.505002   0.924328   0.632049         \n",
      "    28     0.545167   0.505069   0.924388   0.631965         \n",
      "    29     0.546001   0.505081   0.924401   0.631944         \n",
      "    30     0.546489   0.505079   0.924407   0.63194          \n",
      " 38%|███▊      | 61/159 [01:06<01:46,  1.08s/it, loss=0.548]"
     ]
    },
    {
     "name": "stderr",
     "output_type": "stream",
     "text": [
      "IOPub message rate exceeded.\n",
      "The notebook server will temporarily stop sending output\n",
      "to the client in order to avoid crashing it.\n",
      "To change this limit, set the config variable\n",
      "`--NotebookApp.iopub_msg_rate_limit`.\n",
      "\n",
      "Current values:\n",
      "NotebookApp.iopub_msg_rate_limit=1000.0 (msgs/sec)\n",
      "NotebookApp.rate_limit_window=3.0 (secs)\n",
      "\n"
     ]
    },
    {
     "name": "stdout",
     "output_type": "stream",
     "text": [
      "    44     0.54236    0.504042   0.924935   0.632191         \n",
      "    45     0.539981   0.503557   0.92459    0.632758         \n",
      "    46     0.539382   0.503374   0.924605   0.63296          \n",
      "    47     0.538383   0.503359   0.924491   0.632991         \n",
      "    48     0.540733   0.503431   0.924675   0.632824         \n",
      "    49     0.545297   0.503174   0.924583   0.633084         \n",
      "    50     0.547884   0.503166   0.924356   0.633245         \n",
      "    51     0.543287   0.503266   0.924613   0.632913         \n",
      "    52     0.539592   0.503098   0.92429    0.633296         \n",
      " 79%|███████▊  | 125/159 [02:28<00:40,  1.19s/it, loss=0.541]"
     ]
    },
    {
     "name": "stderr",
     "output_type": "stream",
     "text": [
      "IOPub message rate exceeded.\n",
      "The notebook server will temporarily stop sending output\n",
      "to the client in order to avoid crashing it.\n",
      "To change this limit, set the config variable\n",
      "`--NotebookApp.iopub_msg_rate_limit`.\n",
      "\n",
      "Current values:\n",
      "NotebookApp.iopub_msg_rate_limit=1000.0 (msgs/sec)\n",
      "NotebookApp.rate_limit_window=3.0 (secs)\n",
      "\n"
     ]
    }
   ],
   "source": [
    "train_and_plot(learn, 0, 'unet-5', lrs = lrs, n_cycles=6, wds=wds, use_wd_sched=use_wd_sched,\n",
    "    cycle_len=1, cycle_mult=2, best_save_name='unet-5')"
   ]
  },
  {
   "cell_type": "code",
   "execution_count": 25,
   "metadata": {},
   "outputs": [
    {
     "data": {
      "application/vnd.jupyter.widget-view+json": {
       "model_id": "1f31fbc4f21646d7a94a4843353f02fa",
       "version_major": 2,
       "version_minor": 0
      },
      "text/html": [
       "<p>Failed to display Jupyter Widget of type <code>HBox</code>.</p>\n",
       "<p>\n",
       "  If you're reading this message in the Jupyter Notebook or JupyterLab Notebook, it may mean\n",
       "  that the widgets JavaScript is still loading. If this message persists, it\n",
       "  likely means that the widgets JavaScript library is either not installed or\n",
       "  not enabled. See the <a href=\"https://ipywidgets.readthedocs.io/en/stable/user_install.html\">Jupyter\n",
       "  Widgets Documentation</a> for setup instructions.\n",
       "</p>\n",
       "<p>\n",
       "  If you're reading this message in another frontend (for example, a static\n",
       "  rendering on GitHub or <a href=\"https://nbviewer.jupyter.org/\">NBViewer</a>),\n",
       "  it may mean that your frontend doesn't currently support widgets.\n",
       "</p>\n"
      ],
      "text/plain": [
       "HBox(children=(IntProgress(value=0, description='Epoch', max=63), HTML(value='')))"
      ]
     },
     "metadata": {},
     "output_type": "display_data"
    },
    {
     "name": "stdout",
     "output_type": "stream",
     "text": [
      "epoch      trn_loss   val_loss   mask_acc   jaccard_coef_par \n",
      "    0      0.543278   0.502098   0.925136   0.633284  \n",
      "    1      0.546917   0.502767   0.925365   0.632672         \n",
      "    2      0.5406     0.501716   0.924718   0.633805         \n",
      "    3      0.539509   0.500148   0.925312   0.633742         \n",
      "    4      0.540398   0.501426   0.923792   0.634747         \n",
      "    5      0.540342   0.501235   0.925177   0.633671         \n",
      "    6      0.536191   0.501084   0.924841   0.634001         \n",
      "    7      0.543641   0.500857   0.924553   0.634199         \n",
      "    8      0.536434   0.501392   0.925246   0.633855         \n",
      "    9      0.538181   0.50058    0.924207   0.634911         \n",
      "    10     0.537257   0.501069   0.924213   0.634776         \n",
      " 26%|██▌       | 41/159 [00:45<02:11,  1.12s/it, loss=0.54] "
     ]
    },
    {
     "name": "stderr",
     "output_type": "stream",
     "text": [
      "IOPub message rate exceeded.\n",
      "The notebook server will temporarily stop sending output\n",
      "to the client in order to avoid crashing it.\n",
      "To change this limit, set the config variable\n",
      "`--NotebookApp.iopub_msg_rate_limit`.\n",
      "\n",
      "Current values:\n",
      "NotebookApp.iopub_msg_rate_limit=1000.0 (msgs/sec)\n",
      "NotebookApp.rate_limit_window=3.0 (secs)\n",
      "\n"
     ]
    },
    {
     "name": "stdout",
     "output_type": "stream",
     "text": [
      "    13     0.536355   0.499703   0.92525    0.634588  \n",
      "    14     0.538229   0.499712   0.925176   0.634634         \n",
      "    15     0.534955   0.498434   0.924731   0.635903         \n",
      "    16     0.536834   0.498696   0.926183   0.634409         \n",
      "    17     0.541201   0.497762   0.924797   0.635999         \n",
      "    18     0.536199   0.49599    0.925203   0.636907         \n",
      "    19     0.532189   0.496842   0.924833   0.636704         \n",
      "    20     0.533156   0.495312   0.925461   0.637543         \n",
      "    21     0.534558   0.497043   0.925562   0.635967         \n",
      "    22     0.53842    0.496007   0.925659   0.636517         \n",
      "    23     0.537107   0.496996   0.923529   0.637579         \n",
      "    24     0.534693   0.495313   0.925287   0.636802         \n",
      "    25     0.538467   0.495436   0.925421   0.636923         \n",
      "    26     0.533817   0.494962   0.92482    0.637734         \n",
      "    27     0.538514   0.495697   0.925912   0.636237         \n",
      "    29     0.53596    0.49507    0.9255     0.637011         \n",
      "    30     0.531771   0.49507    0.925505   0.637022         \n",
      "    31     0.530329   0.494607   0.926841   0.636361         \n",
      "    32     0.532338   0.494474   0.924967   0.637178         \n",
      "    33     0.535143   0.493408   0.925974   0.637684         \n",
      "    34     0.532409   0.492794   0.925995   0.637999         \n",
      "    35     0.533906   0.493245   0.925269   0.638323         \n",
      "    36     0.532527   0.491775   0.92571    0.638931         \n",
      " 58%|█████▊    | 92/159 [02:24<01:45,  1.57s/it, loss=0.528]    37     0.530795   0.49145    0.925593   0.639062  \n",
      "    38     0.52903    0.494518   0.926396   0.63674          \n",
      "    39     0.524393   0.492944   0.924739   0.639011         \n",
      "    40     0.522486   0.492361   0.925765   0.638914         \n",
      "    41     0.521121   0.493009   0.927485   0.636731         \n",
      "    42     0.523655   0.492105   0.927252   0.637583         \n",
      "    43     0.52987    0.489206   0.926244   0.640113         \n",
      "    45     0.522459   0.490306   0.926222   0.639547         \n",
      "    46     0.525716   0.490852   0.92718    0.638373         \n",
      "    47     0.521524   0.489887   0.925308   0.640585         \n",
      "    48     0.523179   0.490489   0.925099   0.640099         \n",
      "    49     0.52312    0.489414   0.925881   0.640246         \n",
      "    50     0.522148   0.489722   0.925122   0.640718         \n",
      "    51     0.517936   0.489634   0.924998   0.640701         \n",
      "    52     0.529538   0.48919    0.925417   0.64055          \n",
      "    53     0.519674   0.489137   0.925987   0.640195         \n",
      "    54     0.52255    0.489642   0.925272   0.640647         \n",
      "    55     0.525864   0.489579   0.925599   0.640194         \n",
      " 28%|██▊       | 45/159 [00:52<02:12,  1.16s/it, loss=0.533]"
     ]
    },
    {
     "name": "stderr",
     "output_type": "stream",
     "text": [
      "IOPub message rate exceeded.\n",
      "The notebook server will temporarily stop sending output\n",
      "to the client in order to avoid crashing it.\n",
      "To change this limit, set the config variable\n",
      "`--NotebookApp.iopub_msg_rate_limit`.\n",
      "\n",
      "Current values:\n",
      "NotebookApp.iopub_msg_rate_limit=1000.0 (msgs/sec)\n",
      "NotebookApp.rate_limit_window=3.0 (secs)\n",
      "\n"
     ]
    },
    {
     "name": "stdout",
     "output_type": "stream",
     "text": [
      "    62     0.52489    0.488763   0.926278   0.64019          \n",
      "\n"
     ]
    },
    {
     "data": {
      "image/png": "[encoded data removed]",
      "text/plain": [
       "<Figure size 576x288 with 2 Axes>"
      ]
     },
     "metadata": {},
     "output_type": "display_data"
    }
   ],
   "source": [
    "train_and_plot(learn, 2, 'unet-5', lrs = lrs, n_cycles=6, wds=wds, use_wd_sched=use_wd_sched,\n",
    "    cycle_len=1, cycle_mult=2, best_save_name='unet-5')"
   ]
  },
  {
   "cell_type": "markdown",
   "metadata": {},
   "source": [
    "Tested at this point"
   ]
  },
  {
   "cell_type": "code",
   "execution_count": null,
   "metadata": {},
   "outputs": [
    {
     "data": {
      "application/vnd.jupyter.widget-view+json": {
       "model_id": "9ada517d7da140eabda484827b9bdce7",
       "version_major": 2,
       "version_minor": 0
      },
      "text/html": [
       "<p>Failed to display Jupyter Widget of type <code>HBox</code>.</p>\n",
       "<p>\n",
       "  If you're reading this message in the Jupyter Notebook or JupyterLab Notebook, it may mean\n",
       "  that the widgets JavaScript is still loading. If this message persists, it\n",
       "  likely means that the widgets JavaScript library is either not installed or\n",
       "  not enabled. See the <a href=\"https://ipywidgets.readthedocs.io/en/stable/user_install.html\">Jupyter\n",
       "  Widgets Documentation</a> for setup instructions.\n",
       "</p>\n",
       "<p>\n",
       "  If you're reading this message in another frontend (for example, a static\n",
       "  rendering on GitHub or <a href=\"https://nbviewer.jupyter.org/\">NBViewer</a>),\n",
       "  it may mean that your frontend doesn't currently support widgets.\n",
       "</p>\n"
      ],
      "text/plain": [
       "HBox(children=(IntProgress(value=0, description='Epoch', max=63), HTML(value='')))"
      ]
     },
     "metadata": {},
     "output_type": "display_data"
    },
    {
     "name": "stdout",
     "output_type": "stream",
     "text": [
      "epoch      trn_loss   val_loss   mask_acc   jaccard_coef_par \n",
      "    0      0.523909   0.488806   0.926169   0.640157  \n",
      "    1      0.524272   0.49068    0.928037   0.637159         \n",
      "    2      0.524813   0.487957   0.926492   0.640452         \n",
      "    3      0.523943   0.491046   0.923552   0.641104         \n",
      "    4      0.516869   0.488563   0.92502    0.641472         \n",
      "    5      0.526326   0.488316   0.926526   0.640306         \n",
      "    6      0.520215   0.488088   0.926115   0.640709         \n",
      "    7      0.527362   0.486038   0.926889   0.641559         \n",
      "    8      0.531363   0.487495   0.927498   0.640095         \n",
      "    9      0.524279   0.486993   0.926313   0.6413           \n",
      "    10     0.523129   0.486913   0.925589   0.642542         \n",
      "    11     0.519409   0.48657    0.925729   0.642277         \n",
      "    12     0.51868    0.4859     0.926984   0.641619         \n",
      "    13     0.522916   0.48601    0.926294   0.641858         \n",
      "    14     0.520824   0.485956   0.926578   0.641592         \n",
      "    15     0.521312   0.487165   0.925468   0.641966         \n",
      "    16     0.513624   0.486007   0.926718   0.641961         \n",
      "    17     0.518449   0.485388   0.925372   0.643369         \n",
      "    18     0.522829   0.485338   0.927512   0.641232         \n",
      "    19     0.517717   0.485777   0.926668   0.641968         \n",
      "    20     0.523781   0.486722   0.926146   0.641558         \n",
      "    21     0.518084   0.484859   0.928383   0.641287         \n",
      "    22     0.513197   0.483133   0.927335   0.642921         \n",
      "    23     0.522569   0.48547    0.926042   0.642528         \n",
      "    24     0.520469   0.48441    0.926592   0.642398         \n",
      "    25     0.517905   0.483836   0.926537   0.643079         \n",
      "    26     0.522822   0.48347    0.926989   0.642722         \n",
      "    27     0.51672    0.484122   0.926381   0.642907         \n",
      "    28     0.521153   0.484381   0.926752   0.642376         \n",
      "    29     0.520594   0.484455   0.926774   0.642323         \n",
      "    30     0.512288   0.484438   0.926701   0.642394         \n",
      "    31     0.519171   0.490766   0.929432   0.636568         \n",
      "    32     0.516069   0.484114   0.926561   0.642539         \n",
      "    33     0.52039    0.483      0.92732    0.643037         \n",
      "    34     0.517563   0.483755   0.927016   0.642507         \n",
      "    35     0.519759   0.486289   0.929054   0.6394           \n",
      "    36     0.517889   0.486162   0.929147   0.639268         \n",
      "    37     0.517899   0.482204   0.926989   0.643383         \n",
      "    38     0.515261   0.482201   0.926694   0.644179         \n",
      "    39     0.511884   0.480758   0.927004   0.644521         \n",
      "    40     0.512264   0.480792   0.927109   0.644449         \n",
      "    41     0.508972   0.480379   0.92861    0.643359         \n",
      "    42     0.512943   0.48167    0.927085   0.643665         \n",
      "    43     0.515251   0.480641   0.927897   0.64364          \n",
      "    44     0.514727   0.481391   0.927632   0.643328         \n",
      "    45     0.511859   0.480702   0.927353   0.644276         \n",
      "    46     0.507526   0.481418   0.927056   0.644053         \n",
      "    47     0.512302   0.481848   0.927446   0.643321         \n",
      "    48     0.508909   0.480499   0.927362   0.644547         \n",
      "    49     0.513507   0.479731   0.926781   0.64554          \n",
      "    50     0.507712   0.480462   0.927549   0.643835         \n",
      "    51     0.507801   0.481239   0.927171   0.643848         \n",
      "    52     0.509131   0.480266   0.926622   0.644964         \n",
      "    53     0.521594   0.479773   0.928357   0.643789         \n",
      "    54     0.50739    0.480003   0.927383   0.644582         \n",
      "    55     0.511653   0.479707   0.927231   0.644825         \n",
      "    56     0.515314   0.479422   0.927701   0.644609         \n",
      "    57     0.516544   0.479901   0.927597   0.644349         \n",
      "    58     0.509709   0.480016   0.927543   0.64438          \n",
      "    59     0.505407   0.479922   0.927592   0.644443         \n",
      " 69%|██████▊   | 109/159 [02:42<01:14,  1.49s/it, loss=0.509]"
     ]
    }
   ],
   "source": [
    "train_and_plot(learn, 2, 'unet-5', lrs=lrs, n_cycles=6, wds=wds, use_wd_sched=use_wd_sched,\n",
    "    cycle_len=1, cycle_mult=2, best_save_name='unet-5')"
   ]
  },
  {
   "cell_type": "markdown",
   "metadata": {},
   "source": [
    "# After mean"
   ]
  },
  {
   "cell_type": "code",
   "execution_count": null,
   "metadata": {
    "scrolled": false
   },
   "outputs": [],
   "source": [
    "%%time\n",
    "%run script 3 --gpu_start=3 --num_gpus=1 --bs=40 --lr 1e-3 --num_slice=9 \\\n",
    "    --use_wd_sched --wd 0.025 --n_cycles 5 --model_name unet --learn --start --load_starter ternaus-full_4"
   ]
  },
  {
   "cell_type": "code",
   "execution_count": 1,
   "metadata": {
    "scrolled": false
   },
   "outputs": [
    {
     "data": {
      "application/vnd.jupyter.widget-view+json": {
       "model_id": "2039c25881364d39991a253b4d365636",
       "version_major": 2,
       "version_minor": 0
      },
      "text/plain": [
       "HBox(children=(IntProgress(value=0, description='gt', max=304), HTML(value='')))"
      ]
     },
     "metadata": {},
     "output_type": "display_data"
    },
    {
     "name": "stdout",
     "output_type": "stream",
     "text": [
      "\n"
     ]
    },
    {
     "data": {
      "application/vnd.jupyter.widget-view+json": {
       "model_id": "dbf238f008cc4fd29d37b6e45f5e98fd",
       "version_major": 2,
       "version_minor": 0
      },
      "text/plain": [
       "HBox(children=(IntProgress(value=0, description='gt', max=708), HTML(value='')))"
      ]
     },
     "metadata": {},
     "output_type": "display_data"
    },
    {
     "name": "stdout",
     "output_type": "stream",
     "text": [
      "\n",
      "Data finished loading: data/train/AOI_5_Khartoum_Train\n"
     ]
    },
    {
     "data": {
      "application/vnd.jupyter.widget-view+json": {
       "model_id": "5928f9da825849bc93f9b6896e7f45e1",
       "version_major": 2,
       "version_minor": 0
      },
      "text/plain": [
       "HBox(children=(IntProgress(value=0, description='Epoch', max=62), HTML(value='')))"
      ]
     },
     "metadata": {},
     "output_type": "display_data"
    },
    {
     "name": "stdout",
     "output_type": "stream",
     "text": [
      "epoch      trn_loss   val_loss   mask_acc   jaccard_coef_par \n",
      "    0      0.748317   0.727852   0.897979   0.52894   \n",
      "    1      0.752395   0.727384   0.896664   0.53028          \n",
      "    2      0.75563    0.726399   0.900535   0.527544         \n",
      "    3      0.741095   0.729124   0.896653   0.530083         \n",
      "    4      0.758798   0.730917   0.89353    0.531052         \n",
      "    5      0.751003   0.725452   0.897131   0.530866         \n",
      "    6      0.744767   0.726988   0.896194   0.530401         \n",
      "    7      0.744746   0.735899   0.892234   0.529909         \n",
      "    8      0.7383     0.732371   0.893247   0.530535         \n",
      "    9      0.748098   0.728823   0.895336   0.530543         \n",
      "    10     0.750238   0.725799   0.899183   0.528985         \n",
      "    11     0.750576   0.727733   0.895756   0.530821         \n",
      "    12     0.748345   0.726269   0.896523   0.530851         \n",
      "    13     0.747717   0.725913   0.89698    0.530703         \n",
      "    14     0.738471   0.72291    0.900066   0.529662         \n",
      "    15     0.749682   0.735666   0.89155    0.530443         \n",
      "    16     0.741322   0.727618   0.895306   0.531316         \n",
      "    17     0.734029   0.726949   0.89668    0.53046          \n",
      "    18     0.744137   0.723303   0.899915   0.529942         \n",
      "    19     0.749363   0.72685    0.897081   0.530186         \n",
      "    20     0.739044   0.725112   0.897656   0.530451         \n",
      "    21     0.750381   0.728327   0.894292   0.531728         \n",
      "    22     0.74602    0.722333   0.898263   0.531213         \n",
      "    23     0.739623   0.725846   0.89589    0.531767         \n",
      "    24     0.740156   0.725747   0.895471   0.531989         \n",
      "    25     0.748955   0.724886   0.89602    0.531928         \n",
      "    26     0.751072   0.722631   0.898503   0.531159         \n",
      "    27     0.743589   0.724757   0.896035   0.53214          \n",
      "    28     0.742241   0.723514   0.897182   0.531813         \n",
      "    29     0.750915   0.723402   0.897247   0.531807         \n",
      "    30     0.747791   0.721369   0.901563   0.52895          \n",
      "    31     0.757862   0.728009   0.895804   0.530921         \n",
      "    32     0.735296   0.723465   0.899349   0.530203         \n",
      "    33     0.742363   0.724017   0.898856   0.530365         \n",
      "    34     0.748748   0.722668   0.898918   0.530854         \n",
      "    35     0.751094   0.72028    0.900137   0.530479         \n",
      "    36     0.739743   0.725991   0.896912   0.530851         \n",
      "    37     0.744966   0.72121    0.897635   0.532363         \n",
      "    38     0.752413   0.723881   0.898068   0.531087         \n",
      "    39     0.7474     0.732973   0.891204   0.531655         \n",
      "    40     0.740126   0.723098   0.897428   0.531889         \n",
      "    41     0.751387   0.724109   0.896514   0.531947         \n",
      "    42     0.746178   0.721914   0.89848    0.53138          \n",
      "    43     0.743821   0.720876   0.899015   0.53173          \n",
      "    44     0.740521   0.72       0.900941   0.529993         \n",
      "    45     0.731653   0.719021   0.900896   0.530948         \n",
      "    46     0.739589   0.72307    0.898002   0.531424         \n",
      "    47     0.74942    0.719768   0.900422   0.530494         \n",
      "    48     0.739338   0.723519   0.89709    0.53221          \n",
      "    49     0.745897   0.720057   0.898411   0.532482         \n",
      "    50     0.750812   0.725727   0.89555    0.532618         \n",
      "    51     0.73891    0.722246   0.896782   0.532735         \n",
      "    52     0.738907   0.722061   0.897233   0.532541         \n",
      "    53     0.738608   0.724512   0.894608   0.533422         \n",
      "    54     0.753688   0.72147    0.897796   0.532416         \n",
      "    55     0.745039   0.72064    0.897442   0.533127         \n",
      "    56     0.742427   0.723118   0.895698   0.533246         \n",
      "    57     0.74351    0.720782   0.897719   0.532755         \n",
      "    58     0.752039   0.722221   0.896596   0.532996         \n",
      "    59     0.739412   0.721679   0.896963   0.532929         \n",
      "    60     0.732599   0.721739   0.896964   0.53291          \n",
      "    61     0.753299   0.721775   0.896918   0.532928         \n",
      "\n",
      "CPU times: user 1d 22h 10min 38s, sys: 1d 3h 11min 22s, total: 3d 1h 22min 1s\n",
      "Wall time: 5h 13min 3s\n"
     ]
    }
   ],
   "source": [
    "%%time\n",
    "%run script 3 --gpu_start=3 --num_gpus=1 --bs=40 --lr 1e-4 --num_slice=25 \\\n",
    "    --use_wd_sched --wd 0.025 --n_cycles 5 --model_name unet --learn --start --load_starter unet-5_0"
   ]
  },
  {
   "cell_type": "code",
   "execution_count": 3,
   "metadata": {},
   "outputs": [
    {
     "data": {
      "application/vnd.jupyter.widget-view+json": {
       "model_id": "",
       "version_major": 2,
       "version_minor": 0
      },
      "text/plain": [
       "HBox(children=(IntProgress(value=0, description='Epoch', max=63), HTML(value='')))"
      ]
     },
     "metadata": {},
     "output_type": "display_data"
    },
    {
     "name": "stdout",
     "output_type": "stream",
     "text": [
      "epoch      trn_loss   val_loss   mask_acc   jaccard_coef_par \n",
      "    0      0.732611   0.720454   0.897285   0.533314  \n",
      "    1      0.735904   0.720714   0.897135   0.533317         \n",
      "    2      0.737897   0.720725   0.897116   0.533326         \n",
      "    3      0.742445   0.720628   0.897217   0.533301         \n",
      "    4      0.742548   0.720744   0.897171   0.533294         \n",
      "    5      0.736562   0.720721   0.897169   0.533304         \n",
      "    6      0.751496   0.720738   0.897156   0.533307         \n",
      "    7      0.742267   0.72093    0.896971   0.533375         \n",
      "    8      0.745254   0.720889   0.896995   0.533369         \n",
      "    9      0.743656   0.720895   0.896952   0.533392         \n",
      "    10     0.746593   0.720847   0.897072   0.533314         \n",
      "    11     0.74593    0.720729   0.897194   0.533276         \n",
      "    12     0.742882   0.720825   0.897109   0.5333           \n",
      "    13     0.751457   0.720802   0.897129   0.533293         \n",
      "    14     0.730567   0.720802   0.897127   0.533294         \n",
      "    15     0.741368   0.720559   0.897235   0.533313         \n",
      "    16     0.748419   0.720962   0.896868   0.533435         \n",
      "    17     0.739312   0.720909   0.896876   0.533431         \n",
      "    18     0.741907   0.720406   0.897329   0.533296         \n",
      "    19     0.740204   0.720265   0.897419   0.533281         \n",
      "    20     0.743409   0.720174   0.89751    0.533252         \n",
      " 59%|█████▉    | 112/190 [02:03<01:26,  1.11s/it, loss=0.738]    21     0.744701   0.72063    0.897082   0.533384  \n",
      "    22     0.735217   0.720492   0.897214   0.533342         \n",
      "    23     0.750558   0.720688   0.897069   0.53338          \n",
      "    24     0.743221   0.720811   0.897006   0.533367         \n",
      "    25     0.738227   0.720838   0.897007   0.533354         \n",
      "    26     0.736612   0.720858   0.897012   0.533341         \n",
      "    27     0.747475   0.720811   0.89706    0.533329         \n",
      "    28     0.735162   0.72081    0.897059   0.533328         \n",
      " 79%|███████▉  | 151/190 [02:40<00:41,  1.06s/it, loss=0.742]"
     ]
    },
    {
     "name": "stderr",
     "output_type": "stream",
     "text": [
      "IOPub message rate exceeded.\n",
      "The notebook server will temporarily stop sending output\n",
      "to the client in order to avoid crashing it.\n",
      "To change this limit, set the config variable\n",
      "`--NotebookApp.iopub_msg_rate_limit`.\n",
      "\n",
      "Current values:\n",
      "NotebookApp.iopub_msg_rate_limit=1000.0 (msgs/sec)\n",
      "NotebookApp.rate_limit_window=3.0 (secs)\n",
      "\n"
     ]
    },
    {
     "name": "stdout",
     "output_type": "stream",
     "text": [
      "    44     0.740182   0.720903   0.89702    0.533298  \n",
      "    45     0.738978   0.721163   0.896807   0.53335          \n",
      "    46     0.746843   0.720904   0.897012   0.5333           \n",
      "    47     0.744103   0.720745   0.897145   0.533272         \n",
      "    48     0.738536   0.720671   0.89722    0.533253         \n",
      "    49     0.742266   0.720739   0.897177   0.533262         \n",
      "    50     0.735512   0.720703   0.897206   0.533256         \n",
      "    51     0.745844   0.72076    0.897148   0.53328          \n",
      " 79%|███████▉  | 151/190 [02:39<00:41,  1.05s/it, loss=0.737]"
     ]
    },
    {
     "name": "stderr",
     "output_type": "stream",
     "text": [
      "IOPub message rate exceeded.\n",
      "The notebook server will temporarily stop sending output\n",
      "to the client in order to avoid crashing it.\n",
      "To change this limit, set the config variable\n",
      "`--NotebookApp.iopub_msg_rate_limit`.\n",
      "\n",
      "Current values:\n",
      "NotebookApp.iopub_msg_rate_limit=1000.0 (msgs/sec)\n",
      "NotebookApp.rate_limit_window=3.0 (secs)\n",
      "\n"
     ]
    }
   ],
   "source": [
    "lrs = np.array(lrs) / 10\n",
    "train_and_plot(learn, 1, 'unet-5', lrs = lrs, n_cycles=6, wds=wds, use_wd_sched=use_wd_sched,\n",
    "    cycle_len=1, cycle_mult=2, best_save_name='unet-5')"
   ]
  },
  {
   "cell_type": "markdown",
   "metadata": {},
   "source": [
    "# Overfitted?"
   ]
  },
  {
   "cell_type": "code",
   "execution_count": null,
   "metadata": {
    "scrolled": false
   },
   "outputs": [
    {
     "data": {
      "application/vnd.jupyter.widget-view+json": {
       "model_id": "c6d9d37162e846d7855f5a6d5119ff05",
       "version_major": 2,
       "version_minor": 0
      },
      "text/plain": [
       "HBox(children=(IntProgress(value=0, description='gt', max=304), HTML(value='')))"
      ]
     },
     "metadata": {},
     "output_type": "display_data"
    },
    {
     "name": "stdout",
     "output_type": "stream",
     "text": [
      "\n"
     ]
    }
   ],
   "source": [
    "%%time\n",
    "%run script 3 --gpu_start=0 --num_gpus=4 --bs=160 --lr 1e-3 --num_slice=81 \\\n",
    "    --use_wd_sched --wd 0.025 --n_cycles 4 --model_name unet --learn --start --load_starter ternaus-full_4"
   ]
  },
  {
   "cell_type": "code",
   "execution_count": null,
   "metadata": {},
   "outputs": [],
   "source": [
    "%%time\n",
    "%run script 3 --num_gpus=1 --gpu_start=6 --bs=40 --pred --eval --num_slice 81 --model_name unet"
   ]
  },
  {
   "cell_type": "markdown",
   "metadata": {},
   "source": [
    "train on full image size next"
   ]
  },
  {
   "cell_type": "code",
   "execution_count": null,
   "metadata": {},
   "outputs": [],
   "source": []
  }
 ],
 "metadata": {
  "kernelspec": {
   "display_name": "Python 3",
   "language": "python",
   "name": "python3"
  },
  "language_info": {
   "codemirror_mode": {
    "name": "ipython",
    "version": 3
   },
   "file_extension": ".py",
   "mimetype": "text/x-python",
   "name": "python",
   "nbconvert_exporter": "python",
   "pygments_lexer": "ipython3",
   "version": "3.6.5"
  }
 },
 "nbformat": 4,
 "nbformat_minor": 2
}
