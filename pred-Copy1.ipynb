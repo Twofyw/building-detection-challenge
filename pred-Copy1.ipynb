{
 "cells": [
  {
   "cell_type": "code",
   "execution_count": 1,
   "metadata": {},
   "outputs": [],
   "source": [
    "%matplotlib inline\n",
    "# disable autoreload for global dataset\n",
    "%load_ext autoreload\n",
    "%autoreload 2"
   ]
  },
  {
   "cell_type": "code",
   "execution_count": 2,
   "metadata": {},
   "outputs": [],
   "source": [
    "from learn import *"
   ]
  },
  {
   "cell_type": "code",
   "execution_count": 3,
   "metadata": {},
   "outputs": [],
   "source": [
    "num_gpus = 2\n",
    "gpu_start = 8\n",
    "num_workers = 3 * num_gpus\n",
    "device_ids = range(gpu_start, gpu_start + num_gpus)\n",
    "torch.cuda.set_device(gpu_start)\n",
    "\n",
    "bs = 20"
   ]
  },
  {
   "cell_type": "markdown",
   "metadata": {},
   "source": [
    "## Plot predictions"
   ]
  },
  {
   "cell_type": "code",
   "execution_count": 4,
   "metadata": {},
   "outputs": [],
   "source": [
    "model_name = 'deeplab'"
   ]
  },
  {
   "cell_type": "code",
   "execution_count": 5,
   "metadata": {},
   "outputs": [
    {
     "data": {
      "application/vnd.jupyter.widget-view+json": {
       "model_id": "e59a1419d0ad402b81f1b5c79f0d1b48",
       "version_major": 2,
       "version_minor": 0
      },
      "text/html": [
       "<p>Failed to display Jupyter Widget of type <code>HBox</code>.</p>\n",
       "<p>\n",
       "  If you're reading this message in the Jupyter Notebook or JupyterLab Notebook, it may mean\n",
       "  that the widgets JavaScript is still loading. If this message persists, it\n",
       "  likely means that the widgets JavaScript library is either not installed or\n",
       "  not enabled. See the <a href=\"https://ipywidgets.readthedocs.io/en/stable/user_install.html\">Jupyter\n",
       "  Widgets Documentation</a> for setup instructions.\n",
       "</p>\n",
       "<p>\n",
       "  If you're reading this message in another frontend (for example, a static\n",
       "  rendering on GitHub or <a href=\"https://nbviewer.jupyter.org/\">NBViewer</a>),\n",
       "  it may mean that your frontend doesn't currently support widgets.\n",
       "</p>\n"
      ],
      "text/plain": [
       "HBox(children=(IntProgress(value=0, description='ims', max=3207), HTML(value='')))"
      ]
     },
     "metadata": {},
     "output_type": "display_data"
    },
    {
     "name": "stdout",
     "output_type": "stream",
     "text": [
      "\n"
     ]
    },
    {
     "data": {
      "application/vnd.jupyter.widget-view+json": {
       "model_id": "8c3cb2bb81a848d1bb320b2a0b77e27a",
       "version_major": 2,
       "version_minor": 0
      },
      "text/html": [
       "<p>Failed to display Jupyter Widget of type <code>HBox</code>.</p>\n",
       "<p>\n",
       "  If you're reading this message in the Jupyter Notebook or JupyterLab Notebook, it may mean\n",
       "  that the widgets JavaScript is still loading. If this message persists, it\n",
       "  likely means that the widgets JavaScript library is either not installed or\n",
       "  not enabled. See the <a href=\"https://ipywidgets.readthedocs.io/en/stable/user_install.html\">Jupyter\n",
       "  Widgets Documentation</a> for setup instructions.\n",
       "</p>\n",
       "<p>\n",
       "  If you're reading this message in another frontend (for example, a static\n",
       "  rendering on GitHub or <a href=\"https://nbviewer.jupyter.org/\">NBViewer</a>),\n",
       "  it may mean that your frontend doesn't currently support widgets.\n",
       "</p>\n"
      ],
      "text/plain": [
       "HBox(children=(IntProgress(value=0, description='ims', max=1375), HTML(value='')))"
      ]
     },
     "metadata": {},
     "output_type": "display_data"
    },
    {
     "name": "stdout",
     "output_type": "stream",
     "text": [
      "\n",
      "Data finished loading: data/train/AOI_4_Shanghai_Train\n"
     ]
    }
   ],
   "source": [
    "learn, denorm, data = learner_on_dataset(datapaths[2], bs, device_ids, num_workers, model_name=model_name,\n",
    "                                         debug=False, global_dataset=False, num_slice=9, sz=256)\n",
    "(trn_x,trn_y), (val_x,val_y) = data"
   ]
  },
  {
   "cell_type": "code",
   "execution_count": 13,
   "metadata": {
    "collapsed": true
   },
   "outputs": [
    {
     "name": "stdout",
     "output_type": "stream",
     "text": [
      "Data finished loading: data/train/AOI_4_Shanghai_Train\n"
     ]
    }
   ],
   "source": [
    "#resume\n",
    "learn, denorm, data = learner_on_dataset(datapaths[2], bs, device_ids, num_workers, model_name=model_name,\n",
    "                                         debug=False, global_dataset=False, data=data, num_slice=9, sz=256)\n",
    "(trn_x,trn_y), (val_x,val_y) = data"
   ]
  },
  {
   "cell_type": "markdown",
   "metadata": {},
   "source": [
    "## plots"
   ]
  },
  {
   "cell_type": "code",
   "execution_count": 6,
   "metadata": {},
   "outputs": [],
   "source": [
    "learn.load('deeplab-shanghai')"
   ]
  },
  {
   "cell_type": "code",
   "execution_count": 7,
   "metadata": {
    "scrolled": true
   },
   "outputs": [
    {
     "name": "stdout",
     "output_type": "stream",
     "text": [
      "CPU times: user 2h 19min 2s, sys: 12min 49s, total: 2h 31min 51s\n",
      "Wall time: 4min 51s\n"
     ]
    }
   ],
   "source": [
    "%%time\n",
    "preds = learn.predict()"
   ]
  },
  {
   "cell_type": "code",
   "execution_count": null,
   "metadata": {},
   "outputs": [],
   "source": [
    "print('hi')"
   ]
  },
  {
   "cell_type": "code",
   "execution_count": null,
   "metadata": {},
   "outputs": [],
   "source": [
    "preds.shape"
   ]
  },
  {
   "cell_type": "markdown",
   "metadata": {},
   "source": [
    "## CRF"
   ]
  },
  {
   "cell_type": "code",
   "execution_count": null,
   "metadata": {},
   "outputs": [],
   "source": [
    "import numpy as np\n",
    "try:\n",
    "    import cPickle as pickle\n",
    "except ImportError:\n",
    "    import pickle\n",
    "\n",
    "from pystruct import learners\n",
    "import pystruct.models as crfs\n",
    "from pystruct.utils import SaveLogger\n",
    "\n",
    "\n",
    "data_train = pickle.load(open(\"data_train_dict.pickle\"))\n",
    "C = 0.01\n",
    "\n",
    "n_states = 21\n",
    "print(\"number of samples: %s\" % len(data_train['X']))\n",
    "class_weights = 1. / np.bincount(np.hstack(data_train['Y']))\n",
    "class_weights *= 21. / np.sum(class_weights)\n",
    "print(class_weights)\n",
    "\n",
    "model = crfs.EdgeFeatureGraphCRF(inference_method='qpbo',\n",
    "                                 class_weight=class_weights,\n",
    "                                 symmetric_edge_features=[0, 1],\n",
    "                                 antisymmetric_edge_features=[2])\n",
    "\n",
    "experiment_name = \"edge_features_one_slack_trainval_%f\" % C\n",
    "\n",
    "ssvm = learners.NSlackSSVM(\n",
    "    model, verbose=2, C=C, max_iter=100000, n_jobs=-1,\n",
    "    tol=0.0001, show_loss_every=5,\n",
    "    logger=SaveLogger(experiment_name + \".pickle\", save_every=100),\n",
    "    inactive_threshold=1e-3, inactive_window=10, batch_size=100)\n",
    "ssvm.fit(data_train['X'], data_train['Y'])\n",
    "\n",
    "data_val = pickle.load(open(\"data_val_dict.pickle\"))\n",
    "y_pred = ssvm.predict(data_val['X'])\n",
    "\n",
    "# we throw away void superpixels and flatten everything\n",
    "y_pred, y_true = np.hstack(y_pred), np.hstack(data_val['Y'])\n",
    "y_pred = y_pred[y_true != 255]\n",
    "y_true = y_true[y_true != 255]\n",
    "\n",
    "print(\"Score on validation set: %f\" % np.mean(y_true == y_pred))"
   ]
  }
 ],
 "metadata": {
  "kernelspec": {
   "display_name": "Python 3",
   "language": "python",
   "name": "python3"
  },
  "language_info": {
   "codemirror_mode": {
    "name": "ipython",
    "version": 3
   },
   "file_extension": ".py",
   "mimetype": "text/x-python",
   "name": "python",
   "nbconvert_exporter": "python",
   "pygments_lexer": "ipython3",
   "version": "3.6.5"
  }
 },
 "nbformat": 4,
 "nbformat_minor": 2
}
