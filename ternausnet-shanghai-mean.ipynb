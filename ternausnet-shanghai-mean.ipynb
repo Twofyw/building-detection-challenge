{
 "cells": [
  {
   "cell_type": "code",
   "execution_count": 12,
   "metadata": {},
   "outputs": [],
   "source": [
    "%matplotlib inline\n",
    "%load_ext autoreload\n",
    "%autoreload 2"
   ]
  },
  {
   "cell_type": "code",
   "execution_count": 2,
   "metadata": {},
   "outputs": [],
   "source": [
    "from learn import *"
   ]
  },
  {
   "cell_type": "markdown",
   "metadata": {},
   "source": [
    "Train on full dataset for several epochs"
   ]
  },
  {
   "cell_type": "code",
   "execution_count": 1,
   "metadata": {
    "scrolled": false
   },
   "outputs": [
    {
     "data": {
      "application/vnd.jupyter.widget-view+json": {
       "model_id": "c0de507f5ba54a80b6a3ab4e35134d60",
       "version_major": 2,
       "version_minor": 0
      },
      "text/plain": [
       "HBox(children=(IntProgress(value=0, description='gt', max=1375), HTML(value='')))"
      ]
     },
     "metadata": {},
     "output_type": "display_data"
    },
    {
     "name": "stdout",
     "output_type": "stream",
     "text": [
      "\n"
     ]
    },
    {
     "data": {
      "application/vnd.jupyter.widget-view+json": {
       "model_id": "9a91a6b948e443a9af65d64046906b1a",
       "version_major": 2,
       "version_minor": 0
      },
      "text/plain": [
       "HBox(children=(IntProgress(value=0, description='gt', max=3207), HTML(value='')))"
      ]
     },
     "metadata": {},
     "output_type": "display_data"
    },
    {
     "name": "stdout",
     "output_type": "stream",
     "text": [
      "\n",
      "Data finished loading: data/train/AOI_4_Shanghai_Train\n"
     ]
    },
    {
     "data": {
      "application/vnd.jupyter.widget-view+json": {
       "model_id": "822e7a8ea1a34431867e1b902f4f8463",
       "version_major": 2,
       "version_minor": 0
      },
      "text/plain": [
       "HBox(children=(IntProgress(value=0, description='Epoch', max=62), HTML(value='')))"
      ]
     },
     "metadata": {},
     "output_type": "display_data"
    },
    {
     "name": "stdout",
     "output_type": "stream",
     "text": [
      "epoch      trn_loss   val_loss   mask_acc   jaccard_coef_par \n",
      "    0      0.994421   1.039604   0.871081   0.393534  \n",
      "    1      0.964164   0.970129   0.899556   0.404514         \n",
      "    2      0.970198   0.995392   0.907529   0.391769         \n",
      "    3      0.969552   1.030753   0.86812    0.398304         \n",
      "    4      0.930257   0.938059   0.898757   0.416987         \n",
      "    5      0.93908    0.937804   0.899752   0.417074         \n",
      "    6      0.96772    0.994905   0.898      0.395618         \n",
      "    7      0.935145   0.947719   0.893452   0.417758         \n",
      "    8      0.973624   0.948257   0.905172   0.41094          \n",
      "    9      0.941666   0.973325   0.881761   0.413477         \n",
      "    10     0.928406   0.911871   0.901585   0.426857         \n",
      "    11     0.896546   0.902638   0.899928   0.431165         \n",
      "    12     0.902798   0.901291   0.901701   0.431499         \n",
      "    13     0.926275   0.900829   0.899389   0.433292         \n",
      "    14     0.955926   0.999395   0.913987   0.384232         \n",
      "    15     0.92105    0.963926   0.882732   0.418192         \n",
      "    16     0.927467   0.919674   0.898398   0.427967         \n",
      "    17     0.922772   0.90801    0.895948   0.433016         \n",
      "    18     0.916622   0.995658   0.863094   0.414499         \n",
      "    19     0.932342   0.918004   0.911724   0.420318         \n",
      "    20     0.899007   0.892233   0.894982   0.438983         \n",
      "    21     0.878699   0.890928   0.904887   0.434139         \n",
      "    22     0.898373   0.884237   0.897086   0.440627         \n",
      "    23     0.911862   0.900157   0.913807   0.425163         \n",
      "    24     0.864296   0.872679   0.901914   0.444457         \n",
      "    25     0.871967   0.874612   0.902777   0.442554         \n",
      "    26     0.879256   0.889112   0.893154   0.441937         \n",
      "    27     0.886133   0.871551   0.898322   0.446096         \n",
      "    28     0.853073   0.866332   0.903335   0.44549          \n",
      "    29     0.878253   0.866818   0.902372   0.445992         \n",
      "    30     0.928858   0.943139   0.914463   0.408195         \n",
      "    31     0.924586   0.907507   0.895265   0.433318         \n",
      "    32     0.915408   0.914423   0.90284    0.424698         \n",
      "    33     0.917812   0.911558   0.898109   0.430168         \n",
      "    34     0.906752   0.909697   0.904266   0.425649         \n",
      "    35     0.885232   0.901198   0.90027    0.431287         \n",
      "    36     0.898807   0.891415   0.905315   0.432757         \n",
      "    37     0.891067   0.874596   0.90686    0.440025         \n",
      "    38     0.913778   0.874275   0.902973   0.442472         \n",
      "    39     0.899894   0.872903   0.899778   0.442993         \n",
      "    40     0.900752   0.872332   0.9136     0.436072         \n",
      "    41     0.877054   0.920644   0.87431    0.440517         \n",
      "    42     0.890634   0.849847   0.904909   0.452856         \n",
      "    43     0.901086   0.867505   0.899058   0.448525         \n",
      "    44     0.876153   0.844186   0.912499   0.451567         \n",
      "    45     0.85852    0.834941   0.907517   0.458028         \n",
      "    46     0.861477   0.852663   0.900894   0.455703         \n",
      "    47     0.849997   0.87397    0.913383   0.436805         \n",
      "    48     0.87329    0.836148   0.902341   0.461776         \n",
      "    49     0.853502   0.836406   0.912272   0.453301         \n",
      "    50     0.847328   0.828928   0.913736   0.456478         \n",
      "    51     0.855174   0.820226   0.911533   0.462909         \n",
      "    52     0.890176   0.839462   0.89707    0.463899         \n",
      "    53     0.832027   0.832727   0.900998   0.4642           \n",
      "    54     0.838012   0.819358   0.90655    0.466669         \n",
      "    55     0.831158   0.827961   0.901784   0.466197         \n",
      "    56     0.849754   0.824687   0.903512   0.466722         \n",
      "    57     0.820408   0.823347   0.905247   0.466621         \n",
      "    58     0.844583   0.816601   0.90958    0.4665           \n",
      "    59     0.814189   0.821624   0.905987   0.466495         \n",
      "    60     0.826002   0.820904   0.905858   0.466775         \n",
      "    61     0.842785   0.821122   0.905646   0.466836         \n",
      "\n",
      "CPU times: user 2d 21h 28min 26s, sys: 1d 21h 2min 27s, total: 4d 18h 30min 53s\n",
      "Wall time: 9h 48min 37s\n"
     ]
    }
   ],
   "source": [
    "%%time\n",
    "%run script 2 --gpu_start=2 --num_gpus=1 --bs=40 --lr 1e-3 --num_slice=9 \\\n",
    "    --use_wd_sched --wd 0.025 --n_cycles 5 --model_name unet --learn --start --load_starter ternaus-full_4"
   ]
  },
  {
   "cell_type": "code",
   "execution_count": null,
   "metadata": {},
   "outputs": [
    {
     "data": {
      "application/vnd.jupyter.widget-view+json": {
       "model_id": "f95e9106ca1e4d14b7f0b0447ef18fb9",
       "version_major": 2,
       "version_minor": 0
      },
      "text/plain": [
       "HBox(children=(IntProgress(value=0, description='Epoch', max=63), HTML(value='')))"
      ]
     },
     "metadata": {},
     "output_type": "display_data"
    },
    {
     "name": "stdout",
     "output_type": "stream",
     "text": [
      "epoch      trn_loss   val_loss   mask_acc   jaccard_coef_par \n",
      "    0      0.825736   0.820509   0.906515   0.466551  \n",
      "    1      0.826838   0.820196   0.905863   0.467663         \n",
      "    2      0.87325    0.819392   0.906298   0.467541         \n",
      "    3      0.843498   0.81265    0.910118   0.468351         \n",
      "    4      0.830376   0.819551   0.904808   0.468165         \n",
      "    5      0.83402    0.818485   0.905556   0.468497         \n",
      "    6      0.832843   0.818549   0.906124   0.468017         \n",
      "    7      0.835451   0.821058   0.905593   0.466601         \n",
      "    8      0.834951   0.815804   0.908989   0.467455         \n",
      "    9      0.823443   0.815843   0.907747   0.467919         \n",
      "    10     0.833399   0.813068   0.911464   0.466909         \n",
      "    11     0.832289   0.810636   0.909643   0.46924          \n",
      "    12     0.836792   0.815498   0.906907   0.468826         \n",
      "    13     0.840661   0.815302   0.906759   0.469098         \n",
      "    14     0.820713   0.815967   0.906067   0.469261         \n",
      "    15     0.85688    0.817103   0.908503   0.467413         \n",
      "    16     0.822644   0.839401   0.897104   0.464385         \n",
      "    17     0.81897    0.826244   0.902873   0.466522         \n",
      "    18     0.815199   0.818159   0.909088   0.466231         \n",
      "    19     0.839741   0.823217   0.901249   0.469134         \n",
      "    20     0.835676   0.815185   0.910566   0.466874         \n",
      "    21     0.818218   0.809474   0.908059   0.471025         \n",
      "    22     0.812808   0.813606   0.905139   0.470245         \n",
      "    23     0.826164   0.808324   0.909957   0.469651         \n",
      "    24     0.838684   0.810349   0.907559   0.470909         \n",
      "    25     0.819347   0.81631    0.906225   0.469432         \n",
      "    26     0.834694   0.81377    0.905946   0.470463         \n",
      "    27     0.832496   0.812615   0.907423   0.470122         \n",
      "    28     0.824915   0.812868   0.907561   0.469967         \n",
      "    29     0.832346   0.813157   0.907166   0.470065         \n",
      "    30     0.811167   0.81325    0.907092   0.470073         \n",
      "    31     0.819113   0.820377   0.906132   0.467552         \n",
      "    32     0.827022   0.813634   0.907519   0.470194         \n",
      "    33     0.839454   0.819945   0.905533   0.467679         \n",
      "    34     0.822616   0.817632   0.902941   0.470966         \n",
      "    35     0.825574   0.81442    0.908912   0.467781         \n",
      " 95%|█████████▌| 296/310 [05:53<00:16,  1.19s/it, loss=0.847]"
     ]
    }
   ],
   "source": [
    "lrs = np.array(lrs) / 10\n",
    "train_and_plot(learn, 1, 'unet-shanghai', lrs = lrs, n_cycles=6, wds=wds, use_wd_sched=use_wd_sched,\n",
    "    cycle_len=1, cycle_mult=2, best_save_name='unet-shanghai')"
   ]
  },
  {
   "cell_type": "code",
   "execution_count": null,
   "metadata": {},
   "outputs": [],
   "source": []
  },
  {
   "cell_type": "code",
   "execution_count": 1,
   "metadata": {},
   "outputs": [
    {
     "data": {
      "application/vnd.jupyter.widget-view+json": {
       "model_id": "719b5ee0c25c4667a3b554d021dccaa6",
       "version_major": 2,
       "version_minor": 0
      },
      "text/plain": [
       "HBox(children=(IntProgress(value=0, description='gt', max=1375), HTML(value='')))"
      ]
     },
     "metadata": {},
     "output_type": "display_data"
    },
    {
     "name": "stdout",
     "output_type": "stream",
     "text": [
      "\n"
     ]
    },
    {
     "data": {
      "application/vnd.jupyter.widget-view+json": {
       "model_id": "59e3b0313d9449918f1ad4f18edaeb18",
       "version_major": 2,
       "version_minor": 0
      },
      "text/plain": [
       "HBox(children=(IntProgress(value=0, description='gt', max=3207), HTML(value='')))"
      ]
     },
     "metadata": {},
     "output_type": "display_data"
    },
    {
     "name": "stdout",
     "output_type": "stream",
     "text": [
      "\n",
      "Data finished loading: data/train/AOI_4_Shanghai_Train\n"
     ]
    },
    {
     "data": {
      "application/vnd.jupyter.widget-view+json": {
       "model_id": "a37287bb977c4de6a787117ee41ba4b0",
       "version_major": 2,
       "version_minor": 0
      },
      "text/plain": [
       "HBox(children=(IntProgress(value=0, description='Epoch', max=30), HTML(value='')))"
      ]
     },
     "metadata": {},
     "output_type": "display_data"
    },
    {
     "name": "stdout",
     "output_type": "stream",
     "text": [
      "epoch      trn_loss   val_loss   mask_acc   jaccard_coef_par \n",
      "    0      0.640419   0.56615    0.933287   0.582626  \n",
      "    1      0.634366   0.556683   0.934232   0.58662          \n",
      "    2      0.658826   0.565932   0.931954   0.581765         \n",
      "    3      0.654988   0.616659   0.921999   0.563482         \n",
      "    4      0.639201   0.558877   0.93689    0.582034         \n",
      "    5      0.623897   0.553717   0.93559    0.586546         \n",
      "    6      0.662394   0.573575   0.930222   0.579923         \n",
      "    7      0.64576    0.570882   0.93122    0.581751         \n",
      "    8      0.666021   0.584485   0.94094    0.564553         \n",
      "    9      0.63415    0.556052   0.938385   0.58352          \n",
      "    10     0.625986   0.565484   0.930274   0.584887         \n",
      "    11     0.621711   0.548759   0.93878    0.58581          \n",
      "    12     0.622616   0.549783   0.934984   0.589852         \n",
      "    13     0.607179   0.547853   0.936298   0.589182         \n",
      "    14     0.665123   0.556696   0.935272   0.585124         \n",
      "    15     0.64395    0.572727   0.927658   0.583068         \n",
      "    16     0.647283   0.563505   0.933063   0.583799         \n",
      "    17     0.649236   0.557579   0.933326   0.588092         \n",
      "    18     0.648348   0.553128   0.936512   0.586186         \n",
      "    19     0.640184   0.636587   0.913731   0.559984         \n",
      "    20     0.625289   0.553433   0.935027   0.588945         \n",
      "    21     0.616096   0.541945   0.938859   0.590987         \n",
      "    22     0.627889   0.559204   0.934453   0.585029         \n",
      "    23     0.633729   0.541414   0.940459   0.588345         \n",
      "    24     0.612841   0.545228   0.935835   0.591766         \n",
      "    25     0.612506   0.54068    0.936278   0.593323         \n",
      "    26     0.611293   0.537029   0.935848   0.596894         \n",
      "    27     0.601951   0.538973   0.936498   0.594625         \n",
      "    28     0.608494   0.5361     0.937467   0.595418         \n",
      "    29     0.60718    0.536316   0.937316   0.595527         \n",
      "\n",
      "CPU times: user 1d 36min 36s, sys: 16h 40min 31s, total: 1d 17h 17min 8s\n",
      "Wall time: 2h 18min 45s\n"
     ]
    }
   ],
   "source": [
    "%%time\n",
    "%run script 2 --gpu_start=3 --num_gpus=3 --bs=80 --lr 1e-4 --num_slice=9 \\\n",
    "    --use_wd_sched --wd 0.025 --n_cycles 4 --model_name unet --learn --start"
   ]
  },
  {
   "cell_type": "code",
   "execution_count": 3,
   "metadata": {},
   "outputs": [],
   "source": [
    "lrs = np.array(lrs) / 10"
   ]
  },
  {
   "cell_type": "code",
   "execution_count": 4,
   "metadata": {},
   "outputs": [
    {
     "data": {
      "application/vnd.jupyter.widget-view+json": {
       "model_id": "",
       "version_major": 2,
       "version_minor": 0
      },
      "text/plain": [
       "HBox(children=(IntProgress(value=0, description='Epoch', max=15), HTML(value='')))"
      ]
     },
     "metadata": {},
     "output_type": "display_data"
    },
    {
     "name": "stdout",
     "output_type": "stream",
     "text": [
      "epoch      trn_loss   val_loss   mask_acc   jaccard_coef_par \n",
      "    0      0.600416   0.537783   0.936426   0.595353  \n",
      "    1      0.608783   0.538693   0.936908   0.594484         \n",
      "    2      0.606278   0.535562   0.937467   0.595701         \n",
      "    3      0.614145   0.536424   0.937641   0.594995         \n",
      "    4      0.608305   0.54033    0.937062   0.593056         \n",
      "    5      0.607481   0.532347   0.939177   0.595627         \n",
      "    6      0.594183   0.53517    0.937158   0.596192         \n",
      "    7      0.61037    0.54043    0.935065   0.595378         \n",
      "    8      0.602802   0.535822   0.937266   0.596348         \n",
      "    9      0.603843   0.549999   0.932558   0.592046         \n",
      "    10     0.598748   0.532526   0.937666   0.597544         \n",
      "    11     0.609653   0.536379   0.93643    0.596714         \n",
      "    12     0.611467   0.533161   0.937752   0.59702          \n",
      "    13     0.598902   0.533154   0.937971   0.596671         \n",
      "    14     0.602137   0.534058   0.937448   0.596723         \n",
      "\n"
     ]
    },
    {
     "data": {
      "image/png": "[encoded data removed]",
      "text/plain": [
       "<Figure size 576x288 with 2 Axes>"
      ]
     },
     "metadata": {},
     "output_type": "display_data"
    }
   ],
   "source": [
    "train_and_plot(learn, 0, 'unet-shanghai', lrs = lrs, n_cycles=4, wds=wds, use_wd_sched=use_wd_sched,\n",
    "    cycle_len=1, cycle_mult=2, best_save_name='unet-shanghai')"
   ]
  },
  {
   "cell_type": "code",
   "execution_count": 5,
   "metadata": {},
   "outputs": [],
   "source": [
    "lrs = np.array(lrs) / 5"
   ]
  },
  {
   "cell_type": "code",
   "execution_count": 7,
   "metadata": {},
   "outputs": [
    {
     "data": {
      "application/vnd.jupyter.widget-view+json": {
       "model_id": "285a1fd062cd4f93af201c301b47e7c5",
       "version_major": 2,
       "version_minor": 0
      },
      "text/plain": [
       "HBox(children=(IntProgress(value=0, description='Epoch', max=63), HTML(value='')))"
      ]
     },
     "metadata": {},
     "output_type": "display_data"
    },
    {
     "name": "stdout",
     "output_type": "stream",
     "text": [
      "epoch      trn_loss   val_loss   mask_acc   jaccard_coef_par \n",
      "    0      0.603711   0.533978   0.937327   0.596712  \n",
      "    1      0.607365   0.531684   0.938781   0.596464         \n",
      "    2      0.595208   0.534028   0.937287   0.596748         \n",
      "    3      0.593634   0.533892   0.937315   0.597079         \n",
      "    4      0.596451   0.530937   0.939208   0.596649         \n",
      "    5      0.599635   0.532402   0.9378     0.597281         \n",
      "    6      0.594833   0.532936   0.93749    0.597306         \n",
      "    7      0.586485   0.532647   0.93775    0.597192         \n",
      "    8      0.6066     0.532897   0.937456   0.597287         \n",
      " 51%|█████     | 79/155 [01:31<01:27,  1.15s/it, loss=0.597]"
     ]
    },
    {
     "name": "stderr",
     "output_type": "stream",
     "text": [
      "IOPub message rate exceeded.\n",
      "The notebook server will temporarily stop sending output\n",
      "to the client in order to avoid crashing it.\n",
      "To change this limit, set the config variable\n",
      "`--NotebookApp.iopub_msg_rate_limit`.\n",
      "\n",
      "Current values:\n",
      "NotebookApp.iopub_msg_rate_limit=1000.0 (msgs/sec)\n",
      "NotebookApp.rate_limit_window=3.0 (secs)\n",
      "\n"
     ]
    },
    {
     "name": "stdout",
     "output_type": "stream",
     "text": [
      "    23     0.59714    0.530601   0.938798   0.597174         \n",
      "    24     0.600546   0.532647   0.937743   0.597137         \n",
      "    25     0.605316   0.532514   0.937872   0.597107         \n",
      "    26     0.597334   0.532081   0.938144   0.597064         \n",
      "    27     0.601874   0.532307   0.937946   0.597138         \n",
      "    28     0.596696   0.532429   0.937817   0.597215         \n",
      "    29     0.597196   0.532449   0.937786   0.597242         \n",
      "    30     0.596172   0.53249    0.937771   0.597232         \n",
      "    31     0.597565   0.534517   0.936954   0.596825         \n",
      " 90%|████████▉ | 139/155 [02:38<00:18,  1.14s/it, loss=0.603]"
     ]
    },
    {
     "name": "stderr",
     "output_type": "stream",
     "text": [
      "IOPub message rate exceeded.\n",
      "The notebook server will temporarily stop sending output\n",
      "to the client in order to avoid crashing it.\n",
      "To change this limit, set the config variable\n",
      "`--NotebookApp.iopub_msg_rate_limit`.\n",
      "\n",
      "Current values:\n",
      "NotebookApp.iopub_msg_rate_limit=1000.0 (msgs/sec)\n",
      "NotebookApp.rate_limit_window=3.0 (secs)\n",
      "\n"
     ]
    },
    {
     "name": "stdout",
     "output_type": "stream",
     "text": [
      "    46     0.593634   0.530108   0.93885    0.597434         \n",
      "    47     0.599835   0.53183    0.937453   0.597977         \n",
      "    48     0.597691   0.532672   0.937756   0.597135         \n",
      "    49     0.596038   0.531701   0.937619   0.597936         \n",
      "    50     0.602422   0.533089   0.936979   0.597674         \n",
      "    51     0.600784   0.532363   0.937426   0.597638         \n",
      "    52     0.592248   0.53322    0.937042   0.597635         \n",
      "    53     0.603116   0.531754   0.937682   0.597779         \n",
      "    54     0.603213   0.531123   0.938154   0.597577         \n",
      "    55     0.592522   0.530946   0.938346   0.597433         \n",
      " 17%|█▋        | 26/155 [00:29<02:27,  1.14s/it, loss=0.587]"
     ]
    },
    {
     "name": "stderr",
     "output_type": "stream",
     "text": [
      "IOPub message rate exceeded.\n",
      "The notebook server will temporarily stop sending output\n",
      "to the client in order to avoid crashing it.\n",
      "To change this limit, set the config variable\n",
      "`--NotebookApp.iopub_msg_rate_limit`.\n",
      "\n",
      "Current values:\n",
      "NotebookApp.iopub_msg_rate_limit=1000.0 (msgs/sec)\n",
      "NotebookApp.rate_limit_window=3.0 (secs)\n",
      "\n"
     ]
    }
   ],
   "source": [
    "train_and_plot(learn, 1, 'unet-shanghai', lrs = lrs, n_cycles=6, wds=wds, use_wd_sched=use_wd_sched,\n",
    "    cycle_len=1, cycle_mult=2, best_save_name='unet-shanghai')"
   ]
  },
  {
   "cell_type": "code",
   "execution_count": 1,
   "metadata": {
    "collapsed": true
   },
   "outputs": [
    {
     "data": {
      "application/vnd.jupyter.widget-view+json": {
       "model_id": "",
       "version_major": 2,
       "version_minor": 0
      },
      "text/plain": [
       "HBox(children=(IntProgress(value=0, description='gt', max=1375), HTML(value='')))"
      ]
     },
     "metadata": {},
     "output_type": "display_data"
    },
    {
     "name": "stdout",
     "output_type": "stream",
     "text": [
      "\n"
     ]
    },
    {
     "data": {
      "application/vnd.jupyter.widget-view+json": {
       "model_id": "",
       "version_major": 2,
       "version_minor": 0
      },
      "text/plain": [
       "HBox(children=(IntProgress(value=0, description='gt', max=3207), HTML(value='')))"
      ]
     },
     "metadata": {},
     "output_type": "display_data"
    },
    {
     "name": "stdout",
     "output_type": "stream",
     "text": [
      "\n",
      "Data finished loading: data/train/AOI_4_Shanghai_Train\n"
     ]
    },
    {
     "data": {
      "application/vnd.jupyter.widget-view+json": {
       "model_id": "",
       "version_major": 2,
       "version_minor": 0
      },
      "text/plain": [
       "HBox(children=(IntProgress(value=0, description='Epoch', max=30), HTML(value='')))"
      ]
     },
     "metadata": {},
     "output_type": "display_data"
    },
    {
     "name": "stdout",
     "output_type": "stream",
     "text": [
      "epoch      trn_loss   val_loss   mask_acc   jaccard_coef_par   \n",
      "    0      0.721253   0.777708   0.940129   0.519473  \n",
      " 60%|██████    | 743/1238 [05:39<03:46,  2.19it/s, loss=0.657]"
     ]
    },
    {
     "name": "stderr",
     "output_type": "stream",
     "text": [
      "IOPub message rate exceeded.\n",
      "The notebook server will temporarily stop sending output\n",
      "to the client in order to avoid crashing it.\n",
      "To change this limit, set the config variable\n",
      "`--NotebookApp.iopub_msg_rate_limit`.\n",
      "\n",
      "Current values:\n",
      "NotebookApp.iopub_msg_rate_limit=1000.0 (msgs/sec)\n",
      "NotebookApp.rate_limit_window=3.0 (secs)\n",
      "\n"
     ]
    },
    {
     "name": "stdout",
     "output_type": "stream",
     "text": [
      "    3      0.650315   0.803555   0.932726   0.514151           \n",
      "    4      0.671137   0.782953   0.936867   0.520054           \n",
      " 11%|█▏        | 141/1238 [00:53<06:57,  2.63it/s, loss=0.681]"
     ]
    },
    {
     "ename": "KeyboardInterrupt",
     "evalue": "",
     "output_type": "error",
     "traceback": [
      "\u001b[0;31m---------------------------------------------------------------------------\u001b[0m",
      "\u001b[0;31mKeyboardInterrupt\u001b[0m                         Traceback (most recent call last)",
      "\u001b[0;32m~/building-detection-challenge/script.py\u001b[0m in \u001b[0;36m<module>\u001b[0;34m()\u001b[0m\n\u001b[1;32m    112\u001b[0m     \u001b[0;32mif\u001b[0m \u001b[0margs\u001b[0m\u001b[0;34m.\u001b[0m\u001b[0mstart\u001b[0m\u001b[0;34m:\u001b[0m\u001b[0;34m\u001b[0m\u001b[0m\n\u001b[1;32m    113\u001b[0m         train_and_plot(learn, 0, learn_save_path, lrs = lrs, n_cycles=n_cycles, wds=wds, use_wd_sched=use_wd_sched,\n\u001b[0;32m--> 114\u001b[0;31m             cycle_len=2, cycle_mult=2, best_save_name=learn_save_path)\n\u001b[0m\u001b[1;32m    115\u001b[0m \u001b[0;34m\u001b[0m\u001b[0m\n\u001b[1;32m    116\u001b[0m \u001b[0;34m\u001b[0m\u001b[0m\n",
      "\u001b[0;32m~/building-detection-challenge/learn.py\u001b[0m in \u001b[0;36mtrain_and_plot\u001b[0;34m(learn, idx, fn, lrs, n_cycles, wds, use_wd_sched, **kwargs)\u001b[0m\n\u001b[1;32m    401\u001b[0m \u001b[0;34m\u001b[0m\u001b[0m\n\u001b[1;32m    402\u001b[0m \u001b[0;32mdef\u001b[0m \u001b[0mtrain_and_plot\u001b[0m\u001b[0;34m(\u001b[0m\u001b[0mlearn\u001b[0m\u001b[0;34m,\u001b[0m \u001b[0midx\u001b[0m\u001b[0;34m,\u001b[0m \u001b[0mfn\u001b[0m\u001b[0;34m,\u001b[0m \u001b[0mlrs\u001b[0m\u001b[0;34m,\u001b[0m \u001b[0mn_cycles\u001b[0m\u001b[0;34m,\u001b[0m \u001b[0mwds\u001b[0m\u001b[0;34m=\u001b[0m\u001b[0;34m[\u001b[0m\u001b[0;36m0.025\u001b[0m\u001b[0;34m/\u001b[0m\u001b[0;36m3\u001b[0m\u001b[0;34m,\u001b[0m \u001b[0;36m0.025\u001b[0m\u001b[0;34m]\u001b[0m\u001b[0;34m,\u001b[0m \u001b[0muse_wd_sched\u001b[0m\u001b[0;34m=\u001b[0m\u001b[0;32mFalse\u001b[0m\u001b[0;34m,\u001b[0m \u001b[0;34m**\u001b[0m\u001b[0mkwargs\u001b[0m\u001b[0;34m)\u001b[0m\u001b[0;34m:\u001b[0m\u001b[0;34m\u001b[0m\u001b[0m\n\u001b[0;32m--> 403\u001b[0;31m     \u001b[0mlearn\u001b[0m\u001b[0;34m.\u001b[0m\u001b[0mfit\u001b[0m\u001b[0;34m(\u001b[0m\u001b[0mlrs\u001b[0m\u001b[0;34m,\u001b[0m \u001b[0mn_cycles\u001b[0m\u001b[0;34m,\u001b[0m \u001b[0mwds\u001b[0m\u001b[0;34m=\u001b[0m\u001b[0mwds\u001b[0m\u001b[0;34m,\u001b[0m \u001b[0;34m**\u001b[0m\u001b[0mkwargs\u001b[0m\u001b[0;34m)\u001b[0m\u001b[0;34m\u001b[0m\u001b[0m\n\u001b[0m\u001b[1;32m    404\u001b[0m     \u001b[0msave_name\u001b[0m \u001b[0;34m=\u001b[0m \u001b[0mfn\u001b[0m \u001b[0;34m+\u001b[0m \u001b[0;34m'_'\u001b[0m \u001b[0;34m+\u001b[0m \u001b[0mstr\u001b[0m\u001b[0;34m(\u001b[0m\u001b[0midx\u001b[0m\u001b[0;34m)\u001b[0m\u001b[0;34m\u001b[0m\u001b[0m\n\u001b[1;32m    405\u001b[0m     \u001b[0mlearn\u001b[0m\u001b[0;34m.\u001b[0m\u001b[0msave\u001b[0m\u001b[0;34m(\u001b[0m\u001b[0msave_name\u001b[0m\u001b[0;34m)\u001b[0m\u001b[0;34m\u001b[0m\u001b[0m\n",
      "\u001b[0;32m~/building-detection-challenge/fastai/learner.py\u001b[0m in \u001b[0;36mfit\u001b[0;34m(self, lrs, n_cycle, wds, **kwargs)\u001b[0m\n\u001b[1;32m    249\u001b[0m         \u001b[0mself\u001b[0m\u001b[0;34m.\u001b[0m\u001b[0msched\u001b[0m \u001b[0;34m=\u001b[0m \u001b[0;32mNone\u001b[0m\u001b[0;34m\u001b[0m\u001b[0m\n\u001b[1;32m    250\u001b[0m         \u001b[0mlayer_opt\u001b[0m \u001b[0;34m=\u001b[0m \u001b[0mself\u001b[0m\u001b[0;34m.\u001b[0m\u001b[0mget_layer_opt\u001b[0m\u001b[0;34m(\u001b[0m\u001b[0mlrs\u001b[0m\u001b[0;34m,\u001b[0m \u001b[0mwds\u001b[0m\u001b[0;34m)\u001b[0m\u001b[0;34m\u001b[0m\u001b[0m\n\u001b[0;32m--> 251\u001b[0;31m         \u001b[0;32mreturn\u001b[0m \u001b[0mself\u001b[0m\u001b[0;34m.\u001b[0m\u001b[0mfit_gen\u001b[0m\u001b[0;34m(\u001b[0m\u001b[0mself\u001b[0m\u001b[0;34m.\u001b[0m\u001b[0mmodel\u001b[0m\u001b[0;34m,\u001b[0m \u001b[0mself\u001b[0m\u001b[0;34m.\u001b[0m\u001b[0mdata\u001b[0m\u001b[0;34m,\u001b[0m \u001b[0mlayer_opt\u001b[0m\u001b[0;34m,\u001b[0m \u001b[0mn_cycle\u001b[0m\u001b[0;34m,\u001b[0m \u001b[0;34m**\u001b[0m\u001b[0mkwargs\u001b[0m\u001b[0;34m)\u001b[0m\u001b[0;34m\u001b[0m\u001b[0m\n\u001b[0m\u001b[1;32m    252\u001b[0m \u001b[0;34m\u001b[0m\u001b[0m\n\u001b[1;32m    253\u001b[0m     \u001b[0;32mdef\u001b[0m \u001b[0mwarm_up\u001b[0m\u001b[0;34m(\u001b[0m\u001b[0mself\u001b[0m\u001b[0;34m,\u001b[0m \u001b[0mlr\u001b[0m\u001b[0;34m,\u001b[0m \u001b[0mwds\u001b[0m\u001b[0;34m=\u001b[0m\u001b[0;32mNone\u001b[0m\u001b[0;34m)\u001b[0m\u001b[0;34m:\u001b[0m\u001b[0;34m\u001b[0m\u001b[0m\n",
      "\u001b[0;32m~/building-detection-challenge/fastai/learner.py\u001b[0m in \u001b[0;36mfit_gen\u001b[0;34m(self, model, data, layer_opt, n_cycle, cycle_len, cycle_mult, cycle_save_name, best_save_name, use_clr, use_clr_beta, metrics, callbacks, use_wd_sched, norm_wds, wds_sched_mult, **kwargs)\u001b[0m\n\u001b[1;32m    196\u001b[0m         \u001b[0mn_epoch\u001b[0m \u001b[0;34m=\u001b[0m \u001b[0msum_geom\u001b[0m\u001b[0;34m(\u001b[0m\u001b[0mcycle_len\u001b[0m \u001b[0;32mif\u001b[0m \u001b[0mcycle_len\u001b[0m \u001b[0;32melse\u001b[0m \u001b[0;36m1\u001b[0m\u001b[0;34m,\u001b[0m \u001b[0mcycle_mult\u001b[0m\u001b[0;34m,\u001b[0m \u001b[0mn_cycle\u001b[0m\u001b[0;34m)\u001b[0m\u001b[0;34m\u001b[0m\u001b[0m\n\u001b[1;32m    197\u001b[0m         return fit(model, data, n_epoch, layer_opt.opt, self.crit,\n\u001b[0;32m--> 198\u001b[0;31m             metrics=metrics, callbacks=callbacks, reg_fn=self.reg_fn, clip=self.clip, fp16=self.fp16, **kwargs)\n\u001b[0m\u001b[1;32m    199\u001b[0m \u001b[0;34m\u001b[0m\u001b[0m\n\u001b[1;32m    200\u001b[0m     \u001b[0;32mdef\u001b[0m \u001b[0mget_layer_groups\u001b[0m\u001b[0;34m(\u001b[0m\u001b[0mself\u001b[0m\u001b[0;34m)\u001b[0m\u001b[0;34m:\u001b[0m \u001b[0;32mreturn\u001b[0m \u001b[0mself\u001b[0m\u001b[0;34m.\u001b[0m\u001b[0mmodels\u001b[0m\u001b[0;34m.\u001b[0m\u001b[0mget_layer_groups\u001b[0m\u001b[0;34m(\u001b[0m\u001b[0;34m)\u001b[0m\u001b[0;34m\u001b[0m\u001b[0m\n",
      "\u001b[0;32m~/building-detection-challenge/fastai/model.py\u001b[0m in \u001b[0;36mfit\u001b[0;34m(model, data, epochs, opt, crit, metrics, callbacks, stepper, **kwargs)\u001b[0m\n\u001b[1;32m    113\u001b[0m             \u001b[0mbatch_num\u001b[0m \u001b[0;34m+=\u001b[0m \u001b[0;36m1\u001b[0m\u001b[0;34m\u001b[0m\u001b[0m\n\u001b[1;32m    114\u001b[0m             \u001b[0;32mfor\u001b[0m \u001b[0mcb\u001b[0m \u001b[0;32min\u001b[0m \u001b[0mcallbacks\u001b[0m\u001b[0;34m:\u001b[0m \u001b[0mcb\u001b[0m\u001b[0;34m.\u001b[0m\u001b[0mon_batch_begin\u001b[0m\u001b[0;34m(\u001b[0m\u001b[0;34m)\u001b[0m\u001b[0;34m\u001b[0m\u001b[0m\n\u001b[0;32m--> 115\u001b[0;31m             \u001b[0mloss\u001b[0m \u001b[0;34m=\u001b[0m \u001b[0mstepper\u001b[0m\u001b[0;34m.\u001b[0m\u001b[0mstep\u001b[0m\u001b[0;34m(\u001b[0m\u001b[0mV\u001b[0m\u001b[0;34m(\u001b[0m\u001b[0mx\u001b[0m\u001b[0;34m)\u001b[0m\u001b[0;34m,\u001b[0m\u001b[0mV\u001b[0m\u001b[0;34m(\u001b[0m\u001b[0my\u001b[0m\u001b[0;34m)\u001b[0m\u001b[0;34m,\u001b[0m \u001b[0mepoch\u001b[0m\u001b[0;34m)\u001b[0m\u001b[0;34m\u001b[0m\u001b[0m\n\u001b[0m\u001b[1;32m    116\u001b[0m             \u001b[0mavg_loss\u001b[0m \u001b[0;34m=\u001b[0m \u001b[0mavg_loss\u001b[0m \u001b[0;34m*\u001b[0m \u001b[0mavg_mom\u001b[0m \u001b[0;34m+\u001b[0m \u001b[0mloss\u001b[0m \u001b[0;34m*\u001b[0m \u001b[0;34m(\u001b[0m\u001b[0;36m1\u001b[0m\u001b[0;34m-\u001b[0m\u001b[0mavg_mom\u001b[0m\u001b[0;34m)\u001b[0m\u001b[0;34m\u001b[0m\u001b[0m\n\u001b[1;32m    117\u001b[0m             \u001b[0mdebias_loss\u001b[0m \u001b[0;34m=\u001b[0m \u001b[0mavg_loss\u001b[0m \u001b[0;34m/\u001b[0m \u001b[0;34m(\u001b[0m\u001b[0;36m1\u001b[0m \u001b[0;34m-\u001b[0m \u001b[0mavg_mom\u001b[0m\u001b[0;34m**\u001b[0m\u001b[0mbatch_num\u001b[0m\u001b[0;34m)\u001b[0m\u001b[0;34m\u001b[0m\u001b[0m\n",
      "\u001b[0;32m~/building-detection-challenge/fastai/model.py\u001b[0m in \u001b[0;36mstep\u001b[0;34m(self, xs, y, epoch)\u001b[0m\n\u001b[1;32m     49\u001b[0m         \u001b[0;32mif\u001b[0m \u001b[0mself\u001b[0m\u001b[0;34m.\u001b[0m\u001b[0mfp16\u001b[0m\u001b[0;34m:\u001b[0m \u001b[0mself\u001b[0m\u001b[0;34m.\u001b[0m\u001b[0mm\u001b[0m\u001b[0;34m.\u001b[0m\u001b[0mzero_grad\u001b[0m\u001b[0;34m(\u001b[0m\u001b[0;34m)\u001b[0m\u001b[0;34m\u001b[0m\u001b[0m\n\u001b[1;32m     50\u001b[0m         \u001b[0;32melse\u001b[0m\u001b[0;34m:\u001b[0m \u001b[0mself\u001b[0m\u001b[0;34m.\u001b[0m\u001b[0mopt\u001b[0m\u001b[0;34m.\u001b[0m\u001b[0mzero_grad\u001b[0m\u001b[0;34m(\u001b[0m\u001b[0;34m)\u001b[0m\u001b[0;34m\u001b[0m\u001b[0m\n\u001b[0;32m---> 51\u001b[0;31m         \u001b[0mloss\u001b[0m \u001b[0;34m=\u001b[0m \u001b[0mraw_loss\u001b[0m \u001b[0;34m=\u001b[0m \u001b[0mself\u001b[0m\u001b[0;34m.\u001b[0m\u001b[0mcrit\u001b[0m\u001b[0;34m(\u001b[0m\u001b[0moutput\u001b[0m\u001b[0;34m,\u001b[0m \u001b[0my\u001b[0m\u001b[0;34m)\u001b[0m\u001b[0;34m\u001b[0m\u001b[0m\n\u001b[0m\u001b[1;32m     52\u001b[0m         \u001b[0;32mif\u001b[0m \u001b[0mself\u001b[0m\u001b[0;34m.\u001b[0m\u001b[0mloss_scale\u001b[0m \u001b[0;34m!=\u001b[0m \u001b[0;36m1\u001b[0m\u001b[0;34m:\u001b[0m \u001b[0;32massert\u001b[0m\u001b[0;34m(\u001b[0m\u001b[0mself\u001b[0m\u001b[0;34m.\u001b[0m\u001b[0mfp16\u001b[0m\u001b[0;34m)\u001b[0m\u001b[0;34m;\u001b[0m \u001b[0mloss\u001b[0m \u001b[0;34m=\u001b[0m \u001b[0mloss\u001b[0m\u001b[0;34m*\u001b[0m\u001b[0mself\u001b[0m\u001b[0;34m.\u001b[0m\u001b[0mloss_scale\u001b[0m\u001b[0;34m\u001b[0m\u001b[0m\n\u001b[1;32m     53\u001b[0m         \u001b[0;32mif\u001b[0m \u001b[0mself\u001b[0m\u001b[0;34m.\u001b[0m\u001b[0mreg_fn\u001b[0m\u001b[0;34m:\u001b[0m \u001b[0mloss\u001b[0m \u001b[0;34m=\u001b[0m \u001b[0mself\u001b[0m\u001b[0;34m.\u001b[0m\u001b[0mreg_fn\u001b[0m\u001b[0;34m(\u001b[0m\u001b[0moutput\u001b[0m\u001b[0;34m,\u001b[0m \u001b[0mxtra\u001b[0m\u001b[0;34m,\u001b[0m \u001b[0mraw_loss\u001b[0m\u001b[0;34m)\u001b[0m\u001b[0;34m\u001b[0m\u001b[0m\n",
      "\u001b[0;32m~/building-detection-challenge/learn.py\u001b[0m in \u001b[0;36mexpanded_loss\u001b[0;34m(pred, target)\u001b[0m\n\u001b[1;32m    354\u001b[0m \u001b[0;34m\u001b[0m\u001b[0m\n\u001b[1;32m    355\u001b[0m \u001b[0;32mdef\u001b[0m \u001b[0mexpanded_loss\u001b[0m\u001b[0;34m(\u001b[0m\u001b[0mpred\u001b[0m\u001b[0;34m,\u001b[0m \u001b[0mtarget\u001b[0m\u001b[0;34m)\u001b[0m\u001b[0;34m:\u001b[0m\u001b[0;34m\u001b[0m\u001b[0m\n\u001b[0;32m--> 356\u001b[0;31m     \u001b[0;32mreturn\u001b[0m \u001b[0mF\u001b[0m\u001b[0;34m.\u001b[0m\u001b[0mbinary_cross_entropy_with_logits\u001b[0m\u001b[0;34m(\u001b[0m\u001b[0mpred\u001b[0m\u001b[0;34m[\u001b[0m\u001b[0;34m:\u001b[0m\u001b[0;34m,\u001b[0m\u001b[0;36m0\u001b[0m\u001b[0;34m]\u001b[0m\u001b[0;34m,\u001b[0m \u001b[0mtarget\u001b[0m\u001b[0;34m)\u001b[0m \u001b[0;34m-\u001b[0m\u001b[0;31m\\\u001b[0m\u001b[0;34m\u001b[0m\u001b[0m\n\u001b[0m\u001b[1;32m    357\u001b[0m             \u001b[0mtorch\u001b[0m\u001b[0;34m.\u001b[0m\u001b[0mlog\u001b[0m\u001b[0;34m(\u001b[0m\u001b[0mjaccard_coef_loss\u001b[0m\u001b[0;34m(\u001b[0m\u001b[0mpred\u001b[0m\u001b[0;34m[\u001b[0m\u001b[0;34m:\u001b[0m\u001b[0;34m,\u001b[0m\u001b[0;36m0\u001b[0m\u001b[0;34m]\u001b[0m\u001b[0;34m,\u001b[0m \u001b[0mtarget\u001b[0m\u001b[0;34m)\u001b[0m \u001b[0;34m+\u001b[0m \u001b[0;36m0.1\u001b[0m\u001b[0;34m)\u001b[0m\u001b[0;34m\u001b[0m\u001b[0m\n\u001b[1;32m    358\u001b[0m \u001b[0;34m\u001b[0m\u001b[0m\n",
      "\u001b[0;32m/home/twofyw/miniconda3/envs/fastai/lib/python3.6/site-packages/torch/nn/functional.py\u001b[0m in \u001b[0;36mbinary_cross_entropy_with_logits\u001b[0;34m(input, target, weight, size_average)\u001b[0m\n\u001b[1;32m   1234\u001b[0m \u001b[0;34m\u001b[0m\u001b[0m\n\u001b[1;32m   1235\u001b[0m     \u001b[0;32mif\u001b[0m \u001b[0msize_average\u001b[0m\u001b[0;34m:\u001b[0m\u001b[0;34m\u001b[0m\u001b[0m\n\u001b[0;32m-> 1236\u001b[0;31m         \u001b[0;32mreturn\u001b[0m \u001b[0mloss\u001b[0m\u001b[0;34m.\u001b[0m\u001b[0mmean\u001b[0m\u001b[0;34m(\u001b[0m\u001b[0;34m)\u001b[0m\u001b[0;34m\u001b[0m\u001b[0m\n\u001b[0m\u001b[1;32m   1237\u001b[0m     \u001b[0;32melse\u001b[0m\u001b[0;34m:\u001b[0m\u001b[0;34m\u001b[0m\u001b[0m\n\u001b[1;32m   1238\u001b[0m         \u001b[0;32mreturn\u001b[0m \u001b[0mloss\u001b[0m\u001b[0;34m.\u001b[0m\u001b[0msum\u001b[0m\u001b[0;34m(\u001b[0m\u001b[0;34m)\u001b[0m\u001b[0;34m\u001b[0m\u001b[0m\n",
      "\u001b[0;31mKeyboardInterrupt\u001b[0m: "
     ]
    },
    {
     "name": "stdout",
     "output_type": "stream",
     "text": [
      "CPU times: user 11h 56min 15s, sys: 8h 54min 57s, total: 20h 51min 12s\n",
      "Wall time: 1h 8min 43s\n"
     ]
    }
   ],
   "source": [
    "%%time\n",
    "%run script 2 --gpu_start=4 --num_gpus=1 --bs=40 --lr 1e-5 --num_slice=9 \\\n",
    "    --use_wd_sched --wd 0.025 --n_cycles 4 --model_name unet --learn --start"
   ]
  },
  {
   "cell_type": "code",
   "execution_count": 1,
   "metadata": {
    "collapsed": true
   },
   "outputs": [
    {
     "data": {
      "application/vnd.jupyter.widget-view+json": {
       "model_id": "",
       "version_major": 2,
       "version_minor": 0
      },
      "text/plain": [
       "HBox(children=(IntProgress(value=0, description='gt', max=1375), HTML(value='')))"
      ]
     },
     "metadata": {},
     "output_type": "display_data"
    },
    {
     "name": "stdout",
     "output_type": "stream",
     "text": [
      "\n"
     ]
    },
    {
     "data": {
      "application/vnd.jupyter.widget-view+json": {
       "model_id": "",
       "version_major": 2,
       "version_minor": 0
      },
      "text/plain": [
       "HBox(children=(IntProgress(value=0, description='gt', max=3207), HTML(value='')))"
      ]
     },
     "metadata": {},
     "output_type": "display_data"
    },
    {
     "name": "stdout",
     "output_type": "stream",
     "text": [
      "\n",
      "Data finished loading: data/train/AOI_4_Shanghai_Train\n"
     ]
    },
    {
     "data": {
      "application/vnd.jupyter.widget-view+json": {
       "model_id": "",
       "version_major": 2,
       "version_minor": 0
      },
      "text/plain": [
       "HBox(children=(IntProgress(value=0, description='Epoch', max=30), HTML(value='')))"
      ]
     },
     "metadata": {},
     "output_type": "display_data"
    },
    {
     "name": "stdout",
     "output_type": "stream",
     "text": [
      "epoch      trn_loss   val_loss   mask_acc   jaccard_coef_par \n",
      "    0      0.596973   0.566202   0.937209   0.58417   \n",
      "    1      0.599819   0.566876   0.937089   0.583848         \n",
      "    2      0.62738    0.570825   0.936777   0.58166          \n",
      "    3      0.595256   0.573986   0.934419   0.582934         \n",
      "    4      0.607661   0.565272   0.939069   0.582714         \n",
      "    5      0.607101   0.566167   0.937681   0.583769         \n",
      " 82%|████████▏ | 254/310 [05:21<01:10,  1.27s/it, loss=0.604]    6      0.609934   0.56439    0.937136   0.585212  \n",
      "    7      0.611922   0.569076   0.937467   0.582606         \n",
      "    8      0.609388   0.574079   0.933951   0.583439         \n",
      "    9      0.59358    0.565382   0.938518   0.583357         \n",
      "    10     0.605128   0.566078   0.936482   0.585162         \n",
      "    11     0.601855   0.565688   0.937153   0.584378         \n",
      "    12     0.588282   0.565015   0.937532   0.584405         \n",
      "    13     0.587315   0.563839   0.938037   0.584594         \n",
      "    14     0.623552   0.57248    0.933632   0.584031         \n",
      "    15     0.610562   0.564772   0.93768    0.585372         \n",
      "    16     0.608472   0.568103   0.938745   0.581045         \n",
      "    17     0.604096   0.563611   0.937267   0.586339         \n",
      "    18     0.595035   0.573258   0.934383   0.583695         \n",
      "    19     0.602116   0.561098   0.939652   0.584989         \n",
      "    20     0.596076   0.56462    0.938523   0.583128         \n",
      "    21     0.61616    0.567743   0.935524   0.584753         \n",
      " 57%|█████▋    | 178/310 [03:29<02:35,  1.18s/it, loss=0.588]"
     ]
    },
    {
     "name": "stderr",
     "output_type": "stream",
     "text": [
      "IOPub message rate exceeded.\n",
      "The notebook server will temporarily stop sending output\n",
      "to the client in order to avoid crashing it.\n",
      "To change this limit, set the config variable\n",
      "`--NotebookApp.iopub_msg_rate_limit`.\n",
      "\n",
      "Current values:\n",
      "NotebookApp.iopub_msg_rate_limit=1000.0 (msgs/sec)\n",
      "NotebookApp.rate_limit_window=3.0 (secs)\n",
      "\n"
     ]
    },
    {
     "name": "stdout",
     "output_type": "stream",
     "text": [
      "    27     0.589714   0.562147   0.937752   0.585826         \n",
      "    28     0.603596   0.561976   0.937973   0.58576          \n",
      "    29     0.595069   0.561959   0.938112   0.585627         \n",
      "\n",
      "CPU times: user 1d 11h 19min 41s, sys: 22h 19min 49s, total: 2d 9h 39min 31s\n",
      "Wall time: 4h 45min 30s\n"
     ]
    }
   ],
   "source": [
    "%%time\n",
    "%run script 2 --gpu_start=4 --num_gpus=1 --bs=40 --lr 1e-5 --num_slice=9 \\\n",
    "    --use_wd_sched --wd 0.025 --n_cycles 4 --model_name unet --learn --start"
   ]
  },
  {
   "cell_type": "markdown",
   "metadata": {},
   "source": [
    "tested at this point"
   ]
  },
  {
   "cell_type": "code",
   "execution_count": 2,
   "metadata": {
    "scrolled": false
   },
   "outputs": [
    {
     "data": {
      "application/vnd.jupyter.widget-view+json": {
       "model_id": "8f42c4e0283f4e8e9f64eb856a4518a7",
       "version_major": 2,
       "version_minor": 0
      },
      "text/plain": [
       "HBox(children=(IntProgress(value=0, description='gt', max=1375), HTML(value='')))"
      ]
     },
     "metadata": {},
     "output_type": "display_data"
    },
    {
     "name": "stdout",
     "output_type": "stream",
     "text": [
      "\n"
     ]
    },
    {
     "name": "stderr",
     "output_type": "stream",
     "text": [
      "Exception in thread Thread-6:\n",
      "Traceback (most recent call last):\n",
      "  File \"/home/twofyw/miniconda3/envs/fastai/lib/python3.6/threading.py\", line 916, in _bootstrap_inner\n",
      "    self.run()\n",
      "  File \"/home/twofyw/miniconda3/envs/fastai/lib/python3.6/site-packages/tqdm/_monitor.py\", line 62, in run\n",
      "    for instance in self.tqdm_cls._instances:\n",
      "  File \"/home/twofyw/miniconda3/envs/fastai/lib/python3.6/_weakrefset.py\", line 60, in __iter__\n",
      "    for itemref in self.data:\n",
      "RuntimeError: Set changed size during iteration\n",
      "\n"
     ]
    },
    {
     "name": "stdout",
     "output_type": "stream",
     "text": [
      "\n"
     ]
    },
    {
     "data": {
      "application/vnd.jupyter.widget-view+json": {
       "model_id": "a005f7b817f24a2486c52c77046de7b6",
       "version_major": 2,
       "version_minor": 0
      },
      "text/plain": [
       "HBox(children=(IntProgress(value=0, description='gt', max=3207), HTML(value='')))"
      ]
     },
     "metadata": {},
     "output_type": "display_data"
    },
    {
     "name": "stdout",
     "output_type": "stream",
     "text": [
      "\n"
     ]
    },
    {
     "ename": "MemoryError",
     "evalue": "",
     "output_type": "error",
     "traceback": [
      "\u001b[0;31m---------------------------------------------------------------------------\u001b[0m",
      "\u001b[0;31mMemoryError\u001b[0m                               Traceback (most recent call last)",
      "\u001b[0;32m~/building-detection-challenge/script.py\u001b[0m in \u001b[0;36m<module>\u001b[0;34m()\u001b[0m\n\u001b[1;32m     90\u001b[0m     learn, denorm, data = learner_on_dataset(datapath, bs, device_ids, num_workers, model_name=model_name,\n\u001b[1;32m     91\u001b[0m                                              \u001b[0mdebug\u001b[0m\u001b[0;34m=\u001b[0m\u001b[0margs\u001b[0m\u001b[0;34m.\u001b[0m\u001b[0mdebug\u001b[0m\u001b[0;34m,\u001b[0m \u001b[0mdata\u001b[0m\u001b[0;34m=\u001b[0m\u001b[0mdata\u001b[0m\u001b[0;34m,\u001b[0m \u001b[0mnum_slice\u001b[0m\u001b[0;34m=\u001b[0m\u001b[0mnum_slice\u001b[0m\u001b[0;34m,\u001b[0m \u001b[0msz\u001b[0m\u001b[0;34m=\u001b[0m\u001b[0msz\u001b[0m\u001b[0;34m,\u001b[0m\u001b[0;34m\u001b[0m\u001b[0m\n\u001b[0;32m---> 92\u001b[0;31m                                              is_eval=is_eval, is_pred=is_pred, rescale=args.rescale)\n\u001b[0m\u001b[1;32m     93\u001b[0m     \u001b[0;32mif\u001b[0m \u001b[0margs\u001b[0m\u001b[0;34m.\u001b[0m\u001b[0mrescale\u001b[0m\u001b[0;34m:\u001b[0m\u001b[0;34m\u001b[0m\u001b[0m\n\u001b[1;32m     94\u001b[0m         \u001b[0mlearn_load_path\u001b[0m \u001b[0;34m=\u001b[0m \u001b[0mscale_load_path\u001b[0m\u001b[0;34m\u001b[0m\u001b[0m\n",
      "\u001b[0;32m~/building-detection-challenge/learn.py\u001b[0m in \u001b[0;36mlearner_on_dataset\u001b[0;34m(datapath, bs, device_ids, num_workers, model_name, debug, data, num_slice, sz, is_eval, is_pred, rescale)\u001b[0m\n\u001b[1;32m    373\u001b[0m     \u001b[0;32mif\u001b[0m \u001b[0mdata\u001b[0m \u001b[0;32mis\u001b[0m \u001b[0;32mNone\u001b[0m\u001b[0;34m:\u001b[0m\u001b[0;34m\u001b[0m\u001b[0m\n\u001b[1;32m    374\u001b[0m         data = (trn_x,trn_y), (val_x,val_y) = get_dataset(datapath, debug=debug,\n\u001b[0;32m--> 375\u001b[0;31m                 is_eval=is_eval, is_pred=is_pred)\n\u001b[0m\u001b[1;32m    376\u001b[0m     \u001b[0mno_y\u001b[0m \u001b[0;34m=\u001b[0m \u001b[0mis_pred\u001b[0m\u001b[0;34m\u001b[0m\u001b[0m\n\u001b[1;32m    377\u001b[0m     \u001b[0mis_test\u001b[0m \u001b[0;34m=\u001b[0m \u001b[0mis_pred\u001b[0m \u001b[0;32mor\u001b[0m \u001b[0mis_eval\u001b[0m\u001b[0;34m\u001b[0m\u001b[0m\n",
      "\u001b[0;32m~/building-detection-challenge/learn.py\u001b[0m in \u001b[0;36mget_dataset\u001b[0;34m(datapath, debug, is_eval, is_pred)\u001b[0m\n\u001b[1;32m    183\u001b[0m         \u001b[0mval_y\u001b[0m \u001b[0;34m=\u001b[0m \u001b[0mnp\u001b[0m\u001b[0;34m.\u001b[0m\u001b[0mbroadcast_to\u001b[0m\u001b[0;34m(\u001b[0m\u001b[0mval_y\u001b[0m\u001b[0;34m,\u001b[0m \u001b[0;34m[\u001b[0m\u001b[0mval_y\u001b[0m\u001b[0;34m.\u001b[0m\u001b[0mshape\u001b[0m\u001b[0;34m[\u001b[0m\u001b[0;36m0\u001b[0m\u001b[0;34m]\u001b[0m\u001b[0;34m,\u001b[0m \u001b[0mORIGINAL_SIZE\u001b[0m\u001b[0;34m,\u001b[0m \u001b[0mORIGINAL_SIZE\u001b[0m\u001b[0;34m,\u001b[0m \u001b[0;36m3\u001b[0m\u001b[0;34m]\u001b[0m\u001b[0;34m)\u001b[0m\u001b[0;34m\u001b[0m\u001b[0m\n\u001b[1;32m    184\u001b[0m     \u001b[0;32mif\u001b[0m \u001b[0;32mnot\u001b[0m \u001b[0mis_pred\u001b[0m \u001b[0;32mand\u001b[0m \u001b[0;32mnot\u001b[0m \u001b[0mis_eval\u001b[0m\u001b[0;34m:\u001b[0m\u001b[0;34m\u001b[0m\u001b[0m\n\u001b[0;32m--> 185\u001b[0;31m         \u001b[0mtrn_x\u001b[0m\u001b[0;34m,\u001b[0m \u001b[0mtrn_y\u001b[0m \u001b[0;34m=\u001b[0m \u001b[0mget_data\u001b[0m\u001b[0;34m(\u001b[0m\u001b[0marea_id\u001b[0m\u001b[0;34m,\u001b[0m \u001b[0mis_test\u001b[0m\u001b[0;34m=\u001b[0m\u001b[0;32mFalse\u001b[0m\u001b[0;34m,\u001b[0m \u001b[0mdebug\u001b[0m\u001b[0;34m=\u001b[0m\u001b[0mdebug\u001b[0m\u001b[0;34m,\u001b[0m \u001b[0mis_pred\u001b[0m\u001b[0;34m=\u001b[0m\u001b[0mis_pred\u001b[0m\u001b[0;34m,\u001b[0m \u001b[0mX_only\u001b[0m\u001b[0;34m=\u001b[0m\u001b[0mX_only\u001b[0m\u001b[0;34m)\u001b[0m\u001b[0;34m\u001b[0m\u001b[0m\n\u001b[0m\u001b[1;32m    186\u001b[0m         \u001b[0;31m# training set is always with y\u001b[0m\u001b[0;34m\u001b[0m\u001b[0;34m\u001b[0m\u001b[0m\n\u001b[1;32m    187\u001b[0m         \u001b[0mtrn_y\u001b[0m \u001b[0;34m=\u001b[0m \u001b[0mnp\u001b[0m\u001b[0;34m.\u001b[0m\u001b[0mbroadcast_to\u001b[0m\u001b[0;34m(\u001b[0m\u001b[0mtrn_y\u001b[0m\u001b[0;34m,\u001b[0m \u001b[0;34m[\u001b[0m\u001b[0mtrn_y\u001b[0m\u001b[0;34m.\u001b[0m\u001b[0mshape\u001b[0m\u001b[0;34m[\u001b[0m\u001b[0;36m0\u001b[0m\u001b[0;34m]\u001b[0m\u001b[0;34m,\u001b[0m \u001b[0mORIGINAL_SIZE\u001b[0m\u001b[0;34m,\u001b[0m \u001b[0mORIGINAL_SIZE\u001b[0m\u001b[0;34m,\u001b[0m \u001b[0;36m3\u001b[0m\u001b[0;34m]\u001b[0m\u001b[0;34m)\u001b[0m\u001b[0;34m\u001b[0m\u001b[0m\n",
      "\u001b[0;32m~/building-detection-challenge/learn.py\u001b[0m in \u001b[0;36mget_data\u001b[0;34m(area_id, is_test, max_workers, debug, is_pred, X_only)\u001b[0m\n\u001b[1;32m    159\u001b[0m         \u001b[0mfn_im\u001b[0m \u001b[0;34m=\u001b[0m \u001b[0mFMT_VALTEST_IM_FOLDER\u001b[0m \u001b[0;32mif\u001b[0m \u001b[0mis_test\u001b[0m \u001b[0;32melse\u001b[0m \u001b[0mFMT_VALTRAIN_IM_FOLDER\u001b[0m\u001b[0;34m\u001b[0m\u001b[0m\n\u001b[1;32m    160\u001b[0m \u001b[0;34m\u001b[0m\u001b[0m\n\u001b[0;32m--> 161\u001b[0;31m     \u001b[0mX\u001b[0m \u001b[0;34m=\u001b[0m \u001b[0mnp\u001b[0m\u001b[0;34m.\u001b[0m\u001b[0mempty\u001b[0m\u001b[0;34m(\u001b[0m\u001b[0;34m(\u001b[0m\u001b[0mslice_n\u001b[0m \u001b[0;32mif\u001b[0m \u001b[0mdebug\u001b[0m \u001b[0;32melse\u001b[0m \u001b[0mdf_train\u001b[0m\u001b[0;34m.\u001b[0m\u001b[0mshape\u001b[0m\u001b[0;34m[\u001b[0m\u001b[0;36m0\u001b[0m\u001b[0;34m]\u001b[0m\u001b[0;34m,\u001b[0m \u001b[0mORIGINAL_SIZE\u001b[0m\u001b[0;34m,\u001b[0m \u001b[0mORIGINAL_SIZE\u001b[0m\u001b[0;34m,\u001b[0m \u001b[0;36m3\u001b[0m\u001b[0;34m)\u001b[0m\u001b[0;34m)\u001b[0m\u001b[0;34m\u001b[0m\u001b[0m\n\u001b[0m\u001b[1;32m    162\u001b[0m     \u001b[0;32mif\u001b[0m \u001b[0mmax_workers\u001b[0m \u001b[0;34m==\u001b[0m \u001b[0;36m1\u001b[0m\u001b[0;34m:\u001b[0m\u001b[0;34m\u001b[0m\u001b[0m\n\u001b[1;32m    163\u001b[0m         for i, image_id in tqdm_notebook(enumerate(df_train.ImageId.tolist()[:slice_n]),\\\n",
      "\u001b[0;31mMemoryError\u001b[0m: "
     ]
    },
    {
     "name": "stdout",
     "output_type": "stream",
     "text": [
      "CPU times: user 1min 34s, sys: 41.1 s, total: 2min 15s\n",
      "Wall time: 3min 30s\n"
     ]
    }
   ],
   "source": [
    "%%time\n",
    "%run script 2 --gpu_start=3 --num_gpus=2 --bs=64 --lr 1e-5 --num_slice=9 \\\n",
    "    --use_wd_sched --wd 0.025 --n_cycles 4 --model_name unet --learn --start"
   ]
  },
  {
   "cell_type": "code",
   "execution_count": null,
   "metadata": {},
   "outputs": [],
   "source": []
  }
 ],
 "metadata": {
  "kernelspec": {
   "display_name": "Python 3",
   "language": "python",
   "name": "python3"
  },
  "language_info": {
   "codemirror_mode": {
    "name": "ipython",
    "version": 3
   },
   "file_extension": ".py",
   "mimetype": "text/x-python",
   "name": "python",
   "nbconvert_exporter": "python",
   "pygments_lexer": "ipython3",
   "version": "3.6.5"
  }
 },
 "nbformat": 4,
 "nbformat_minor": 2
}
