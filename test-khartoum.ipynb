{
 "cells": [
  {
   "cell_type": "markdown",
   "metadata": {},
   "source": [
    "# Test"
   ]
  },
  {
   "cell_type": "code",
   "execution_count": 1,
   "metadata": {},
   "outputs": [],
   "source": [
    "%matplotlib inline\n",
    "%load_ext autoreload\n",
    "%autoreload 2"
   ]
  },
  {
   "cell_type": "code",
   "execution_count": 2,
   "metadata": {},
   "outputs": [],
   "source": [
    "from learn import *\n",
    "sys.path.insert(0, 'code')\n",
    "from v17 import *\n",
    "from v17 import _internal_validate_predict_best_param\n",
    "sys.path.insert(0, 'Pytorch-UNet/utils')\n",
    "from crf import dense_crf"
   ]
  },
  {
   "cell_type": "code",
   "execution_count": 3,
   "metadata": {},
   "outputs": [],
   "source": [
    "sz = 256\n",
    "num_slice = 9\n",
    "\n",
    "num_gpus = 2\n",
    "gpu_start = 8\n",
    "num_workers = 8\n",
    "device_ids = range(gpu_start, gpu_start + num_gpus)\n",
    "# device_ids = [4,5,8,9]\n",
    "torch.cuda.set_device(gpu_start)\n",
    "bs = 8\n",
    "\n",
    "model_name = 'deeplab'\n",
    "datapaths = ['data/train/AOI_2_Vegas_Train', 'data/train/AOI_3_Paris_Train', 'data/train/AOI_4_Shanghai_Train', 'data/train/AOI_5_Khartoum_Train']\n",
    "datapath = datapaths[3]"
   ]
  },
  {
   "cell_type": "markdown",
   "metadata": {},
   "source": [
    "## Scripting"
   ]
  },
  {
   "cell_type": "code",
   "execution_count": 1,
   "metadata": {
    "scrolled": true
   },
   "outputs": [
    {
     "data": {
      "application/vnd.jupyter.widget-view+json": {
       "model_id": "6b0acbdac18746369d70ff09583c42e3",
       "version_major": 2,
       "version_minor": 0
      },
      "text/plain": [
       "HBox(children=(IntProgress(value=0, description='gt', max=304), HTML(value='')))"
      ]
     },
     "metadata": {},
     "output_type": "display_data"
    },
    {
     "name": "stdout",
     "output_type": "stream",
     "text": [
      "\n",
      "Data finished loading: data/train/AOI_5_Khartoum_Train\n",
      "CPU times: user 35min 37s, sys: 3min 33s, total: 39min 10s\n",
      "Wall time: 2min 1s\n"
     ]
    }
   ],
   "source": [
    "%%time\n",
    "%run test 3 --num_gpus=2 --gpu_start=8 --bs=8 --pred"
   ]
  },
  {
   "cell_type": "markdown",
   "metadata": {},
   "source": [
    "## Polygon best threshold"
   ]
  },
  {
   "cell_type": "code",
   "execution_count": 2,
   "metadata": {},
   "outputs": [],
   "source": [
    "def evalfscore_thresh(thresh):\n",
    "    return evalfscore(datapath, preds, thresh=thresh)"
   ]
  },
  {
   "cell_type": "code",
   "execution_count": 3,
   "metadata": {
    "collapsed": true
   },
   "outputs": [
    {
     "name": "stdout",
     "output_type": "stream",
     "text": [
      "(0, 0, 0)\n",
      "(0.048611, 0.086242, 0.033844)\n",
      "(0.134281, 0.253542, 0.091324)\n",
      "(0.182172, 0.331678, 0.125571)\n",
      "(0.217713, 0.383339, 0.152028)\n",
      "(0.244674, 0.414767, 0.173516)\n",
      "(0.274612, 0.446089, 0.198362)\n",
      "(0.30386, 0.473954, 0.22361)\n",
      "(0.331237, 0.473763, 0.254633)\n",
      "(0.338876, 0.464144, 0.266855)\n",
      "(0.333083, 0.439384, 0.268198)\n",
      "(0.32125, 0.411099, 0.263631)\n",
      "(0.294094, 0.370635, 0.243755)\n",
      "(0.255042, 0.317463, 0.213135)\n",
      "(0.19944, 0.246491, 0.167472)\n",
      "(0.141749, 0.177963, 0.117781)\n",
      "(0.081486, 0.108054, 0.065404)\n",
      "(0.035923, 0.054215, 0.02686)\n",
      "(0.007607, 0.017831, 0.004835)\n",
      "(0, 0, 0)\n",
      "CPU times: user 54min 31s, sys: 3min 36s, total: 58min 7s\n",
      "Wall time: 32min 32s\n"
     ]
    }
   ],
   "source": [
    "%%time\n",
    "threshs = np.linspace(0, 1, 21)\n",
    "polygon_pr = []\n",
    "for thresh in threshs:\n",
    "#     with ThreadPoolExecutor(max_workers=8) as e:\n",
    "    s = evalfscore_thresh(thresh)\n",
    "    print(s)\n",
    "    polygon_pr.append(s)\n",
    "# plt.plot(polygon_pr)"
   ]
  },
  {
   "cell_type": "code",
   "execution_count": 8,
   "metadata": {},
   "outputs": [],
   "source": [
    "c = children(learn.model.module)"
   ]
  },
  {
   "cell_type": "code",
   "execution_count": 5,
   "metadata": {},
   "outputs": [],
   "source": [
    "fscore = [o[0] for o in polygon_pr]"
   ]
  },
  {
   "cell_type": "code",
   "execution_count": 6,
   "metadata": {},
   "outputs": [
    {
     "name": "stdout",
     "output_type": "stream",
     "text": [
      "0.5 0.338876\n"
     ]
    },
    {
     "data": {
      "image/png": "[encoded data removed]",
      "text/plain": [
       "<Figure size 432x288 with 1 Axes>"
      ]
     },
     "metadata": {},
     "output_type": "display_data"
    }
   ],
   "source": [
    "plt.plot(threshs, fscore)\n",
    "plt.xlabel = 'threshold'\n",
    "plt.ylabel = 'fscore'\n",
    "print(np.argmax(fscore) / 20, fscore[np.argmax(fscore)])"
   ]
  },
  {
   "cell_type": "markdown",
   "metadata": {},
   "source": [
    "## Preprocessing"
   ]
  },
  {
   "cell_type": "code",
   "execution_count": 4,
   "metadata": {},
   "outputs": [],
   "source": [
    "# !python code/v5_im-full_rgb.py preproc_test {datapaths[0]}"
   ]
  },
  {
   "cell_type": "code",
   "execution_count": 5,
   "metadata": {},
   "outputs": [],
   "source": [
    "# !python code/v5_im-full_rgb.py preproc_test {datapaths[3]}"
   ]
  },
  {
   "cell_type": "code",
   "execution_count": 6,
   "metadata": {},
   "outputs": [],
   "source": [
    "# !python code/v5_im-full_rgb.py preproc_test {datapaths[0]}\n",
    "# !python code/v5_im-full_rgb.py preproc_test {datapaths[2]}"
   ]
  },
  {
   "cell_type": "code",
   "execution_count": 7,
   "metadata": {},
   "outputs": [],
   "source": [
    "model_name = 'deeplab'\n",
    "data = None\n",
    "is_eval, is_pred = True, False"
   ]
  },
  {
   "cell_type": "code",
   "execution_count": 8,
   "metadata": {},
   "outputs": [
    {
     "data": {
      "application/vnd.jupyter.widget-view+json": {
       "model_id": "2a3ef2cb2d784617b3f535d5c999e207",
       "version_major": 2,
       "version_minor": 0
      },
      "text/plain": [
       "HBox(children=(IntProgress(value=0, description='gt', max=304), HTML(value='')))"
      ]
     },
     "metadata": {},
     "output_type": "display_data"
    },
    {
     "name": "stdout",
     "output_type": "stream",
     "text": [
      "\n",
      "Data finished loading: data/train/AOI_5_Khartoum_Train\n"
     ]
    }
   ],
   "source": [
    "learn, denorm, data = learner_on_dataset(datapath, bs, device_ids, num_workers, model_name='deeplab',\n",
    "                                         debug=False, data=data, num_slice=num_slice, sz=sz,\n",
    "                                        is_eval=is_eval, is_pred=is_pred)\n",
    "(trn_x,trn_y), (val_x,val_y) = data\n",
    "learn.load('deeplab-5')"
   ]
  },
  {
   "cell_type": "markdown",
   "metadata": {},
   "source": [
    "## evalfscore"
   ]
  },
  {
   "cell_type": "code",
   "execution_count": 9,
   "metadata": {},
   "outputs": [
    {
     "name": "stdout",
     "output_type": "stream",
     "text": [
      "CPU times: user 38min 33s, sys: 3min 25s, total: 41min 59s\n",
      "Wall time: 1min 44s\n"
     ]
    }
   ],
   "source": [
    "%%time\n",
    "preds = learn.predict().squeeze()"
   ]
  },
  {
   "cell_type": "code",
   "execution_count": 10,
   "metadata": {},
   "outputs": [
    {
     "data": {
      "text/plain": [
       "(0.508879, 0.257857)"
      ]
     },
     "execution_count": 10,
     "metadata": {},
     "output_type": "execute_result"
    }
   ],
   "source": [
    "evalfscore(datapath, preds)"
   ]
  },
  {
   "cell_type": "code",
   "execution_count": null,
   "metadata": {
    "scrolled": true
   },
   "outputs": [],
   "source": [
    "%%time\n",
    "with ThreadPoolExecutor(max_workers=8) as e:\n",
    "    x, y = list(zip(*list(e.map(learn.data.val_dl.get_batch, [[o] for o in range(preds.shape[0])]))))\n",
    "x, y, preds = [np.squeeze(o) for o in (x, y, preds)]\n",
    "print(preds.shape)"
   ]
  },
  {
   "cell_type": "code",
   "execution_count": null,
   "metadata": {},
   "outputs": [],
   "source": [
    "scores = None"
   ]
  },
  {
   "cell_type": "code",
   "execution_count": null,
   "metadata": {},
   "outputs": [],
   "source": [
    "scores, idx = plot_worse_preds(x, y, preds, learn, jaccard_coef, shift=600,\n",
    "                          scores=scores, is_best=0, thresh=0.5)"
   ]
  },
  {
   "cell_type": "markdown",
   "metadata": {},
   "source": [
    "## testproc"
   ]
  },
  {
   "cell_type": "code",
   "execution_count": 16,
   "metadata": {},
   "outputs": [],
   "source": [
    "data = None\n",
    "is_eval, is_pred = False, True"
   ]
  },
  {
   "cell_type": "code",
   "execution_count": 17,
   "metadata": {},
   "outputs": [
    {
     "name": "stdout",
     "output_type": "stream",
     "text": [
      "Data finished loading: data/train/AOI_5_Khartoum_Train\n"
     ]
    }
   ],
   "source": [
    "learn, denorm, data = learner_on_dataset(datapath, bs, device_ids, num_workers, model_name='deeplab',\n",
    "                                         debug=False, data=data, num_slice=num_slice, sz=sz,\n",
    "                                        is_eval=is_eval, is_pred=is_pred)\n",
    "(trn_x,trn_y), (val_x,val_y) = data\n",
    "learn.load('deeplab-5')"
   ]
  },
  {
   "cell_type": "code",
   "execution_count": 18,
   "metadata": {
    "scrolled": false
   },
   "outputs": [
    {
     "name": "stdout",
     "output_type": "stream",
     "text": [
      "CPU times: user 1h 37min 59s, sys: 13min 50s, total: 1h 51min 50s\n",
      "Wall time: 5min 18s\n"
     ]
    }
   ],
   "source": [
    "%%time\n",
    "preds = learn.predict().squeeze()"
   ]
  },
  {
   "cell_type": "code",
   "execution_count": 19,
   "metadata": {},
   "outputs": [],
   "source": [
    "testproc(datapath, preds)"
   ]
  },
  {
   "cell_type": "markdown",
   "metadata": {},
   "source": [
    "## Plot images after putting back"
   ]
  },
  {
   "cell_type": "code",
   "execution_count": null,
   "metadata": {},
   "outputs": [],
   "source": [
    "fn_train = FMT_VALTEST_IMAGELIST_PATH.format(prefix='AOI_2_Vegas')\n",
    "df_train = pd.read_csv(fn_train)"
   ]
  },
  {
   "cell_type": "code",
   "execution_count": null,
   "metadata": {},
   "outputs": [],
   "source": [
    "df_train[df_train.ImageId == 'AOI_2_Vegas_img485']"
   ]
  },
  {
   "cell_type": "code",
   "execution_count": null,
   "metadata": {},
   "outputs": [],
   "source": []
  },
  {
   "cell_type": "code",
   "execution_count": null,
   "metadata": {},
   "outputs": [],
   "source": [
    "preds_big = _internal_validate_predict_best_param(3, slice_pred_list=[preds])\n",
    "x_big = _internal_validate_predict_best_param(3, slice_pred_list=[denorm(x)])\n",
    "y_big = _internal_validate_predict_best_param(3, slice_pred_list=[y])\n",
    "x_big[0].shape"
   ]
  },
  {
   "cell_type": "code",
   "execution_count": null,
   "metadata": {},
   "outputs": [],
   "source": [
    "idx = 89\n",
    "data_im = zip(preds_big[idx:idx + 9], x_big[idx:idx + 9], y_big[idx:idx + 9])\n",
    "plot_ims(data_im, figsize=4)"
   ]
  },
  {
   "cell_type": "code",
   "execution_count": null,
   "metadata": {},
   "outputs": [],
   "source": [
    "idx = 96\n",
    "crfed = dense_crf((x_big[idx] * 255).astype('uint8'), (preds_big[idx]), 1, 7, 1)\n",
    "plt.imshow(preds_big[idx] > 0.3)\n",
    "print(jaccard_coef_cuda((V(preds_big[idx]) > 0.3).float(), V(y_big[idx])).data[0])"
   ]
  },
  {
   "cell_type": "code",
   "execution_count": null,
   "metadata": {},
   "outputs": [],
   "source": [
    "best_sxy1, best_sxy2, best_srgb = 0, 0, 0\n",
    "best_jac = 0\n",
    "# rows, cols = 3, 3\n",
    "# sx1 = np.arange(1, , ).astype('uint8')\n",
    "# eps = np.arange(1, 80, 80 / cols).astype('uint8')\n",
    "# res = np.empty([rows, cols] + list(srcs.shape))\n",
    "for sxy1 in np.arange(1, 10, 3):\n",
    "    for sxy2 in np.arange(1, 10, 3):\n",
    "        for srgb in np.arange(1, 10, 3):\n",
    "            crfed = dense_crf((x_big[idx] * 255).astype('uint8'), (preds_big[idx]),\n",
    "                             sxy1=sxy1, sxy2=sxy2, srgb=srgb)\n",
    "            jac = jaccard_coef_cuda(V(crfed), V(y_big[idx])).data[0]\n",
    "            if jac > best_jac:\n",
    "                best_jac = jac\n",
    "                best_sxy1, best_sxy2, best_srgb = sxy1, sxy2, srgb\n",
    "                print(sxy1, sxy2, srgb, jac)\n",
    "print(best_sxy1, best_sxy2, best_srgb, best_jac)"
   ]
  },
  {
   "cell_type": "code",
   "execution_count": null,
   "metadata": {},
   "outputs": [],
   "source": [
    "crfed = dense_crf((x_big[idx] * 255).astype('uint8'), (preds_big[idx]),\n",
    "                             sxy1=1, sxy2=1, srgb=1)"
   ]
  },
  {
   "cell_type": "code",
   "execution_count": null,
   "metadata": {},
   "outputs": [],
   "source": []
  }
 ],
 "metadata": {
  "kernelspec": {
   "display_name": "Python 3",
   "language": "python",
   "name": "python3"
  },
  "language_info": {
   "codemirror_mode": {
    "name": "ipython",
    "version": 3
   },
   "file_extension": ".py",
   "mimetype": "text/x-python",
   "name": "python",
   "nbconvert_exporter": "python",
   "pygments_lexer": "ipython3",
   "version": "3.6.5"
  }
 },
 "nbformat": 4,
 "nbformat_minor": 2
}
