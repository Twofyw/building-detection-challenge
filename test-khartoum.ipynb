{
 "cells": [
  {
   "cell_type": "markdown",
   "metadata": {},
   "source": [
    "# Test"
   ]
  },
  {
   "cell_type": "code",
   "execution_count": null,
   "metadata": {},
   "outputs": [],
   "source": [
    "%matplotlib inline\n",
    "%load_ext autoreload\n",
    "%autoreload 2"
   ]
  },
  {
   "cell_type": "code",
   "execution_count": null,
   "metadata": {},
   "outputs": [],
   "source": [
    "from learn import *\n",
    "sys.path.insert(0, 'code')\n",
    "from v17 import *\n",
    "from v17 import _internal_validate_predict_best_param\n",
    "sys.path.insert(0, 'Pytorch-UNet/utils')\n",
    "from crf import dense_crf"
   ]
  },
  {
   "cell_type": "code",
   "execution_count": null,
   "metadata": {},
   "outputs": [],
   "source": [
    "sz = 256\n",
    "num_slice = 9\n",
    "\n",
    "num_gpus = 2\n",
    "gpu_start = 8\n",
    "num_workers = 8\n",
    "# device_ids = range(gpu_start, gpu_start + num_gpus)\n",
    "device_ids = [4,5,8,9]\n",
    "torch.cuda.set_device(gpu_start)\n",
    "bs = 15"
   ]
  },
  {
   "cell_type": "markdown",
   "metadata": {},
   "source": [
    "## Preprocessing"
   ]
  },
  {
   "cell_type": "code",
   "execution_count": null,
   "metadata": {},
   "outputs": [],
   "source": [
    "datapaths = ['data/train/AOI_2_Vegas_Train', 'data/train/AOI_3_Paris_Train', 'data/train/AOI_4_Shanghai_Train', 'data/train/AOI_5_Khartoum_Train']\n",
    "# !python code/v5_im-full_rgb.py preproc_test {datapaths[0]}"
   ]
  },
  {
   "cell_type": "code",
   "execution_count": null,
   "metadata": {},
   "outputs": [],
   "source": [
    "# !python code/v5_im-full_rgb.py preproc_test {datapaths[3]}"
   ]
  },
  {
   "cell_type": "code",
   "execution_count": null,
   "metadata": {},
   "outputs": [],
   "source": [
    "# !python code/v5_im-full_rgb.py preproc_test {datapaths[0]}\n",
    "# !python code/v5_im-full_rgb.py preproc_test {datapaths[2]}"
   ]
  },
  {
   "cell_type": "code",
   "execution_count": null,
   "metadata": {},
   "outputs": [],
   "source": [
    "model_name = 'deeplab'\n",
    "data = None"
   ]
  },
  {
   "cell_type": "code",
   "execution_count": null,
   "metadata": {},
   "outputs": [],
   "source": [
    "learn, denorm, data = learner_on_dataset(datapaths[3], bs, device_ids, num_workers, model_name='deeplab',\n",
    "                                         debug=False, global_dataset=True, data=data, num_slice=num_slice, sz=sz,\n",
    "                                         is_pred=False, test_only=True)\n",
    "(trn_x,trn_y), (val_x,val_y) = data"
   ]
  },
  {
   "cell_type": "markdown",
   "metadata": {},
   "source": [
    "## Inferencing"
   ]
  },
  {
   "cell_type": "code",
   "execution_count": null,
   "metadata": {},
   "outputs": [],
   "source": [
    "learn.load('deeplab-vegas')"
   ]
  },
  {
   "cell_type": "code",
   "execution_count": null,
   "metadata": {},
   "outputs": [],
   "source": [
    "%%time\n",
    "preds = learn.predict().squeeze()"
   ]
  },
  {
   "cell_type": "code",
   "execution_count": null,
   "metadata": {
    "scrolled": true
   },
   "outputs": [],
   "source": [
    "%%time\n",
    "with ThreadPoolExecutor(max_workers=8) as e:\n",
    "    x, y = list(zip(*list(e.map(learn.data.val_dl.get_batch, [[o] for o in range(preds.shape[0])]))))\n",
    "x, y, preds = [np.squeeze(o) for o in (x, y, preds)]\n",
    "print(preds.shape)"
   ]
  },
  {
   "cell_type": "code",
   "execution_count": null,
   "metadata": {},
   "outputs": [],
   "source": [
    "scores = None"
   ]
  },
  {
   "cell_type": "code",
   "execution_count": null,
   "metadata": {},
   "outputs": [],
   "source": [
    "scores, idx = plot_worse_preds(x, y, preds, learn, jaccard_coef, shift=600,\n",
    "                          scores=scores, is_best=0, thresh=0.5)"
   ]
  },
  {
   "cell_type": "code",
   "execution_count": null,
   "metadata": {},
   "outputs": [],
   "source": [
    "evalfscore(datapaths[3], preds)"
   ]
  },
  {
   "cell_type": "markdown",
   "metadata": {},
   "source": [
    "## Plot images after putting back"
   ]
  },
  {
   "cell_type": "code",
   "execution_count": null,
   "metadata": {},
   "outputs": [],
   "source": [
    "fn_train = FMT_VALTEST_IMAGELIST_PATH.format(prefix='AOI_2_Vegas')\n",
    "df_train = pd.read_csv(fn_train)"
   ]
  },
  {
   "cell_type": "code",
   "execution_count": null,
   "metadata": {},
   "outputs": [],
   "source": [
    "df_train[df_train.ImageId == 'AOI_2_Vegas_img485']"
   ]
  },
  {
   "cell_type": "code",
   "execution_count": null,
   "metadata": {},
   "outputs": [],
   "source": []
  },
  {
   "cell_type": "code",
   "execution_count": null,
   "metadata": {},
   "outputs": [],
   "source": [
    "preds_big = _internal_validate_predict_best_param(3, slice_pred_list=[preds])\n",
    "x_big = _internal_validate_predict_best_param(3, slice_pred_list=[denorm(x)])\n",
    "y_big = _internal_validate_predict_best_param(3, slice_pred_list=[y])\n",
    "x_big[0].shape"
   ]
  },
  {
   "cell_type": "code",
   "execution_count": null,
   "metadata": {},
   "outputs": [],
   "source": [
    "idx = 89\n",
    "data_im = zip(preds_big[idx:idx + 9], x_big[idx:idx + 9], y_big[idx:idx + 9])\n",
    "plot_ims(data_im, figsize=4)"
   ]
  },
  {
   "cell_type": "code",
   "execution_count": null,
   "metadata": {},
   "outputs": [],
   "source": [
    "idx = 96\n",
    "crfed = dense_crf((x_big[idx] * 255).astype('uint8'), (preds_big[idx]), 1, 7, 1)\n",
    "plt.imshow(preds_big[idx] > 0.3)\n",
    "print(jaccard_coef_cuda((V(preds_big[idx]) > 0.3).float(), V(y_big[idx])).data[0])"
   ]
  },
  {
   "cell_type": "code",
   "execution_count": null,
   "metadata": {},
   "outputs": [],
   "source": [
    "best_sxy1, best_sxy2, best_srgb = 0, 0, 0\n",
    "best_jac = 0\n",
    "# rows, cols = 3, 3\n",
    "# sx1 = np.arange(1, , ).astype('uint8')\n",
    "# eps = np.arange(1, 80, 80 / cols).astype('uint8')\n",
    "# res = np.empty([rows, cols] + list(srcs.shape))\n",
    "for sxy1 in np.arange(1, 10, 3):\n",
    "    for sxy2 in np.arange(1, 10, 3):\n",
    "        for srgb in np.arange(1, 10, 3):\n",
    "            crfed = dense_crf((x_big[idx] * 255).astype('uint8'), (preds_big[idx]),\n",
    "                             sxy1=sxy1, sxy2=sxy2, srgb=srgb)\n",
    "            jac = jaccard_coef_cuda(V(crfed), V(y_big[idx])).data[0]\n",
    "            if jac > best_jac:\n",
    "                best_jac = jac\n",
    "                best_sxy1, best_sxy2, best_srgb = sxy1, sxy2, srgb\n",
    "                print(sxy1, sxy2, srgb, jac)\n",
    "print(best_sxy1, best_sxy2, best_srgb, best_jac)"
   ]
  },
  {
   "cell_type": "code",
   "execution_count": null,
   "metadata": {},
   "outputs": [],
   "source": [
    "crfed = dense_crf((x_big[idx] * 255).astype('uint8'), (preds_big[idx]),\n",
    "                             sxy1=1, sxy2=1, srgb=1)"
   ]
  },
  {
   "cell_type": "code",
   "execution_count": null,
   "metadata": {},
   "outputs": [],
   "source": []
  }
 ],
 "metadata": {
  "kernelspec": {
   "display_name": "Python 3",
   "language": "python",
   "name": "python3"
  },
  "language_info": {
   "codemirror_mode": {
    "name": "ipython",
    "version": 3
   },
   "file_extension": ".py",
   "mimetype": "text/x-python",
   "name": "python",
   "nbconvert_exporter": "python",
   "pygments_lexer": "ipython3",
   "version": "3.6.5"
  }
 },
 "nbformat": 4,
 "nbformat_minor": 2
}
