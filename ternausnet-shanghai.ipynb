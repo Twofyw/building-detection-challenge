{
 "cells": [
  {
   "cell_type": "code",
   "execution_count": 12,
   "metadata": {},
   "outputs": [],
   "source": [
    "%matplotlib inline\n",
    "%load_ext autoreload\n",
    "%autoreload 2"
   ]
  },
  {
   "cell_type": "code",
   "execution_count": 2,
   "metadata": {},
   "outputs": [],
   "source": [
    "from learn import *"
   ]
  },
  {
   "cell_type": "markdown",
   "metadata": {},
   "source": [
    "Train on full dataset for several epochs"
   ]
  },
  {
   "cell_type": "code",
   "execution_count": 1,
   "metadata": {
    "scrolled": false
   },
   "outputs": [
    {
     "data": {
      "application/vnd.jupyter.widget-view+json": {
       "model_id": "",
       "version_major": 2,
       "version_minor": 0
      },
      "text/plain": [
       "HBox(children=(IntProgress(value=0, description='gt', max=1375), HTML(value='')))"
      ]
     },
     "metadata": {},
     "output_type": "display_data"
    },
    {
     "name": "stdout",
     "output_type": "stream",
     "text": [
      "\n"
     ]
    },
    {
     "data": {
      "application/vnd.jupyter.widget-view+json": {
       "model_id": "",
       "version_major": 2,
       "version_minor": 0
      },
      "text/plain": [
       "HBox(children=(IntProgress(value=0, description='gt', max=3207), HTML(value='')))"
      ]
     },
     "metadata": {},
     "output_type": "display_data"
    },
    {
     "name": "stdout",
     "output_type": "stream",
     "text": [
      "\n",
      "Data finished loading: data/train/AOI_4_Shanghai_Train\n"
     ]
    },
    {
     "data": {
      "application/vnd.jupyter.widget-view+json": {
       "model_id": "",
       "version_major": 2,
       "version_minor": 0
      },
      "text/plain": [
       "HBox(children=(IntProgress(value=0, description='Epoch', max=62), HTML(value='')))"
      ]
     },
     "metadata": {},
     "output_type": "display_data"
    },
    {
     "name": "stdout",
     "output_type": "stream",
     "text": [
      "epoch      trn_loss   val_loss   mask_acc   jaccard_coef_par \n",
      "    0      0.938014   0.828726   0.908169   0.469605  \n",
      "    1      0.879805   0.793711   0.91546    0.480493         \n",
      "    2      0.850953   0.756363   0.921518   0.495334         \n",
      " 74%|███████▍  | 115/155 [02:45<00:57,  1.44s/it, loss=0.825]    3      0.802048   0.719821   0.917712   0.513965  \n",
      "    4      0.771881   0.690036   0.921807   0.525582         \n",
      "    5      0.756512   0.689477   0.923817   0.523962         \n",
      "    6      0.77499    0.679677   0.923059   0.528634         \n",
      "    7      0.759928   0.655794   0.925835   0.5381           \n",
      "    8      0.740971   0.650268   0.92591    0.540561         \n",
      "    9      0.725457   0.63891    0.925148   0.547831         \n",
      "    10     0.707456   0.647237   0.921305   0.547245         \n",
      "    11     0.712598   0.636338   0.925897   0.549313         \n",
      "    12     0.706505   0.623069   0.929064   0.553435         \n",
      "    13     0.691384   0.624181   0.928794   0.552902         \n",
      "    14     0.716882   0.711138   0.932982   0.501341         \n",
      "    15     0.724639   0.62599    0.9243     0.556952         \n",
      "    16     0.712213   0.676298   0.912099   0.540614         \n",
      "    17     0.700461   0.612945   0.929146   0.559311         \n",
      "    18     0.708219   0.616553   0.926154   0.559061         \n",
      "    19     0.68451    0.621625   0.924924   0.560468         \n",
      "    20     0.678245   0.589446   0.931536   0.569362         \n",
      "    21     0.686256   0.585829   0.933012   0.571803         \n",
      "    22     0.685229   0.606149   0.928742   0.560967         \n",
      "    23     0.67452    0.584522   0.933991   0.569948         \n",
      "    24     0.660223   0.586935   0.936041   0.568759         \n",
      "    25     0.656995   0.584794   0.93089    0.573257         \n",
      "    26     0.65617    0.581957   0.932588   0.573146         \n",
      "    27     0.661628   0.579212   0.933641   0.573914         \n",
      "    28     0.66356    0.581677   0.93196    0.574114         \n",
      "    29     0.648958   0.580449   0.933246   0.573501         \n",
      "    30     0.690352   0.623534   0.921571   0.561763         \n",
      "    31     0.692398   0.601713   0.937203   0.558609         \n",
      "    32     0.688955   0.59063    0.933374   0.56851          \n",
      "    33     0.661831   0.586149   0.937053   0.567857         \n",
      "    34     0.675779   0.576607   0.933515   0.576446         \n",
      "    35     0.66171    0.588856   0.9314     0.572552         \n",
      "    36     0.665874   0.601299   0.938024   0.556738         \n",
      "    37     0.66379    0.586771   0.929874   0.574621         \n",
      "    38     0.666639   0.584351   0.931492   0.573707         \n",
      "    39     0.643811   0.606602   0.923778   0.568362         \n",
      "    40     0.664121   0.571729   0.931417   0.579659         \n",
      "    41     0.646427   0.576113   0.936224   0.572736         \n",
      "    42     0.656527   0.571779   0.935665   0.576359         \n",
      "    43     0.64364    0.575379   0.939376   0.571042         \n",
      "    44     0.635978   0.571364   0.937775   0.577426         \n",
      "    45     0.649894   0.57313    0.931345   0.579026         \n",
      "    46     0.638599   0.582537   0.928917   0.578143         \n",
      "    47     0.645612   0.557174   0.932901   0.58705          \n",
      "    48     0.627621   0.548425   0.936993   0.588394         \n",
      "    49     0.639381   0.559444   0.931902   0.586926         \n",
      "    50     0.633318   0.556454   0.933091   0.587717         \n",
      "    51     0.626987   0.551602   0.936348   0.58718          \n",
      "    52     0.61834    0.557053   0.931871   0.588565         \n",
      "    53     0.626173   0.559674   0.931608   0.587571         \n",
      "    54     0.622717   0.547358   0.936284   0.589534         \n",
      "    55     0.628452   0.549283   0.935539   0.589488         \n",
      "    56     0.606615   0.550113   0.93474    0.590317         \n",
      "    57     0.611706   0.547834   0.936241   0.58958          \n",
      "    58     0.615353   0.545847   0.936219   0.590884         \n",
      "    59     0.614718   0.545954   0.936197   0.590788         \n",
      "    60     0.610156   0.545488   0.936581   0.590631         \n",
      "    61     0.618411   0.545305   0.936699   0.590632         \n",
      "\n",
      "CPU times: user 2d 11h 20min 19s, sys: 7h 9min 30s, total: 2d 18h 29min 49s\n",
      "Wall time: 6h 52min 24s\n"
     ]
    }
   ],
   "source": [
    "%%time\n",
    "%run script 2 --gpu_start=3 --num_gpus=3 --bs=80 --lr 1e-4 --num_slice=9 \\\n",
    "    --use_wd_sched --wd 0.025 --n_cycles 5 --model_name unet --learn --start --load_starter ternaus-full"
   ]
  },
  {
   "cell_type": "code",
   "execution_count": 1,
   "metadata": {},
   "outputs": [
    {
     "data": {
      "application/vnd.jupyter.widget-view+json": {
       "model_id": "719b5ee0c25c4667a3b554d021dccaa6",
       "version_major": 2,
       "version_minor": 0
      },
      "text/plain": [
       "HBox(children=(IntProgress(value=0, description='gt', max=1375), HTML(value='')))"
      ]
     },
     "metadata": {},
     "output_type": "display_data"
    },
    {
     "name": "stdout",
     "output_type": "stream",
     "text": [
      "\n"
     ]
    },
    {
     "data": {
      "application/vnd.jupyter.widget-view+json": {
       "model_id": "59e3b0313d9449918f1ad4f18edaeb18",
       "version_major": 2,
       "version_minor": 0
      },
      "text/plain": [
       "HBox(children=(IntProgress(value=0, description='gt', max=3207), HTML(value='')))"
      ]
     },
     "metadata": {},
     "output_type": "display_data"
    },
    {
     "name": "stdout",
     "output_type": "stream",
     "text": [
      "\n",
      "Data finished loading: data/train/AOI_4_Shanghai_Train\n"
     ]
    },
    {
     "data": {
      "application/vnd.jupyter.widget-view+json": {
       "model_id": "a37287bb977c4de6a787117ee41ba4b0",
       "version_major": 2,
       "version_minor": 0
      },
      "text/plain": [
       "HBox(children=(IntProgress(value=0, description='Epoch', max=30), HTML(value='')))"
      ]
     },
     "metadata": {},
     "output_type": "display_data"
    },
    {
     "name": "stdout",
     "output_type": "stream",
     "text": [
      "epoch      trn_loss   val_loss   mask_acc   jaccard_coef_par \n",
      "    0      0.640419   0.56615    0.933287   0.582626  \n",
      "    1      0.634366   0.556683   0.934232   0.58662          \n",
      "    2      0.658826   0.565932   0.931954   0.581765         \n",
      "    3      0.654988   0.616659   0.921999   0.563482         \n",
      "    4      0.639201   0.558877   0.93689    0.582034         \n",
      "    5      0.623897   0.553717   0.93559    0.586546         \n",
      "    6      0.662394   0.573575   0.930222   0.579923         \n",
      "    7      0.64576    0.570882   0.93122    0.581751         \n",
      "    8      0.666021   0.584485   0.94094    0.564553         \n",
      "    9      0.63415    0.556052   0.938385   0.58352          \n",
      "    10     0.625986   0.565484   0.930274   0.584887         \n",
      "    11     0.621711   0.548759   0.93878    0.58581          \n",
      "    12     0.622616   0.549783   0.934984   0.589852         \n",
      "    13     0.607179   0.547853   0.936298   0.589182         \n",
      "    14     0.665123   0.556696   0.935272   0.585124         \n",
      "    15     0.64395    0.572727   0.927658   0.583068         \n",
      "    16     0.647283   0.563505   0.933063   0.583799         \n",
      "    17     0.649236   0.557579   0.933326   0.588092         \n",
      "    18     0.648348   0.553128   0.936512   0.586186         \n",
      "    19     0.640184   0.636587   0.913731   0.559984         \n",
      "    20     0.625289   0.553433   0.935027   0.588945         \n",
      "    21     0.616096   0.541945   0.938859   0.590987         \n",
      "    22     0.627889   0.559204   0.934453   0.585029         \n",
      "    23     0.633729   0.541414   0.940459   0.588345         \n",
      "    24     0.612841   0.545228   0.935835   0.591766         \n",
      "    25     0.612506   0.54068    0.936278   0.593323         \n",
      "    26     0.611293   0.537029   0.935848   0.596894         \n",
      "    27     0.601951   0.538973   0.936498   0.594625         \n",
      "    28     0.608494   0.5361     0.937467   0.595418         \n",
      "    29     0.60718    0.536316   0.937316   0.595527         \n",
      "\n",
      "CPU times: user 1d 36min 36s, sys: 16h 40min 31s, total: 1d 17h 17min 8s\n",
      "Wall time: 2h 18min 45s\n"
     ]
    }
   ],
   "source": [
    "%%time\n",
    "%run script 2 --gpu_start=3 --num_gpus=3 --bs=80 --lr 1e-4 --num_slice=9 \\\n",
    "    --use_wd_sched --wd 0.025 --n_cycles 4 --model_name unet --learn --start"
   ]
  },
  {
   "cell_type": "code",
   "execution_count": 3,
   "metadata": {},
   "outputs": [],
   "source": [
    "lrs = np.array(lrs) / 10"
   ]
  },
  {
   "cell_type": "code",
   "execution_count": 4,
   "metadata": {},
   "outputs": [
    {
     "data": {
      "application/vnd.jupyter.widget-view+json": {
       "model_id": "",
       "version_major": 2,
       "version_minor": 0
      },
      "text/plain": [
       "HBox(children=(IntProgress(value=0, description='Epoch', max=15), HTML(value='')))"
      ]
     },
     "metadata": {},
     "output_type": "display_data"
    },
    {
     "name": "stdout",
     "output_type": "stream",
     "text": [
      "epoch      trn_loss   val_loss   mask_acc   jaccard_coef_par \n",
      "    0      0.600416   0.537783   0.936426   0.595353  \n",
      "    1      0.608783   0.538693   0.936908   0.594484         \n",
      "    2      0.606278   0.535562   0.937467   0.595701         \n",
      "    3      0.614145   0.536424   0.937641   0.594995         \n",
      "    4      0.608305   0.54033    0.937062   0.593056         \n",
      "    5      0.607481   0.532347   0.939177   0.595627         \n",
      "    6      0.594183   0.53517    0.937158   0.596192         \n",
      "    7      0.61037    0.54043    0.935065   0.595378         \n",
      "    8      0.602802   0.535822   0.937266   0.596348         \n",
      "    9      0.603843   0.549999   0.932558   0.592046         \n",
      "    10     0.598748   0.532526   0.937666   0.597544         \n",
      "    11     0.609653   0.536379   0.93643    0.596714         \n",
      "    12     0.611467   0.533161   0.937752   0.59702          \n",
      "    13     0.598902   0.533154   0.937971   0.596671         \n",
      "    14     0.602137   0.534058   0.937448   0.596723         \n",
      "\n"
     ]
    },
    {
     "data": {
      "image/png": "[encoded data removed]",
      "text/plain": [
       "<Figure size 576x288 with 2 Axes>"
      ]
     },
     "metadata": {},
     "output_type": "display_data"
    }
   ],
   "source": [
    "train_and_plot(learn, 0, 'unet-shanghai', lrs = lrs, n_cycles=4, wds=wds, use_wd_sched=use_wd_sched,\n",
    "    cycle_len=1, cycle_mult=2, best_save_name='unet-shanghai')"
   ]
  },
  {
   "cell_type": "code",
   "execution_count": 5,
   "metadata": {},
   "outputs": [],
   "source": [
    "lrs = np.array(lrs) / 5"
   ]
  },
  {
   "cell_type": "code",
   "execution_count": 7,
   "metadata": {},
   "outputs": [
    {
     "data": {
      "application/vnd.jupyter.widget-view+json": {
       "model_id": "285a1fd062cd4f93af201c301b47e7c5",
       "version_major": 2,
       "version_minor": 0
      },
      "text/plain": [
       "HBox(children=(IntProgress(value=0, description='Epoch', max=63), HTML(value='')))"
      ]
     },
     "metadata": {},
     "output_type": "display_data"
    },
    {
     "name": "stdout",
     "output_type": "stream",
     "text": [
      "epoch      trn_loss   val_loss   mask_acc   jaccard_coef_par \n",
      "    0      0.603711   0.533978   0.937327   0.596712  \n",
      "    1      0.607365   0.531684   0.938781   0.596464         \n",
      "    2      0.595208   0.534028   0.937287   0.596748         \n",
      "    3      0.593634   0.533892   0.937315   0.597079         \n",
      "    4      0.596451   0.530937   0.939208   0.596649         \n",
      "    5      0.599635   0.532402   0.9378     0.597281         \n",
      "    6      0.594833   0.532936   0.93749    0.597306         \n",
      "    7      0.586485   0.532647   0.93775    0.597192         \n",
      "    8      0.6066     0.532897   0.937456   0.597287         \n",
      " 51%|█████     | 79/155 [01:31<01:27,  1.15s/it, loss=0.597]"
     ]
    },
    {
     "name": "stderr",
     "output_type": "stream",
     "text": [
      "IOPub message rate exceeded.\n",
      "The notebook server will temporarily stop sending output\n",
      "to the client in order to avoid crashing it.\n",
      "To change this limit, set the config variable\n",
      "`--NotebookApp.iopub_msg_rate_limit`.\n",
      "\n",
      "Current values:\n",
      "NotebookApp.iopub_msg_rate_limit=1000.0 (msgs/sec)\n",
      "NotebookApp.rate_limit_window=3.0 (secs)\n",
      "\n"
     ]
    },
    {
     "name": "stdout",
     "output_type": "stream",
     "text": [
      "    23     0.59714    0.530601   0.938798   0.597174         \n",
      "    24     0.600546   0.532647   0.937743   0.597137         \n",
      "    25     0.605316   0.532514   0.937872   0.597107         \n",
      "    26     0.597334   0.532081   0.938144   0.597064         \n",
      "    27     0.601874   0.532307   0.937946   0.597138         \n",
      "    28     0.596696   0.532429   0.937817   0.597215         \n",
      "    29     0.597196   0.532449   0.937786   0.597242         \n",
      "    30     0.596172   0.53249    0.937771   0.597232         \n",
      "    31     0.597565   0.534517   0.936954   0.596825         \n",
      " 90%|████████▉ | 139/155 [02:38<00:18,  1.14s/it, loss=0.603]"
     ]
    },
    {
     "name": "stderr",
     "output_type": "stream",
     "text": [
      "IOPub message rate exceeded.\n",
      "The notebook server will temporarily stop sending output\n",
      "to the client in order to avoid crashing it.\n",
      "To change this limit, set the config variable\n",
      "`--NotebookApp.iopub_msg_rate_limit`.\n",
      "\n",
      "Current values:\n",
      "NotebookApp.iopub_msg_rate_limit=1000.0 (msgs/sec)\n",
      "NotebookApp.rate_limit_window=3.0 (secs)\n",
      "\n"
     ]
    },
    {
     "name": "stdout",
     "output_type": "stream",
     "text": [
      "    46     0.593634   0.530108   0.93885    0.597434         \n",
      "    47     0.599835   0.53183    0.937453   0.597977         \n",
      "    48     0.597691   0.532672   0.937756   0.597135         \n",
      "    49     0.596038   0.531701   0.937619   0.597936         \n",
      "    50     0.602422   0.533089   0.936979   0.597674         \n",
      "    51     0.600784   0.532363   0.937426   0.597638         \n",
      "    52     0.592248   0.53322    0.937042   0.597635         \n",
      "    53     0.603116   0.531754   0.937682   0.597779         \n",
      "    54     0.603213   0.531123   0.938154   0.597577         \n",
      "    55     0.592522   0.530946   0.938346   0.597433         \n",
      " 17%|█▋        | 26/155 [00:29<02:27,  1.14s/it, loss=0.587]"
     ]
    },
    {
     "name": "stderr",
     "output_type": "stream",
     "text": [
      "IOPub message rate exceeded.\n",
      "The notebook server will temporarily stop sending output\n",
      "to the client in order to avoid crashing it.\n",
      "To change this limit, set the config variable\n",
      "`--NotebookApp.iopub_msg_rate_limit`.\n",
      "\n",
      "Current values:\n",
      "NotebookApp.iopub_msg_rate_limit=1000.0 (msgs/sec)\n",
      "NotebookApp.rate_limit_window=3.0 (secs)\n",
      "\n"
     ]
    }
   ],
   "source": [
    "train_and_plot(learn, 1, 'unet-shanghai', lrs = lrs, n_cycles=6, wds=wds, use_wd_sched=use_wd_sched,\n",
    "    cycle_len=1, cycle_mult=2, best_save_name='unet-shanghai')"
   ]
  },
  {
   "cell_type": "code",
   "execution_count": null,
   "metadata": {},
   "outputs": [],
   "source": []
  }
 ],
 "metadata": {
  "kernelspec": {
   "display_name": "Python 3",
   "language": "python",
   "name": "python3"
  },
  "language_info": {
   "codemirror_mode": {
    "name": "ipython",
    "version": 3
   },
   "file_extension": ".py",
   "mimetype": "text/x-python",
   "name": "python",
   "nbconvert_exporter": "python",
   "pygments_lexer": "ipython3",
   "version": "3.6.5"
  }
 },
 "nbformat": 4,
 "nbformat_minor": 2
}
