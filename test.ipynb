{
 "cells": [
  {
   "cell_type": "markdown",
   "metadata": {},
   "source": [
    "# Test"
   ]
  },
  {
   "cell_type": "code",
   "execution_count": 1,
   "metadata": {},
   "outputs": [],
   "source": [
    "%matplotlib inline\n",
    "%load_ext autoreload\n",
    "%autoreload 2"
   ]
  },
  {
   "cell_type": "code",
   "execution_count": null,
   "metadata": {},
   "outputs": [],
   "source": [
    "from learn import *\n",
    "from"
   ]
  },
  {
   "cell_type": "markdown",
   "metadata": {},
   "source": [
    "## Preprocessing"
   ]
  },
  {
   "cell_type": "code",
   "execution_count": 2,
   "metadata": {
    "collapsed": true
   },
   "outputs": [
    {
     "name": "stdout",
     "output_type": "stream",
     "text": [
      "Traceback (most recent call last):\r\n",
      "  File \"code/v5_im-full_rgb.py\", line 856, in <module>\r\n",
      "    cli()\r\n",
      "  File \"/home/twofyw/miniconda3/envs/fastai/lib/python3.6/site-packages/click/core.py\", line 722, in __call__\r\n",
      "    return self.main(*args, **kwargs)\r\n",
      "  File \"/home/twofyw/miniconda3/envs/fastai/lib/python3.6/site-packages/click/core.py\", line 676, in main\r\n",
      "    _verify_python3_env()\r\n",
      "  File \"/home/twofyw/miniconda3/envs/fastai/lib/python3.6/site-packages/click/_unicodefun.py\", line 118, in _verify_python3_env\r\n",
      "    'for mitigation steps.' + extra)\r\n",
      "RuntimeError: Click will abort further execution because Python 3 was configured to use ASCII as encoding for the environment.  Consult http://click.pocoo.org/python3/for mitigation steps.\r\n",
      "\r\n",
      "This system supports the C.UTF-8 locale which is recommended.\r\n",
      "You might be able to resolve your issue by exporting the\r\n",
      "following environment variables:\r\n",
      "\r\n",
      "    export LC_ALL=C.UTF-8\r\n",
      "    export LANG=C.UTF-8\r\n",
      "\r\n",
      "Click discovered that you exported a UTF-8 locale\r\n",
      "but the locale system could not pick up from it because\r\n",
      "it does not exist.  The exported locale is \"en_US.UTF-8\" but it\r\n",
      "is not supported\r\n"
     ]
    }
   ],
   "source": [
    "# datapaths = ['data/train/AOI_2_Vegas_Train', 'data/train/AOI_3_Paris_Train', 'data/train/AOI_4_Shanghai_Train', 'data/train/AOI_5_Khartoum_Train']\n",
    "# !python code/v5_im-full_rgb.py preproc_test {datapaths[0]}"
   ]
  },
  {
   "cell_type": "code",
   "execution_count": 6,
   "metadata": {},
   "outputs": [],
   "source": [
    "# !python code/v5_im-full_rgb.py preproc_test {datapaths[3]}"
   ]
  },
  {
   "cell_type": "code",
   "execution_count": 7,
   "metadata": {},
   "outputs": [],
   "source": [
    "# !python code/v5_im-full_rgb.py preproc_test {datapaths[0]}\n",
    "# !python code/v5_im-full_rgb.py preproc_test {datapaths[2]}"
   ]
  },
  {
   "cell_type": "markdown",
   "metadata": {},
   "source": [
    "## Inferencing"
   ]
  },
  {
   "cell_type": "code",
   "execution_count": null,
   "metadata": {},
   "outputs": [],
   "source": []
  }
 ],
 "metadata": {
  "kernelspec": {
   "display_name": "Python 3",
   "language": "python",
   "name": "python3"
  },
  "language_info": {
   "codemirror_mode": {
    "name": "ipython",
    "version": 3
   },
   "file_extension": ".py",
   "mimetype": "text/x-python",
   "name": "python",
   "nbconvert_exporter": "python",
   "pygments_lexer": "ipython3",
   "version": "3.6.5"
  }
 },
 "nbformat": 4,
 "nbformat_minor": 2
}
