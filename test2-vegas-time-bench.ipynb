{
 "cells": [
  {
   "cell_type": "code",
   "execution_count": 1,
   "metadata": {},
   "outputs": [],
   "source": [
    "%matplotlib inline\n",
    "%reload_ext autoreload\n",
    "%autoreload 2"
   ]
  },
  {
   "cell_type": "code",
   "execution_count": 13,
   "metadata": {},
   "outputs": [],
   "source": [
    "%run lib2 --area_id=3 --bs=32 --num_workers=8 --num_slice=25 --gpu_start=0 --num_gpus=2\n",
    "pad = True"
   ]
  },
  {
   "cell_type": "code",
   "execution_count": 3,
   "metadata": {},
   "outputs": [],
   "source": [
    "from v17 import _internal_pred_to_poly_file, _calc_fscore_per_aoi"
   ]
  },
  {
   "cell_type": "code",
   "execution_count": 4,
   "metadata": {
    "collapsed": true
   },
   "outputs": [
    {
     "data": {
      "application/vnd.jupyter.widget-view+json": {
       "model_id": "a01fe27b87794109ba028abd0f4d4d3b",
       "version_major": 2,
       "version_minor": 0
      },
      "text/plain": [
       "HBox(children=(IntProgress(value=0, max=1156), HTML(value='')))"
      ]
     },
     "metadata": {},
     "output_type": "display_data"
    },
    {
     "name": "stdout",
     "output_type": "stream",
     "text": [
      "\n"
     ]
    },
    {
     "ename": "KeyboardInterrupt",
     "evalue": "",
     "output_type": "error",
     "traceback": [
      "\u001b[0;31m---------------------------------------------------------------------------\u001b[0m",
      "\u001b[0;31mKeyboardInterrupt\u001b[0m                         Traceback (most recent call last)",
      "\u001b[0;32m<ipython-input-4-3644aac24856>\u001b[0m in \u001b[0;36m<module>\u001b[0;34m()\u001b[0m\n\u001b[1;32m      2\u001b[0m \u001b[0mtest_csv\u001b[0m \u001b[0;34m=\u001b[0m \u001b[0mpd\u001b[0m\u001b[0;34m.\u001b[0m\u001b[0mread_csv\u001b[0m\u001b[0;34m(\u001b[0m\u001b[0mPATH\u001b[0m\u001b[0;34m/\u001b[0m\u001b[0mDATA_PATH\u001b[0m\u001b[0;34m/\u001b[0m\u001b[0mFMT_VALTEST_FN\u001b[0m\u001b[0;34m)\u001b[0m\u001b[0;34m\u001b[0m\u001b[0m\n\u001b[1;32m      3\u001b[0m \u001b[0mimage_ids\u001b[0m \u001b[0;34m=\u001b[0m \u001b[0mtest_csv\u001b[0m\u001b[0;34m[\u001b[0m\u001b[0;34m'ImageId'\u001b[0m\u001b[0;34m]\u001b[0m\u001b[0;34m.\u001b[0m\u001b[0mtolist\u001b[0m\u001b[0;34m(\u001b[0m\u001b[0;34m)\u001b[0m\u001b[0;34m\u001b[0m\u001b[0m\n\u001b[0;32m----> 4\u001b[0;31m \u001b[0mtest_y\u001b[0m \u001b[0;34m=\u001b[0m \u001b[0mload_y\u001b[0m\u001b[0;34m(\u001b[0m\u001b[0mimage_ids\u001b[0m\u001b[0;34m,\u001b[0m \u001b[0mFMT_VALTEST_MASK_STORE\u001b[0m\u001b[0;34m)\u001b[0m\u001b[0;34m\u001b[0m\u001b[0m\n\u001b[0m\u001b[1;32m      5\u001b[0m \u001b[0mx_names\u001b[0m \u001b[0;34m=\u001b[0m \u001b[0;34m[\u001b[0m\u001b[0mstr\u001b[0m\u001b[0;34m(\u001b[0m\u001b[0mo\u001b[0m\u001b[0;34m)\u001b[0m \u001b[0;34m+\u001b[0m \u001b[0;34m'.png'\u001b[0m \u001b[0;32mfor\u001b[0m \u001b[0mo\u001b[0m \u001b[0;32min\u001b[0m \u001b[0mimage_ids\u001b[0m\u001b[0;34m]\u001b[0m\u001b[0;34m\u001b[0m\u001b[0m\n",
      "\u001b[0;32m~/buildings/lib2.py\u001b[0m in \u001b[0;36mload_y\u001b[0;34m(image_ids, fn)\u001b[0m\n\u001b[1;32m    137\u001b[0m         \u001b[0;32mfor\u001b[0m \u001b[0mi\u001b[0m\u001b[0;34m,\u001b[0m \u001b[0mimage_id\u001b[0m \u001b[0;32min\u001b[0m \u001b[0mtqdm_notebook\u001b[0m\u001b[0;34m(\u001b[0m\u001b[0menumerate\u001b[0m\u001b[0;34m(\u001b[0m\u001b[0mimage_ids\u001b[0m\u001b[0;34m)\u001b[0m\u001b[0;34m,\u001b[0m \u001b[0mtotal\u001b[0m\u001b[0;34m=\u001b[0m\u001b[0mn\u001b[0m\u001b[0;34m)\u001b[0m\u001b[0;34m:\u001b[0m\u001b[0;34m\u001b[0m\u001b[0m\n\u001b[1;32m    138\u001b[0m             \u001b[0mfn\u001b[0m \u001b[0;34m=\u001b[0m \u001b[0;34m'/'\u001b[0m \u001b[0;34m+\u001b[0m \u001b[0mimage_id\u001b[0m\u001b[0;34m\u001b[0m\u001b[0m\n\u001b[0;32m--> 139\u001b[0;31m             \u001b[0my\u001b[0m\u001b[0;34m[\u001b[0m\u001b[0mi\u001b[0m\u001b[0;34m]\u001b[0m \u001b[0;34m=\u001b[0m \u001b[0mnp\u001b[0m\u001b[0;34m.\u001b[0m\u001b[0marray\u001b[0m\u001b[0;34m(\u001b[0m\u001b[0mf\u001b[0m\u001b[0;34m.\u001b[0m\u001b[0mget_node\u001b[0m\u001b[0;34m(\u001b[0m\u001b[0mfn\u001b[0m\u001b[0;34m)\u001b[0m\u001b[0;34m)\u001b[0m\u001b[0;34m[\u001b[0m\u001b[0;34m...\u001b[0m\u001b[0;34m,\u001b[0m \u001b[0;32mNone\u001b[0m\u001b[0;34m]\u001b[0m\u001b[0;34m\u001b[0m\u001b[0m\n\u001b[0m\u001b[1;32m    140\u001b[0m     \u001b[0my\u001b[0m \u001b[0;34m=\u001b[0m \u001b[0mnp\u001b[0m\u001b[0;34m.\u001b[0m\u001b[0mbroadcast_to\u001b[0m\u001b[0;34m(\u001b[0m\u001b[0my\u001b[0m\u001b[0;34m,\u001b[0m \u001b[0;34m(\u001b[0m\u001b[0mn\u001b[0m\u001b[0;34m,\u001b[0m \u001b[0mORIGINAL_SIZE\u001b[0m\u001b[0;34m,\u001b[0m \u001b[0mORIGINAL_SIZE\u001b[0m\u001b[0;34m,\u001b[0m \u001b[0;36m3\u001b[0m\u001b[0;34m)\u001b[0m\u001b[0;34m)\u001b[0m\u001b[0;34m\u001b[0m\u001b[0m\n\u001b[1;32m    141\u001b[0m     \u001b[0;32mreturn\u001b[0m \u001b[0my\u001b[0m\u001b[0;34m\u001b[0m\u001b[0m\n",
      "\u001b[0;32m~/miniconda3/envs/fastai/lib/python3.6/site-packages/tables/array.py\u001b[0m in \u001b[0;36m__next__\u001b[0;34m(self)\u001b[0m\n\u001b[1;32m    346\u001b[0m                 \u001b[0;32mif\u001b[0m \u001b[0mself\u001b[0m\u001b[0;34m.\u001b[0m\u001b[0m_stopb\u001b[0m \u001b[0;34m>\u001b[0m \u001b[0mself\u001b[0m\u001b[0;34m.\u001b[0m\u001b[0m_stop\u001b[0m\u001b[0;34m:\u001b[0m\u001b[0;34m\u001b[0m\u001b[0m\n\u001b[1;32m    347\u001b[0m                     \u001b[0mself\u001b[0m\u001b[0;34m.\u001b[0m\u001b[0m_stopb\u001b[0m \u001b[0;34m=\u001b[0m \u001b[0mself\u001b[0m\u001b[0;34m.\u001b[0m\u001b[0m_stop\u001b[0m\u001b[0;34m\u001b[0m\u001b[0m\n\u001b[0;32m--> 348\u001b[0;31m                 \u001b[0mlistarr\u001b[0m \u001b[0;34m=\u001b[0m \u001b[0mself\u001b[0m\u001b[0;34m.\u001b[0m\u001b[0m_read\u001b[0m\u001b[0;34m(\u001b[0m\u001b[0mself\u001b[0m\u001b[0;34m.\u001b[0m\u001b[0m_startb\u001b[0m\u001b[0;34m,\u001b[0m \u001b[0mself\u001b[0m\u001b[0;34m.\u001b[0m\u001b[0m_stopb\u001b[0m\u001b[0;34m,\u001b[0m \u001b[0mself\u001b[0m\u001b[0;34m.\u001b[0m\u001b[0m_step\u001b[0m\u001b[0;34m)\u001b[0m\u001b[0;34m\u001b[0m\u001b[0m\n\u001b[0m\u001b[1;32m    349\u001b[0m                 \u001b[0;31m# Swap the axes to easy the return of elements\u001b[0m\u001b[0;34m\u001b[0m\u001b[0;34m\u001b[0m\u001b[0m\n\u001b[1;32m    350\u001b[0m                 \u001b[0;32mif\u001b[0m \u001b[0mself\u001b[0m\u001b[0;34m.\u001b[0m\u001b[0mextdim\u001b[0m \u001b[0;34m>\u001b[0m \u001b[0;36m0\u001b[0m\u001b[0;34m:\u001b[0m\u001b[0;34m\u001b[0m\u001b[0m\n",
      "\u001b[0;32m~/miniconda3/envs/fastai/lib/python3.6/site-packages/tables/array.py\u001b[0m in \u001b[0;36m_read\u001b[0;34m(self, start, stop, step, out)\u001b[0m\n\u001b[1;32m    849\u001b[0m         \u001b[0;32mif\u001b[0m \u001b[0;36m0\u001b[0m \u001b[0;32mnot\u001b[0m \u001b[0;32min\u001b[0m \u001b[0mshape\u001b[0m\u001b[0;34m:\u001b[0m\u001b[0;34m\u001b[0m\u001b[0m\n\u001b[1;32m    850\u001b[0m             \u001b[0;31m# Arrays that have non-zero dimensionality\u001b[0m\u001b[0;34m\u001b[0m\u001b[0;34m\u001b[0m\u001b[0m\n\u001b[0;32m--> 851\u001b[0;31m             \u001b[0mself\u001b[0m\u001b[0;34m.\u001b[0m\u001b[0m_read_array\u001b[0m\u001b[0;34m(\u001b[0m\u001b[0mstart\u001b[0m\u001b[0;34m,\u001b[0m \u001b[0mstop\u001b[0m\u001b[0;34m,\u001b[0m \u001b[0mstep\u001b[0m\u001b[0;34m,\u001b[0m \u001b[0marr\u001b[0m\u001b[0;34m)\u001b[0m\u001b[0;34m\u001b[0m\u001b[0m\n\u001b[0m\u001b[1;32m    852\u001b[0m         \u001b[0;31m# data is always read in the system byteorder\u001b[0m\u001b[0;34m\u001b[0m\u001b[0;34m\u001b[0m\u001b[0m\n\u001b[1;32m    853\u001b[0m         \u001b[0;31m# if the out array's byteorder is different, do a byteswap\u001b[0m\u001b[0;34m\u001b[0m\u001b[0;34m\u001b[0m\u001b[0m\n",
      "\u001b[0;31mKeyboardInterrupt\u001b[0m: "
     ]
    }
   ],
   "source": [
    "# valtest\n",
    "test_csv = pd.read_csv(PATH/DATA_PATH/FMT_VALTEST_FN)\n",
    "image_ids = test_csv['ImageId'].tolist()\n",
    "test_y = load_y(image_ids, FMT_VALTEST_MASK_STORE)\n",
    "x_names = [str(o) + '.png' for o in image_ids]"
   ]
  },
  {
   "cell_type": "code",
   "execution_count": 14,
   "metadata": {},
   "outputs": [],
   "source": [
    "# actual test\n",
    "test_csv = pd.read_csv(PATH/DATA_PATH/FMT_TEST_FN)\n",
    "image_ids = test_csv['ImageId'].tolist()\n",
    "x_names = [str(o) + '.png' for o in image_ids]"
   ]
  },
  {
   "cell_type": "code",
   "execution_count": 15,
   "metadata": {},
   "outputs": [
    {
     "data": {
      "text/plain": [
       "['AOI_3_Paris_img1325',\n",
       " 'AOI_3_Paris_img255',\n",
       " 'AOI_3_Paris_img498',\n",
       " 'AOI_3_Paris_img257',\n",
       " 'AOI_3_Paris_img556',\n",
       " 'AOI_3_Paris_img145',\n",
       " 'AOI_3_Paris_img1563',\n",
       " 'AOI_3_Paris_img1708',\n",
       " 'AOI_3_Paris_img1200',\n",
       " 'AOI_3_Paris_img1580',\n",
       " 'AOI_3_Paris_img1006',\n",
       " 'AOI_3_Paris_img1634',\n",
       " 'AOI_3_Paris_img732',\n",
       " 'AOI_3_Paris_img2',\n",
       " 'AOI_3_Paris_img1505',\n",
       " 'AOI_3_Paris_img30',\n",
       " 'AOI_3_Paris_img566',\n",
       " 'AOI_3_Paris_img406',\n",
       " 'AOI_3_Paris_img803',\n",
       " 'AOI_3_Paris_img82',\n",
       " 'AOI_3_Paris_img814',\n",
       " 'AOI_3_Paris_img1612',\n",
       " 'AOI_3_Paris_img1220',\n",
       " 'AOI_3_Paris_img1545',\n",
       " 'AOI_3_Paris_img635',\n",
       " 'AOI_3_Paris_img1385',\n",
       " 'AOI_3_Paris_img1046',\n",
       " 'AOI_3_Paris_img1051',\n",
       " 'AOI_3_Paris_img1358',\n",
       " 'AOI_3_Paris_img1366',\n",
       " 'AOI_3_Paris_img262',\n",
       " 'AOI_3_Paris_img684',\n",
       " 'AOI_3_Paris_img695',\n",
       " 'AOI_3_Paris_img1453',\n",
       " 'AOI_3_Paris_img1115',\n",
       " 'AOI_3_Paris_img91',\n",
       " 'AOI_3_Paris_img1862',\n",
       " 'AOI_3_Paris_img237',\n",
       " 'AOI_3_Paris_img1409',\n",
       " 'AOI_3_Paris_img884',\n",
       " 'AOI_3_Paris_img1361',\n",
       " 'AOI_3_Paris_img1282',\n",
       " 'AOI_3_Paris_img856',\n",
       " 'AOI_3_Paris_img479',\n",
       " 'AOI_3_Paris_img1624',\n",
       " 'AOI_3_Paris_img1591',\n",
       " 'AOI_3_Paris_img972',\n",
       " 'AOI_3_Paris_img138',\n",
       " 'AOI_3_Paris_img963',\n",
       " 'AOI_3_Paris_img1186',\n",
       " 'AOI_3_Paris_img1637',\n",
       " 'AOI_3_Paris_img526',\n",
       " 'AOI_3_Paris_img1260',\n",
       " 'AOI_3_Paris_img508',\n",
       " 'AOI_3_Paris_img1482',\n",
       " 'AOI_3_Paris_img1548',\n",
       " 'AOI_3_Paris_img231',\n",
       " 'AOI_3_Paris_img1333',\n",
       " 'AOI_3_Paris_img1490',\n",
       " 'AOI_3_Paris_img881',\n",
       " 'AOI_3_Paris_img572',\n",
       " 'AOI_3_Paris_img161',\n",
       " 'AOI_3_Paris_img719',\n",
       " 'AOI_3_Paris_img1880',\n",
       " 'AOI_3_Paris_img1138',\n",
       " 'AOI_3_Paris_img818',\n",
       " 'AOI_3_Paris_img996',\n",
       " 'AOI_3_Paris_img64',\n",
       " 'AOI_3_Paris_img247',\n",
       " 'AOI_3_Paris_img1403',\n",
       " 'AOI_3_Paris_img1053',\n",
       " 'AOI_3_Paris_img1567',\n",
       " 'AOI_3_Paris_img1761',\n",
       " 'AOI_3_Paris_img1283',\n",
       " 'AOI_3_Paris_img922',\n",
       " 'AOI_3_Paris_img1215',\n",
       " 'AOI_3_Paris_img1777',\n",
       " 'AOI_3_Paris_img549',\n",
       " 'AOI_3_Paris_img454',\n",
       " 'AOI_3_Paris_img1745',\n",
       " 'AOI_3_Paris_img1099',\n",
       " 'AOI_3_Paris_img974',\n",
       " 'AOI_3_Paris_img889',\n",
       " 'AOI_3_Paris_img236',\n",
       " 'AOI_3_Paris_img279',\n",
       " 'AOI_3_Paris_img992',\n",
       " 'AOI_3_Paris_img1904',\n",
       " 'AOI_3_Paris_img1539',\n",
       " 'AOI_3_Paris_img888',\n",
       " 'AOI_3_Paris_img363',\n",
       " 'AOI_3_Paris_img598',\n",
       " 'AOI_3_Paris_img273',\n",
       " 'AOI_3_Paris_img910',\n",
       " 'AOI_3_Paris_img1083',\n",
       " 'AOI_3_Paris_img668',\n",
       " 'AOI_3_Paris_img790',\n",
       " 'AOI_3_Paris_img611',\n",
       " 'AOI_3_Paris_img1374',\n",
       " 'AOI_3_Paris_img1387',\n",
       " 'AOI_3_Paris_img1720',\n",
       " 'AOI_3_Paris_img1842',\n",
       " 'AOI_3_Paris_img1097',\n",
       " 'AOI_3_Paris_img79',\n",
       " 'AOI_3_Paris_img655',\n",
       " 'AOI_3_Paris_img1421',\n",
       " 'AOI_3_Paris_img1895',\n",
       " 'AOI_3_Paris_img51',\n",
       " 'AOI_3_Paris_img114',\n",
       " 'AOI_3_Paris_img15',\n",
       " 'AOI_3_Paris_img1709',\n",
       " 'AOI_3_Paris_img97',\n",
       " 'AOI_3_Paris_img883',\n",
       " 'AOI_3_Paris_img1578',\n",
       " 'AOI_3_Paris_img928',\n",
       " 'AOI_3_Paris_img213',\n",
       " 'AOI_3_Paris_img919',\n",
       " 'AOI_3_Paris_img1067',\n",
       " 'AOI_3_Paris_img35',\n",
       " 'AOI_3_Paris_img447',\n",
       " 'AOI_3_Paris_img1323',\n",
       " 'AOI_3_Paris_img361',\n",
       " 'AOI_3_Paris_img1557',\n",
       " 'AOI_3_Paris_img698',\n",
       " 'AOI_3_Paris_img776',\n",
       " 'AOI_3_Paris_img1058',\n",
       " 'AOI_3_Paris_img1004',\n",
       " 'AOI_3_Paris_img541',\n",
       " 'AOI_3_Paris_img1625',\n",
       " 'AOI_3_Paris_img1319',\n",
       " 'AOI_3_Paris_img1376',\n",
       " 'AOI_3_Paris_img1876',\n",
       " 'AOI_3_Paris_img1221',\n",
       " 'AOI_3_Paris_img1609',\n",
       " 'AOI_3_Paris_img326',\n",
       " 'AOI_3_Paris_img682',\n",
       " 'AOI_3_Paris_img1802',\n",
       " 'AOI_3_Paris_img973',\n",
       " 'AOI_3_Paris_img13',\n",
       " 'AOI_3_Paris_img1510',\n",
       " 'AOI_3_Paris_img496',\n",
       " 'AOI_3_Paris_img1758',\n",
       " 'AOI_3_Paris_img861',\n",
       " 'AOI_3_Paris_img1752',\n",
       " 'AOI_3_Paris_img744',\n",
       " 'AOI_3_Paris_img112',\n",
       " 'AOI_3_Paris_img612',\n",
       " 'AOI_3_Paris_img562',\n",
       " 'AOI_3_Paris_img105',\n",
       " 'AOI_3_Paris_img982',\n",
       " 'AOI_3_Paris_img1435',\n",
       " 'AOI_3_Paris_img1473',\n",
       " 'AOI_3_Paris_img756',\n",
       " 'AOI_3_Paris_img938',\n",
       " 'AOI_3_Paris_img246',\n",
       " 'AOI_3_Paris_img1568',\n",
       " 'AOI_3_Paris_img87',\n",
       " 'AOI_3_Paris_img603',\n",
       " 'AOI_3_Paris_img1128',\n",
       " 'AOI_3_Paris_img224',\n",
       " 'AOI_3_Paris_img1243',\n",
       " 'AOI_3_Paris_img553',\n",
       " 'AOI_3_Paris_img1479',\n",
       " 'AOI_3_Paris_img1247',\n",
       " 'AOI_3_Paris_img1042',\n",
       " 'AOI_3_Paris_img169',\n",
       " 'AOI_3_Paris_img9',\n",
       " 'AOI_3_Paris_img981',\n",
       " 'AOI_3_Paris_img126',\n",
       " 'AOI_3_Paris_img1661',\n",
       " 'AOI_3_Paris_img458',\n",
       " 'AOI_3_Paris_img446',\n",
       " 'AOI_3_Paris_img1677',\n",
       " 'AOI_3_Paris_img1732',\n",
       " 'AOI_3_Paris_img1604',\n",
       " 'AOI_3_Paris_img700',\n",
       " 'AOI_3_Paris_img1080',\n",
       " 'AOI_3_Paris_img1177',\n",
       " 'AOI_3_Paris_img1794',\n",
       " 'AOI_3_Paris_img1054',\n",
       " 'AOI_3_Paris_img829',\n",
       " 'AOI_3_Paris_img1169',\n",
       " 'AOI_3_Paris_img1248',\n",
       " 'AOI_3_Paris_img550',\n",
       " 'AOI_3_Paris_img129',\n",
       " 'AOI_3_Paris_img413',\n",
       " 'AOI_3_Paris_img60',\n",
       " 'AOI_3_Paris_img106',\n",
       " 'AOI_3_Paris_img497',\n",
       " 'AOI_3_Paris_img192',\n",
       " 'AOI_3_Paris_img1569',\n",
       " 'AOI_3_Paris_img787',\n",
       " 'AOI_3_Paris_img1500',\n",
       " 'AOI_3_Paris_img885',\n",
       " 'AOI_3_Paris_img565',\n",
       " 'AOI_3_Paris_img116',\n",
       " 'AOI_3_Paris_img1543',\n",
       " 'AOI_3_Paris_img633',\n",
       " 'AOI_3_Paris_img448',\n",
       " 'AOI_3_Paris_img1349',\n",
       " 'AOI_3_Paris_img967',\n",
       " 'AOI_3_Paris_img1738',\n",
       " 'AOI_3_Paris_img840',\n",
       " 'AOI_3_Paris_img1209',\n",
       " 'AOI_3_Paris_img1519',\n",
       " 'AOI_3_Paris_img253',\n",
       " 'AOI_3_Paris_img371',\n",
       " 'AOI_3_Paris_img558',\n",
       " 'AOI_3_Paris_img33',\n",
       " 'AOI_3_Paris_img1753',\n",
       " 'AOI_3_Paris_img286',\n",
       " 'AOI_3_Paris_img1694',\n",
       " 'AOI_3_Paris_img529',\n",
       " 'AOI_3_Paris_img1075',\n",
       " 'AOI_3_Paris_img475',\n",
       " 'AOI_3_Paris_img315',\n",
       " 'AOI_3_Paris_img130',\n",
       " 'AOI_3_Paris_img1726',\n",
       " 'AOI_3_Paris_img1439',\n",
       " 'AOI_3_Paris_img1005',\n",
       " 'AOI_3_Paris_img1356',\n",
       " 'AOI_3_Paris_img1110',\n",
       " 'AOI_3_Paris_img1896',\n",
       " 'AOI_3_Paris_img610',\n",
       " 'AOI_3_Paris_img1237',\n",
       " 'AOI_3_Paris_img702',\n",
       " 'AOI_3_Paris_img1698',\n",
       " 'AOI_3_Paris_img457',\n",
       " 'AOI_3_Paris_img1216',\n",
       " 'AOI_3_Paris_img1522',\n",
       " 'AOI_3_Paris_img7',\n",
       " 'AOI_3_Paris_img872',\n",
       " 'AOI_3_Paris_img1771',\n",
       " 'AOI_3_Paris_img1734',\n",
       " 'AOI_3_Paris_img251',\n",
       " 'AOI_3_Paris_img404',\n",
       " 'AOI_3_Paris_img567',\n",
       " 'AOI_3_Paris_img1739',\n",
       " 'AOI_3_Paris_img1418',\n",
       " 'AOI_3_Paris_img172',\n",
       " 'AOI_3_Paris_img568',\n",
       " 'AOI_3_Paris_img799',\n",
       " 'AOI_3_Paris_img753',\n",
       " 'AOI_3_Paris_img557',\n",
       " 'AOI_3_Paris_img296',\n",
       " 'AOI_3_Paris_img1516',\n",
       " 'AOI_3_Paris_img1710',\n",
       " 'AOI_3_Paris_img1088',\n",
       " 'AOI_3_Paris_img1655',\n",
       " 'AOI_3_Paris_img330',\n",
       " 'AOI_3_Paris_img171',\n",
       " 'AOI_3_Paris_img759',\n",
       " 'AOI_3_Paris_img547',\n",
       " 'AOI_3_Paris_img187',\n",
       " 'AOI_3_Paris_img483',\n",
       " 'AOI_3_Paris_img810',\n",
       " 'AOI_3_Paris_img1210',\n",
       " 'AOI_3_Paris_img523',\n",
       " 'AOI_3_Paris_img149',\n",
       " 'AOI_3_Paris_img596',\n",
       " 'AOI_3_Paris_img1126',\n",
       " 'AOI_3_Paris_img886',\n",
       " 'AOI_3_Paris_img1317',\n",
       " 'AOI_3_Paris_img671',\n",
       " 'AOI_3_Paris_img591',\n",
       " 'AOI_3_Paris_img308',\n",
       " 'AOI_3_Paris_img1190',\n",
       " 'AOI_3_Paris_img1100',\n",
       " 'AOI_3_Paris_img1398',\n",
       " 'AOI_3_Paris_img1198',\n",
       " 'AOI_3_Paris_img1098',\n",
       " 'AOI_3_Paris_img1369',\n",
       " 'AOI_3_Paris_img1697',\n",
       " 'AOI_3_Paris_img320',\n",
       " 'AOI_3_Paris_img588',\n",
       " 'AOI_3_Paris_img1477',\n",
       " 'AOI_3_Paris_img764',\n",
       " 'AOI_3_Paris_img1148',\n",
       " 'AOI_3_Paris_img1542',\n",
       " 'AOI_3_Paris_img77',\n",
       " 'AOI_3_Paris_img190',\n",
       " 'AOI_3_Paris_img76',\n",
       " 'AOI_3_Paris_img711',\n",
       " 'AOI_3_Paris_img275',\n",
       " 'AOI_3_Paris_img265',\n",
       " 'AOI_3_Paris_img1571',\n",
       " 'AOI_3_Paris_img1441',\n",
       " 'AOI_3_Paris_img1407',\n",
       " 'AOI_3_Paris_img1061',\n",
       " 'AOI_3_Paris_img1582',\n",
       " 'AOI_3_Paris_img152',\n",
       " 'AOI_3_Paris_img1231',\n",
       " 'AOI_3_Paris_img1440',\n",
       " 'AOI_3_Paris_img1870',\n",
       " 'AOI_3_Paris_img1502',\n",
       " 'AOI_3_Paris_img1015',\n",
       " 'AOI_3_Paris_img1638',\n",
       " 'AOI_3_Paris_img1293',\n",
       " 'AOI_3_Paris_img717',\n",
       " 'AOI_3_Paris_img835',\n",
       " 'AOI_3_Paris_img620',\n",
       " 'AOI_3_Paris_img906',\n",
       " 'AOI_3_Paris_img916',\n",
       " 'AOI_3_Paris_img801',\n",
       " 'AOI_3_Paris_img1695',\n",
       " 'AOI_3_Paris_img1882',\n",
       " 'AOI_3_Paris_img414',\n",
       " 'AOI_3_Paris_img1722',\n",
       " 'AOI_3_Paris_img430',\n",
       " 'AOI_3_Paris_img18',\n",
       " 'AOI_3_Paris_img1905',\n",
       " 'AOI_3_Paris_img1600',\n",
       " 'AOI_3_Paris_img1584',\n",
       " 'AOI_3_Paris_img1715',\n",
       " 'AOI_3_Paris_img179',\n",
       " 'AOI_3_Paris_img400',\n",
       " 'AOI_3_Paris_img1863',\n",
       " 'AOI_3_Paris_img677',\n",
       " 'AOI_3_Paris_img769',\n",
       " 'AOI_3_Paris_img1353',\n",
       " 'AOI_3_Paris_img1267',\n",
       " 'AOI_3_Paris_img1744',\n",
       " 'AOI_3_Paris_img401',\n",
       " 'AOI_3_Paris_img438',\n",
       " 'AOI_3_Paris_img846',\n",
       " 'AOI_3_Paris_img1813',\n",
       " 'AOI_3_Paris_img268',\n",
       " 'AOI_3_Paris_img1287',\n",
       " 'AOI_3_Paris_img538',\n",
       " 'AOI_3_Paris_img1068',\n",
       " 'AOI_3_Paris_img1781',\n",
       " 'AOI_3_Paris_img256',\n",
       " 'AOI_3_Paris_img771',\n",
       " 'AOI_3_Paris_img939',\n",
       " 'AOI_3_Paris_img218',\n",
       " 'AOI_3_Paris_img606',\n",
       " 'AOI_3_Paris_img1291',\n",
       " 'AOI_3_Paris_img422',\n",
       " 'AOI_3_Paris_img609',\n",
       " 'AOI_3_Paris_img623',\n",
       " 'AOI_3_Paris_img917',\n",
       " 'AOI_3_Paris_img1903',\n",
       " 'AOI_3_Paris_img911',\n",
       " 'AOI_3_Paris_img1151',\n",
       " 'AOI_3_Paris_img1594',\n",
       " 'AOI_3_Paris_img364',\n",
       " 'AOI_3_Paris_img1891',\n",
       " 'AOI_3_Paris_img117',\n",
       " 'AOI_3_Paris_img281',\n",
       " 'AOI_3_Paris_img222',\n",
       " 'AOI_3_Paris_img934',\n",
       " 'AOI_3_Paris_img1465',\n",
       " 'AOI_3_Paris_img1688',\n",
       " 'AOI_3_Paris_img1853',\n",
       " 'AOI_3_Paris_img1160',\n",
       " 'AOI_3_Paris_img1702',\n",
       " 'AOI_3_Paris_img1340',\n",
       " 'AOI_3_Paris_img640',\n",
       " 'AOI_3_Paris_img1797',\n",
       " 'AOI_3_Paris_img167',\n",
       " 'AOI_3_Paris_img1134',\n",
       " 'AOI_3_Paris_img419',\n",
       " 'AOI_3_Paris_img1272',\n",
       " 'AOI_3_Paris_img1871',\n",
       " 'AOI_3_Paris_img1257',\n",
       " 'AOI_3_Paris_img688',\n",
       " 'AOI_3_Paris_img1769',\n",
       " 'AOI_3_Paris_img80',\n",
       " 'AOI_3_Paris_img93',\n",
       " 'AOI_3_Paris_img524',\n",
       " 'AOI_3_Paris_img548',\n",
       " 'AOI_3_Paris_img834',\n",
       " 'AOI_3_Paris_img1119',\n",
       " 'AOI_3_Paris_img42',\n",
       " 'AOI_3_Paris_img983',\n",
       " 'AOI_3_Paris_img1497',\n",
       " 'AOI_3_Paris_img58',\n",
       " 'AOI_3_Paris_img1508',\n",
       " 'AOI_3_Paris_img1671',\n",
       " 'AOI_3_Paris_img1757',\n",
       " 'AOI_3_Paris_img1494',\n",
       " 'AOI_3_Paris_img184',\n",
       " 'AOI_3_Paris_img1848']"
      ]
     },
     "execution_count": 15,
     "metadata": {},
     "output_type": "execute_result"
    }
   ],
   "source": [
    "test_csv.ImageId.tolist()"
   ]
  },
  {
   "cell_type": "code",
   "execution_count": 5,
   "metadata": {},
   "outputs": [],
   "source": [
    "stats = get_rgb_mean_stat(area_id)\n",
    "aug_tfms = transforms_top_down\n",
    "for o in aug_tfms: o.tfm_y = TfmType.CLASS\n",
    "tfms = tfms_from_stats(stats, sz, crop_type=CropType.NO, tfm_y=TfmType.CLASS, aug_tfms=aug_tfms)"
   ]
  },
  {
   "cell_type": "code",
   "execution_count": 6,
   "metadata": {},
   "outputs": [],
   "source": [
    "model = get_model()"
   ]
  },
  {
   "cell_type": "code",
   "execution_count": 7,
   "metadata": {},
   "outputs": [],
   "source": [
    "empty = ['empty'] * 2\n",
    "trn = empty\n",
    "val = empty\n",
    "test = x_names\n",
    "# datasets = ImageData.get_ds(OptionalFilesArrayDataset, trn, val, tfms,\n",
    "#                             test=test, path=PATH/DATA_PATH/TRN, num_slice=num_slice, pad=pad)\n",
    "datasets = ImageData.get_ds(OptionalFilesArrayDataset, trn, val, tfms,\n",
    "                            test=test, path=PATH/DATA_PATH/TEST, num_slice=num_slice, pad=pad)\n",
    "md = ImageData(str(PATH), datasets, bs, num_workers=num_workers, classes=None)\n",
    "denorm = md.trn_ds.denorm"
   ]
  },
  {
   "cell_type": "code",
   "execution_count": 8,
   "metadata": {},
   "outputs": [],
   "source": [
    "learn = get_learn(md, model, load_weight=True)"
   ]
  },
  {
   "cell_type": "code",
   "execution_count": 11,
   "metadata": {
    "collapsed": true
   },
   "outputs": [
    {
     "data": {
      "text/plain": [
       "DataParallel(\n",
       "  (module): UNet16(\n",
       "    (pool): MaxPool2d(kernel_size=(2, 2), stride=(2, 2), dilation=(1, 1), ceil_mode=False)\n",
       "    (encoder): Sequential(\n",
       "      (0): Conv2d(3, 64, kernel_size=(3, 3), stride=(1, 1), padding=(1, 1))\n",
       "      (1): ReLU(inplace)\n",
       "      (2): Conv2d(64, 64, kernel_size=(3, 3), stride=(1, 1), padding=(1, 1))\n",
       "      (3): ReLU(inplace)\n",
       "      (4): MaxPool2d(kernel_size=(2, 2), stride=(2, 2), dilation=(1, 1), ceil_mode=False)\n",
       "      (5): Conv2d(64, 128, kernel_size=(3, 3), stride=(1, 1), padding=(1, 1))\n",
       "      (6): ReLU(inplace)\n",
       "      (7): Conv2d(128, 128, kernel_size=(3, 3), stride=(1, 1), padding=(1, 1))\n",
       "      (8): ReLU(inplace)\n",
       "      (9): MaxPool2d(kernel_size=(2, 2), stride=(2, 2), dilation=(1, 1), ceil_mode=False)\n",
       "      (10): Conv2d(128, 256, kernel_size=(3, 3), stride=(1, 1), padding=(1, 1))\n",
       "      (11): ReLU(inplace)\n",
       "      (12): Conv2d(256, 256, kernel_size=(3, 3), stride=(1, 1), padding=(1, 1))\n",
       "      (13): ReLU(inplace)\n",
       "      (14): Conv2d(256, 256, kernel_size=(3, 3), stride=(1, 1), padding=(1, 1))\n",
       "      (15): ReLU(inplace)\n",
       "      (16): MaxPool2d(kernel_size=(2, 2), stride=(2, 2), dilation=(1, 1), ceil_mode=False)\n",
       "      (17): Conv2d(256, 512, kernel_size=(3, 3), stride=(1, 1), padding=(1, 1))\n",
       "      (18): ReLU(inplace)\n",
       "      (19): Conv2d(512, 512, kernel_size=(3, 3), stride=(1, 1), padding=(1, 1))\n",
       "      (20): ReLU(inplace)\n",
       "      (21): Conv2d(512, 512, kernel_size=(3, 3), stride=(1, 1), padding=(1, 1))\n",
       "      (22): ReLU(inplace)\n",
       "      (23): MaxPool2d(kernel_size=(2, 2), stride=(2, 2), dilation=(1, 1), ceil_mode=False)\n",
       "      (24): Conv2d(512, 512, kernel_size=(3, 3), stride=(1, 1), padding=(1, 1))\n",
       "      (25): ReLU(inplace)\n",
       "      (26): Conv2d(512, 512, kernel_size=(3, 3), stride=(1, 1), padding=(1, 1))\n",
       "      (27): ReLU(inplace)\n",
       "      (28): Conv2d(512, 512, kernel_size=(3, 3), stride=(1, 1), padding=(1, 1))\n",
       "      (29): ReLU(inplace)\n",
       "      (30): MaxPool2d(kernel_size=(2, 2), stride=(2, 2), dilation=(1, 1), ceil_mode=False)\n",
       "    )\n",
       "    (relu): ReLU(inplace)\n",
       "    (conv1): Sequential(\n",
       "      (0): Conv2d(3, 64, kernel_size=(3, 3), stride=(1, 1), padding=(1, 1))\n",
       "      (1): ReLU(inplace)\n",
       "      (2): Conv2d(64, 64, kernel_size=(3, 3), stride=(1, 1), padding=(1, 1))\n",
       "      (3): ReLU(inplace)\n",
       "    )\n",
       "    (conv2): Sequential(\n",
       "      (0): Conv2d(64, 128, kernel_size=(3, 3), stride=(1, 1), padding=(1, 1))\n",
       "      (1): ReLU(inplace)\n",
       "      (2): Conv2d(128, 128, kernel_size=(3, 3), stride=(1, 1), padding=(1, 1))\n",
       "      (3): ReLU(inplace)\n",
       "    )\n",
       "    (conv3): Sequential(\n",
       "      (0): Conv2d(128, 256, kernel_size=(3, 3), stride=(1, 1), padding=(1, 1))\n",
       "      (1): ReLU(inplace)\n",
       "      (2): Conv2d(256, 256, kernel_size=(3, 3), stride=(1, 1), padding=(1, 1))\n",
       "      (3): ReLU(inplace)\n",
       "      (4): Conv2d(256, 256, kernel_size=(3, 3), stride=(1, 1), padding=(1, 1))\n",
       "      (5): ReLU(inplace)\n",
       "    )\n",
       "    (conv4): Sequential(\n",
       "      (0): Conv2d(256, 512, kernel_size=(3, 3), stride=(1, 1), padding=(1, 1))\n",
       "      (1): ReLU(inplace)\n",
       "      (2): Conv2d(512, 512, kernel_size=(3, 3), stride=(1, 1), padding=(1, 1))\n",
       "      (3): ReLU(inplace)\n",
       "      (4): Conv2d(512, 512, kernel_size=(3, 3), stride=(1, 1), padding=(1, 1))\n",
       "      (5): ReLU(inplace)\n",
       "    )\n",
       "    (conv5): Sequential(\n",
       "      (0): Conv2d(512, 512, kernel_size=(3, 3), stride=(1, 1), padding=(1, 1))\n",
       "      (1): ReLU(inplace)\n",
       "      (2): Conv2d(512, 512, kernel_size=(3, 3), stride=(1, 1), padding=(1, 1))\n",
       "      (3): ReLU(inplace)\n",
       "      (4): Conv2d(512, 512, kernel_size=(3, 3), stride=(1, 1), padding=(1, 1))\n",
       "      (5): ReLU(inplace)\n",
       "    )\n",
       "    (center): DecoderBlock(\n",
       "      (block): Sequential(\n",
       "        (0): ConvRelu(\n",
       "          (conv): Conv2d(512, 512, kernel_size=(3, 3), stride=(1, 1), padding=(1, 1))\n",
       "          (activation): ReLU(inplace)\n",
       "        )\n",
       "        (1): ConvTranspose2d(512, 256, kernel_size=(4, 4), stride=(2, 2), padding=(1, 1))\n",
       "        (2): ReLU(inplace)\n",
       "      )\n",
       "    )\n",
       "    (dec5): DecoderBlock(\n",
       "      (block): Sequential(\n",
       "        (0): ConvRelu(\n",
       "          (conv): Conv2d(768, 512, kernel_size=(3, 3), stride=(1, 1), padding=(1, 1))\n",
       "          (activation): ReLU(inplace)\n",
       "        )\n",
       "        (1): ConvTranspose2d(512, 256, kernel_size=(4, 4), stride=(2, 2), padding=(1, 1))\n",
       "        (2): ReLU(inplace)\n",
       "      )\n",
       "    )\n",
       "    (dec4): DecoderBlock(\n",
       "      (block): Sequential(\n",
       "        (0): ConvRelu(\n",
       "          (conv): Conv2d(768, 512, kernel_size=(3, 3), stride=(1, 1), padding=(1, 1))\n",
       "          (activation): ReLU(inplace)\n",
       "        )\n",
       "        (1): ConvTranspose2d(512, 256, kernel_size=(4, 4), stride=(2, 2), padding=(1, 1))\n",
       "        (2): ReLU(inplace)\n",
       "      )\n",
       "    )\n",
       "    (dec3): DecoderBlock(\n",
       "      (block): Sequential(\n",
       "        (0): ConvRelu(\n",
       "          (conv): Conv2d(512, 256, kernel_size=(3, 3), stride=(1, 1), padding=(1, 1))\n",
       "          (activation): ReLU(inplace)\n",
       "        )\n",
       "        (1): ConvTranspose2d(256, 64, kernel_size=(4, 4), stride=(2, 2), padding=(1, 1))\n",
       "        (2): ReLU(inplace)\n",
       "      )\n",
       "    )\n",
       "    (dec2): DecoderBlock(\n",
       "      (block): Sequential(\n",
       "        (0): ConvRelu(\n",
       "          (conv): Conv2d(192, 128, kernel_size=(3, 3), stride=(1, 1), padding=(1, 1))\n",
       "          (activation): ReLU(inplace)\n",
       "        )\n",
       "        (1): ConvTranspose2d(128, 32, kernel_size=(4, 4), stride=(2, 2), padding=(1, 1))\n",
       "        (2): ReLU(inplace)\n",
       "      )\n",
       "    )\n",
       "    (dec1): ConvRelu(\n",
       "      (conv): Conv2d(96, 32, kernel_size=(3, 3), stride=(1, 1), padding=(1, 1))\n",
       "      (activation): ReLU(inplace)\n",
       "    )\n",
       "    (final): Conv2d(32, 1, kernel_size=(1, 1), stride=(1, 1))\n",
       "  )\n",
       ")"
      ]
     },
     "execution_count": 11,
     "metadata": {},
     "output_type": "execute_result"
    }
   ],
   "source": [
    "learn.model.eval()"
   ]
  },
  {
   "cell_type": "code",
   "execution_count": 44,
   "metadata": {},
   "outputs": [],
   "source": [
    "def manual_predict(learn):\n",
    "    n = learn.data.test_ds.get_n()\n",
    "#     n = 25\n",
    "    preds = np.empty((n, INPUT_SIZE, INPUT_SIZE))\n",
    "    for o in tqdm.tqdm_notebook(range(0, n, bs)):\n",
    "        end = min(n, o + bs)\n",
    "        X, y = learn.data.test_dl.get_batch(range(o, end))\n",
    "        preds[o:end] = sigmoid(learn.predict_array(X).squeeze())\n",
    "    #preds = skimage.transform.resize(preds, (650, 650))\n",
    "    return preds"
   ]
  },
  {
   "cell_type": "code",
   "execution_count": 23,
   "metadata": {},
   "outputs": [],
   "source": [
    "def sigmoid(y):\n",
    "    return 1 / (1 + np.exp(-y))"
   ]
  },
  {
   "cell_type": "code",
   "execution_count": 45,
   "metadata": {
    "scrolled": true
   },
   "outputs": [
    {
     "data": {
      "application/vnd.jupyter.widget-view+json": {
       "model_id": "08bfa0e746bc4c82a0ecffb47eeafa3d",
       "version_major": 2,
       "version_minor": 0
      },
      "text/plain": [
       "HBox(children=(IntProgress(value=0, max=1604), HTML(value='')))"
      ]
     },
     "metadata": {},
     "output_type": "display_data"
    },
    {
     "name": "stdout",
     "output_type": "stream",
     "text": [
      "\n"
     ]
    }
   ],
   "source": [
    "preds_crop = manual_predict(learn)"
   ]
  },
  {
   "cell_type": "code",
   "execution_count": 33,
   "metadata": {},
   "outputs": [
    {
     "name": "stdout",
     "output_type": "stream",
     "text": [
      "CPU times: user 12 ms, sys: 16 ms, total: 28 ms\n",
      "Wall time: 21.7 ms\n"
     ]
    }
   ],
   "source": [
    "%%time\n",
    "preds_big = np.asarray(list(put_back_parallel(preds_crop, max_workers=4, padded=True))).squeeze()"
   ]
  },
  {
   "cell_type": "code",
   "execution_count": null,
   "metadata": {},
   "outputs": [],
   "source": [
    "preds_big_sigmoid = to_np(F.sigmoid(T(preds_big)))"
   ]
  },
  {
   "cell_type": "code",
   "execution_count": 34,
   "metadata": {},
   "outputs": [
    {
     "data": {
      "image/png": "[encoded data removed]",
      "text/plain": [
       "<Figure size 432x216 with 2 Axes>"
      ]
     },
     "metadata": {},
     "output_type": "display_data"
    }
   ],
   "source": [
    "im_data = [[preds_big, preds_big]]\n",
    "plot_ims(im_data)"
   ]
  },
  {
   "cell_type": "code",
   "execution_count": 9,
   "metadata": {
    "collapsed": true
   },
   "outputs": [
    {
     "ename": "RuntimeError",
     "evalue": "cuda runtime error (2) : out of memory at /opt/conda/conda-bld/pytorch_1518244421288/work/torch/lib/THC/generic/THCStorage.cu:58",
     "output_type": "error",
     "traceback": [
      "\u001b[0;31m---------------------------------------------------------------------------\u001b[0m",
      "\u001b[0;31mRuntimeError\u001b[0m                              Traceback (most recent call last)",
      "\u001b[0;32m<ipython-input-9-f7fb6165951f>\u001b[0m in \u001b[0;36m<module>\u001b[0;34m()\u001b[0m\n\u001b[0;32m----> 1\u001b[0;31m \u001b[0mpreds\u001b[0m \u001b[0;34m=\u001b[0m \u001b[0mlearn\u001b[0m\u001b[0;34m.\u001b[0m\u001b[0mpredict\u001b[0m\u001b[0;34m(\u001b[0m\u001b[0mis_test\u001b[0m\u001b[0;34m=\u001b[0m\u001b[0;32mTrue\u001b[0m\u001b[0;34m)\u001b[0m\u001b[0;34m.\u001b[0m\u001b[0msqueeze\u001b[0m\u001b[0;34m(\u001b[0m\u001b[0;34m)\u001b[0m\u001b[0;34m\u001b[0m\u001b[0m\n\u001b[0m",
      "\u001b[0;32m~/buildings/fastai/learner.py\u001b[0m in \u001b[0;36mpredict\u001b[0;34m(self, is_test)\u001b[0m\n\u001b[1;32m    318\u001b[0m     \u001b[0;32mdef\u001b[0m \u001b[0mpredict\u001b[0m\u001b[0;34m(\u001b[0m\u001b[0mself\u001b[0m\u001b[0;34m,\u001b[0m \u001b[0mis_test\u001b[0m\u001b[0;34m=\u001b[0m\u001b[0;32mFalse\u001b[0m\u001b[0;34m)\u001b[0m\u001b[0;34m:\u001b[0m\u001b[0;34m\u001b[0m\u001b[0m\n\u001b[1;32m    319\u001b[0m         \u001b[0mdl\u001b[0m \u001b[0;34m=\u001b[0m \u001b[0mself\u001b[0m\u001b[0;34m.\u001b[0m\u001b[0mdata\u001b[0m\u001b[0;34m.\u001b[0m\u001b[0mtest_dl\u001b[0m \u001b[0;32mif\u001b[0m \u001b[0mis_test\u001b[0m \u001b[0;32melse\u001b[0m \u001b[0mself\u001b[0m\u001b[0;34m.\u001b[0m\u001b[0mdata\u001b[0m\u001b[0;34m.\u001b[0m\u001b[0mval_dl\u001b[0m\u001b[0;34m\u001b[0m\u001b[0m\n\u001b[0;32m--> 320\u001b[0;31m         \u001b[0;32mreturn\u001b[0m \u001b[0mpredict\u001b[0m\u001b[0;34m(\u001b[0m\u001b[0mself\u001b[0m\u001b[0;34m.\u001b[0m\u001b[0mmodel\u001b[0m\u001b[0;34m,\u001b[0m \u001b[0mdl\u001b[0m\u001b[0;34m)\u001b[0m\u001b[0;34m\u001b[0m\u001b[0m\n\u001b[0m\u001b[1;32m    321\u001b[0m \u001b[0;34m\u001b[0m\u001b[0m\n\u001b[1;32m    322\u001b[0m     \u001b[0;32mdef\u001b[0m \u001b[0mpredict_with_targs\u001b[0m\u001b[0;34m(\u001b[0m\u001b[0mself\u001b[0m\u001b[0;34m,\u001b[0m \u001b[0mis_test\u001b[0m\u001b[0;34m=\u001b[0m\u001b[0;32mFalse\u001b[0m\u001b[0;34m)\u001b[0m\u001b[0;34m:\u001b[0m\u001b[0;34m\u001b[0m\u001b[0m\n",
      "\u001b[0;32m~/buildings/fastai/model.py\u001b[0m in \u001b[0;36mpredict\u001b[0;34m(m, dl)\u001b[0m\n\u001b[1;32m    184\u001b[0m \u001b[0;34m\u001b[0m\u001b[0m\n\u001b[1;32m    185\u001b[0m \u001b[0;32mdef\u001b[0m \u001b[0mpredict\u001b[0m\u001b[0;34m(\u001b[0m\u001b[0mm\u001b[0m\u001b[0;34m,\u001b[0m \u001b[0mdl\u001b[0m\u001b[0;34m)\u001b[0m\u001b[0;34m:\u001b[0m\u001b[0;34m\u001b[0m\u001b[0m\n\u001b[0;32m--> 186\u001b[0;31m     \u001b[0mpreda\u001b[0m\u001b[0;34m,\u001b[0m\u001b[0m_\u001b[0m \u001b[0;34m=\u001b[0m \u001b[0mpredict_with_targs_\u001b[0m\u001b[0;34m(\u001b[0m\u001b[0mm\u001b[0m\u001b[0;34m,\u001b[0m \u001b[0mdl\u001b[0m\u001b[0;34m)\u001b[0m\u001b[0;34m\u001b[0m\u001b[0m\n\u001b[0m\u001b[1;32m    187\u001b[0m     \u001b[0;32mreturn\u001b[0m \u001b[0mto_np\u001b[0m\u001b[0;34m(\u001b[0m\u001b[0mtorch\u001b[0m\u001b[0;34m.\u001b[0m\u001b[0mcat\u001b[0m\u001b[0;34m(\u001b[0m\u001b[0mpreda\u001b[0m\u001b[0;34m)\u001b[0m\u001b[0;34m)\u001b[0m\u001b[0;34m\u001b[0m\u001b[0m\n\u001b[1;32m    188\u001b[0m \u001b[0;34m\u001b[0m\u001b[0m\n",
      "\u001b[0;32m~/buildings/fastai/model.py\u001b[0m in \u001b[0;36mpredict_with_targs_\u001b[0;34m(m, dl)\u001b[0m\n\u001b[1;32m    196\u001b[0m     \u001b[0;32mif\u001b[0m \u001b[0mhasattr\u001b[0m\u001b[0;34m(\u001b[0m\u001b[0mm\u001b[0m\u001b[0;34m,\u001b[0m \u001b[0;34m'reset'\u001b[0m\u001b[0;34m)\u001b[0m\u001b[0;34m:\u001b[0m \u001b[0mm\u001b[0m\u001b[0;34m.\u001b[0m\u001b[0mreset\u001b[0m\u001b[0;34m(\u001b[0m\u001b[0;34m)\u001b[0m\u001b[0;34m\u001b[0m\u001b[0m\n\u001b[1;32m    197\u001b[0m     \u001b[0mres\u001b[0m \u001b[0;34m=\u001b[0m \u001b[0;34m[\u001b[0m\u001b[0;34m]\u001b[0m\u001b[0;34m\u001b[0m\u001b[0m\n\u001b[0;32m--> 198\u001b[0;31m     \u001b[0;32mfor\u001b[0m \u001b[0;34m*\u001b[0m\u001b[0mx\u001b[0m\u001b[0;34m,\u001b[0m\u001b[0my\u001b[0m \u001b[0;32min\u001b[0m \u001b[0miter\u001b[0m\u001b[0;34m(\u001b[0m\u001b[0mdl\u001b[0m\u001b[0;34m)\u001b[0m\u001b[0;34m:\u001b[0m \u001b[0mres\u001b[0m\u001b[0;34m.\u001b[0m\u001b[0mappend\u001b[0m\u001b[0;34m(\u001b[0m\u001b[0;34m[\u001b[0m\u001b[0mget_prediction\u001b[0m\u001b[0;34m(\u001b[0m\u001b[0mm\u001b[0m\u001b[0;34m(\u001b[0m\u001b[0;34m*\u001b[0m\u001b[0mVV\u001b[0m\u001b[0;34m(\u001b[0m\u001b[0mx\u001b[0m\u001b[0;34m)\u001b[0m\u001b[0;34m)\u001b[0m\u001b[0;34m)\u001b[0m\u001b[0;34m,\u001b[0m\u001b[0my\u001b[0m\u001b[0;34m]\u001b[0m\u001b[0;34m)\u001b[0m\u001b[0;34m\u001b[0m\u001b[0m\n\u001b[0m\u001b[1;32m    199\u001b[0m     \u001b[0;32mreturn\u001b[0m \u001b[0mzip\u001b[0m\u001b[0;34m(\u001b[0m\u001b[0;34m*\u001b[0m\u001b[0mres\u001b[0m\u001b[0;34m)\u001b[0m\u001b[0;34m\u001b[0m\u001b[0m\n\u001b[1;32m    200\u001b[0m \u001b[0;34m\u001b[0m\u001b[0m\n",
      "\u001b[0;32m~/miniconda3/envs/fastai/lib/python3.6/site-packages/torch/nn/modules/module.py\u001b[0m in \u001b[0;36m__call__\u001b[0;34m(self, *input, **kwargs)\u001b[0m\n\u001b[1;32m    355\u001b[0m             \u001b[0mresult\u001b[0m \u001b[0;34m=\u001b[0m \u001b[0mself\u001b[0m\u001b[0;34m.\u001b[0m\u001b[0m_slow_forward\u001b[0m\u001b[0;34m(\u001b[0m\u001b[0;34m*\u001b[0m\u001b[0minput\u001b[0m\u001b[0;34m,\u001b[0m \u001b[0;34m**\u001b[0m\u001b[0mkwargs\u001b[0m\u001b[0;34m)\u001b[0m\u001b[0;34m\u001b[0m\u001b[0m\n\u001b[1;32m    356\u001b[0m         \u001b[0;32melse\u001b[0m\u001b[0;34m:\u001b[0m\u001b[0;34m\u001b[0m\u001b[0m\n\u001b[0;32m--> 357\u001b[0;31m             \u001b[0mresult\u001b[0m \u001b[0;34m=\u001b[0m \u001b[0mself\u001b[0m\u001b[0;34m.\u001b[0m\u001b[0mforward\u001b[0m\u001b[0;34m(\u001b[0m\u001b[0;34m*\u001b[0m\u001b[0minput\u001b[0m\u001b[0;34m,\u001b[0m \u001b[0;34m**\u001b[0m\u001b[0mkwargs\u001b[0m\u001b[0;34m)\u001b[0m\u001b[0;34m\u001b[0m\u001b[0m\n\u001b[0m\u001b[1;32m    358\u001b[0m         \u001b[0;32mfor\u001b[0m \u001b[0mhook\u001b[0m \u001b[0;32min\u001b[0m \u001b[0mself\u001b[0m\u001b[0;34m.\u001b[0m\u001b[0m_forward_hooks\u001b[0m\u001b[0;34m.\u001b[0m\u001b[0mvalues\u001b[0m\u001b[0;34m(\u001b[0m\u001b[0;34m)\u001b[0m\u001b[0;34m:\u001b[0m\u001b[0;34m\u001b[0m\u001b[0m\n\u001b[1;32m    359\u001b[0m             \u001b[0mhook_result\u001b[0m \u001b[0;34m=\u001b[0m \u001b[0mhook\u001b[0m\u001b[0;34m(\u001b[0m\u001b[0mself\u001b[0m\u001b[0;34m,\u001b[0m \u001b[0minput\u001b[0m\u001b[0;34m,\u001b[0m \u001b[0mresult\u001b[0m\u001b[0;34m)\u001b[0m\u001b[0;34m\u001b[0m\u001b[0m\n",
      "\u001b[0;32m~/miniconda3/envs/fastai/lib/python3.6/site-packages/torch/nn/parallel/data_parallel.py\u001b[0m in \u001b[0;36mforward\u001b[0;34m(self, *inputs, **kwargs)\u001b[0m\n\u001b[1;32m     71\u001b[0m             \u001b[0;32mreturn\u001b[0m \u001b[0mself\u001b[0m\u001b[0;34m.\u001b[0m\u001b[0mmodule\u001b[0m\u001b[0;34m(\u001b[0m\u001b[0;34m*\u001b[0m\u001b[0minputs\u001b[0m\u001b[0;34m[\u001b[0m\u001b[0;36m0\u001b[0m\u001b[0;34m]\u001b[0m\u001b[0;34m,\u001b[0m \u001b[0;34m**\u001b[0m\u001b[0mkwargs\u001b[0m\u001b[0;34m[\u001b[0m\u001b[0;36m0\u001b[0m\u001b[0;34m]\u001b[0m\u001b[0;34m)\u001b[0m\u001b[0;34m\u001b[0m\u001b[0m\n\u001b[1;32m     72\u001b[0m         \u001b[0mreplicas\u001b[0m \u001b[0;34m=\u001b[0m \u001b[0mself\u001b[0m\u001b[0;34m.\u001b[0m\u001b[0mreplicate\u001b[0m\u001b[0;34m(\u001b[0m\u001b[0mself\u001b[0m\u001b[0;34m.\u001b[0m\u001b[0mmodule\u001b[0m\u001b[0;34m,\u001b[0m \u001b[0mself\u001b[0m\u001b[0;34m.\u001b[0m\u001b[0mdevice_ids\u001b[0m\u001b[0;34m[\u001b[0m\u001b[0;34m:\u001b[0m\u001b[0mlen\u001b[0m\u001b[0;34m(\u001b[0m\u001b[0minputs\u001b[0m\u001b[0;34m)\u001b[0m\u001b[0;34m]\u001b[0m\u001b[0;34m)\u001b[0m\u001b[0;34m\u001b[0m\u001b[0m\n\u001b[0;32m---> 73\u001b[0;31m         \u001b[0moutputs\u001b[0m \u001b[0;34m=\u001b[0m \u001b[0mself\u001b[0m\u001b[0;34m.\u001b[0m\u001b[0mparallel_apply\u001b[0m\u001b[0;34m(\u001b[0m\u001b[0mreplicas\u001b[0m\u001b[0;34m,\u001b[0m \u001b[0minputs\u001b[0m\u001b[0;34m,\u001b[0m \u001b[0mkwargs\u001b[0m\u001b[0;34m)\u001b[0m\u001b[0;34m\u001b[0m\u001b[0m\n\u001b[0m\u001b[1;32m     74\u001b[0m         \u001b[0;32mreturn\u001b[0m \u001b[0mself\u001b[0m\u001b[0;34m.\u001b[0m\u001b[0mgather\u001b[0m\u001b[0;34m(\u001b[0m\u001b[0moutputs\u001b[0m\u001b[0;34m,\u001b[0m \u001b[0mself\u001b[0m\u001b[0;34m.\u001b[0m\u001b[0moutput_device\u001b[0m\u001b[0;34m)\u001b[0m\u001b[0;34m\u001b[0m\u001b[0m\n\u001b[1;32m     75\u001b[0m \u001b[0;34m\u001b[0m\u001b[0m\n",
      "\u001b[0;32m~/miniconda3/envs/fastai/lib/python3.6/site-packages/torch/nn/parallel/data_parallel.py\u001b[0m in \u001b[0;36mparallel_apply\u001b[0;34m(self, replicas, inputs, kwargs)\u001b[0m\n\u001b[1;32m     81\u001b[0m \u001b[0;34m\u001b[0m\u001b[0m\n\u001b[1;32m     82\u001b[0m     \u001b[0;32mdef\u001b[0m \u001b[0mparallel_apply\u001b[0m\u001b[0;34m(\u001b[0m\u001b[0mself\u001b[0m\u001b[0;34m,\u001b[0m \u001b[0mreplicas\u001b[0m\u001b[0;34m,\u001b[0m \u001b[0minputs\u001b[0m\u001b[0;34m,\u001b[0m \u001b[0mkwargs\u001b[0m\u001b[0;34m)\u001b[0m\u001b[0;34m:\u001b[0m\u001b[0;34m\u001b[0m\u001b[0m\n\u001b[0;32m---> 83\u001b[0;31m         \u001b[0;32mreturn\u001b[0m \u001b[0mparallel_apply\u001b[0m\u001b[0;34m(\u001b[0m\u001b[0mreplicas\u001b[0m\u001b[0;34m,\u001b[0m \u001b[0minputs\u001b[0m\u001b[0;34m,\u001b[0m \u001b[0mkwargs\u001b[0m\u001b[0;34m,\u001b[0m \u001b[0mself\u001b[0m\u001b[0;34m.\u001b[0m\u001b[0mdevice_ids\u001b[0m\u001b[0;34m[\u001b[0m\u001b[0;34m:\u001b[0m\u001b[0mlen\u001b[0m\u001b[0;34m(\u001b[0m\u001b[0mreplicas\u001b[0m\u001b[0;34m)\u001b[0m\u001b[0;34m]\u001b[0m\u001b[0;34m)\u001b[0m\u001b[0;34m\u001b[0m\u001b[0m\n\u001b[0m\u001b[1;32m     84\u001b[0m \u001b[0;34m\u001b[0m\u001b[0m\n\u001b[1;32m     85\u001b[0m     \u001b[0;32mdef\u001b[0m \u001b[0mgather\u001b[0m\u001b[0;34m(\u001b[0m\u001b[0mself\u001b[0m\u001b[0;34m,\u001b[0m \u001b[0moutputs\u001b[0m\u001b[0;34m,\u001b[0m \u001b[0moutput_device\u001b[0m\u001b[0;34m)\u001b[0m\u001b[0;34m:\u001b[0m\u001b[0;34m\u001b[0m\u001b[0m\n",
      "\u001b[0;32m~/miniconda3/envs/fastai/lib/python3.6/site-packages/torch/nn/parallel/parallel_apply.py\u001b[0m in \u001b[0;36mparallel_apply\u001b[0;34m(modules, inputs, kwargs_tup, devices)\u001b[0m\n\u001b[1;32m     65\u001b[0m         \u001b[0moutput\u001b[0m \u001b[0;34m=\u001b[0m \u001b[0mresults\u001b[0m\u001b[0;34m[\u001b[0m\u001b[0mi\u001b[0m\u001b[0;34m]\u001b[0m\u001b[0;34m\u001b[0m\u001b[0m\n\u001b[1;32m     66\u001b[0m         \u001b[0;32mif\u001b[0m \u001b[0misinstance\u001b[0m\u001b[0;34m(\u001b[0m\u001b[0moutput\u001b[0m\u001b[0;34m,\u001b[0m \u001b[0mException\u001b[0m\u001b[0;34m)\u001b[0m\u001b[0;34m:\u001b[0m\u001b[0;34m\u001b[0m\u001b[0m\n\u001b[0;32m---> 67\u001b[0;31m             \u001b[0;32mraise\u001b[0m \u001b[0moutput\u001b[0m\u001b[0;34m\u001b[0m\u001b[0m\n\u001b[0m\u001b[1;32m     68\u001b[0m         \u001b[0moutputs\u001b[0m\u001b[0;34m.\u001b[0m\u001b[0mappend\u001b[0m\u001b[0;34m(\u001b[0m\u001b[0moutput\u001b[0m\u001b[0;34m)\u001b[0m\u001b[0;34m\u001b[0m\u001b[0m\n\u001b[1;32m     69\u001b[0m     \u001b[0;32mreturn\u001b[0m \u001b[0moutputs\u001b[0m\u001b[0;34m\u001b[0m\u001b[0m\n",
      "\u001b[0;32m~/miniconda3/envs/fastai/lib/python3.6/site-packages/torch/nn/parallel/parallel_apply.py\u001b[0m in \u001b[0;36m_worker\u001b[0;34m(i, module, input, kwargs, results, lock, device)\u001b[0m\n\u001b[1;32m     40\u001b[0m         \u001b[0;32mtry\u001b[0m\u001b[0;34m:\u001b[0m\u001b[0;34m\u001b[0m\u001b[0m\n\u001b[1;32m     41\u001b[0m             \u001b[0;32mwith\u001b[0m \u001b[0mtorch\u001b[0m\u001b[0;34m.\u001b[0m\u001b[0mcuda\u001b[0m\u001b[0;34m.\u001b[0m\u001b[0mdevice\u001b[0m\u001b[0;34m(\u001b[0m\u001b[0mdevice\u001b[0m\u001b[0;34m)\u001b[0m\u001b[0;34m:\u001b[0m\u001b[0;34m\u001b[0m\u001b[0m\n\u001b[0;32m---> 42\u001b[0;31m                 \u001b[0moutput\u001b[0m \u001b[0;34m=\u001b[0m \u001b[0mmodule\u001b[0m\u001b[0;34m(\u001b[0m\u001b[0;34m*\u001b[0m\u001b[0minput\u001b[0m\u001b[0;34m,\u001b[0m \u001b[0;34m**\u001b[0m\u001b[0mkwargs\u001b[0m\u001b[0;34m)\u001b[0m\u001b[0;34m\u001b[0m\u001b[0m\n\u001b[0m\u001b[1;32m     43\u001b[0m             \u001b[0;32mwith\u001b[0m \u001b[0mlock\u001b[0m\u001b[0;34m:\u001b[0m\u001b[0;34m\u001b[0m\u001b[0m\n\u001b[1;32m     44\u001b[0m                 \u001b[0mresults\u001b[0m\u001b[0;34m[\u001b[0m\u001b[0mi\u001b[0m\u001b[0;34m]\u001b[0m \u001b[0;34m=\u001b[0m \u001b[0moutput\u001b[0m\u001b[0;34m\u001b[0m\u001b[0m\n",
      "\u001b[0;32m~/miniconda3/envs/fastai/lib/python3.6/site-packages/torch/nn/modules/module.py\u001b[0m in \u001b[0;36m__call__\u001b[0;34m(self, *input, **kwargs)\u001b[0m\n\u001b[1;32m    355\u001b[0m             \u001b[0mresult\u001b[0m \u001b[0;34m=\u001b[0m \u001b[0mself\u001b[0m\u001b[0;34m.\u001b[0m\u001b[0m_slow_forward\u001b[0m\u001b[0;34m(\u001b[0m\u001b[0;34m*\u001b[0m\u001b[0minput\u001b[0m\u001b[0;34m,\u001b[0m \u001b[0;34m**\u001b[0m\u001b[0mkwargs\u001b[0m\u001b[0;34m)\u001b[0m\u001b[0;34m\u001b[0m\u001b[0m\n\u001b[1;32m    356\u001b[0m         \u001b[0;32melse\u001b[0m\u001b[0;34m:\u001b[0m\u001b[0;34m\u001b[0m\u001b[0m\n\u001b[0;32m--> 357\u001b[0;31m             \u001b[0mresult\u001b[0m \u001b[0;34m=\u001b[0m \u001b[0mself\u001b[0m\u001b[0;34m.\u001b[0m\u001b[0mforward\u001b[0m\u001b[0;34m(\u001b[0m\u001b[0;34m*\u001b[0m\u001b[0minput\u001b[0m\u001b[0;34m,\u001b[0m \u001b[0;34m**\u001b[0m\u001b[0mkwargs\u001b[0m\u001b[0;34m)\u001b[0m\u001b[0;34m\u001b[0m\u001b[0m\n\u001b[0m\u001b[1;32m    358\u001b[0m         \u001b[0;32mfor\u001b[0m \u001b[0mhook\u001b[0m \u001b[0;32min\u001b[0m \u001b[0mself\u001b[0m\u001b[0;34m.\u001b[0m\u001b[0m_forward_hooks\u001b[0m\u001b[0;34m.\u001b[0m\u001b[0mvalues\u001b[0m\u001b[0;34m(\u001b[0m\u001b[0;34m)\u001b[0m\u001b[0;34m:\u001b[0m\u001b[0;34m\u001b[0m\u001b[0m\n\u001b[1;32m    359\u001b[0m             \u001b[0mhook_result\u001b[0m \u001b[0;34m=\u001b[0m \u001b[0mhook\u001b[0m\u001b[0;34m(\u001b[0m\u001b[0mself\u001b[0m\u001b[0;34m,\u001b[0m \u001b[0minput\u001b[0m\u001b[0;34m,\u001b[0m \u001b[0mresult\u001b[0m\u001b[0;34m)\u001b[0m\u001b[0;34m\u001b[0m\u001b[0m\n",
      "\u001b[0;32m~/buildings/models.py\u001b[0m in \u001b[0;36mforward\u001b[0;34m(self, x)\u001b[0m\n\u001b[1;32m    202\u001b[0m         \u001b[0mdec3\u001b[0m \u001b[0;34m=\u001b[0m \u001b[0mself\u001b[0m\u001b[0;34m.\u001b[0m\u001b[0mdec3\u001b[0m\u001b[0;34m(\u001b[0m\u001b[0mtorch\u001b[0m\u001b[0;34m.\u001b[0m\u001b[0mcat\u001b[0m\u001b[0;34m(\u001b[0m\u001b[0;34m[\u001b[0m\u001b[0mdec4\u001b[0m\u001b[0;34m,\u001b[0m \u001b[0mconv3\u001b[0m\u001b[0;34m]\u001b[0m\u001b[0;34m,\u001b[0m \u001b[0;36m1\u001b[0m\u001b[0;34m)\u001b[0m\u001b[0;34m)\u001b[0m\u001b[0;34m\u001b[0m\u001b[0m\n\u001b[1;32m    203\u001b[0m         \u001b[0mdec2\u001b[0m \u001b[0;34m=\u001b[0m \u001b[0mself\u001b[0m\u001b[0;34m.\u001b[0m\u001b[0mdec2\u001b[0m\u001b[0;34m(\u001b[0m\u001b[0mtorch\u001b[0m\u001b[0;34m.\u001b[0m\u001b[0mcat\u001b[0m\u001b[0;34m(\u001b[0m\u001b[0;34m[\u001b[0m\u001b[0mdec3\u001b[0m\u001b[0;34m,\u001b[0m \u001b[0mconv2\u001b[0m\u001b[0;34m]\u001b[0m\u001b[0;34m,\u001b[0m \u001b[0;36m1\u001b[0m\u001b[0;34m)\u001b[0m\u001b[0;34m)\u001b[0m\u001b[0;34m\u001b[0m\u001b[0m\n\u001b[0;32m--> 204\u001b[0;31m         \u001b[0mdec1\u001b[0m \u001b[0;34m=\u001b[0m \u001b[0mself\u001b[0m\u001b[0;34m.\u001b[0m\u001b[0mdec1\u001b[0m\u001b[0;34m(\u001b[0m\u001b[0mtorch\u001b[0m\u001b[0;34m.\u001b[0m\u001b[0mcat\u001b[0m\u001b[0;34m(\u001b[0m\u001b[0;34m[\u001b[0m\u001b[0mdec2\u001b[0m\u001b[0;34m,\u001b[0m \u001b[0mconv1\u001b[0m\u001b[0;34m]\u001b[0m\u001b[0;34m,\u001b[0m \u001b[0;36m1\u001b[0m\u001b[0;34m)\u001b[0m\u001b[0;34m)\u001b[0m\u001b[0;34m\u001b[0m\u001b[0m\n\u001b[0m\u001b[1;32m    205\u001b[0m \u001b[0;34m\u001b[0m\u001b[0m\n\u001b[1;32m    206\u001b[0m         \u001b[0;32mif\u001b[0m \u001b[0mself\u001b[0m\u001b[0;34m.\u001b[0m\u001b[0mnum_classes\u001b[0m \u001b[0;34m>\u001b[0m \u001b[0;36m1\u001b[0m\u001b[0;34m:\u001b[0m\u001b[0;34m\u001b[0m\u001b[0m\n",
      "\u001b[0;31mRuntimeError\u001b[0m: cuda runtime error (2) : out of memory at /opt/conda/conda-bld/pytorch_1518244421288/work/torch/lib/THC/generic/THCStorage.cu:58"
     ]
    }
   ],
   "source": [
    "preds = learn.predict(is_test=True).squeeze()"
   ]
  },
  {
   "cell_type": "code",
   "execution_count": null,
   "metadata": {},
   "outputs": [],
   "source": [
    "%%time\n",
    "preds_big = np.asarray(list(put_back_parallel(preds, max_workers=1, padded=False))).squeeze()"
   ]
  },
  {
   "cell_type": "code",
   "execution_count": 27,
   "metadata": {},
   "outputs": [],
   "source": [
    "# %debug"
   ]
  },
  {
   "cell_type": "code",
   "execution_count": null,
   "metadata": {},
   "outputs": [],
   "source": [
    "def find_thresh(preds_big):\n",
    "    best_fscore, best_thresh = 0, 0\n",
    "    records, fscores = [], []\n",
    "    threshs = np.linspace(0.4, 0.9, 6)\n",
    "    for thresh in threshs:\n",
    "        _internal_pred_to_poly_file(\n",
    "                area_id,\n",
    "                preds_big,\n",
    "                min_th=MIN_POLYGON_AREA,\n",
    "                thresh=thresh,\n",
    "                debug=False)\n",
    "        evaluate_record = _calc_fscore_per_aoi(area_id)\n",
    "        evaluate_record['min_area_th'] = MIN_POLYGON_AREA\n",
    "        evaluate_record['area_id'] = area_id\n",
    "        evaluate_record['thresh'] = thresh\n",
    "        fscore = evaluate_record['fscore']\n",
    "        records.append(evaluate_record)\n",
    "        fscores.append(fscore)\n",
    "        print(evaluate_record)\n",
    "        if fscore > best_fscore:\n",
    "            best_fscore = fscore\n",
    "            best_record = evaluate_record\n",
    "    return best_thresh, fscores, records"
   ]
  },
  {
   "cell_type": "code",
   "execution_count": null,
   "metadata": {
    "scrolled": true
   },
   "outputs": [],
   "source": [
    "best_thresh, fscores, records = find_thresh(preds_big_sigmoid)"
   ]
  },
  {
   "cell_type": "code",
   "execution_count": null,
   "metadata": {},
   "outputs": [],
   "source": [
    "best_thresh = 0.7"
   ]
  },
  {
   "cell_type": "code",
   "execution_count": null,
   "metadata": {},
   "outputs": [],
   "source": [
    "records, fscores = [], []\n",
    "for th in range(30, 150, 30):\n",
    "    _internal_pred_to_poly_file(area_id, preds_big_sigmoid, min_th=th, thresh=best_thresh, debug=False)\n",
    "    evaluate_record = _calc_fscore_per_aoi(area_id)\n",
    "    evaluate_record['min_area_th'] = th\n",
    "    evaluate_record['area_id'] = area_id\n",
    "    evaluate_record['thresh'] = best_thresh\n",
    "    fscore = evaluate_record['fscore']\n",
    "    records.append(evaluate_record)\n",
    "    fscores.append(fscore)\n",
    "    print(evaluate_record)\n",
    "    \n",
    "best_record = records[np.argmax(fscore)]\n",
    "pd.DataFrame(best_record).to_csv(\n",
    "    str(PATH/DATA_PATH/FMT_VALMODEL_EVALTHHIST),\n",
    "    index=False)"
   ]
  },
  {
   "cell_type": "markdown",
   "metadata": {},
   "source": [
    "# Submit"
   ]
  },
  {
   "cell_type": "code",
   "execution_count": 46,
   "metadata": {},
   "outputs": [],
   "source": [
    "testproc(datapath, preds_crop, num_slice=num_slice)"
   ]
  },
  {
   "cell_type": "code",
   "execution_count": null,
   "metadata": {},
   "outputs": [],
   "source": [
    "debug"
   ]
  },
  {
   "cell_type": "code",
   "execution_count": null,
   "metadata": {},
   "outputs": [],
   "source": []
  }
 ],
 "metadata": {
  "kernelspec": {
   "display_name": "Python 3",
   "language": "python",
   "name": "python3"
  },
  "language_info": {
   "codemirror_mode": {
    "name": "ipython",
    "version": 3
   },
   "file_extension": ".py",
   "mimetype": "text/x-python",
   "name": "python",
   "nbconvert_exporter": "python",
   "pygments_lexer": "ipython3",
   "version": "3.6.5"
  }
 },
 "nbformat": 4,
 "nbformat_minor": 2
}
