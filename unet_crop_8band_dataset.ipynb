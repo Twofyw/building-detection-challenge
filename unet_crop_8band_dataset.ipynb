{
 "cells": [
  {
   "cell_type": "code",
   "execution_count": 1,
   "metadata": {},
   "outputs": [],
   "source": [
    "%matplotlib inline\n",
    "%load_ext autoreload\n",
    "%autoreload 2"
   ]
  },
  {
   "cell_type": "code",
   "execution_count": 2,
   "metadata": {},
   "outputs": [],
   "source": [
    "from fastai.conv_learner import *\n",
    "from fastai.dataset import *\n",
    "\n",
    "from pathlib import Path\n",
    "from glob import glob\n",
    "import tables as tb\n",
    "import tqdm"
   ]
  },
  {
   "cell_type": "code",
   "execution_count": 3,
   "metadata": {},
   "outputs": [],
   "source": [
    "import sys\n",
    "sys.path.insert(0, 'code')\n",
    "from models import *\n",
    "from v13_deeplab import *"
   ]
  },
  {
   "cell_type": "code",
   "execution_count": 4,
   "metadata": {},
   "outputs": [],
   "source": [
    "FMT_VALTRAIN_IMAGELIST_PATH_ALL = 'data/working/images/v5/all_valtrain_ImageId.csv'\n",
    "FMT_VALTRAIN_IM_STORE_ALL = 'data/working/images/v12/all_valtrain_im.h5'\n",
    "FMT_VALTRAIN_MUL_STORE_ALL = 'data/working/images/v12/all_valtrain_mul.h5'"
   ]
  },
  {
   "cell_type": "code",
   "execution_count": 5,
   "metadata": {},
   "outputs": [],
   "source": [
    "gpu = 0\n",
    "MODEL_NAME = 'v13'\n",
    "ORIGINAL_SIZE = 650\n",
    "sz = 256\n",
    "bs = 25\n",
    "num_slice = 9\n",
    "STRIDE_SZ = 197\n",
    "PATH = 'data/'\n",
    "\n",
    "BASE_DIR = \"data/train\"\n",
    "BASE_TEST_DIR = \"data/test\"\n",
    "WORKING_DIR = \"data/working\"\n",
    "\n",
    "# Restore later\n",
    "IMAGE_DIR = \"data/working/images/{}\".format('v12')\n",
    "# IMAGE_DIR = \"data/working/images/{}\".format('v5')\n",
    "V5_IMAGE_DIR = \"data/working/images/{}\".format('v5')\n",
    "\n",
    "# ---------------------------------------------------------\n",
    "# Parameters\n",
    "MIN_POLYGON_AREA = 30  # 30\n",
    "\n",
    "# ---------------------------------------------------------\n",
    "# Input files\n",
    "FMT_TRAIN_SUMMARY_PATH = str(\n",
    "    Path(BASE_DIR) /\n",
    "    Path(\"{prefix:s}_Train/\") /\n",
    "    Path(\"summaryData/{prefix:s}_Train_Building_Solutions.csv\"))\n",
    "FMT_TRAIN_RGB_IMAGE_PATH = str(\n",
    "    Path(BASE_DIR) /\n",
    "    Path(\"{prefix:s}_Train/\") /\n",
    "    Path(\"RGB-PanSharpen/RGB-PanSharpen_{image_id:s}.tif\"))\n",
    "FMT_TEST_RGB_IMAGE_PATH = str(\n",
    "    Path(BASE_TEST_DIR) /\n",
    "    Path(\"{prefix:s}_Test/\") /\n",
    "    Path(\"RGB-PanSharpen/RGB-PanSharpen_{image_id:s}.tif\"))\n",
    "FMT_TRAIN_MSPEC_IMAGE_PATH = str(\n",
    "    Path(BASE_DIR) /\n",
    "    Path(\"{prefix:s}_Train/\") /\n",
    "    Path(\"MUL-PanSharpen/MUL-PanSharpen_{image_id:s}.tif\"))\n",
    "FMT_TEST_MSPEC_IMAGE_PATH = str(\n",
    "    Path(BASE_TEST_DIR) /\n",
    "    Path(\"{prefix:s}_Test/\") /\n",
    "    Path(\"MUL-PanSharpen/MUL-PanSharpen_{image_id:s}.tif\"))\n",
    "\n",
    "# ---------------------------------------------------------\n",
    "# Preprocessing result\n",
    "FMT_RGB_BANDCUT_TH_PATH = IMAGE_DIR + \"/rgb_bandcut.csv\"\n",
    "FMT_MUL_BANDCUT_TH_PATH = IMAGE_DIR + \"/mul_bandcut.csv\"\n",
    "\n",
    "# ---------------------------------------------------------\n",
    "# Image list, Image container and mask container\n",
    "FMT_VALTRAIN_IMAGELIST_PATH = V5_IMAGE_DIR + \"/{prefix:s}_valtrain_ImageId.csv\"\n",
    "FMT_VALTEST_IMAGELIST_PATH = V5_IMAGE_DIR + \"/{prefix:s}_valtest_ImageId.csv\"\n",
    "FMT_VALTRAIN_IM_STORE = IMAGE_DIR + \"/valtrain_{}_im.h5\"\n",
    "FMT_VALTEST_IM_STORE = IMAGE_DIR + \"/valtest_{}_im.h5\"\n",
    "FMT_VALTRAIN_MASK_STORE = IMAGE_DIR + \"/valtrain_{}_mask.h5\"\n",
    "FMT_VALTEST_MASK_STORE = IMAGE_DIR + \"/valtest_{}_mask.h5\"\n",
    "FMT_VALTRAIN_MUL_STORE = IMAGE_DIR + \"/valtrain_{}_mul.h5\"\n",
    "FMT_VALTEST_MUL_STORE = IMAGE_DIR + \"/valtest_{}_mul.h5\"\n",
    "\n",
    "FMT_TRAIN_IMAGELIST_PATH = V5_IMAGE_DIR + \"/{prefix:s}_train_ImageId.csv\"\n",
    "FMT_TEST_IMAGELIST_PATH = V5_IMAGE_DIR + \"/{prefix:s}_test_ImageId.csv\"\n",
    "FMT_TRAIN_IM_STORE = IMAGE_DIR + \"/train_{}_im.h5\"\n",
    "FMT_TEST_IM_STORE = IMAGE_DIR + \"/test_{}_im.h5\"\n",
    "FMT_TRAIN_MASK_STORE = IMAGE_DIR + \"/train_{}_mask.h5\"\n",
    "FMT_TRAIN_MUL_STORE = IMAGE_DIR + \"/train_{}_mul.h5\"\n",
    "FMT_TEST_MUL_STORE = IMAGE_DIR + \"/test_{}_mul.h5\"\n",
    "FMT_MULMEAN = IMAGE_DIR + \"/{}_mulmean.h5\"\n",
    "\n",
    "# ---------------------------------------------------------\n",
    "# Model files\n",
    "MODEL_DIR = \"data/working/models/{}\".format(MODEL_NAME)\n",
    "FMT_VALMODEL_PATH = MODEL_DIR + \"/{}_val_weights.h5\"\n",
    "FMT_FULLMODEL_PATH = MODEL_DIR + \"/{}_full_weights.h5\"\n",
    "FMT_VALMODEL_HIST = MODEL_DIR + \"/{}_val_hist.csv\"\n",
    "FMT_VALMODEL_EVALHIST = MODEL_DIR + \"/{}_val_evalhist.csv\"\n",
    "FMT_VALMODEL_EVALTHHIST = MODEL_DIR + \"/{}_val_evalhist_th.csv\"\n",
    "\n",
    "# ---------------------------------------------------------\n",
    "# Prediction & polygon result\n",
    "FMT_TESTPRED_PATH = MODEL_DIR + \"/{}_pred.h5\"\n",
    "FMT_VALTESTPRED_PATH = MODEL_DIR + \"/{}_eval_pred.h5\"\n",
    "FMT_VALTESTPOLY_PATH = MODEL_DIR + \"/{}_eval_poly.csv\"\n",
    "FMT_VALTESTTRUTH_PATH = MODEL_DIR + \"/{}_eval_poly_truth.csv\"\n",
    "FMT_VALTESTPOLY_OVALL_PATH = MODEL_DIR + \"/eval_poly.csv\"\n",
    "FMT_VALTESTTRUTH_OVALL_PATH = MODEL_DIR + \"/eval_poly_truth.csv\"\n",
    "FMT_TESTPOLY_PATH = MODEL_DIR + \"/{}_poly.csv\"\n",
    "FN_SOLUTION_CSV = \"data/output/{}.csv\".format(MODEL_NAME)\n",
    "\n",
    "# ---------------------------------------------------------\n",
    "# Model related files (others)\n",
    "FMT_VALMODEL_LAST_PATH = MODEL_DIR + \"/{}_val_weights_last.h5\"\n",
    "FMT_FULLMODEL_LAST_PATH = MODEL_DIR + \"/{}_full_weights_last.h5\""
   ]
  },
  {
   "cell_type": "markdown",
   "metadata": {},
   "source": [
    "## Preprocessing"
   ]
  },
  {
   "cell_type": "code",
   "execution_count": 1,
   "metadata": {
    "scrolled": true
   },
   "outputs": [
    {
     "name": "stdout",
     "output_type": "stream",
     "text": [
      "2018-04-09 21:10:10,972 INFO Preproc for training on AOI_2_Vegas\n",
      "2018-04-09 21:10:10,972 INFO Generate IMAGELIST csv ... skip\n",
      "2018-04-09 21:10:10,972 INFO Generate IMAGELIST csv ... skip\n",
      "2018-04-09 21:10:10,973 INFO Generate band stats csv (MUL) ... skip\n",
      "2018-04-09 21:10:10,973 INFO Generate MASK (valtrain)\n",
      "2018-04-09 21:10:10,973 INFO prep_image_mask for AOI_2_Vegas\n",
      "2018-04-09 21:10:12,033 INFO Prepare image container: data/working/images/v5/valtrain_AOI_2_Vegas_mask.h5\n",
      "100%|███████████████████████████████████████| 2695/2695 [01:41<00:00, 26.64it/s]\n",
      "2018-04-09 21:11:53,239 INFO Generate MASK (valtest)\n",
      "2018-04-09 21:11:53,240 INFO prep_image_mask for AOI_2_Vegas\n",
      "2018-04-09 21:11:53,812 INFO Prepare image container: data/working/images/v5/valtest_AOI_2_Vegas_mask.h5\n",
      "100%|███████████████████████████████████████| 1156/1156 [00:41<00:00, 27.54it/s]\n",
      "2018-04-09 21:12:35,839 INFO Generate MUL_STORE (valtrain)\n",
      "2018-04-09 21:12:35,862 INFO prep_mul_image_store_train for \n",
      "2018-04-09 21:12:35,868 INFO Image store file: data/working/images/v5/valtrain_AOI_2_Vegas_mul.h5\n",
      "100%|███████████████████████████████████████| 2695/2695 [04:13<00:00, 10.65it/s]\n",
      "2018-04-09 21:16:49,451 INFO Generate MUL_STORE (valtest)\n",
      "2018-04-09 21:16:49,464 INFO prep_mul_image_store_train for \n",
      "2018-04-09 21:16:49,467 INFO Image store file: data/working/images/v5/valtest_AOI_2_Vegas_mul.h5\n",
      "100%|███████████████████████████████████████| 1156/1156 [03:00<00:00,  6.39it/s]\n",
      "2018-04-09 21:19:51,034 INFO Generate RGBMEAN ... skip\n",
      "2018-04-09 21:19:51,034 INFO Generate MULMEAN ... skip\n",
      "2018-04-09 21:19:51,034 INFO Preproc for training on AOI_2_Vegas ... done\n",
      "2018-04-09 21:19:52,449 INFO Preproc for training on AOI_3_Paris\n",
      "2018-04-09 21:19:52,449 INFO Generate IMAGELIST csv ... skip\n",
      "2018-04-09 21:19:52,450 INFO Generate IMAGELIST csv ... skip\n",
      "2018-04-09 21:19:52,450 INFO Generate band stats csv (MUL) ... skip\n",
      "2018-04-09 21:19:52,450 INFO Generate MASK (valtrain)\n",
      "2018-04-09 21:19:52,450 INFO prep_image_mask for AOI_3_Paris\n",
      "2018-04-09 21:19:52,912 INFO Prepare image container: data/working/images/v5/valtrain_AOI_3_Paris_mask.h5\n",
      "100%|█████████████████████████████████████████| 803/803 [00:10<00:00, 76.67it/s]\n",
      "2018-04-09 21:20:03,407 INFO Generate MASK (valtest)\n",
      "2018-04-09 21:20:03,407 INFO prep_image_mask for AOI_3_Paris\n",
      "2018-04-09 21:20:03,470 INFO Prepare image container: data/working/images/v5/valtest_AOI_3_Paris_mask.h5\n",
      "100%|█████████████████████████████████████████| 345/345 [00:04<00:00, 75.83it/s]\n",
      "2018-04-09 21:20:08,036 INFO Generate MUL_STORE (valtrain)\n",
      "2018-04-09 21:20:08,041 INFO prep_mul_image_store_train for \n",
      "2018-04-09 21:20:08,042 INFO Image store file: data/working/images/v5/valtrain_AOI_3_Paris_mul.h5\n",
      "100%|█████████████████████████████████████████| 803/803 [01:52<00:00,  7.16it/s]\n",
      "2018-04-09 21:22:00,983 INFO Generate MUL_STORE (valtest)\n",
      "2018-04-09 21:22:00,989 INFO prep_mul_image_store_train for \n",
      "2018-04-09 21:22:00,991 INFO Image store file: data/working/images/v5/valtest_AOI_3_Paris_mul.h5\n",
      "100%|█████████████████████████████████████████| 345/345 [00:50<00:00,  6.78it/s]\n",
      "2018-04-09 21:22:52,390 INFO Generate RGBMEAN ... skip\n",
      "2018-04-09 21:22:52,390 INFO Generate MULMEAN ... skip\n",
      "2018-04-09 21:22:52,390 INFO Preproc for training on AOI_3_Paris ... done\n",
      "2018-04-09 21:22:53,708 INFO Preproc for training on AOI_4_Shanghai\n",
      "2018-04-09 21:22:53,708 INFO Generate IMAGELIST csv ... skip\n",
      "2018-04-09 21:22:53,708 INFO Generate IMAGELIST csv ... skip\n",
      "2018-04-09 21:22:53,708 INFO Generate band stats csv (MUL) ... skip\n",
      "2018-04-09 21:22:53,708 INFO Generate MASK (valtrain)\n",
      "2018-04-09 21:22:53,708 INFO prep_image_mask for AOI_4_Shanghai\n",
      "2018-04-09 21:22:54,220 INFO Prepare image container: data/working/images/v5/valtrain_AOI_4_Shanghai_mask.h5\n",
      "100%|███████████████████████████████████████| 3207/3207 [01:13<00:00, 43.79it/s]\n",
      "2018-04-09 21:24:07,490 INFO Generate MASK (valtest)\n",
      "2018-04-09 21:24:07,490 INFO prep_image_mask for AOI_4_Shanghai\n",
      "2018-04-09 21:24:07,769 INFO Prepare image container: data/working/images/v5/valtest_AOI_4_Shanghai_mask.h5\n",
      "100%|███████████████████████████████████████| 1375/1375 [00:33<00:00, 40.89it/s]\n",
      "2018-04-09 21:24:41,425 INFO Generate MUL_STORE (valtrain)\n",
      "2018-04-09 21:24:41,443 INFO prep_mul_image_store_train for \n",
      "2018-04-09 21:24:41,450 INFO Image store file: data/working/images/v5/valtrain_AOI_4_Shanghai_mul.h5\n",
      "100%|███████████████████████████████████████| 3207/3207 [07:58<00:00,  6.70it/s]\n",
      "2018-04-09 21:32:41,159 INFO Generate MUL_STORE (valtest)\n",
      "2018-04-09 21:32:41,164 INFO prep_mul_image_store_train for \n",
      "2018-04-09 21:32:41,165 INFO Image store file: data/working/images/v5/valtest_AOI_4_Shanghai_mul.h5\n",
      "100%|███████████████████████████████████████| 1375/1375 [03:38<00:00,  6.29it/s]\n",
      "2018-04-09 21:36:19,988 INFO Generate RGBMEAN ... skip\n",
      "2018-04-09 21:36:19,988 INFO Generate MULMEAN ... skip\n",
      "2018-04-09 21:36:19,988 INFO Preproc for training on AOI_4_Shanghai ... done\n",
      "2018-04-09 21:36:21,426 INFO Preproc for training on AOI_5_Khartoum\n",
      "2018-04-09 21:36:21,426 INFO Generate IMAGELIST csv ... skip\n",
      "2018-04-09 21:36:21,426 INFO Generate IMAGELIST csv ... skip\n",
      "2018-04-09 21:36:21,426 INFO Generate band stats csv (MUL) ... skip\n",
      "2018-04-09 21:36:21,426 INFO Generate MASK (valtrain)\n",
      "2018-04-09 21:36:21,426 INFO prep_image_mask for AOI_5_Khartoum\n",
      "2018-04-09 21:36:21,774 INFO Prepare image container: data/working/images/v5/valtrain_AOI_5_Khartoum_mask.h5\n",
      "100%|█████████████████████████████████████████| 708/708 [00:17<00:00, 39.83it/s]\n",
      "2018-04-09 21:36:39,581 INFO Generate MASK (valtest)\n",
      "2018-04-09 21:36:39,582 INFO prep_image_mask for AOI_5_Khartoum\n",
      "2018-04-09 21:36:39,832 INFO Prepare image container: data/working/images/v5/valtest_AOI_5_Khartoum_mask.h5\n",
      "100%|█████████████████████████████████████████| 304/304 [00:07<00:00, 38.65it/s]\n",
      "2018-04-09 21:36:47,722 INFO Generate MUL_STORE (valtrain)\n",
      "2018-04-09 21:36:47,744 INFO prep_mul_image_store_train for \n",
      "2018-04-09 21:36:47,747 INFO Image store file: data/working/images/v5/valtrain_AOI_5_Khartoum_mul.h5\n",
      "100%|█████████████████████████████████████████| 708/708 [01:56<00:00,  6.08it/s]\n",
      "2018-04-09 21:38:44,982 INFO Generate MUL_STORE (valtest)\n",
      "2018-04-09 21:38:44,989 INFO prep_mul_image_store_train for \n",
      "2018-04-09 21:38:44,990 INFO Image store file: data/working/images/v5/valtest_AOI_5_Khartoum_mul.h5\n",
      "100%|█████████████████████████████████████████| 304/304 [00:49<00:00,  6.19it/s]\n",
      "2018-04-09 21:39:34,764 INFO Generate RGBMEAN ... skip\n",
      "2018-04-09 21:39:34,765 INFO Generate MULMEAN ... skip\n",
      "2018-04-09 21:39:34,765 INFO Preproc for training on AOI_5_Khartoum ... done\n"
     ]
    }
   ],
   "source": [
    "for train_path in ['data/train/AOI_2_Vegas_Train', 'data/train/AOI_3_Paris_Train', 'data/train/AOI_4_Shanghai_Train', 'data/train/AOI_5_Khartoum_Train']:\n",
    "    !python code/v5_im.py preproc_train {train_path}"
   ]
  },
  {
   "cell_type": "code",
   "execution_count": 7,
   "metadata": {},
   "outputs": [],
   "source": [
    "# for train_path in ['data/train/AOI_2_Vegas_Train', 'data/train/AOI_3_Paris_Train', 'data/train/AOI_4_Shanghai_Train', 'data/train/AOI_5_Khartoum_Train']:\n",
    "#     !python code/v12_im_deeplab.py preproc_train {train_path}"
   ]
  },
  {
   "cell_type": "markdown",
   "metadata": {},
   "source": [
    "### Overload"
   ]
  },
  {
   "cell_type": "code",
   "execution_count": 8,
   "metadata": {},
   "outputs": [],
   "source": [
    "import torch\n",
    "import torch.nn as nn\n",
    "import torch.nn.functional as F\n",
    "from torch.autograd import Variable"
   ]
  },
  {
   "cell_type": "code",
   "execution_count": 9,
   "metadata": {},
   "outputs": [],
   "source": [
    "# area_id = directory_name_to_area_id(datapath)\n",
    "# prefix = area_id_to_prefix(area_id)\n",
    "# fn_train = FMT_VALTRAIN_IMAGELIST_PATH.format(prefix=prefix)\n",
    "# df_train = pd.read_csv(fn_train)\n",
    "\n",
    "# df_train = df_train.iloc[0:100]\n",
    "# # !cp {fn_train} {fn_train + '.bak'}\n",
    "# df_train.to_csv(fn_train)\n"
   ]
  },
  {
   "cell_type": "code",
   "execution_count": 10,
   "metadata": {},
   "outputs": [],
   "source": [
    "# area_id = directory_name_to_area_id(datapath)\n",
    "# prefix = area_id_to_prefix(area_id)\n",
    "# fn_train = FMT_VALTRAIN_IMAGELIST_PATH.format(prefix=prefix)\n",
    "# !cp {fn_train + '.bak'} {fn_train}"
   ]
  },
  {
   "cell_type": "code",
   "execution_count": 11,
   "metadata": {},
   "outputs": [],
   "source": [
    "# # memory dataset\n",
    "# def get_dataset(datapath):\n",
    "#     area_id = directory_name_to_area_id(datapath)\n",
    "#     prefix = area_id_to_prefix(area_id)\n",
    "#     trn_x, trn_y = get_valtrain_data(area_id)\n",
    "#     val_x, val_y = get_valtest_data(area_id)\n",
    "    \n",
    "#     trn_x = trn_x[:,:3]; trn_x = np.moveaxis(trn_x, 1, -1).astype('float')\n",
    "#     trn_y = trn_y[:,:3]; trn_y = np.moveaxis(trn_y, 1, -1).astype('float')\n",
    "#     trn_y = np.broadcast_to(trn_y, (trn_y.shape[0], 256, 256, 3))\n",
    "    \n",
    "#     val_x = val_x[:,:3]; val_x = np.moveaxis(val_x, 1, -1).astype('float')\n",
    "#     val_y = val_y[:,:3]; val_y = np.moveaxis(val_y, 1, -1).astype('float')\n",
    "#     val_y = np.broadcast_to(val_y, (val_y.shape[0], 256, 256, 3))\n",
    "#     return (trn_x,trn_y), (val_x,val_y)\n"
   ]
  },
  {
   "cell_type": "code",
   "execution_count": 12,
   "metadata": {},
   "outputs": [],
   "source": [
    "datapath = 'data/train/AOI_3_Paris_Train'"
   ]
  },
  {
   "cell_type": "code",
   "execution_count": 13,
   "metadata": {},
   "outputs": [],
   "source": [
    "datapaths = ['data/train/AOI_3_Paris_Train', 'data/train/AOI_2_Vegas_Train', 'data/train/AOI_4_Shanghai_Train', 'data/train/AOI_5_Khartoum_Train']"
   ]
  },
  {
   "cell_type": "code",
   "execution_count": 14,
   "metadata": {},
   "outputs": [],
   "source": [
    "# # get_im algorithm test\n",
    "# cum_ns = np.array([2, 4, 6])\n",
    "# i = 5\n",
    "# idx_file = np.argmax(i + 1 <= cum_ns)\n",
    "# if idx_file == 0:\n",
    "#     idx_im = i\n",
    "# else:\n",
    "#     idx_im = i - cum_ns[idx_file - 1]\n",
    "\n",
    "# print(idx_file, idx_im)"
   ]
  },
  {
   "cell_type": "code",
   "execution_count": 35,
   "metadata": {},
   "outputs": [],
   "source": [
    "class H5Dataset(BaseDataset):\n",
    "    def __init__(self, idxs, y, transform, datapaths=datapaths, is_rgb=True):\n",
    "        area_ids = [directory_name_to_area_id(datapath) for datapath in datapaths]\n",
    "        self.prefixes = [area_id_to_prefix(area_id) for area_id in area_ids]\n",
    "        self.is_rgb = is_rgb\n",
    "        self.file_lists = [FMT_VALTRAIN_IMAGELIST_PATH.format(prefix=prefix) for prefix in self.prefixes] +\\\n",
    "            [FMT_VALTEST_IMAGELIST_PATH.format(prefix=prefix) for prefix in self.prefixes]\n",
    "        self.x_h5_lists = [FMT_VALTRAIN_MUL_STORE.format(prefix) for prefix in self.prefixes] +\\\n",
    "            [FMT_VALTEST_MUL_STORE.format(prefix) for prefix in self.prefixes]\n",
    "        self.y_h5_lists = [FMT_VALTRAIN_MASK_STORE.format(prefix) for prefix in self.prefixes] +\\\n",
    "            [FMT_VALTEST_MASK_STORE.format(prefix) for prefix in self.prefixes]\n",
    "        self.idxs = idxs # idx of trn or val. 0 ... len-1. Generate by permutation\n",
    "        if transform is not None:\n",
    "            super().__init__(transform)\n",
    "        self.ys = y\n",
    "        \n",
    "        # open all files\n",
    "        self.x_h5_lists_open = [tb.open_file(o) for o in self.x_h5_lists]\n",
    "        self.df_lists = [pd.read_csv(o) for o in self.file_lists]\n",
    "\n",
    "        # choose next h5 after one is exhausted\n",
    "        self.ns = []\n",
    "        for file_list in self.file_lists:\n",
    "            df = pd.read_csv(file_list)\n",
    "            self.ns.append(df.shape[0])\n",
    "        self.ns = np.array(self.ns) # number of pre-crop images\n",
    "        self.cum_ns = np.cumsum(self.ns * num_slice)\n",
    "        \n",
    "    @staticmethod\n",
    "    def load_y(datapaths=datapaths):\n",
    "        dummy_dataset = H5Dataset(None, None, None, datapaths=datapaths)\n",
    "            \n",
    "        y = []\n",
    "        print('Loading masks...')\n",
    "        for idx_file, df_list in enumerate(dummy_dataset.df_lists):\n",
    "            with tb.open_file(dummy_dataset.y_h5_lists[idx_file]) as f:\n",
    "                ys = []\n",
    "                for idx_im in tqdm.tqdm(range(dummy_dataset.ns[idx_file] * num_slice), total=dummy_dataset.ns[idx_file] * num_slice):\n",
    "                    slice_pos = idx_im % num_slice\n",
    "                    im = np.array(f.get_node('/' + df_list.iloc[idx_im // num_slice][0] + '_' + str(slice_pos)))\n",
    "                    im = np.broadcast_to(im[...,None], (256, 256, 3))\n",
    "                    ys.append(im.astype('float'))\n",
    "            y += ys\n",
    "        return np.array(y)\n",
    "\n",
    "        \n",
    "    def get_sz(self): return self.transform.sz\n",
    "    \n",
    "    def get_file_idx(self,i):\n",
    "        idx_file = np.argmax(i + 1 <= self.cum_ns)\n",
    "        if idx_file == 0:\n",
    "            idx_im = i\n",
    "        else:\n",
    "            idx_im = i - self.cum_ns[idx_file - 1]\n",
    "        return idx_file, idx_im\n",
    "    \n",
    "    def get_x(self, i):\n",
    "        idx_file, idx_im = self.get_file_idx(i)\n",
    "        h5_list_open = self.x_h5_lists_open\n",
    "        f = h5_list_open[idx_file]\n",
    "        df_list = self.df_lists[idx_file]\n",
    "        slice_pos = idx_im % num_slice\n",
    "        \n",
    "        im = np.array(f.get_node('/' + df_list.iloc[idx_im // num_slice][0] + '_' + str(slice_pos)))\n",
    "        if self.is_rgb:\n",
    "            # Or other bands\n",
    "            im = im[...,:3]\n",
    "        return im.astype('float')\n",
    "    \n",
    "    def get_y(self, i):\n",
    "        return self.ys[i]\n",
    "        \n",
    "    def get_c(self): return 1\n",
    "        \n",
    "    def get_n(self): return self.idxs.shape[0]\n",
    "\n",
    "#     def resize_imgs(self, targ, new_path):\n",
    "#         dest = resize_imgs(self.fnames, targ, self.path, new_path)\n",
    "#         return self.__class__(self.fnames, self.y, self.transform, dest)\n",
    "\n",
    "    def denorm(self,arr):\n",
    "        \"\"\"Reverse the normalization done to a batch of images.\n",
    "\n",
    "        Arguments:\n",
    "            arr: of shape/size (N,3,sz,sz)\n",
    "        \"\"\"\n",
    "        if type(arr) is not np.ndarray: arr = to_np(arr)\n",
    "        if len(arr.shape)==3: arr = arr[None]\n",
    "        return self.transform.denorm(np.rollaxis(arr,1,4))\n",
    "\n",
    "    @staticmethod\n",
    "    def get_ns(datapaths=datapaths):\n",
    "        return H5Dataset(None, None, None, datapaths=datapaths).cum_ns[-1]"
   ]
  },
  {
   "cell_type": "code",
   "execution_count": 16,
   "metadata": {},
   "outputs": [],
   "source": [
    "cut_base = 8\n",
    "class UpsampleModel():\n",
    "    def __init__(self,model,name='upsample'):\n",
    "        self.model,self.name = model,name\n",
    "\n",
    "    def get_layer_groups(self, precompute):\n",
    "        c = list(children(self.model))\n",
    "        return [c[:cut_base],\n",
    "               c[cut_base:]]"
   ]
  },
  {
   "cell_type": "code",
   "execution_count": 17,
   "metadata": {},
   "outputs": [],
   "source": [
    "def jaccard_coef(y_true, y_pred, thresh=0.5):\n",
    "    \n",
    "    smooth = 1e-12\n",
    "    intersection = torch.sum(y_true * y_pred)\n",
    "    sum_ = torch.sum(y_true + y_pred)\n",
    "    jac = (intersection + smooth) / (sum_ - intersection + smooth)\n",
    "    return np.mean(jac)\n",
    "\n",
    "\n",
    "def jaccard_coef_int(y_true, y_pred):\n",
    "    smooth = 1e-12\n",
    "    y_pred_pos = torch.round(torch.clamp(y_pred, 0, 1))\n",
    "    intersection = torch.sum(y_true * y_pred_pos)\n",
    "    sum_ = torch.sum(y_true + y_pred_pos)\n",
    "    jac = (intersection + smooth) / (sum_ - intersection + smooth)\n",
    "    return np.mean(jac)"
   ]
  },
  {
   "cell_type": "code",
   "execution_count": 36,
   "metadata": {
    "scrolled": false
   },
   "outputs": [
    {
     "name": "stderr",
     "output_type": "stream",
     "text": [
      "  0%|          | 28/7227 [00:00<00:25, 277.99it/s]"
     ]
    },
    {
     "name": "stdout",
     "output_type": "stream",
     "text": [
      "Loading masks...\n"
     ]
    },
    {
     "name": "stderr",
     "output_type": "stream",
     "text": [
      "100%|██████████| 7227/7227 [00:26<00:00, 276.81it/s]\n",
      "100%|██████████| 3105/3105 [00:10<00:00, 293.66it/s]\n"
     ]
    }
   ],
   "source": [
    "ys = H5Dataset.load_y([datapath])"
   ]
  },
  {
   "cell_type": "code",
   "execution_count": 40,
   "metadata": {},
   "outputs": [],
   "source": [
    "def get_md_model(datapaths, device_ids=list(range(8))):\n",
    "    aug_tfms=transforms_top_down\n",
    "    tfms = tfms_from_model(vgg16, sz, crop_type=CropType.NO, tfm_y=TfmType.CLASS, aug_tfms=aug_tfms)\n",
    "#     tfms = tfms_from_model(vgg16, sz, crop_type=CropType.NO, tfm_y=TfmType.CLASS, aug_tfms=RandomLighting(0.05, 0.1, tfm_y=TfmType.CLASS))\n",
    "#     datasets = ImageData.get_ds(ArraysSingleDataset, (trn_x,trn_y), (val_x,val_y), tfms)\n",
    "    ns = H5Dataset.get_ns(datapaths)\n",
    "    print('Total number of images', ns)\n",
    "    x_idx = np.arange(ns)\n",
    "    # 80:20 split\n",
    "    val_idxs = np.random.permutation(x_idx[:int(ns * 0.8)])\n",
    "    ys = H5Dataset.load_y(datapaths)\n",
    "    (trn_x, val_x), (trn_y, val_y)= split_by_idx(val_idxs, x_idx, ys)\n",
    "    datasets = ImageData.get_ds(H5Dataset, (trn_x, trn_y), (val_x, val_y), tfms, is_rgb=True, datapaths=datapaths)\n",
    "    md = ImageData('data', datasets, bs, num_workers=16, classes=None)\n",
    "    denorm = md.trn_ds.denorm\n",
    "\n",
    "    if not Path(MODEL_DIR).exists():\n",
    "        Path(MODEL_DIR).mkdir(parents=True)\n",
    "\n",
    "    logger.info(\"Instantiate deeplab model\")\n",
    "    net = UNet16(pretrained='vgg')\n",
    "    net = nn.DataParallel(net, device_ids)\n",
    "    models = UpsampleModel(net)\n",
    "    return md, models, denorm"
   ]
  },
  {
   "cell_type": "code",
   "execution_count": 41,
   "metadata": {},
   "outputs": [],
   "source": [
    "def expanded_loss(pred, target):\n",
    "#     pred = torch.clamp(pred, 0, 1)\n",
    "    return F.binary_cross_entropy_with_logits(pred[:,0], target)"
   ]
  },
  {
   "cell_type": "code",
   "execution_count": null,
   "metadata": {},
   "outputs": [],
   "source": [
    "md, model, denorm = get_md_model([datapaths[0]])"
   ]
  },
  {
   "cell_type": "code",
   "execution_count": 42,
   "metadata": {},
   "outputs": [
    {
     "name": "stderr",
     "output_type": "stream",
     "text": [
      "  0%|          | 18/7227 [00:00<00:40, 179.29it/s]"
     ]
    },
    {
     "name": "stdout",
     "output_type": "stream",
     "text": [
      "Total number of images 10332\n",
      "Loading masks...\n"
     ]
    },
    {
     "name": "stderr",
     "output_type": "stream",
     "text": [
      "100%|██████████| 7227/7227 [00:23<00:00, 311.98it/s]\n",
      "100%|██████████| 3105/3105 [00:09<00:00, 321.95it/s]\n"
     ]
    }
   ],
   "source": [
    "learn = ConvLearner(md, model)\n",
    "learn.opt_fn=optim.Adam\n",
    "learn.crit=expanded_loss\n",
    "learn.metrics=[jaccard_coef, jaccard_coef_int]"
   ]
  },
  {
   "cell_type": "code",
   "execution_count": 43,
   "metadata": {},
   "outputs": [],
   "source": [
    "learn.load('unfreezed_1')"
   ]
  },
  {
   "cell_type": "code",
   "execution_count": null,
   "metadata": {},
   "outputs": [
    {
     "data": {
      "application/vnd.jupyter.widget-view+json": {
       "model_id": "b593ad5692fe4d5d81553118a86f65c9",
       "version_major": 2,
       "version_minor": 0
      },
      "text/html": [
       "<p>Failed to display Jupyter Widget of type <code>HBox</code>.</p>\n",
       "<p>\n",
       "  If you're reading this message in the Jupyter Notebook or JupyterLab Notebook, it may mean\n",
       "  that the widgets JavaScript is still loading. If this message persists, it\n",
       "  likely means that the widgets JavaScript library is either not installed or\n",
       "  not enabled. See the <a href=\"https://ipywidgets.readthedocs.io/en/stable/user_install.html\">Jupyter\n",
       "  Widgets Documentation</a> for setup instructions.\n",
       "</p>\n",
       "<p>\n",
       "  If you're reading this message in another frontend (for example, a static\n",
       "  rendering on GitHub or <a href=\"https://nbviewer.jupyter.org/\">NBViewer</a>),\n",
       "  it may mean that your frontend doesn't currently support widgets.\n",
       "</p>\n"
      ],
      "text/plain": [
       "HBox(children=(IntProgress(value=0, description='Epoch', max=1), HTML(value='')))"
      ]
     },
     "metadata": {},
     "output_type": "display_data"
    },
    {
     "name": "stdout",
     "output_type": "stream",
     "text": [
      " 19%|█▉        | 64/331 [01:06<04:37,  1.04s/it, loss=0.211] "
     ]
    }
   ],
   "source": [
    "learn.lr_find()\n",
    "learn.sched.plot()"
   ]
  },
  {
   "cell_type": "code",
   "execution_count": null,
   "metadata": {},
   "outputs": [],
   "source": [
    "learn.freeze_to(1)"
   ]
  },
  {
   "cell_type": "code",
   "execution_count": null,
   "metadata": {},
   "outputs": [],
   "source": [
    "lr = 1e-3"
   ]
  },
  {
   "cell_type": "code",
   "execution_count": null,
   "metadata": {},
   "outputs": [],
   "source": [
    "learn.fit(lr, 1, cycle_len=5, use_clr=(20,5))"
   ]
  },
  {
   "cell_type": "code",
   "execution_count": 45,
   "metadata": {},
   "outputs": [],
   "source": [
    "x, y = md.trn_dl.get_batch([o for o in range(9)])"
   ]
  },
  {
   "cell_type": "code",
   "execution_count": 46,
   "metadata": {},
   "outputs": [
    {
     "data": {
      "image/png": "[encoded data removed]",
      "text/plain": [
       "<Figure size 432x288 with 18 Axes>"
      ]
     },
     "metadata": {},
     "output_type": "display_data"
    }
   ],
   "source": [
    "for i in range(1, 10):\n",
    "    plt.subplot(3, 6, i*2)\n",
    "    plt.imshow(denorm(x[i-1])[0])\n",
    "    plt.subplot(3, 6, i*2-1)\n",
    "    plt.imshow(y[i-1])\n",
    "#     plt.imshow(to_np(learn.model(V(x[i-1][None]))).squeeze())"
   ]
  },
  {
   "cell_type": "code",
   "execution_count": 47,
   "metadata": {},
   "outputs": [
    {
     "data": {
      "image/png": "[encoded data removed]",
      "text/plain": [
       "<Figure size 432x288 with 18 Axes>"
      ]
     },
     "metadata": {},
     "output_type": "display_data"
    }
   ],
   "source": [
    "for i in range(1, 10):\n",
    "    plt.subplot(3, 6, i*2)\n",
    "    plt.imshow(denorm(x[i-1])[0])\n",
    "    plt.subplot(3, 6, i*2-1)\n",
    "#     plt.imshow(y[i-1])\n",
    "    pred = to_np(learn.model(V(x[i-1][None]))).squeeze()\n",
    "#     pred = np.clip(pred, 0, 1)\n",
    "    plt.imshow(pred)"
   ]
  },
  {
   "cell_type": "code",
   "execution_count": 66,
   "metadata": {},
   "outputs": [],
   "source": [
    "device_ids=list(range(9))\n",
    "net = to_gpu(UNet16(pretrained='vgg'))\n",
    "net = nn.DataParallel(net, device_ids)\n",
    "models = UpsampleModel(net)"
   ]
  },
  {
   "cell_type": "code",
   "execution_count": 71,
   "metadata": {},
   "outputs": [],
   "source": [
    "x, y = md.trn_dl.get_batch(list(range(100)))"
   ]
  },
  {
   "cell_type": "code",
   "execution_count": null,
   "metadata": {},
   "outputs": [
    {
     "name": "stdout",
     "output_type": "stream",
     "text": [
      "[0]\n"
     ]
    },
    {
     "ename": "RuntimeError",
     "evalue": "cuda runtime error (2) : out of memory at /opt/conda/conda-bld/pytorch_1518244421288/work/torch/lib/THC/generic/THCStorage.cu:58",
     "output_type": "error",
     "traceback": [
      "\u001b[0;31m---------------------------------------------------------------------------\u001b[0m",
      "\u001b[0;31mRuntimeError\u001b[0m                              Traceback (most recent call last)",
      "\u001b[0;32m<timed exec>\u001b[0m in \u001b[0;36m<module>\u001b[0;34m()\u001b[0m\n",
      "\u001b[0;32m~/miniconda3/envs/fastai/lib/python3.6/site-packages/torch/nn/modules/module.py\u001b[0m in \u001b[0;36m__call__\u001b[0;34m(self, *input, **kwargs)\u001b[0m\n\u001b[1;32m    355\u001b[0m             \u001b[0mresult\u001b[0m \u001b[0;34m=\u001b[0m \u001b[0mself\u001b[0m\u001b[0;34m.\u001b[0m\u001b[0m_slow_forward\u001b[0m\u001b[0;34m(\u001b[0m\u001b[0;34m*\u001b[0m\u001b[0minput\u001b[0m\u001b[0;34m,\u001b[0m \u001b[0;34m**\u001b[0m\u001b[0mkwargs\u001b[0m\u001b[0;34m)\u001b[0m\u001b[0;34m\u001b[0m\u001b[0m\n\u001b[1;32m    356\u001b[0m         \u001b[0;32melse\u001b[0m\u001b[0;34m:\u001b[0m\u001b[0;34m\u001b[0m\u001b[0m\n\u001b[0;32m--> 357\u001b[0;31m             \u001b[0mresult\u001b[0m \u001b[0;34m=\u001b[0m \u001b[0mself\u001b[0m\u001b[0;34m.\u001b[0m\u001b[0mforward\u001b[0m\u001b[0;34m(\u001b[0m\u001b[0;34m*\u001b[0m\u001b[0minput\u001b[0m\u001b[0;34m,\u001b[0m \u001b[0;34m**\u001b[0m\u001b[0mkwargs\u001b[0m\u001b[0;34m)\u001b[0m\u001b[0;34m\u001b[0m\u001b[0m\n\u001b[0m\u001b[1;32m    358\u001b[0m         \u001b[0;32mfor\u001b[0m \u001b[0mhook\u001b[0m \u001b[0;32min\u001b[0m \u001b[0mself\u001b[0m\u001b[0;34m.\u001b[0m\u001b[0m_forward_hooks\u001b[0m\u001b[0;34m.\u001b[0m\u001b[0mvalues\u001b[0m\u001b[0;34m(\u001b[0m\u001b[0;34m)\u001b[0m\u001b[0;34m:\u001b[0m\u001b[0;34m\u001b[0m\u001b[0m\n\u001b[1;32m    359\u001b[0m             \u001b[0mhook_result\u001b[0m \u001b[0;34m=\u001b[0m \u001b[0mhook\u001b[0m\u001b[0;34m(\u001b[0m\u001b[0mself\u001b[0m\u001b[0;34m,\u001b[0m \u001b[0minput\u001b[0m\u001b[0;34m,\u001b[0m \u001b[0mresult\u001b[0m\u001b[0;34m)\u001b[0m\u001b[0;34m\u001b[0m\u001b[0m\n",
      "\u001b[0;32m~/miniconda3/envs/fastai/lib/python3.6/site-packages/torch/nn/parallel/data_parallel.py\u001b[0m in \u001b[0;36mforward\u001b[0;34m(self, *inputs, **kwargs)\u001b[0m\n\u001b[1;32m     69\u001b[0m         \u001b[0minputs\u001b[0m\u001b[0;34m,\u001b[0m \u001b[0mkwargs\u001b[0m \u001b[0;34m=\u001b[0m \u001b[0mself\u001b[0m\u001b[0;34m.\u001b[0m\u001b[0mscatter\u001b[0m\u001b[0;34m(\u001b[0m\u001b[0minputs\u001b[0m\u001b[0;34m,\u001b[0m \u001b[0mkwargs\u001b[0m\u001b[0;34m,\u001b[0m \u001b[0mself\u001b[0m\u001b[0;34m.\u001b[0m\u001b[0mdevice_ids\u001b[0m\u001b[0;34m)\u001b[0m\u001b[0;34m\u001b[0m\u001b[0m\n\u001b[1;32m     70\u001b[0m         \u001b[0;32mif\u001b[0m \u001b[0mlen\u001b[0m\u001b[0;34m(\u001b[0m\u001b[0mself\u001b[0m\u001b[0;34m.\u001b[0m\u001b[0mdevice_ids\u001b[0m\u001b[0;34m)\u001b[0m \u001b[0;34m==\u001b[0m \u001b[0;36m1\u001b[0m\u001b[0;34m:\u001b[0m\u001b[0;34m\u001b[0m\u001b[0m\n\u001b[0;32m---> 71\u001b[0;31m             \u001b[0;32mreturn\u001b[0m \u001b[0mself\u001b[0m\u001b[0;34m.\u001b[0m\u001b[0mmodule\u001b[0m\u001b[0;34m(\u001b[0m\u001b[0;34m*\u001b[0m\u001b[0minputs\u001b[0m\u001b[0;34m[\u001b[0m\u001b[0;36m0\u001b[0m\u001b[0;34m]\u001b[0m\u001b[0;34m,\u001b[0m \u001b[0;34m**\u001b[0m\u001b[0mkwargs\u001b[0m\u001b[0;34m[\u001b[0m\u001b[0;36m0\u001b[0m\u001b[0;34m]\u001b[0m\u001b[0;34m)\u001b[0m\u001b[0;34m\u001b[0m\u001b[0m\n\u001b[0m\u001b[1;32m     72\u001b[0m         \u001b[0mreplicas\u001b[0m \u001b[0;34m=\u001b[0m \u001b[0mself\u001b[0m\u001b[0;34m.\u001b[0m\u001b[0mreplicate\u001b[0m\u001b[0;34m(\u001b[0m\u001b[0mself\u001b[0m\u001b[0;34m.\u001b[0m\u001b[0mmodule\u001b[0m\u001b[0;34m,\u001b[0m \u001b[0mself\u001b[0m\u001b[0;34m.\u001b[0m\u001b[0mdevice_ids\u001b[0m\u001b[0;34m[\u001b[0m\u001b[0;34m:\u001b[0m\u001b[0mlen\u001b[0m\u001b[0;34m(\u001b[0m\u001b[0minputs\u001b[0m\u001b[0;34m)\u001b[0m\u001b[0;34m]\u001b[0m\u001b[0;34m)\u001b[0m\u001b[0;34m\u001b[0m\u001b[0m\n\u001b[1;32m     73\u001b[0m         \u001b[0moutputs\u001b[0m \u001b[0;34m=\u001b[0m \u001b[0mself\u001b[0m\u001b[0;34m.\u001b[0m\u001b[0mparallel_apply\u001b[0m\u001b[0;34m(\u001b[0m\u001b[0mreplicas\u001b[0m\u001b[0;34m,\u001b[0m \u001b[0minputs\u001b[0m\u001b[0;34m,\u001b[0m \u001b[0mkwargs\u001b[0m\u001b[0;34m)\u001b[0m\u001b[0;34m\u001b[0m\u001b[0m\n",
      "\u001b[0;32m~/miniconda3/envs/fastai/lib/python3.6/site-packages/torch/nn/modules/module.py\u001b[0m in \u001b[0;36m__call__\u001b[0;34m(self, *input, **kwargs)\u001b[0m\n\u001b[1;32m    355\u001b[0m             \u001b[0mresult\u001b[0m \u001b[0;34m=\u001b[0m \u001b[0mself\u001b[0m\u001b[0;34m.\u001b[0m\u001b[0m_slow_forward\u001b[0m\u001b[0;34m(\u001b[0m\u001b[0;34m*\u001b[0m\u001b[0minput\u001b[0m\u001b[0;34m,\u001b[0m \u001b[0;34m**\u001b[0m\u001b[0mkwargs\u001b[0m\u001b[0;34m)\u001b[0m\u001b[0;34m\u001b[0m\u001b[0m\n\u001b[1;32m    356\u001b[0m         \u001b[0;32melse\u001b[0m\u001b[0;34m:\u001b[0m\u001b[0;34m\u001b[0m\u001b[0m\n\u001b[0;32m--> 357\u001b[0;31m             \u001b[0mresult\u001b[0m \u001b[0;34m=\u001b[0m \u001b[0mself\u001b[0m\u001b[0;34m.\u001b[0m\u001b[0mforward\u001b[0m\u001b[0;34m(\u001b[0m\u001b[0;34m*\u001b[0m\u001b[0minput\u001b[0m\u001b[0;34m,\u001b[0m \u001b[0;34m**\u001b[0m\u001b[0mkwargs\u001b[0m\u001b[0;34m)\u001b[0m\u001b[0;34m\u001b[0m\u001b[0m\n\u001b[0m\u001b[1;32m    358\u001b[0m         \u001b[0;32mfor\u001b[0m \u001b[0mhook\u001b[0m \u001b[0;32min\u001b[0m \u001b[0mself\u001b[0m\u001b[0;34m.\u001b[0m\u001b[0m_forward_hooks\u001b[0m\u001b[0;34m.\u001b[0m\u001b[0mvalues\u001b[0m\u001b[0;34m(\u001b[0m\u001b[0;34m)\u001b[0m\u001b[0;34m:\u001b[0m\u001b[0;34m\u001b[0m\u001b[0m\n\u001b[1;32m    359\u001b[0m             \u001b[0mhook_result\u001b[0m \u001b[0;34m=\u001b[0m \u001b[0mhook\u001b[0m\u001b[0;34m(\u001b[0m\u001b[0mself\u001b[0m\u001b[0;34m,\u001b[0m \u001b[0minput\u001b[0m\u001b[0;34m,\u001b[0m \u001b[0mresult\u001b[0m\u001b[0;34m)\u001b[0m\u001b[0;34m\u001b[0m\u001b[0m\n",
      "\u001b[0;32m~/building-detection-challenge/models.py\u001b[0m in \u001b[0;36mforward\u001b[0;34m(self, x)\u001b[0m\n\u001b[1;32m    190\u001b[0m     \u001b[0;32mdef\u001b[0m \u001b[0mforward\u001b[0m\u001b[0;34m(\u001b[0m\u001b[0mself\u001b[0m\u001b[0;34m,\u001b[0m \u001b[0mx\u001b[0m\u001b[0;34m)\u001b[0m\u001b[0;34m:\u001b[0m\u001b[0;34m\u001b[0m\u001b[0m\n\u001b[1;32m    191\u001b[0m         \u001b[0mconv1\u001b[0m \u001b[0;34m=\u001b[0m \u001b[0mself\u001b[0m\u001b[0;34m.\u001b[0m\u001b[0mconv1\u001b[0m\u001b[0;34m(\u001b[0m\u001b[0mx\u001b[0m\u001b[0;34m)\u001b[0m\u001b[0;34m\u001b[0m\u001b[0m\n\u001b[0;32m--> 192\u001b[0;31m         \u001b[0mconv2\u001b[0m \u001b[0;34m=\u001b[0m \u001b[0mself\u001b[0m\u001b[0;34m.\u001b[0m\u001b[0mconv2\u001b[0m\u001b[0;34m(\u001b[0m\u001b[0mself\u001b[0m\u001b[0;34m.\u001b[0m\u001b[0mpool\u001b[0m\u001b[0;34m(\u001b[0m\u001b[0mconv1\u001b[0m\u001b[0;34m)\u001b[0m\u001b[0;34m)\u001b[0m\u001b[0;34m\u001b[0m\u001b[0m\n\u001b[0m\u001b[1;32m    193\u001b[0m         \u001b[0mconv3\u001b[0m \u001b[0;34m=\u001b[0m \u001b[0mself\u001b[0m\u001b[0;34m.\u001b[0m\u001b[0mconv3\u001b[0m\u001b[0;34m(\u001b[0m\u001b[0mself\u001b[0m\u001b[0;34m.\u001b[0m\u001b[0mpool\u001b[0m\u001b[0;34m(\u001b[0m\u001b[0mconv2\u001b[0m\u001b[0;34m)\u001b[0m\u001b[0;34m)\u001b[0m\u001b[0;34m\u001b[0m\u001b[0m\n\u001b[1;32m    194\u001b[0m         \u001b[0mconv4\u001b[0m \u001b[0;34m=\u001b[0m \u001b[0mself\u001b[0m\u001b[0;34m.\u001b[0m\u001b[0mconv4\u001b[0m\u001b[0;34m(\u001b[0m\u001b[0mself\u001b[0m\u001b[0;34m.\u001b[0m\u001b[0mpool\u001b[0m\u001b[0;34m(\u001b[0m\u001b[0mconv3\u001b[0m\u001b[0;34m)\u001b[0m\u001b[0;34m)\u001b[0m\u001b[0;34m\u001b[0m\u001b[0m\n",
      "\u001b[0;32m~/miniconda3/envs/fastai/lib/python3.6/site-packages/torch/nn/modules/module.py\u001b[0m in \u001b[0;36m__call__\u001b[0;34m(self, *input, **kwargs)\u001b[0m\n\u001b[1;32m    355\u001b[0m             \u001b[0mresult\u001b[0m \u001b[0;34m=\u001b[0m \u001b[0mself\u001b[0m\u001b[0;34m.\u001b[0m\u001b[0m_slow_forward\u001b[0m\u001b[0;34m(\u001b[0m\u001b[0;34m*\u001b[0m\u001b[0minput\u001b[0m\u001b[0;34m,\u001b[0m \u001b[0;34m**\u001b[0m\u001b[0mkwargs\u001b[0m\u001b[0;34m)\u001b[0m\u001b[0;34m\u001b[0m\u001b[0m\n\u001b[1;32m    356\u001b[0m         \u001b[0;32melse\u001b[0m\u001b[0;34m:\u001b[0m\u001b[0;34m\u001b[0m\u001b[0m\n\u001b[0;32m--> 357\u001b[0;31m             \u001b[0mresult\u001b[0m \u001b[0;34m=\u001b[0m \u001b[0mself\u001b[0m\u001b[0;34m.\u001b[0m\u001b[0mforward\u001b[0m\u001b[0;34m(\u001b[0m\u001b[0;34m*\u001b[0m\u001b[0minput\u001b[0m\u001b[0;34m,\u001b[0m \u001b[0;34m**\u001b[0m\u001b[0mkwargs\u001b[0m\u001b[0;34m)\u001b[0m\u001b[0;34m\u001b[0m\u001b[0m\n\u001b[0m\u001b[1;32m    358\u001b[0m         \u001b[0;32mfor\u001b[0m \u001b[0mhook\u001b[0m \u001b[0;32min\u001b[0m \u001b[0mself\u001b[0m\u001b[0;34m.\u001b[0m\u001b[0m_forward_hooks\u001b[0m\u001b[0;34m.\u001b[0m\u001b[0mvalues\u001b[0m\u001b[0;34m(\u001b[0m\u001b[0;34m)\u001b[0m\u001b[0;34m:\u001b[0m\u001b[0;34m\u001b[0m\u001b[0m\n\u001b[1;32m    359\u001b[0m             \u001b[0mhook_result\u001b[0m \u001b[0;34m=\u001b[0m \u001b[0mhook\u001b[0m\u001b[0;34m(\u001b[0m\u001b[0mself\u001b[0m\u001b[0;34m,\u001b[0m \u001b[0minput\u001b[0m\u001b[0;34m,\u001b[0m \u001b[0mresult\u001b[0m\u001b[0;34m)\u001b[0m\u001b[0;34m\u001b[0m\u001b[0m\n",
      "\u001b[0;32m~/miniconda3/envs/fastai/lib/python3.6/site-packages/torch/nn/modules/container.py\u001b[0m in \u001b[0;36mforward\u001b[0;34m(self, input)\u001b[0m\n\u001b[1;32m     65\u001b[0m     \u001b[0;32mdef\u001b[0m \u001b[0mforward\u001b[0m\u001b[0;34m(\u001b[0m\u001b[0mself\u001b[0m\u001b[0;34m,\u001b[0m \u001b[0minput\u001b[0m\u001b[0;34m)\u001b[0m\u001b[0;34m:\u001b[0m\u001b[0;34m\u001b[0m\u001b[0m\n\u001b[1;32m     66\u001b[0m         \u001b[0;32mfor\u001b[0m \u001b[0mmodule\u001b[0m \u001b[0;32min\u001b[0m \u001b[0mself\u001b[0m\u001b[0;34m.\u001b[0m\u001b[0m_modules\u001b[0m\u001b[0;34m.\u001b[0m\u001b[0mvalues\u001b[0m\u001b[0;34m(\u001b[0m\u001b[0;34m)\u001b[0m\u001b[0;34m:\u001b[0m\u001b[0;34m\u001b[0m\u001b[0m\n\u001b[0;32m---> 67\u001b[0;31m             \u001b[0minput\u001b[0m \u001b[0;34m=\u001b[0m \u001b[0mmodule\u001b[0m\u001b[0;34m(\u001b[0m\u001b[0minput\u001b[0m\u001b[0;34m)\u001b[0m\u001b[0;34m\u001b[0m\u001b[0m\n\u001b[0m\u001b[1;32m     68\u001b[0m         \u001b[0;32mreturn\u001b[0m \u001b[0minput\u001b[0m\u001b[0;34m\u001b[0m\u001b[0m\n\u001b[1;32m     69\u001b[0m \u001b[0;34m\u001b[0m\u001b[0m\n",
      "\u001b[0;32m~/miniconda3/envs/fastai/lib/python3.6/site-packages/torch/nn/modules/module.py\u001b[0m in \u001b[0;36m__call__\u001b[0;34m(self, *input, **kwargs)\u001b[0m\n\u001b[1;32m    355\u001b[0m             \u001b[0mresult\u001b[0m \u001b[0;34m=\u001b[0m \u001b[0mself\u001b[0m\u001b[0;34m.\u001b[0m\u001b[0m_slow_forward\u001b[0m\u001b[0;34m(\u001b[0m\u001b[0;34m*\u001b[0m\u001b[0minput\u001b[0m\u001b[0;34m,\u001b[0m \u001b[0;34m**\u001b[0m\u001b[0mkwargs\u001b[0m\u001b[0;34m)\u001b[0m\u001b[0;34m\u001b[0m\u001b[0m\n\u001b[1;32m    356\u001b[0m         \u001b[0;32melse\u001b[0m\u001b[0;34m:\u001b[0m\u001b[0;34m\u001b[0m\u001b[0m\n\u001b[0;32m--> 357\u001b[0;31m             \u001b[0mresult\u001b[0m \u001b[0;34m=\u001b[0m \u001b[0mself\u001b[0m\u001b[0;34m.\u001b[0m\u001b[0mforward\u001b[0m\u001b[0;34m(\u001b[0m\u001b[0;34m*\u001b[0m\u001b[0minput\u001b[0m\u001b[0;34m,\u001b[0m \u001b[0;34m**\u001b[0m\u001b[0mkwargs\u001b[0m\u001b[0;34m)\u001b[0m\u001b[0;34m\u001b[0m\u001b[0m\n\u001b[0m\u001b[1;32m    358\u001b[0m         \u001b[0;32mfor\u001b[0m \u001b[0mhook\u001b[0m \u001b[0;32min\u001b[0m \u001b[0mself\u001b[0m\u001b[0;34m.\u001b[0m\u001b[0m_forward_hooks\u001b[0m\u001b[0;34m.\u001b[0m\u001b[0mvalues\u001b[0m\u001b[0;34m(\u001b[0m\u001b[0;34m)\u001b[0m\u001b[0;34m:\u001b[0m\u001b[0;34m\u001b[0m\u001b[0m\n\u001b[1;32m    359\u001b[0m             \u001b[0mhook_result\u001b[0m \u001b[0;34m=\u001b[0m \u001b[0mhook\u001b[0m\u001b[0;34m(\u001b[0m\u001b[0mself\u001b[0m\u001b[0;34m,\u001b[0m \u001b[0minput\u001b[0m\u001b[0;34m,\u001b[0m \u001b[0mresult\u001b[0m\u001b[0;34m)\u001b[0m\u001b[0;34m\u001b[0m\u001b[0m\n",
      "\u001b[0;32m~/miniconda3/envs/fastai/lib/python3.6/site-packages/torch/nn/modules/conv.py\u001b[0m in \u001b[0;36mforward\u001b[0;34m(self, input)\u001b[0m\n\u001b[1;32m    280\u001b[0m     \u001b[0;32mdef\u001b[0m \u001b[0mforward\u001b[0m\u001b[0;34m(\u001b[0m\u001b[0mself\u001b[0m\u001b[0;34m,\u001b[0m \u001b[0minput\u001b[0m\u001b[0;34m)\u001b[0m\u001b[0;34m:\u001b[0m\u001b[0;34m\u001b[0m\u001b[0m\n\u001b[1;32m    281\u001b[0m         return F.conv2d(input, self.weight, self.bias, self.stride,\n\u001b[0;32m--> 282\u001b[0;31m                         self.padding, self.dilation, self.groups)\n\u001b[0m\u001b[1;32m    283\u001b[0m \u001b[0;34m\u001b[0m\u001b[0m\n\u001b[1;32m    284\u001b[0m \u001b[0;34m\u001b[0m\u001b[0m\n",
      "\u001b[0;32m~/miniconda3/envs/fastai/lib/python3.6/site-packages/torch/nn/functional.py\u001b[0m in \u001b[0;36mconv2d\u001b[0;34m(input, weight, bias, stride, padding, dilation, groups)\u001b[0m\n\u001b[1;32m     88\u001b[0m                 \u001b[0m_pair\u001b[0m\u001b[0;34m(\u001b[0m\u001b[0;36m0\u001b[0m\u001b[0;34m)\u001b[0m\u001b[0;34m,\u001b[0m \u001b[0mgroups\u001b[0m\u001b[0;34m,\u001b[0m \u001b[0mtorch\u001b[0m\u001b[0;34m.\u001b[0m\u001b[0mbackends\u001b[0m\u001b[0;34m.\u001b[0m\u001b[0mcudnn\u001b[0m\u001b[0;34m.\u001b[0m\u001b[0mbenchmark\u001b[0m\u001b[0;34m,\u001b[0m\u001b[0;34m\u001b[0m\u001b[0m\n\u001b[1;32m     89\u001b[0m                 torch.backends.cudnn.deterministic, torch.backends.cudnn.enabled)\n\u001b[0;32m---> 90\u001b[0;31m     \u001b[0;32mreturn\u001b[0m \u001b[0mf\u001b[0m\u001b[0;34m(\u001b[0m\u001b[0minput\u001b[0m\u001b[0;34m,\u001b[0m \u001b[0mweight\u001b[0m\u001b[0;34m,\u001b[0m \u001b[0mbias\u001b[0m\u001b[0;34m)\u001b[0m\u001b[0;34m\u001b[0m\u001b[0m\n\u001b[0m\u001b[1;32m     91\u001b[0m \u001b[0;34m\u001b[0m\u001b[0m\n\u001b[1;32m     92\u001b[0m \u001b[0;34m\u001b[0m\u001b[0m\n",
      "\u001b[0;31mRuntimeError\u001b[0m: cuda runtime error (2) : out of memory at /opt/conda/conda-bld/pytorch_1518244421288/work/torch/lib/THC/generic/THCStorage.cu:58"
     ]
    },
    {
     "name": "stdout",
     "output_type": "stream",
     "text": [
      "[0, 1]\n"
     ]
    },
    {
     "ename": "RuntimeError",
     "evalue": "cuda runtime error (2) : out of memory at /opt/conda/conda-bld/pytorch_1518244421288/work/torch/lib/THC/THCTensorCopy.cu:204",
     "output_type": "error",
     "traceback": [
      "\u001b[0;31m---------------------------------------------------------------------------\u001b[0m",
      "\u001b[0;31mRuntimeError\u001b[0m                              Traceback (most recent call last)",
      "\u001b[0;32m<timed exec>\u001b[0m in \u001b[0;36m<module>\u001b[0;34m()\u001b[0m\n",
      "\u001b[0;32m~/miniconda3/envs/fastai/lib/python3.6/site-packages/torch/nn/modules/module.py\u001b[0m in \u001b[0;36m__call__\u001b[0;34m(self, *input, **kwargs)\u001b[0m\n\u001b[1;32m    355\u001b[0m             \u001b[0mresult\u001b[0m \u001b[0;34m=\u001b[0m \u001b[0mself\u001b[0m\u001b[0;34m.\u001b[0m\u001b[0m_slow_forward\u001b[0m\u001b[0;34m(\u001b[0m\u001b[0;34m*\u001b[0m\u001b[0minput\u001b[0m\u001b[0;34m,\u001b[0m \u001b[0;34m**\u001b[0m\u001b[0mkwargs\u001b[0m\u001b[0;34m)\u001b[0m\u001b[0;34m\u001b[0m\u001b[0m\n\u001b[1;32m    356\u001b[0m         \u001b[0;32melse\u001b[0m\u001b[0;34m:\u001b[0m\u001b[0;34m\u001b[0m\u001b[0m\n\u001b[0;32m--> 357\u001b[0;31m             \u001b[0mresult\u001b[0m \u001b[0;34m=\u001b[0m \u001b[0mself\u001b[0m\u001b[0;34m.\u001b[0m\u001b[0mforward\u001b[0m\u001b[0;34m(\u001b[0m\u001b[0;34m*\u001b[0m\u001b[0minput\u001b[0m\u001b[0;34m,\u001b[0m \u001b[0;34m**\u001b[0m\u001b[0mkwargs\u001b[0m\u001b[0;34m)\u001b[0m\u001b[0;34m\u001b[0m\u001b[0m\n\u001b[0m\u001b[1;32m    358\u001b[0m         \u001b[0;32mfor\u001b[0m \u001b[0mhook\u001b[0m \u001b[0;32min\u001b[0m \u001b[0mself\u001b[0m\u001b[0;34m.\u001b[0m\u001b[0m_forward_hooks\u001b[0m\u001b[0;34m.\u001b[0m\u001b[0mvalues\u001b[0m\u001b[0;34m(\u001b[0m\u001b[0;34m)\u001b[0m\u001b[0;34m:\u001b[0m\u001b[0;34m\u001b[0m\u001b[0m\n\u001b[1;32m    359\u001b[0m             \u001b[0mhook_result\u001b[0m \u001b[0;34m=\u001b[0m \u001b[0mhook\u001b[0m\u001b[0;34m(\u001b[0m\u001b[0mself\u001b[0m\u001b[0;34m,\u001b[0m \u001b[0minput\u001b[0m\u001b[0;34m,\u001b[0m \u001b[0mresult\u001b[0m\u001b[0;34m)\u001b[0m\u001b[0;34m\u001b[0m\u001b[0m\n",
      "\u001b[0;32m~/miniconda3/envs/fastai/lib/python3.6/site-packages/torch/nn/parallel/data_parallel.py\u001b[0m in \u001b[0;36mforward\u001b[0;34m(self, *inputs, **kwargs)\u001b[0m\n\u001b[1;32m     67\u001b[0m         \u001b[0;32mif\u001b[0m \u001b[0;32mnot\u001b[0m \u001b[0mself\u001b[0m\u001b[0;34m.\u001b[0m\u001b[0mdevice_ids\u001b[0m\u001b[0;34m:\u001b[0m\u001b[0;34m\u001b[0m\u001b[0m\n\u001b[1;32m     68\u001b[0m             \u001b[0;32mreturn\u001b[0m \u001b[0mself\u001b[0m\u001b[0;34m.\u001b[0m\u001b[0mmodule\u001b[0m\u001b[0;34m(\u001b[0m\u001b[0;34m*\u001b[0m\u001b[0minputs\u001b[0m\u001b[0;34m,\u001b[0m \u001b[0;34m**\u001b[0m\u001b[0mkwargs\u001b[0m\u001b[0;34m)\u001b[0m\u001b[0;34m\u001b[0m\u001b[0m\n\u001b[0;32m---> 69\u001b[0;31m         \u001b[0minputs\u001b[0m\u001b[0;34m,\u001b[0m \u001b[0mkwargs\u001b[0m \u001b[0;34m=\u001b[0m \u001b[0mself\u001b[0m\u001b[0;34m.\u001b[0m\u001b[0mscatter\u001b[0m\u001b[0;34m(\u001b[0m\u001b[0minputs\u001b[0m\u001b[0;34m,\u001b[0m \u001b[0mkwargs\u001b[0m\u001b[0;34m,\u001b[0m \u001b[0mself\u001b[0m\u001b[0;34m.\u001b[0m\u001b[0mdevice_ids\u001b[0m\u001b[0;34m)\u001b[0m\u001b[0;34m\u001b[0m\u001b[0m\n\u001b[0m\u001b[1;32m     70\u001b[0m         \u001b[0;32mif\u001b[0m \u001b[0mlen\u001b[0m\u001b[0;34m(\u001b[0m\u001b[0mself\u001b[0m\u001b[0;34m.\u001b[0m\u001b[0mdevice_ids\u001b[0m\u001b[0;34m)\u001b[0m \u001b[0;34m==\u001b[0m \u001b[0;36m1\u001b[0m\u001b[0;34m:\u001b[0m\u001b[0;34m\u001b[0m\u001b[0m\n\u001b[1;32m     71\u001b[0m             \u001b[0;32mreturn\u001b[0m \u001b[0mself\u001b[0m\u001b[0;34m.\u001b[0m\u001b[0mmodule\u001b[0m\u001b[0;34m(\u001b[0m\u001b[0;34m*\u001b[0m\u001b[0minputs\u001b[0m\u001b[0;34m[\u001b[0m\u001b[0;36m0\u001b[0m\u001b[0;34m]\u001b[0m\u001b[0;34m,\u001b[0m \u001b[0;34m**\u001b[0m\u001b[0mkwargs\u001b[0m\u001b[0;34m[\u001b[0m\u001b[0;36m0\u001b[0m\u001b[0;34m]\u001b[0m\u001b[0;34m)\u001b[0m\u001b[0;34m\u001b[0m\u001b[0m\n",
      "\u001b[0;32m~/miniconda3/envs/fastai/lib/python3.6/site-packages/torch/nn/parallel/data_parallel.py\u001b[0m in \u001b[0;36mscatter\u001b[0;34m(self, inputs, kwargs, device_ids)\u001b[0m\n\u001b[1;32m     78\u001b[0m \u001b[0;34m\u001b[0m\u001b[0m\n\u001b[1;32m     79\u001b[0m     \u001b[0;32mdef\u001b[0m \u001b[0mscatter\u001b[0m\u001b[0;34m(\u001b[0m\u001b[0mself\u001b[0m\u001b[0;34m,\u001b[0m \u001b[0minputs\u001b[0m\u001b[0;34m,\u001b[0m \u001b[0mkwargs\u001b[0m\u001b[0;34m,\u001b[0m \u001b[0mdevice_ids\u001b[0m\u001b[0;34m)\u001b[0m\u001b[0;34m:\u001b[0m\u001b[0;34m\u001b[0m\u001b[0m\n\u001b[0;32m---> 80\u001b[0;31m         \u001b[0;32mreturn\u001b[0m \u001b[0mscatter_kwargs\u001b[0m\u001b[0;34m(\u001b[0m\u001b[0minputs\u001b[0m\u001b[0;34m,\u001b[0m \u001b[0mkwargs\u001b[0m\u001b[0;34m,\u001b[0m \u001b[0mdevice_ids\u001b[0m\u001b[0;34m,\u001b[0m \u001b[0mdim\u001b[0m\u001b[0;34m=\u001b[0m\u001b[0mself\u001b[0m\u001b[0;34m.\u001b[0m\u001b[0mdim\u001b[0m\u001b[0;34m)\u001b[0m\u001b[0;34m\u001b[0m\u001b[0m\n\u001b[0m\u001b[1;32m     81\u001b[0m \u001b[0;34m\u001b[0m\u001b[0m\n\u001b[1;32m     82\u001b[0m     \u001b[0;32mdef\u001b[0m \u001b[0mparallel_apply\u001b[0m\u001b[0;34m(\u001b[0m\u001b[0mself\u001b[0m\u001b[0;34m,\u001b[0m \u001b[0mreplicas\u001b[0m\u001b[0;34m,\u001b[0m \u001b[0minputs\u001b[0m\u001b[0;34m,\u001b[0m \u001b[0mkwargs\u001b[0m\u001b[0;34m)\u001b[0m\u001b[0;34m:\u001b[0m\u001b[0;34m\u001b[0m\u001b[0m\n",
      "\u001b[0;32m~/miniconda3/envs/fastai/lib/python3.6/site-packages/torch/nn/parallel/scatter_gather.py\u001b[0m in \u001b[0;36mscatter_kwargs\u001b[0;34m(inputs, kwargs, target_gpus, dim)\u001b[0m\n\u001b[1;32m     36\u001b[0m \u001b[0;32mdef\u001b[0m \u001b[0mscatter_kwargs\u001b[0m\u001b[0;34m(\u001b[0m\u001b[0minputs\u001b[0m\u001b[0;34m,\u001b[0m \u001b[0mkwargs\u001b[0m\u001b[0;34m,\u001b[0m \u001b[0mtarget_gpus\u001b[0m\u001b[0;34m,\u001b[0m \u001b[0mdim\u001b[0m\u001b[0;34m=\u001b[0m\u001b[0;36m0\u001b[0m\u001b[0;34m)\u001b[0m\u001b[0;34m:\u001b[0m\u001b[0;34m\u001b[0m\u001b[0m\n\u001b[1;32m     37\u001b[0m     \u001b[0;34mr\"\"\"Scatter with support for kwargs dictionary\"\"\"\u001b[0m\u001b[0;34m\u001b[0m\u001b[0m\n\u001b[0;32m---> 38\u001b[0;31m     \u001b[0minputs\u001b[0m \u001b[0;34m=\u001b[0m \u001b[0mscatter\u001b[0m\u001b[0;34m(\u001b[0m\u001b[0minputs\u001b[0m\u001b[0;34m,\u001b[0m \u001b[0mtarget_gpus\u001b[0m\u001b[0;34m,\u001b[0m \u001b[0mdim\u001b[0m\u001b[0;34m)\u001b[0m \u001b[0;32mif\u001b[0m \u001b[0minputs\u001b[0m \u001b[0;32melse\u001b[0m \u001b[0;34m[\u001b[0m\u001b[0;34m]\u001b[0m\u001b[0;34m\u001b[0m\u001b[0m\n\u001b[0m\u001b[1;32m     39\u001b[0m     \u001b[0mkwargs\u001b[0m \u001b[0;34m=\u001b[0m \u001b[0mscatter\u001b[0m\u001b[0;34m(\u001b[0m\u001b[0mkwargs\u001b[0m\u001b[0;34m,\u001b[0m \u001b[0mtarget_gpus\u001b[0m\u001b[0;34m,\u001b[0m \u001b[0mdim\u001b[0m\u001b[0;34m)\u001b[0m \u001b[0;32mif\u001b[0m \u001b[0mkwargs\u001b[0m \u001b[0;32melse\u001b[0m \u001b[0;34m[\u001b[0m\u001b[0;34m]\u001b[0m\u001b[0;34m\u001b[0m\u001b[0m\n\u001b[1;32m     40\u001b[0m     \u001b[0;32mif\u001b[0m \u001b[0mlen\u001b[0m\u001b[0;34m(\u001b[0m\u001b[0minputs\u001b[0m\u001b[0;34m)\u001b[0m \u001b[0;34m<\u001b[0m \u001b[0mlen\u001b[0m\u001b[0;34m(\u001b[0m\u001b[0mkwargs\u001b[0m\u001b[0;34m)\u001b[0m\u001b[0;34m:\u001b[0m\u001b[0;34m\u001b[0m\u001b[0m\n",
      "\u001b[0;32m~/miniconda3/envs/fastai/lib/python3.6/site-packages/torch/nn/parallel/scatter_gather.py\u001b[0m in \u001b[0;36mscatter\u001b[0;34m(inputs, target_gpus, dim)\u001b[0m\n\u001b[1;32m     29\u001b[0m     \u001b[0;31m# None, clearing the cell\u001b[0m\u001b[0;34m\u001b[0m\u001b[0;34m\u001b[0m\u001b[0m\n\u001b[1;32m     30\u001b[0m     \u001b[0;32mtry\u001b[0m\u001b[0;34m:\u001b[0m\u001b[0;34m\u001b[0m\u001b[0m\n\u001b[0;32m---> 31\u001b[0;31m         \u001b[0;32mreturn\u001b[0m \u001b[0mscatter_map\u001b[0m\u001b[0;34m(\u001b[0m\u001b[0minputs\u001b[0m\u001b[0;34m)\u001b[0m\u001b[0;34m\u001b[0m\u001b[0m\n\u001b[0m\u001b[1;32m     32\u001b[0m     \u001b[0;32mfinally\u001b[0m\u001b[0;34m:\u001b[0m\u001b[0;34m\u001b[0m\u001b[0m\n\u001b[1;32m     33\u001b[0m         \u001b[0mscatter_map\u001b[0m \u001b[0;34m=\u001b[0m \u001b[0;32mNone\u001b[0m\u001b[0;34m\u001b[0m\u001b[0m\n",
      "\u001b[0;32m~/miniconda3/envs/fastai/lib/python3.6/site-packages/torch/nn/parallel/scatter_gather.py\u001b[0m in \u001b[0;36mscatter_map\u001b[0;34m(obj)\u001b[0m\n\u001b[1;32m     16\u001b[0m         \u001b[0;32massert\u001b[0m \u001b[0;32mnot\u001b[0m \u001b[0mtorch\u001b[0m\u001b[0;34m.\u001b[0m\u001b[0mis_tensor\u001b[0m\u001b[0;34m(\u001b[0m\u001b[0mobj\u001b[0m\u001b[0;34m)\u001b[0m\u001b[0;34m,\u001b[0m \u001b[0;34m\"Tensors not supported in scatter.\"\u001b[0m\u001b[0;34m\u001b[0m\u001b[0m\n\u001b[1;32m     17\u001b[0m         \u001b[0;32mif\u001b[0m \u001b[0misinstance\u001b[0m\u001b[0;34m(\u001b[0m\u001b[0mobj\u001b[0m\u001b[0;34m,\u001b[0m \u001b[0mtuple\u001b[0m\u001b[0;34m)\u001b[0m \u001b[0;32mand\u001b[0m \u001b[0mlen\u001b[0m\u001b[0;34m(\u001b[0m\u001b[0mobj\u001b[0m\u001b[0;34m)\u001b[0m \u001b[0;34m>\u001b[0m \u001b[0;36m0\u001b[0m\u001b[0;34m:\u001b[0m\u001b[0;34m\u001b[0m\u001b[0m\n\u001b[0;32m---> 18\u001b[0;31m             \u001b[0;32mreturn\u001b[0m \u001b[0mlist\u001b[0m\u001b[0;34m(\u001b[0m\u001b[0mzip\u001b[0m\u001b[0;34m(\u001b[0m\u001b[0;34m*\u001b[0m\u001b[0mmap\u001b[0m\u001b[0;34m(\u001b[0m\u001b[0mscatter_map\u001b[0m\u001b[0;34m,\u001b[0m \u001b[0mobj\u001b[0m\u001b[0;34m)\u001b[0m\u001b[0;34m)\u001b[0m\u001b[0;34m)\u001b[0m\u001b[0;34m\u001b[0m\u001b[0m\n\u001b[0m\u001b[1;32m     19\u001b[0m         \u001b[0;32mif\u001b[0m \u001b[0misinstance\u001b[0m\u001b[0;34m(\u001b[0m\u001b[0mobj\u001b[0m\u001b[0;34m,\u001b[0m \u001b[0mlist\u001b[0m\u001b[0;34m)\u001b[0m \u001b[0;32mand\u001b[0m \u001b[0mlen\u001b[0m\u001b[0;34m(\u001b[0m\u001b[0mobj\u001b[0m\u001b[0;34m)\u001b[0m \u001b[0;34m>\u001b[0m \u001b[0;36m0\u001b[0m\u001b[0;34m:\u001b[0m\u001b[0;34m\u001b[0m\u001b[0m\n\u001b[1;32m     20\u001b[0m             \u001b[0;32mreturn\u001b[0m \u001b[0mlist\u001b[0m\u001b[0;34m(\u001b[0m\u001b[0mmap\u001b[0m\u001b[0;34m(\u001b[0m\u001b[0mlist\u001b[0m\u001b[0;34m,\u001b[0m \u001b[0mzip\u001b[0m\u001b[0;34m(\u001b[0m\u001b[0;34m*\u001b[0m\u001b[0mmap\u001b[0m\u001b[0;34m(\u001b[0m\u001b[0mscatter_map\u001b[0m\u001b[0;34m,\u001b[0m \u001b[0mobj\u001b[0m\u001b[0;34m)\u001b[0m\u001b[0;34m)\u001b[0m\u001b[0;34m)\u001b[0m\u001b[0;34m)\u001b[0m\u001b[0;34m\u001b[0m\u001b[0m\n",
      "\u001b[0;32m~/miniconda3/envs/fastai/lib/python3.6/site-packages/torch/nn/parallel/scatter_gather.py\u001b[0m in \u001b[0;36mscatter_map\u001b[0;34m(obj)\u001b[0m\n\u001b[1;32m     13\u001b[0m     \u001b[0;32mdef\u001b[0m \u001b[0mscatter_map\u001b[0m\u001b[0;34m(\u001b[0m\u001b[0mobj\u001b[0m\u001b[0;34m)\u001b[0m\u001b[0;34m:\u001b[0m\u001b[0;34m\u001b[0m\u001b[0m\n\u001b[1;32m     14\u001b[0m         \u001b[0;32mif\u001b[0m \u001b[0misinstance\u001b[0m\u001b[0;34m(\u001b[0m\u001b[0mobj\u001b[0m\u001b[0;34m,\u001b[0m \u001b[0mVariable\u001b[0m\u001b[0;34m)\u001b[0m\u001b[0;34m:\u001b[0m\u001b[0;34m\u001b[0m\u001b[0m\n\u001b[0;32m---> 15\u001b[0;31m             \u001b[0;32mreturn\u001b[0m \u001b[0mScatter\u001b[0m\u001b[0;34m.\u001b[0m\u001b[0mapply\u001b[0m\u001b[0;34m(\u001b[0m\u001b[0mtarget_gpus\u001b[0m\u001b[0;34m,\u001b[0m \u001b[0;32mNone\u001b[0m\u001b[0;34m,\u001b[0m \u001b[0mdim\u001b[0m\u001b[0;34m,\u001b[0m \u001b[0mobj\u001b[0m\u001b[0;34m)\u001b[0m\u001b[0;34m\u001b[0m\u001b[0m\n\u001b[0m\u001b[1;32m     16\u001b[0m         \u001b[0;32massert\u001b[0m \u001b[0;32mnot\u001b[0m \u001b[0mtorch\u001b[0m\u001b[0;34m.\u001b[0m\u001b[0mis_tensor\u001b[0m\u001b[0;34m(\u001b[0m\u001b[0mobj\u001b[0m\u001b[0;34m)\u001b[0m\u001b[0;34m,\u001b[0m \u001b[0;34m\"Tensors not supported in scatter.\"\u001b[0m\u001b[0;34m\u001b[0m\u001b[0m\n\u001b[1;32m     17\u001b[0m         \u001b[0;32mif\u001b[0m \u001b[0misinstance\u001b[0m\u001b[0;34m(\u001b[0m\u001b[0mobj\u001b[0m\u001b[0;34m,\u001b[0m \u001b[0mtuple\u001b[0m\u001b[0;34m)\u001b[0m \u001b[0;32mand\u001b[0m \u001b[0mlen\u001b[0m\u001b[0;34m(\u001b[0m\u001b[0mobj\u001b[0m\u001b[0;34m)\u001b[0m \u001b[0;34m>\u001b[0m \u001b[0;36m0\u001b[0m\u001b[0;34m:\u001b[0m\u001b[0;34m\u001b[0m\u001b[0m\n",
      "\u001b[0;32m~/miniconda3/envs/fastai/lib/python3.6/site-packages/torch/nn/parallel/_functions.py\u001b[0m in \u001b[0;36mforward\u001b[0;34m(ctx, target_gpus, chunk_sizes, dim, input)\u001b[0m\n\u001b[1;32m     72\u001b[0m             \u001b[0;31m# Perform CPU to GPU copies in a background stream\u001b[0m\u001b[0;34m\u001b[0m\u001b[0;34m\u001b[0m\u001b[0m\n\u001b[1;32m     73\u001b[0m             \u001b[0mstreams\u001b[0m \u001b[0;34m=\u001b[0m \u001b[0;34m[\u001b[0m\u001b[0m_get_stream\u001b[0m\u001b[0;34m(\u001b[0m\u001b[0mdevice\u001b[0m\u001b[0;34m)\u001b[0m \u001b[0;32mfor\u001b[0m \u001b[0mdevice\u001b[0m \u001b[0;32min\u001b[0m \u001b[0mctx\u001b[0m\u001b[0;34m.\u001b[0m\u001b[0mtarget_gpus\u001b[0m\u001b[0;34m]\u001b[0m\u001b[0;34m\u001b[0m\u001b[0m\n\u001b[0;32m---> 74\u001b[0;31m         \u001b[0moutputs\u001b[0m \u001b[0;34m=\u001b[0m \u001b[0mcomm\u001b[0m\u001b[0;34m.\u001b[0m\u001b[0mscatter\u001b[0m\u001b[0;34m(\u001b[0m\u001b[0minput\u001b[0m\u001b[0;34m,\u001b[0m \u001b[0mctx\u001b[0m\u001b[0;34m.\u001b[0m\u001b[0mtarget_gpus\u001b[0m\u001b[0;34m,\u001b[0m \u001b[0mctx\u001b[0m\u001b[0;34m.\u001b[0m\u001b[0mchunk_sizes\u001b[0m\u001b[0;34m,\u001b[0m \u001b[0mctx\u001b[0m\u001b[0;34m.\u001b[0m\u001b[0mdim\u001b[0m\u001b[0;34m,\u001b[0m \u001b[0mstreams\u001b[0m\u001b[0;34m)\u001b[0m\u001b[0;34m\u001b[0m\u001b[0m\n\u001b[0m\u001b[1;32m     75\u001b[0m         \u001b[0;31m# Synchronize with the copy stream\u001b[0m\u001b[0;34m\u001b[0m\u001b[0;34m\u001b[0m\u001b[0m\n\u001b[1;32m     76\u001b[0m         \u001b[0;32mif\u001b[0m \u001b[0mstreams\u001b[0m \u001b[0;32mis\u001b[0m \u001b[0;32mnot\u001b[0m \u001b[0;32mNone\u001b[0m\u001b[0;34m:\u001b[0m\u001b[0;34m\u001b[0m\u001b[0m\n",
      "\u001b[0;32m~/miniconda3/envs/fastai/lib/python3.6/site-packages/torch/cuda/comm.py\u001b[0m in \u001b[0;36mscatter\u001b[0;34m(tensor, devices, chunk_sizes, dim, streams)\u001b[0m\n\u001b[1;32m    187\u001b[0m     \u001b[0;32mfor\u001b[0m \u001b[0mdevice\u001b[0m\u001b[0;34m,\u001b[0m \u001b[0mchunk\u001b[0m\u001b[0;34m,\u001b[0m \u001b[0mstream\u001b[0m \u001b[0;32min\u001b[0m \u001b[0mzip\u001b[0m\u001b[0;34m(\u001b[0m\u001b[0mdevices\u001b[0m\u001b[0;34m,\u001b[0m \u001b[0mchunks\u001b[0m\u001b[0;34m,\u001b[0m \u001b[0mstreams\u001b[0m\u001b[0;34m)\u001b[0m\u001b[0;34m:\u001b[0m\u001b[0;34m\u001b[0m\u001b[0m\n\u001b[1;32m    188\u001b[0m         \u001b[0;32mwith\u001b[0m \u001b[0mtorch\u001b[0m\u001b[0;34m.\u001b[0m\u001b[0mcuda\u001b[0m\u001b[0;34m.\u001b[0m\u001b[0mdevice\u001b[0m\u001b[0;34m(\u001b[0m\u001b[0mdevice\u001b[0m\u001b[0;34m)\u001b[0m\u001b[0;34m,\u001b[0m \u001b[0mtorch\u001b[0m\u001b[0;34m.\u001b[0m\u001b[0mcuda\u001b[0m\u001b[0;34m.\u001b[0m\u001b[0mstream\u001b[0m\u001b[0;34m(\u001b[0m\u001b[0mstream\u001b[0m\u001b[0;34m)\u001b[0m\u001b[0;34m:\u001b[0m\u001b[0;34m\u001b[0m\u001b[0m\n\u001b[0;32m--> 189\u001b[0;31m             \u001b[0moutputs\u001b[0m\u001b[0;34m.\u001b[0m\u001b[0mappend\u001b[0m\u001b[0;34m(\u001b[0m\u001b[0mchunk\u001b[0m\u001b[0;34m.\u001b[0m\u001b[0mcuda\u001b[0m\u001b[0;34m(\u001b[0m\u001b[0mdevice\u001b[0m\u001b[0;34m,\u001b[0m \u001b[0masync\u001b[0m\u001b[0;34m=\u001b[0m\u001b[0;32mTrue\u001b[0m\u001b[0;34m)\u001b[0m\u001b[0;34m)\u001b[0m\u001b[0;34m\u001b[0m\u001b[0m\n\u001b[0m\u001b[1;32m    190\u001b[0m     \u001b[0;32mreturn\u001b[0m \u001b[0mtuple\u001b[0m\u001b[0;34m(\u001b[0m\u001b[0moutputs\u001b[0m\u001b[0;34m)\u001b[0m\u001b[0;34m\u001b[0m\u001b[0m\n\u001b[1;32m    191\u001b[0m \u001b[0;34m\u001b[0m\u001b[0m\n",
      "\u001b[0;32m~/miniconda3/envs/fastai/lib/python3.6/site-packages/torch/_utils.py\u001b[0m in \u001b[0;36m_cuda\u001b[0;34m(self, device, async)\u001b[0m\n\u001b[1;32m     67\u001b[0m         \u001b[0;32melse\u001b[0m\u001b[0;34m:\u001b[0m\u001b[0;34m\u001b[0m\u001b[0m\n\u001b[1;32m     68\u001b[0m             \u001b[0mnew_type\u001b[0m \u001b[0;34m=\u001b[0m \u001b[0mgetattr\u001b[0m\u001b[0;34m(\u001b[0m\u001b[0mtorch\u001b[0m\u001b[0;34m.\u001b[0m\u001b[0mcuda\u001b[0m\u001b[0;34m,\u001b[0m \u001b[0mself\u001b[0m\u001b[0;34m.\u001b[0m\u001b[0m__class__\u001b[0m\u001b[0;34m.\u001b[0m\u001b[0m__name__\u001b[0m\u001b[0;34m)\u001b[0m\u001b[0;34m\u001b[0m\u001b[0m\n\u001b[0;32m---> 69\u001b[0;31m             \u001b[0;32mreturn\u001b[0m \u001b[0mnew_type\u001b[0m\u001b[0;34m(\u001b[0m\u001b[0mself\u001b[0m\u001b[0;34m.\u001b[0m\u001b[0msize\u001b[0m\u001b[0;34m(\u001b[0m\u001b[0;34m)\u001b[0m\u001b[0;34m)\u001b[0m\u001b[0;34m.\u001b[0m\u001b[0mcopy_\u001b[0m\u001b[0;34m(\u001b[0m\u001b[0mself\u001b[0m\u001b[0;34m,\u001b[0m \u001b[0masync\u001b[0m\u001b[0;34m)\u001b[0m\u001b[0;34m\u001b[0m\u001b[0m\n\u001b[0m\u001b[1;32m     70\u001b[0m \u001b[0;34m\u001b[0m\u001b[0m\n\u001b[1;32m     71\u001b[0m \u001b[0;34m\u001b[0m\u001b[0m\n",
      "\u001b[0;31mRuntimeError\u001b[0m: cuda runtime error (2) : out of memory at /opt/conda/conda-bld/pytorch_1518244421288/work/torch/lib/THC/THCTensorCopy.cu:204"
     ]
    }
   ],
   "source": [
    "for i in range(1, 9):\n",
    "    device_ids=list(range(i))\n",
    "    net = to_gpu(UNet16(pretrained='vgg'))\n",
    "    net = nn.DataParallel(net, device_ids)\n",
    "    models = UpsampleModel(net)\n",
    "    print(device_ids)\n",
    "    %time for i in range(5): t = to_np(models.model(V(x).cuda())).squeeze(); np.max(t) - np.min(t)"
   ]
  },
  {
   "cell_type": "code",
   "execution_count": null,
   "metadata": {},
   "outputs": [],
   "source": [
    "learn.load('freeze_to_1_1')"
   ]
  },
  {
   "cell_type": "code",
   "execution_count": null,
   "metadata": {},
   "outputs": [],
   "source": [
    "lr = 1e-4"
   ]
  },
  {
   "cell_type": "code",
   "execution_count": null,
   "metadata": {},
   "outputs": [],
   "source": [
    "learn.unfreeze()\n",
    "learn.bn_freeze(True)\n",
    "lrs = np.array([lr/50,lr])/2"
   ]
  },
  {
   "cell_type": "code",
   "execution_count": null,
   "metadata": {},
   "outputs": [],
   "source": [
    "learn.fit(lrs,1,cycle_len=8,use_clr=(20,8))"
   ]
  },
  {
   "cell_type": "code",
   "execution_count": null,
   "metadata": {},
   "outputs": [],
   "source": [
    "learn.save('unfreezed_1')"
   ]
  },
  {
   "cell_type": "code",
   "execution_count": null,
   "metadata": {},
   "outputs": [],
   "source": [
    "learn.load('unfreezed_1')"
   ]
  },
  {
   "cell_type": "code",
   "execution_count": null,
   "metadata": {},
   "outputs": [],
   "source": [
    "lrs = np.array([lr/3,lr]) / 5"
   ]
  },
  {
   "cell_type": "code",
   "execution_count": null,
   "metadata": {},
   "outputs": [],
   "source": [
    "x, y = md.trn_dl.get_batch([o for o in range(9)])"
   ]
  },
  {
   "cell_type": "code",
   "execution_count": null,
   "metadata": {},
   "outputs": [],
   "source": [
    "for i in range(1, 10):\n",
    "    plt.subplot(3, 6, i*2)\n",
    "    plt.imshow(denorm(x[i-1])[0])\n",
    "    plt.subplot(3, 6, i*2-1)\n",
    "    plt.imshow(y[i-1])\n",
    "#     plt.imshow(to_np(learn.model(V(x[i-1][None]))).squeeze())"
   ]
  },
  {
   "cell_type": "code",
   "execution_count": null,
   "metadata": {},
   "outputs": [],
   "source": [
    "for i in range(1, 10):\n",
    "    plt.subplot(3, 6, i*2)\n",
    "    plt.imshow(denorm(x[i-1])[0])\n",
    "    plt.subplot(3, 6, i*2-1)\n",
    "#     plt.imshow(y[i-1])\n",
    "    pred = to_np(learn.model(V(x[i-1][None]))).squeeze()\n",
    "#     pred = np.clip(pred, 0, 1)\n",
    "    plt.imshow(pred)"
   ]
  },
  {
   "cell_type": "code",
   "execution_count": null,
   "metadata": {},
   "outputs": [],
   "source": [
    "t = to_np(learn.model(V(x[1-1][None]))).squeeze()\n",
    "ma = np.max(t)\n",
    "mi = np.min(t)\n",
    "ta = (t - mi) / (ma - mi)\n",
    "print(ta)"
   ]
  },
  {
   "cell_type": "code",
   "execution_count": null,
   "metadata": {},
   "outputs": [],
   "source": [
    "plt.imshow(denorm(x[1-1])[0])"
   ]
  },
  {
   "cell_type": "code",
   "execution_count": null,
   "metadata": {},
   "outputs": [],
   "source": [
    "plt.imshow(t>0.5)"
   ]
  },
  {
   "cell_type": "code",
   "execution_count": null,
   "metadata": {},
   "outputs": [],
   "source": [
    "smooth = 1e-12\n",
    "intersection = torch.sum(y_true * y_pred)\n",
    "sum_ = torch.sum(y_true + y_pred)\n",
    "jac = (intersection + smooth) / (sum_ - intersection + smooth)\n",
    "print(jac)"
   ]
  },
  {
   "cell_type": "code",
   "execution_count": null,
   "metadata": {},
   "outputs": [],
   "source": []
  },
  {
   "cell_type": "markdown",
   "metadata": {},
   "source": [
    "## Ditched experiments"
   ]
  },
  {
   "cell_type": "code",
   "execution_count": null,
   "metadata": {},
   "outputs": [],
   "source": [
    "# # rgb scaled\n",
    "# def get_rgb_scaled(datapath):\n",
    "#     area_id = directory_name_to_area_id(datapath)\n",
    "#     prefix = area_id_to_prefix(area_id)\n",
    "    \n",
    "#     X_val = []\n",
    "#     fn_im = FMT_VALTEST_IM_STORE.format(prefix)\n",
    "#     with tb.open_file(fn_im, 'r') as f:\n",
    "#         for idx, image_id in enumerate(df_test.ImageId.tolist()):\n",
    "#             im = np.array(f.get_node('/' + image_id))\n",
    "#             im = np.swapaxes(im, 0, 2)\n",
    "#             im = np.swapaxes(im, 1, 2)\n",
    "#             X_val.append(im)\n",
    "#     X_val = np.array(X_val)\n",
    "\n",
    "#     y_val = []\n",
    "#     fn_mask = FMT_VALTEST_MASK_STORE.format(prefix)\n",
    "#     with tb.open_file(fn_mask, 'r') as f:\n",
    "#         for idx, image_id in enumerate(df_test.ImageId.tolist()):\n",
    "#             mask = np.array(f.get_node('/' + image_id))\n",
    "#             mask = (mask > 0.5).astype(np.uint8)\n",
    "#             y_val.append(mask)\n",
    "#     y_val = np.array(y_val)\n",
    "#     y_val = y_val.reshape((-1, 1, INPUT_SIZE, INPUT_SIZE))\n",
    "#     return X_val, y_val"
   ]
  },
  {
   "cell_type": "code",
   "execution_count": null,
   "metadata": {},
   "outputs": [],
   "source": [
    "# (trn_x,trn_y), (val_x,val_y) = get_dataset(datapath)"
   ]
  },
  {
   "cell_type": "code",
   "execution_count": null,
   "metadata": {},
   "outputs": [],
   "source": [
    "def merge_file_list():\n",
    "    df = pd.DataFrame()\n",
    "    # clear file\n",
    "    df.to_csv(FMT_VALTRAIN_IMAGELIST_PATH_ALL)\n",
    "    for datapath in datapaths:\n",
    "        area_id = directory_name_to_area_id(datapath)        \n",
    "        prefix = area_id_to_prefix(area_id)\n",
    "        fn_train = FMT_VALTRAIN_IMAGELIST_PATH.format(prefix=prefix)\n",
    "        df_train = pd.read_csv(fn_train)\n",
    "#         fn_a = FMT_VALTRAIN_IMAGELIST_PATH_ALL\n",
    "#         fn_im = FMT_VALTRAIN_MUL_STORE.format(prefix)\n",
    "        fn_test = FMT_VALTEST_IMAGELIST_PATH.format(prefix=prefix)\n",
    "        df_test = pd.read_csv(fn_test)\n",
    "        df = df.append(df_train).append(df_test)\n",
    "        \n",
    "    df.to_csv(FMT_VALTRAIN_IMAGELIST_PATH_ALL)\n",
    "        "
   ]
  },
  {
   "cell_type": "code",
   "execution_count": null,
   "metadata": {},
   "outputs": [],
   "source": [
    "import traceback\n",
    "def merge_im(rgb=False):\n",
    "    if rgb:\n",
    "        fn_store_w = FMT_VALTRAIN_IM_STORE_ALL\n",
    "    else:\n",
    "        fn_store_w = FMT_VALTRAIN_MUL_STORE_ALL\n",
    "        \n",
    "    with tb.open_file(fn_store_w, 'w') as fw:\n",
    "        for datapath in datapaths:\n",
    "            try:\n",
    "                area_id = directory_name_to_area_id(datapath)        \n",
    "                prefix = area_id_to_prefix(area_id)\n",
    "\n",
    "                # valtrain + valtest\n",
    "                for (fn_store, fn_list) in [(FMT_VALTRAIN_MUL_STORE.format(prefix), FMT_VALTRAIN_IMAGELIST_PATH.format(prefix=prefix)),\n",
    "                                         (FMT_VALTEST_MUL_STORE.format(prefix), FMT_VALTEST_IMAGELIST_PATH.format(prefix=prefix))]:\n",
    "                    df_list = pd.read_csv(fn_list, index_col='ImageId')\n",
    "                    with tb.open_file(fn_store, 'r') as fr:\n",
    "                        for idx, image_id in tqdm.tqdm(enumerate(df_list.index), total=df_list.shape[0]):\n",
    "                            for slice_pos in range(9):\n",
    "                                slice_id = image_id + '_' + str(slice_pos)\n",
    "                                im = np.array(fr.get_node('/' + slice_id))\n",
    "                                im = np.swapaxes(im, 0, 2)\n",
    "                                im = np.swapaxes(im, 1, 2)\n",
    "                                if rgb:\n",
    "                                    im = im[:3,...]\n",
    "                                atom = tb.Atom.from_dtype(im.dtype)\n",
    "                                filters = tb.Filters(complib='blosc', complevel=9)\n",
    "                                ds = fw.create_carray(fw.root, slice_id, atom, im.shape,\n",
    "                                                     filters=filters)\n",
    "                                ds[:] = im\n",
    "            except Exception as e:\n",
    "                traceback.print_exc()\n",
    "                print(datapath, e)"
   ]
  },
  {
   "cell_type": "code",
   "execution_count": null,
   "metadata": {},
   "outputs": [],
   "source": [
    "# merge_file_list()\n",
    "# df = pd.read_csv(FMT_VALTRAIN_IMAGELIST_PATH_ALL)\n",
    "# df.head()"
   ]
  },
  {
   "cell_type": "code",
   "execution_count": null,
   "metadata": {},
   "outputs": [],
   "source": [
    "# merge_im(True)\n",
    "# merge_im(False) # Too big"
   ]
  },
  {
   "cell_type": "code",
   "execution_count": null,
   "metadata": {},
   "outputs": [],
   "source": [
    "# class ArraysSingleDataset(ArraysDataset):\n",
    "#     def get_c(self): return 1\n",
    "#     def denorm(self, arr):\n",
    "#         \"\"\"Reverse the normalization done to a batch of images.\n",
    "\n",
    "#         Arguments:\n",
    "#             arr: of shape/size (N,3,sz,sz)\n",
    "#         \"\"\"\n",
    "#         if type(arr) is not np.ndarray: arr = to_np(arr)\n",
    "#         if len(arr.shape)==3: arr = arr[None]\n",
    "# #         return np.clip(self.transform.denorm(np.rollaxis(arr,1,4)), 0, 1)\n",
    "#         return self.transform.denorm(np.rollaxis(arr,1,4))"
   ]
  }
 ],
 "metadata": {
  "kernelspec": {
   "display_name": "Python 3",
   "language": "python",
   "name": "python3"
  },
  "language_info": {
   "codemirror_mode": {
    "name": "ipython",
    "version": 3
   },
   "file_extension": ".py",
   "mimetype": "text/x-python",
   "name": "python",
   "nbconvert_exporter": "python",
   "pygments_lexer": "ipython3",
   "version": "3.6.5"
  }
 },
 "nbformat": 4,
 "nbformat_minor": 2
}
