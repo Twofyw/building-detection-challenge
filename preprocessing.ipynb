{
 "cells": [
  {
   "cell_type": "markdown",
   "metadata": {},
   "source": [
    "### Preprocessing"
   ]
  },
  {
   "cell_type": "code",
   "execution_count": 1,
   "metadata": {},
   "outputs": [],
   "source": [
    "datapaths = ['data/train/AOI_2_Vegas_Train', 'data/train/AOI_3_Paris_Train', 'data/train/AOI_4_Shanghai_Train', 'data/train/AOI_5_Khartoum_Train']"
   ]
  },
  {
   "cell_type": "code",
   "execution_count": 3,
   "metadata": {},
   "outputs": [
    {
     "name": "stdout",
     "output_type": "stream",
     "text": [
      "2018-04-20 22:46:54,999 INFO Preproc for training on AOI_3_Paris\n",
      "2018-04-20 22:46:54,999 INFO Generate IMAGELIST csv ... skip\n",
      "2018-04-20 22:46:54,999 INFO Generate IMAGELIST csv ... skip\n",
      "2018-04-20 22:46:54,999 INFO Generate band stats csv (RGB) ... skip\n",
      "2018-04-20 22:46:55,000 INFO Generate MASK (valtrain) ... skip\n",
      "2018-04-20 22:46:55,000 INFO Generate MASK (valtest) ... skip\n",
      "2018-04-20 22:46:55,000 INFO Generate RGB_STORE (valtrain)\n",
      "2018-04-20 22:46:55,033 INFO prep_rgb_image_store_train for AOI_3_Paris\n",
      "2018-04-20 22:46:55,036 INFO Image store file: data/working/images/v5/trn_full_rgb/\n",
      "2018-04-20 22:51:42,592 INFO Generate RGB_STORE (valtest)\n",
      "2018-04-20 22:51:42,605 INFO prep_rgb_image_store_train for AOI_3_Paris\n",
      "2018-04-20 22:51:42,607 INFO Image store file: data/working/images/v5/test_full_rgb/\n",
      "2018-04-20 22:53:39,823 INFO Generate RGBMEAN\n",
      "2018-04-20 22:54:11,848 INFO Prepare mean image: data/working/images/v5/AOI_3_Paris_immean.h5\n",
      "2018-04-20 22:54:12,038 INFO Preproc for training on AOI_3_Paris ... done\n"
     ]
    }
   ],
   "source": [
    "!python code/v5_im-full_rgb.py preproc_train {datapaths[1]}"
   ]
  },
  {
   "cell_type": "code",
   "execution_count": 4,
   "metadata": {},
   "outputs": [
    {
     "name": "stdout",
     "output_type": "stream",
     "text": [
      "2018-04-20 22:54:14,784 INFO Preproc for training on AOI_4_Shanghai\n",
      "2018-04-20 22:54:14,784 INFO Generate IMAGELIST csv ... skip\n",
      "2018-04-20 22:54:14,784 INFO Generate IMAGELIST csv ... skip\n",
      "2018-04-20 22:54:14,784 INFO Generate band stats csv (RGB) ... skip\n",
      "2018-04-20 22:54:14,784 INFO Generate MASK (valtrain) ... skip\n",
      "2018-04-20 22:54:14,784 INFO Generate MASK (valtest) ... skip\n",
      "2018-04-20 22:54:14,784 INFO Generate RGB_STORE (valtrain)\n",
      "2018-04-20 22:54:14,812 INFO prep_rgb_image_store_train for AOI_4_Shanghai\n",
      "2018-04-20 22:54:14,817 INFO Image store file: data/working/images/v5/trn_full_rgb/\n",
      "2018-04-20 23:14:14,807 INFO Generate RGB_STORE (valtest)\n",
      "2018-04-20 23:14:14,812 INFO prep_rgb_image_store_train for AOI_4_Shanghai\n",
      "2018-04-20 23:14:14,816 INFO Image store file: data/working/images/v5/test_full_rgb/\n",
      "2018-04-20 23:22:36,540 INFO Generate RGBMEAN\n",
      "2018-04-20 23:24:47,449 INFO Prepare mean image: data/working/images/v5/AOI_4_Shanghai_immean.h5\n",
      "2018-04-20 23:24:47,495 INFO Preproc for training on AOI_4_Shanghai ... done\n"
     ]
    }
   ],
   "source": [
    "!python code/v5_im-full_rgb.py preproc_train {datapaths[2]}"
   ]
  },
  {
   "cell_type": "code",
   "execution_count": null,
   "metadata": {},
   "outputs": [],
   "source": []
  }
 ],
 "metadata": {
  "kernelspec": {
   "display_name": "Python 3",
   "language": "python",
   "name": "python3"
  },
  "language_info": {
   "codemirror_mode": {
    "name": "ipython",
    "version": 3
   },
   "file_extension": ".py",
   "mimetype": "text/x-python",
   "name": "python",
   "nbconvert_exporter": "python",
   "pygments_lexer": "ipython3",
   "version": "3.6.5"
  }
 },
 "nbformat": 4,
 "nbformat_minor": 2
}
